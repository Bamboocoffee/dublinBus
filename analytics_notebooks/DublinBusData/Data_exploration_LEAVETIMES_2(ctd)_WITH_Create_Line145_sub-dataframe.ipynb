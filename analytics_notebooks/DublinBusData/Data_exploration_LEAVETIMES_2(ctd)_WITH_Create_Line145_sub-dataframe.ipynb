{
 "cells": [
  {
   "cell_type": "markdown",
   "metadata": {
    "toc": true
   },
   "source": [
    "<h1>Table of Contents<span class=\"tocSkip\"></span></h1>\n",
    "<div class=\"toc\"><ul class=\"toc-item\"><li><span><a href=\"#IMPORTS\" data-toc-modified-id=\"IMPORTS-1\"><span class=\"toc-item-num\">1&nbsp;&nbsp;</span>IMPORTS</a></span></li><li><span><a href=\"#Continue-Data-Quality-Exploration\" data-toc-modified-id=\"Continue-Data-Quality-Exploration-2\"><span class=\"toc-item-num\">2&nbsp;&nbsp;</span>Continue Data Quality Exploration</a></span><ul class=\"toc-item\"><li><span><a href=\"#Inspect-Planned-and-Actual-Departure-Times\" data-toc-modified-id=\"Inspect-Planned-and-Actual-Departure-Times-2.1\"><span class=\"toc-item-num\">2.1&nbsp;&nbsp;</span>Inspect Planned and Actual Departure Times</a></span></li><li><span><a href=\"#Inspect-Duplicated-and-Non-Duplicated-Trip_ids-(issue-from-rt_trips)\" data-toc-modified-id=\"Inspect-Duplicated-and-Non-Duplicated-Trip_ids-(issue-from-rt_trips)-2.2\"><span class=\"toc-item-num\">2.2&nbsp;&nbsp;</span>Inspect Duplicated and Non-Duplicated Trip_ids (issue from rt_trips)</a></span><ul class=\"toc-item\"><li><span><a href=\"#Compare-Membership-Trip_ids-in-rt_trips-and-rt_leavetimes\" data-toc-modified-id=\"Compare-Membership-Trip_ids-in-rt_trips-and-rt_leavetimes-2.2.1\"><span class=\"toc-item-num\">2.2.1&nbsp;&nbsp;</span>Compare Membership Trip_ids in rt_trips and rt_leavetimes</a></span></li><li><span><a href=\"#Check-Dates-Represented-in-Year\" data-toc-modified-id=\"Check-Dates-Represented-in-Year-2.2.2\"><span class=\"toc-item-num\">2.2.2&nbsp;&nbsp;</span>Check Dates Represented in Year</a></span></li></ul></li></ul></li><li><span><a href=\"#Export-Line145-(trips-thereof)-for-Sample-Modelling\" data-toc-modified-id=\"Export-Line145-(trips-thereof)-for-Sample-Modelling-3\"><span class=\"toc-item-num\">3&nbsp;&nbsp;</span>Export Line145 (trips thereof) for Sample Modelling</a></span><ul class=\"toc-item\"><li><span><a href=\"#FIRST-ATTEMPT-—\" data-toc-modified-id=\"FIRST-ATTEMPT-—-3.1\"><span class=\"toc-item-num\">3.1&nbsp;&nbsp;</span>FIRST ATTEMPT —</a></span></li><li><span><a href=\"#SECOND-ATTEMPT\" data-toc-modified-id=\"SECOND-ATTEMPT-3.2\"><span class=\"toc-item-num\">3.2&nbsp;&nbsp;</span>SECOND ATTEMPT</a></span></li></ul></li></ul></div>"
   ]
  },
  {
   "cell_type": "markdown",
   "metadata": {},
   "source": [
    "# IMPORTS"
   ]
  },
  {
   "cell_type": "code",
   "execution_count": 1,
   "metadata": {},
   "outputs": [
    {
     "data": {
      "text/html": [
       "<style>.container {width:90% !important;}</style>"
      ],
      "text/plain": [
       "<IPython.core.display.HTML object>"
      ]
     },
     "metadata": {},
     "output_type": "display_data"
    }
   ],
   "source": [
    "from IPython.core.display import display, HTML\n",
    "display(HTML('<style>.container {width:90% !important;}</style>'))"
   ]
  },
  {
   "cell_type": "code",
   "execution_count": 2,
   "metadata": {},
   "outputs": [],
   "source": [
    "import pandas as pd\n",
    "import numpy as np\n",
    "import matplotlib.pyplot as plt\n",
    "import csv"
   ]
  },
  {
   "cell_type": "code",
   "execution_count": 3,
   "metadata": {},
   "outputs": [],
   "source": [
    "# Display plots in the notebook\n",
    "%matplotlib inline"
   ]
  },
  {
   "cell_type": "code",
   "execution_count": 4,
   "metadata": {},
   "outputs": [],
   "source": [
    "def assess_df(df):\n",
    "  \n",
    "    feature_types = {df[df.columns[x]].dtypes.name for x in range(len(df.columns))}\n",
    "    \n",
    "  \t# print datatypes\n",
    "  \n",
    "    print(\"Datatypes:\\n\")\n",
    "    print(df.dtypes)\n",
    "    print('\\n\\n')\n",
    "    \n",
    "    # print number rows and cols\n",
    "    print('*' * 50)\n",
    "    print('ROWS, COLUMNS, NULLS\\n')\n",
    "    print(df.shape[0], \"rows in the dataframe.\")\n",
    "    print(df.shape[1], \"columns in the dataframe.\\n\")\n",
    "    print(df.isnull().sum().sum(), \"null values in the dataframe.\")\n",
    "    \n",
    "    # check duplicate rows & col; print if present\n",
    "    \n",
    "    duplicate_rows = df.duplicated(keep=False).sum()\n",
    "    duplicate_cols = df.index.T.duplicated(keep=False).sum()\n",
    "    \n",
    "    print(duplicate_rows, \"duplicate rows\")\n",
    "    print(duplicate_cols, \"duplicate columns\")\n",
    "    \n",
    "    if duplicate_rows > 0 or duplicate_cols > 0:\n",
    "      print(df.loc[df.duplicated()])\n",
    "\t\n",
    "    print('\\n')\n",
    "    \n",
    "    # check for constant columns\n",
    "    \n",
    "    numeric_cols = list(df.select_dtypes(include=[np.number]).columns.values)\n",
    "    categorical_cols = list(df.select_dtypes('category').columns.values)\n",
    "    \n",
    "    standard_diffs = [df.describe().loc['std', x] for x in numeric_cols]\n",
    "    \n",
    "    constant_categorical_column=False\n",
    "    if 'category' in feature_types:\n",
    "        for column in categorical_cols:\n",
    "            if df[column].describe().index.unique == 1:\n",
    "                constant_categorical_column = True\n",
    "            \n",
    "            \n",
    "    if 0 in standard_diffs:\n",
    "        print(\"Constant numeric columns: TRUE\")\n",
    "    else:\n",
    "        print(\"Constant numeric columns: FALSE\")\n",
    "  \n",
    "    if 'category' in feature_types:    \n",
    "        if constant_categorical_column == True:\n",
    "            print(\"Constant categorical columns: TRUE\")\n",
    "        else:\n",
    "            print(\"Constant categorical columns: FALSE\")\n",
    "\n",
    "            \n",
    "    \n",
    "    print('\\n\\n')\n",
    "\n",
    "    \n",
    "    # feature stats\n",
    "    print('*' * 50)\n",
    "    print('DESCRIPTION\\n')\n",
    "    print(df.describe().T)\n",
    "    print('\\n\\n')\n",
    "    print('*' * 50)\n",
    "\n",
    "    \n",
    "    # feature stats: categorical\n",
    "    \n",
    "    if 'category' in feature_types:\n",
    "        print('CATEGORICAL DESCRIPTION\\n')\n",
    "        print('\\n')\n",
    "        print(df.select_dtypes(['category']).describe().T)\n",
    "        print('\\n\\n')\n",
    "        print('*' * 50)\n",
    "    \n",
    "    # print feature cardinalities\n",
    "    \n",
    "    print(\"FEATURE CARDINALITIES\\n\")\n",
    "    column_names = list(df.columns.values)\n",
    "\n",
    "    print('{0:45}  {1}'.format(\"Feature\", \"Distinct Values\"))\n",
    "    print('{0:45}  {1}'.format(\"-------\", \"--------------- \\n\"))\n",
    "\n",
    "    for c in column_names:\n",
    "        print('{0:45}  {1}'.format(c, str(len(df[c].unique()))))\n",
    "    \n",
    "    print('\\n')\n",
    "    print('*' * 50)\n",
    "    print('MEMORY\\n')\n",
    "    \n",
    "    \n",
    "    print(df.info(memory_usage='deep'))\n",
    "    print('\\n')\n",
    "    print(df.memory_usage(deep=True))\n",
    "    print('\\n')\n",
    "    print('*' * 50)\n",
    "    print('HEAD\\n')\n",
    "    print(df.head(10))\n",
    "    print('\\n')\n",
    "    print('*' * 50)\n",
    "    print('TAIL\\n')\n",
    "    print(df.tail(10))"
   ]
  },
  {
   "cell_type": "markdown",
   "metadata": {},
   "source": [
    "# Continue Data Quality Exploration"
   ]
  },
  {
   "cell_type": "markdown",
   "metadata": {},
   "source": [
    "One leave time\n",
    "\n",
    "\n",
    "For one vehicle\n",
    "\n",
    "\n",
    "For one stop-point"
   ]
  },
  {
   "cell_type": "code",
   "execution_count": 5,
   "metadata": {},
   "outputs": [],
   "source": [
    "df = pd.read_feather('/tmp/ssh_mount/data/dataframes/020719_postassessquality_leavetimes.feather')"
   ]
  },
  {
   "cell_type": "code",
   "execution_count": 3,
   "metadata": {},
   "outputs": [
    {
     "data": {
      "text/html": [
       "<div>\n",
       "<style scoped>\n",
       "    .dataframe tbody tr th:only-of-type {\n",
       "        vertical-align: middle;\n",
       "    }\n",
       "\n",
       "    .dataframe tbody tr th {\n",
       "        vertical-align: top;\n",
       "    }\n",
       "\n",
       "    .dataframe thead th {\n",
       "        text-align: right;\n",
       "    }\n",
       "</style>\n",
       "<table border=\"1\" class=\"dataframe\">\n",
       "  <thead>\n",
       "    <tr style=\"text-align: right;\">\n",
       "      <th></th>\n",
       "      <th>DAYOFSERVICE</th>\n",
       "      <th>TRIPID</th>\n",
       "      <th>PROGRNUMBER</th>\n",
       "      <th>STOPPOINTID</th>\n",
       "      <th>PLANNEDTIME_ARR</th>\n",
       "      <th>PLANNEDTIME_DEP</th>\n",
       "      <th>ACTUALTIME_ARR</th>\n",
       "      <th>ACTUALTIME_DEP</th>\n",
       "      <th>VEHICLEID</th>\n",
       "    </tr>\n",
       "  </thead>\n",
       "  <tbody>\n",
       "    <tr>\n",
       "      <th>0</th>\n",
       "      <td>2018-01-01</td>\n",
       "      <td>5972116</td>\n",
       "      <td>12</td>\n",
       "      <td>119</td>\n",
       "      <td>48030</td>\n",
       "      <td>48030</td>\n",
       "      <td>48012</td>\n",
       "      <td>48012</td>\n",
       "      <td>2693211</td>\n",
       "    </tr>\n",
       "    <tr>\n",
       "      <th>1</th>\n",
       "      <td>2018-01-01</td>\n",
       "      <td>5966674</td>\n",
       "      <td>12</td>\n",
       "      <td>119</td>\n",
       "      <td>54001</td>\n",
       "      <td>54001</td>\n",
       "      <td>54023</td>\n",
       "      <td>54023</td>\n",
       "      <td>2693267</td>\n",
       "    </tr>\n",
       "    <tr>\n",
       "      <th>2</th>\n",
       "      <td>2018-01-01</td>\n",
       "      <td>5959105</td>\n",
       "      <td>12</td>\n",
       "      <td>119</td>\n",
       "      <td>60001</td>\n",
       "      <td>60001</td>\n",
       "      <td>59955</td>\n",
       "      <td>59955</td>\n",
       "      <td>2693263</td>\n",
       "    </tr>\n",
       "    <tr>\n",
       "      <th>3</th>\n",
       "      <td>2018-01-01</td>\n",
       "      <td>5966888</td>\n",
       "      <td>12</td>\n",
       "      <td>119</td>\n",
       "      <td>58801</td>\n",
       "      <td>58801</td>\n",
       "      <td>58771</td>\n",
       "      <td>58771</td>\n",
       "      <td>2693284</td>\n",
       "    </tr>\n",
       "    <tr>\n",
       "      <th>4</th>\n",
       "      <td>2018-01-01</td>\n",
       "      <td>5965960</td>\n",
       "      <td>12</td>\n",
       "      <td>119</td>\n",
       "      <td>56401</td>\n",
       "      <td>56401</td>\n",
       "      <td>56309</td>\n",
       "      <td>56323</td>\n",
       "      <td>2693209</td>\n",
       "    </tr>\n",
       "  </tbody>\n",
       "</table>\n",
       "</div>"
      ],
      "text/plain": [
       "  DAYOFSERVICE   TRIPID PROGRNUMBER STOPPOINTID  PLANNEDTIME_ARR  \\\n",
       "0   2018-01-01  5972116          12         119            48030   \n",
       "1   2018-01-01  5966674          12         119            54001   \n",
       "2   2018-01-01  5959105          12         119            60001   \n",
       "3   2018-01-01  5966888          12         119            58801   \n",
       "4   2018-01-01  5965960          12         119            56401   \n",
       "\n",
       "   PLANNEDTIME_DEP  ACTUALTIME_ARR  ACTUALTIME_DEP VEHICLEID  \n",
       "0            48030           48012           48012   2693211  \n",
       "1            54001           54023           54023   2693267  \n",
       "2            60001           59955           59955   2693263  \n",
       "3            58801           58771           58771   2693284  \n",
       "4            56401           56309           56323   2693209  "
      ]
     },
     "execution_count": 3,
     "metadata": {},
     "output_type": "execute_result"
    }
   ],
   "source": [
    "df.head()"
   ]
  },
  {
   "cell_type": "code",
   "execution_count": 102,
   "metadata": {},
   "outputs": [
    {
     "name": "stdout",
     "output_type": "stream",
     "text": [
      "Datatypes:\n",
      "\n",
      "DAYOFSERVICE       datetime64[ns]\n",
      "TRIPID                   category\n",
      "PROGRNUMBER              category\n",
      "STOPPOINTID              category\n",
      "PLANNEDTIME_ARR             int32\n",
      "PLANNEDTIME_DEP             int32\n",
      "ACTUALTIME_ARR              int32\n",
      "ACTUALTIME_DEP              int32\n",
      "VEHICLEID                category\n",
      "dtype: object\n",
      "\n",
      "\n",
      "\n",
      "**************************************************\n",
      "ROWS, COLUMNS, NULLS\n",
      "\n",
      "116949113 rows in the dataframe.\n",
      "9 columns in the dataframe.\n",
      "\n",
      "0 null values in the dataframe.\n",
      "0 duplicate rows\n",
      "0 duplicate columns\n",
      "\n",
      "\n",
      "Constant numeric columns: FALSE\n",
      "Constant categorical columns: FALSE\n",
      "\n",
      "\n",
      "\n",
      "**************************************************\n",
      "DESCRIPTION\n",
      "\n",
      "                       count          mean           std      min      25%  \\\n",
      "PLANNEDTIME_ARR  116949113.0  53263.483617  17496.620711  16200.0  37975.0   \n",
      "PLANNEDTIME_DEP  116949113.0  53263.483617  17496.620711  16200.0  37975.0   \n",
      "ACTUALTIME_ARR   116949113.0  53446.370011  17507.103983  15974.0  38105.0   \n",
      "ACTUALTIME_DEP   116949113.0  53459.004512  17506.395727  15974.0  38117.0   \n",
      "\n",
      "                     50%      75%      max  \n",
      "PLANNEDTIME_ARR  53289.0  67243.0  91680.0  \n",
      "PLANNEDTIME_DEP  53289.0  67243.0  91680.0  \n",
      "ACTUALTIME_ARR   53511.0  67502.0  97177.0  \n",
      "ACTUALTIME_DEP   53526.0  67514.0  97177.0  \n",
      "\n",
      "\n",
      "\n",
      "**************************************************\n",
      "CATEGORICAL DESCRIPTION\n",
      "\n",
      "\n",
      "\n",
      "                 count  unique      top     freq\n",
      "TRIPID       116949113  658961  7325784     1924\n",
      "PROGRNUMBER  116949113     109       14  2108194\n",
      "STOPPOINTID  116949113    4774     1479   214973\n",
      "VEHICLEID    116949113    1151  2868400   179716\n",
      "\n",
      "\n",
      "\n",
      "**************************************************\n",
      "FEATURE CARDINALITIES\n",
      "\n",
      "Feature                                        Distinct Values\n",
      "-------                                        --------------- \n",
      "\n",
      "DAYOFSERVICE                                   360\n",
      "TRIPID                                         658961\n",
      "PROGRNUMBER                                    109\n",
      "STOPPOINTID                                    4774\n",
      "PLANNEDTIME_ARR                                72712\n",
      "PLANNEDTIME_DEP                                72712\n",
      "ACTUALTIME_ARR                                 74361\n",
      "ACTUALTIME_DEP                                 74363\n",
      "VEHICLEID                                      1151\n",
      "\n",
      "\n",
      "**************************************************\n",
      "MEMORY\n",
      "\n",
      "<class 'pandas.core.frame.DataFrame'>\n",
      "RangeIndex: 116949113 entries, 0 to 116949112\n",
      "Data columns (total 9 columns):\n",
      "DAYOFSERVICE       datetime64[ns]\n",
      "TRIPID             category\n",
      "PROGRNUMBER        category\n",
      "STOPPOINTID        category\n",
      "PLANNEDTIME_ARR    int32\n",
      "PLANNEDTIME_DEP    int32\n",
      "ACTUALTIME_ARR     int32\n",
      "ACTUALTIME_DEP     int32\n",
      "VEHICLEID          category\n",
      "dtypes: category(4), datetime64[ns](1), int32(4)\n",
      "memory usage: 3.6 GB\n",
      "None\n",
      "\n",
      "\n",
      "Index                     80\n",
      "DAYOFSERVICE       935592904\n",
      "TRIPID             494039660\n",
      "PROGRNUMBER        116955105\n",
      "STOPPOINTID        234100258\n",
      "PLANNEDTIME_ARR    467796452\n",
      "PLANNEDTIME_DEP    467796452\n",
      "ACTUALTIME_ARR     467796452\n",
      "ACTUALTIME_DEP     467796452\n",
      "VEHICLEID          233948394\n",
      "dtype: int64\n",
      "\n",
      "\n",
      "**************************************************\n",
      "HEAD\n",
      "\n",
      "  DAYOFSERVICE   TRIPID PROGRNUMBER STOPPOINTID  PLANNEDTIME_ARR  \\\n",
      "0   2018-01-01  5972116          12         119            48030   \n",
      "1   2018-01-01  5966674          12         119            54001   \n",
      "2   2018-01-01  5959105          12         119            60001   \n",
      "3   2018-01-01  5966888          12         119            58801   \n",
      "4   2018-01-01  5965960          12         119            56401   \n",
      "5   2018-01-01  5965964          12         119            70688   \n",
      "6   2018-01-01  5958117          12         119            72488   \n",
      "7   2018-01-01  5959109          12         119            74288   \n",
      "8   2018-01-01  5972114          12         119            40187   \n",
      "9   2018-01-01  5959099          12         119            38387   \n",
      "\n",
      "   PLANNEDTIME_DEP  ACTUALTIME_ARR  ACTUALTIME_DEP VEHICLEID  \n",
      "0            48030           48012           48012   2693211  \n",
      "1            54001           54023           54023   2693267  \n",
      "2            60001           59955           59955   2693263  \n",
      "3            58801           58771           58771   2693284  \n",
      "4            56401           56309           56323   2693209  \n",
      "5            70688           70663           70679   2693209  \n",
      "6            72488           72539           72539   2172293  \n",
      "7            74288           74173           74173   2693263  \n",
      "8            40187           40096           40111   2693211  \n",
      "9            38387           38271           38271   2693263  \n",
      "\n",
      "\n",
      "**************************************************\n",
      "TAIL\n",
      "\n",
      "          DAYOFSERVICE   TRIPID PROGRNUMBER STOPPOINTID  PLANNEDTIME_ARR  \\\n",
      "116949103   2018-12-31  8576270          61         670            58801   \n",
      "116949104   2018-12-31  8588159          61         670            69467   \n",
      "116949105   2018-12-31  8580049          61         670            75868   \n",
      "116949106   2018-12-31  8578080          78        4383            30308   \n",
      "116949107   2018-12-31  8587465          78        4383            65040   \n",
      "116949108   2018-12-31  8588153          78        4383            28605   \n",
      "116949109   2018-12-31  8587459          78        4383            22695   \n",
      "116949110   2018-12-31  8586183          78        4383            51481   \n",
      "116949111   2018-12-31  8589374          23        7053            53659   \n",
      "116949112   2018-12-31  8589372          24        2088            46383   \n",
      "\n",
      "           PLANNEDTIME_DEP  ACTUALTIME_ARR  ACTUALTIME_DEP VEHICLEID  \n",
      "116949103            58801           58903           58903   2172294  \n",
      "116949104            69467           69738           69738   3265721  \n",
      "116949105            75868           75868           75868   3265691  \n",
      "116949106            30308           31256           31256   2172295  \n",
      "116949107            65040           65656           65681   3265687  \n",
      "116949108            28605           28998           29013   3265721  \n",
      "116949109            22695           23247           23247   3265687  \n",
      "116949110            51481           52237           52283   2693229  \n",
      "116949111            53659           53525           53525   3265669  \n",
      "116949112            46383           46315           46325   3265669  \n"
     ]
    }
   ],
   "source": [
    "assess_df(df)"
   ]
  },
  {
   "cell_type": "markdown",
   "metadata": {
    "heading_collapsed": true
   },
   "source": [
    "## Inspect Planned and Actual Departure Times"
   ]
  },
  {
   "cell_type": "code",
   "execution_count": 7,
   "metadata": {
    "hidden": true
   },
   "outputs": [
    {
     "data": {
      "image/png": "[encoded data removed]",
      "text/plain": [
       "<Figure size 432x288 with 1 Axes>"
      ]
     },
     "metadata": {
      "needs_background": "light"
     },
     "output_type": "display_data"
    }
   ],
   "source": [
    "plt.figure()\n",
    "plt.xlabel('Time to next stop (s)')\n",
    "plt.title(\"Planned Departure-from-stop Times\")\n",
    "df.PLANNEDTIME_DEP.plot(kind='hist', bins=25, edgecolor='black')\n",
    "plt.savefig(\"Planned Departure-from-stop Times\")"
   ]
  },
  {
   "cell_type": "markdown",
   "metadata": {
    "hidden": true
   },
   "source": [
    "Actual"
   ]
  },
  {
   "cell_type": "code",
   "execution_count": 8,
   "metadata": {
    "hidden": true
   },
   "outputs": [
    {
     "data": {
      "image/png": "[encoded data removed]",
      "text/plain": [
       "<Figure size 432x288 with 1 Axes>"
      ]
     },
     "metadata": {
      "needs_background": "light"
     },
     "output_type": "display_data"
    }
   ],
   "source": [
    "plt.figure()\n",
    "plt.xlabel('Time to next stop (s)')\n",
    "plt.title(\"Actual Departure-from-stop Times\")\n",
    "df.ACTUALTIME_DEP.plot(kind='hist', bins=25, edgecolor='black')\n",
    "plt.savefig(\"Actual Departure-from-stop Times\")"
   ]
  },
  {
   "cell_type": "markdown",
   "metadata": {
    "hidden": true
   },
   "source": [
    "Closer Inpsect: Lower Bound of Planned Dept Times"
   ]
  },
  {
   "cell_type": "code",
   "execution_count": 16,
   "metadata": {
    "hidden": true
   },
   "outputs": [
    {
     "data": {
      "text/plain": [
       "<matplotlib.axes._subplots.AxesSubplot at 0x2ae4844a8>"
      ]
     },
     "execution_count": 16,
     "metadata": {},
     "output_type": "execute_result"
    },
    {
     "data": {
      "image/png": "[encoded data removed]",
      "text/plain": [
       "<Figure size 864x864 with 1 Axes>"
      ]
     },
     "metadata": {
      "needs_background": "light"
     },
     "output_type": "display_data"
    }
   ],
   "source": [
    "df.loc[df.PLANNEDTIME_DEP < 20000, 'PLANNEDTIME_DEP'].plot(kind='hist', bins=50, figsize=(12,12), edgecolor='black')"
   ]
  },
  {
   "cell_type": "code",
   "execution_count": 20,
   "metadata": {
    "hidden": true
   },
   "outputs": [
    {
     "data": {
      "text/plain": [
       "4.5"
      ]
     },
     "execution_count": 20,
     "metadata": {},
     "output_type": "execute_result"
    }
   ],
   "source": [
    "# earliest time planned to leave stop\n",
    "\n",
    "df.PLANNEDTIME_DEP.min() / 60 / 60"
   ]
  },
  {
   "cell_type": "markdown",
   "metadata": {
    "hidden": true
   },
   "source": [
    "Closer Inpsect: Lower Bound of Actual Dept Times"
   ]
  },
  {
   "cell_type": "code",
   "execution_count": 17,
   "metadata": {
    "hidden": true
   },
   "outputs": [
    {
     "data": {
      "text/plain": [
       "<matplotlib.axes._subplots.AxesSubplot at 0x2ae92ed30>"
      ]
     },
     "execution_count": 17,
     "metadata": {},
     "output_type": "execute_result"
    },
    {
     "data": {
      "image/png": "[encoded data removed]",
      "text/plain": [
       "<Figure size 864x864 with 1 Axes>"
      ]
     },
     "metadata": {
      "needs_background": "light"
     },
     "output_type": "display_data"
    }
   ],
   "source": [
    "df.loc[df.ACTUALTIME_DEP < 20000, 'ACTUALTIME_DEP'].plot(kind='hist', bins=50, figsize=(12,12), edgecolor='black')"
   ]
  },
  {
   "cell_type": "code",
   "execution_count": 21,
   "metadata": {
    "hidden": true
   },
   "outputs": [
    {
     "data": {
      "text/plain": [
       "4.437222222222222"
      ]
     },
     "execution_count": 21,
     "metadata": {},
     "output_type": "execute_result"
    }
   ],
   "source": [
    "# earliest time leaving current stop\n",
    "\n",
    "df.ACTUALTIME_DEP.min() / 60 / 60"
   ]
  },
  {
   "cell_type": "code",
   "execution_count": 24,
   "metadata": {
    "hidden": true
   },
   "outputs": [],
   "source": [
    "seconds_in_day = 24 * 60 * 60"
   ]
  },
  {
   "cell_type": "code",
   "execution_count": 26,
   "metadata": {
    "hidden": true
   },
   "outputs": [
    {
     "data": {
      "text/plain": [
       "457988"
      ]
     },
     "execution_count": 26,
     "metadata": {},
     "output_type": "execute_result"
    }
   ],
   "source": [
    "# number of actual departure times falling after midnight of the operational day\n",
    "\n",
    "actual_dept_post24 = df.loc[df.ACTUALTIME_DEP > seconds_in_day, 'ACTUALTIME_DEP'].shape[0]\n",
    "actual_dept_post24"
   ]
  },
  {
   "cell_type": "code",
   "execution_count": 31,
   "metadata": {
    "hidden": true
   },
   "outputs": [
    {
     "data": {
      "text/plain": [
       "116949113"
      ]
     },
     "execution_count": 31,
     "metadata": {},
     "output_type": "execute_result"
    }
   ],
   "source": [
    "len(df)"
   ]
  },
  {
   "cell_type": "code",
   "execution_count": 32,
   "metadata": {
    "hidden": true
   },
   "outputs": [
    {
     "data": {
      "text/plain": [
       "0.39161305994685053"
      ]
     },
     "execution_count": 32,
     "metadata": {},
     "output_type": "execute_result"
    }
   ],
   "source": [
    "# proportion of whole that these represent\n",
    "\n",
    "(actual_dept_post24 / len(df)) * 100"
   ]
  },
  {
   "cell_type": "markdown",
   "metadata": {},
   "source": [
    "## Inspect Duplicated and Non-Duplicated Trip_ids (issue from rt_trips)"
   ]
  },
  {
   "cell_type": "code",
   "execution_count": 119,
   "metadata": {},
   "outputs": [
    {
     "name": "stdout",
     "output_type": "stream",
     "text": [
      "         DAYOFSERVICE   TRIPID VEHICLEID PROGRNUMBER STOPPOINTID\n",
      "91785393   2018-10-10  8026357   1001141           1        2210\n",
      "91785413   2018-10-10  8026357   1001141           2        2211\n",
      "91785434   2018-10-10  8026357   1001141           3        2241\n",
      "91977905   2018-10-10  8026357   1001141           4        2242\n",
      "91786572   2018-10-10  8026357   1001141           5        2243\n",
      "91786595   2018-10-10  8026357   1001141           6        2244\n",
      "91968901   2018-10-10  8026357   1001141           7        2245\n",
      "91787727   2018-10-10  8026357   1001141           8        2246\n",
      "91787749   2018-10-10  8026357   1001141           9        2247\n",
      "91787768   2018-10-10  8026357   1001141          10        2248\n",
      "98241544   2018-10-10  8026357   1001141          11        2249\n",
      "98246378   2018-10-10  8026357   1001141          12        2250\n",
      "91760132   2018-10-10  8026357   1001141          13        2251\n",
      "91760152   2018-10-10  8026357   1001141          14        1472\n",
      "91760173   2018-10-10  8026357   1001141          15        4408\n",
      "98227830   2018-10-10  8026357   1001141          16        1473\n",
      "91761304   2018-10-10  8026357   1001141          17        1474\n",
      "91761325   2018-10-10  8026357   1001141          18        1476\n",
      "91761347   2018-10-10  8026357   1001141          19        7453\n",
      "91762460   2018-10-10  8026357   1001141          20        1478\n",
      "91762486   2018-10-10  8026357   1001141          21        1479\n",
      "91762509   2018-10-10  8026357   1001141          22         315\n",
      "91746267   2018-10-10  8026357   1001141          24         406\n",
      "91746286   2018-10-10  8026357   1001141          25        2810\n",
      "91747423   2018-10-10  8026357   1001141          26        7387\n",
      "93271706   2018-10-18  8026357   1001212           1        2210\n",
      "93271726   2018-10-18  8026357   1001212           2        2211\n",
      "93272766   2018-10-18  8026357   1001212           3        2241\n",
      "93272787   2018-10-18  8026357   1001212           4        2242\n",
      "93272808   2018-10-18  8026357   1001212           5        2243\n",
      "93273877   2018-10-18  8026357   1001212           6        2244\n",
      "93273899   2018-10-18  8026357   1001212           7        2245\n",
      "93273919   2018-10-18  8026357   1001212           8        2246\n",
      "93275015   2018-10-18  8026357   1001212           9        2247\n",
      "93275037   2018-10-18  8026357   1001212          10        2248\n",
      "93275057   2018-10-18  8026357   1001212          11        2249\n",
      "93275078   2018-10-18  8026357   1001212          12        2250\n",
      "93276174   2018-10-18  8026357   1001212          13        2251\n",
      "93276197   2018-10-18  8026357   1001212          14        1472\n",
      "93276218   2018-10-18  8026357   1001212          15        4408\n",
      "93277310   2018-10-18  8026357   1001212          16        1473\n",
      "93277332   2018-10-18  8026357   1001212          17        1474\n",
      "93277352   2018-10-18  8026357   1001212          18        1476\n",
      "93278440   2018-10-18  8026357   1001212          19        7453\n",
      "93278461   2018-10-18  8026357   1001212          20        1478\n",
      "93278482   2018-10-18  8026357   1001212          21        1479\n",
      "98616398   2018-10-18  8026357   1001212          22         315\n",
      "92610648   2018-10-16  8026357   2172315           1        2210\n",
      "92610668   2018-10-16  8026357   2172315           2        2211\n",
      "92611717   2018-10-16  8026357   2172315           3        2241\n",
      "92611739   2018-10-16  8026357   2172315           4        2242\n",
      "92611759   2018-10-16  8026357   2172315           5        2243\n",
      "98698099   2018-10-16  8026357   2172315           6        2244\n",
      "92612842   2018-10-16  8026357   2172315           7        2245\n",
      "92612866   2018-10-16  8026357   2172315           8        2246\n",
      "98690198   2018-10-16  8026357   2172315           9        2247\n",
      "92613983   2018-10-16  8026357   2172315          10        2248\n",
      "92614008   2018-10-16  8026357   2172315          11        2249\n",
      "92776697   2018-10-16  8026357   2172315          12        2250\n",
      "92615125   2018-10-16  8026357   2172315          13        2251\n",
      "92615147   2018-10-16  8026357   2172315          14        1472\n",
      "98692799   2018-10-16  8026357   2172315          15        4408\n",
      "92616275   2018-10-16  8026357   2172315          16        1473\n",
      "92616297   2018-10-16  8026357   2172315          17        1474\n",
      "92616322   2018-10-16  8026357   2172315          18        1476\n",
      "92598844   2018-10-16  8026357   2172315          19        7453\n",
      "92598868   2018-10-16  8026357   2172315          20        1478\n",
      "92598893   2018-10-16  8026357   2172315          21        1479\n",
      "92598915   2018-10-16  8026357   2172315          22         315\n",
      "91407753   2018-10-09  8026357   2406868           1        2210\n",
      "91407774   2018-10-09  8026357   2406868           2        2211\n",
      "91407800   2018-10-09  8026357   2406868           3        2241\n",
      "91407820   2018-10-09  8026357   2406868           4        2242\n",
      "91408937   2018-10-09  8026357   2406868           5        2243\n",
      "98279027   2018-10-09  8026357   2406868           6        2244\n",
      "98288452   2018-10-09  8026357   2406868           7        2245\n",
      "91410109   2018-10-09  8026357   2406868           8        2246\n",
      "98269279   2018-10-09  8026357   2406868           9        2247\n",
      "91410149   2018-10-09  8026357   2406868          10        2248\n",
      "91411246   2018-10-09  8026357   2406868          11        2249\n",
      "91456419   2018-10-09  8026357   2406868          12        2250\n",
      "91457571   2018-10-09  8026357   2406868          13        2251\n",
      "91457594   2018-10-09  8026357   2406868          14        1472\n",
      "91457615   2018-10-09  8026357   2406868          15        4408\n",
      "91664962   2018-10-09  8026357   2406868          16        1473\n",
      "91664935   2018-10-09  8026357   2406868          17        1474\n",
      "98274533   2018-10-09  8026357   2406868          18        1476\n",
      "91458847   2018-10-09  8026357   2406868          19        7453\n",
      "91627591   2018-10-09  8026357   2406868          20        1478\n",
      "91460023   2018-10-09  8026357   2406868          21        1479\n",
      "91460047   2018-10-09  8026357   2406868          22         315\n",
      "91442290   2018-10-09  8026357   2406868          24         406\n",
      "91442306   2018-10-09  8026357   2406868          25        2810\n",
      "91443381   2018-10-09  8026357   2406868          26        7387\n",
      "91151126   2018-10-08  8026357   2534815           1        2210\n",
      "91152199   2018-10-08  8026357   2534815           2        2211\n",
      "91152224   2018-10-08  8026357   2534815           3        2241\n",
      "91153299   2018-10-08  8026357   2534815           4        2242\n",
      "91153321   2018-10-08  8026357   2534815           5        2243\n",
      "98294293   2018-10-08  8026357   2534815           6        2244\n",
      "91153366   2018-10-08  8026357   2534815           7        2245\n",
      "91154489   2018-10-08  8026357   2534815           8        2246\n",
      "91154513   2018-10-08  8026357   2534815           9        2247\n",
      "91154534   2018-10-08  8026357   2534815          10        2248\n",
      "91155612   2018-10-08  8026357   2534815          11        2249\n",
      "91162783   2018-10-08  8026357   2534815          12        2250\n",
      "91163898   2018-10-08  8026357   2534815          13        2251\n",
      "91163922   2018-10-08  8026357   2534815          14        1472\n",
      "91163944   2018-10-08  8026357   2534815          15        4408\n",
      "91165088   2018-10-08  8026357   2534815          16        1473\n",
      "91165110   2018-10-08  8026357   2534815          17        1474\n",
      "91165132   2018-10-08  8026357   2534815          18        1476\n",
      "91166300   2018-10-08  8026357   2534815          19        7453\n",
      "91166323   2018-10-08  8026357   2534815          20        1478\n",
      "91166346   2018-10-08  8026357   2534815          21        1479\n",
      "98297858   2018-10-08  8026357   2534815          22         315\n",
      "91167493   2018-10-08  8026357   2534815          24         406\n",
      "91167515   2018-10-08  8026357   2534815          25        2810\n",
      "91168621   2018-10-08  8026357   2534815          26        7387\n",
      "97216994   2018-10-15  8026357   2534815           1        2210\n",
      "97238002   2018-10-15  8026357   2534815           2        2211\n",
      "97216995   2018-10-15  8026357   2534815           3        2241\n",
      "97188643   2018-10-15  8026357   2534815           4        2242\n",
      "97188644   2018-10-15  8026357   2534815           5        2243\n",
      "97188645   2018-10-15  8026357   2534815           6        2244\n",
      "97188646   2018-10-15  8026357   2534815           7        2245\n",
      "98364793   2018-10-15  8026357   2534815           8        2246\n",
      "97188647   2018-10-15  8026357   2534815           9        2247\n",
      "97188648   2018-10-15  8026357   2534815          10        2248\n",
      "97188649   2018-10-15  8026357   2534815          11        2249\n",
      "98367392   2018-10-15  8026357   2534815          12        2250\n",
      "97188650   2018-10-15  8026357   2534815          13        2251\n",
      "97188651   2018-10-15  8026357   2534815          14        1472\n",
      "97188652   2018-10-15  8026357   2534815          15        4408\n",
      "97188653   2018-10-15  8026357   2534815          16        1473\n",
      "97188654   2018-10-15  8026357   2534815          17        1474\n",
      "97188655   2018-10-15  8026357   2534815          18        1476\n",
      "98370106   2018-10-15  8026357   2534815          19        7453\n",
      "97188656   2018-10-15  8026357   2534815          20        1478\n",
      "97188657   2018-10-15  8026357   2534815          21        1479\n",
      "97188658   2018-10-15  8026357   2534815          22         315\n",
      "97188659   2018-10-15  8026357   2534815          24         406\n",
      "97188660   2018-10-15  8026357   2534815          25        2810\n",
      "97188661   2018-10-15  8026357   2534815          26        7387\n",
      "92889339   2018-10-17  8026357   2534816           1        2210\n",
      "92890412   2018-10-17  8026357   2534816           2        2211\n",
      "92890435   2018-10-17  8026357   2534816           3        2241\n",
      "92890458   2018-10-17  8026357   2534816           4        2242\n",
      "92890482   2018-10-17  8026357   2534816           5        2243\n",
      "92891613   2018-10-17  8026357   2534816           6        2244\n",
      "92891636   2018-10-17  8026357   2534816           7        2245\n",
      "93137478   2018-10-17  8026357   2534816           8        2246\n",
      "93143663   2018-10-17  8026357   2534816           9        2247\n",
      "92892806   2018-10-17  8026357   2534816          10        2248\n",
      "92892829   2018-10-17  8026357   2534816          11        2249\n",
      "92893982   2018-10-17  8026357   2534816          12        2250\n",
      "92894005   2018-10-17  8026357   2534816          13        2251\n",
      "93142712   2018-10-17  8026357   2534816          14        1472\n",
      "98731737   2018-10-17  8026357   2534816          15        4408\n",
      "92895203   2018-10-17  8026357   2534816          16        1473\n",
      "92895227   2018-10-17  8026357   2534816          17        1474\n",
      "92895249   2018-10-17  8026357   2534816          18        1476\n",
      "98740518   2018-10-17  8026357   2534816          19        7453\n",
      "92896389   2018-10-17  8026357   2534816          20        1478\n",
      "92896413   2018-10-17  8026357   2534816          21        1479\n",
      "92897563   2018-10-17  8026357   2534816          22         315\n",
      "92897584   2018-10-17  8026357   2534816          24         406\n",
      "92898731   2018-10-17  8026357   2534816          25        2810\n",
      "92898751   2018-10-17  8026357   2534816          26        7387\n",
      "92051883   2018-10-11  8026357   2534865           1        2210\n",
      "92051902   2018-10-11  8026357   2534865           2        2211\n",
      "92051923   2018-10-11  8026357   2534865           3        2241\n",
      "92051946   2018-10-11  8026357   2534865           4        2242\n",
      "92053068   2018-10-11  8026357   2534865           5        2243\n",
      "92053089   2018-10-11  8026357   2534865           6        2244\n",
      "92382847   2018-10-11  8026357   2534865           7        2245\n",
      "92054220   2018-10-11  8026357   2534865           8        2246\n",
      "92054239   2018-10-11  8026357   2534865           9        2247\n",
      "92054258   2018-10-11  8026357   2534865          10        2248\n",
      "92055306   2018-10-11  8026357   2534865          11        2249\n",
      "92099065   2018-10-11  8026357   2534865          12        2250\n",
      "92100214   2018-10-11  8026357   2534865          13        2251\n",
      "92100233   2018-10-11  8026357   2534865          14        1472\n",
      "92100252   2018-10-11  8026357   2534865          15        4408\n",
      "92082592   2018-10-11  8026357   2534865          16        1473\n",
      "92082611   2018-10-11  8026357   2534865          17        1474\n",
      "92082629   2018-10-11  8026357   2534865          18        1476\n",
      "92082653   2018-10-11  8026357   2534865          19        7453\n",
      "92083790   2018-10-11  8026357   2534865          20        1478\n",
      "92315070   2018-10-11  8026357   2534865          21        1479\n",
      "92083835   2018-10-11  8026357   2534865          22         315\n",
      "92084988   2018-10-11  8026357   2534865          24         406\n",
      "92085006   2018-10-11  8026357   2534865          25        2810\n",
      "92086148   2018-10-11  8026357   2534865          26        7387\n",
      "97777851   2018-10-12  8026357   2534865           1        2210\n",
      "97777871   2018-10-12  8026357   2534865           2        2211\n",
      "97777888   2018-10-12  8026357   2534865           3        2241\n",
      "97782390   2018-10-12  8026357   2534865           4        2242\n",
      "97987155   2018-10-12  8026357   2534865           5        2243\n",
      "97782430   2018-10-12  8026357   2534865           6        2244\n",
      "98210106   2018-10-12  8026357   2534865           7        2245\n",
      "97787007   2018-10-12  8026357   2534865           8        2246\n",
      "97787026   2018-10-12  8026357   2534865           9        2247\n",
      "97987156   2018-10-12  8026357   2534865          10        2248\n",
      "97791608   2018-10-12  8026357   2534865          11        2249\n",
      "97746853   2018-10-12  8026357   2534865          12        2250\n",
      "97987157   2018-10-12  8026357   2534865          13        2251\n",
      "97987158   2018-10-12  8026357   2534865          14        1472\n",
      "97751393   2018-10-12  8026357   2534865          15        4408\n",
      "97751414   2018-10-12  8026357   2534865          16        1473\n",
      "97751432   2018-10-12  8026357   2534865          17        1474\n",
      "97755976   2018-10-12  8026357   2534865          18        1476\n",
      "97755995   2018-10-12  8026357   2534865          19        7453\n",
      "97756015   2018-10-12  8026357   2534865          20        1478\n",
      "97760612   2018-10-12  8026357   2534865          21        1479\n",
      "97760633   2018-10-12  8026357   2534865          22         315\n",
      "93662907   2018-10-19  8026357   2693270           1        2210\n",
      "93662929   2018-10-19  8026357   2693270           2        2211\n",
      "93776966   2018-10-19  8026357   2693270           3        2241\n",
      "93664011   2018-10-19  8026357   2693270           4        2242\n",
      "93664034   2018-10-19  8026357   2693270           5        2243\n",
      "93665122   2018-10-19  8026357   2693270           6        2244\n",
      "93665145   2018-10-19  8026357   2693270           7        2245\n",
      "93665169   2018-10-19  8026357   2693270           8        2246\n",
      "93666267   2018-10-19  8026357   2693270           9        2247\n",
      "93666292   2018-10-19  8026357   2693270          10        2248\n",
      "93666316   2018-10-19  8026357   2693270          11        2249\n",
      "93785737   2018-10-19  8026357   2693270          12        2250\n",
      "93667439   2018-10-19  8026357   2693270          13        2251\n",
      "93667462   2018-10-19  8026357   2693270          14        1472\n",
      "93667485   2018-10-19  8026357   2693270          15        4408\n",
      "93668570   2018-10-19  8026357   2693270          16        1473\n",
      "93668594   2018-10-19  8026357   2693270          17        1474\n",
      "93668618   2018-10-19  8026357   2693270          18        1476\n",
      "93669715   2018-10-19  8026357   2693270          19        7453\n",
      "93669740   2018-10-19  8026357   2693270          20        1478\n",
      "93669762   2018-10-19  8026357   2693270          21        1479\n",
      "93669784   2018-10-19  8026357   2693270          22         315\n"
     ]
    }
   ],
   "source": [
    "# show select columns for a trip_id known to re-occur\n",
    "# in the rt_trips dataset\n",
    "\n",
    "with pd.option_context('display.max_rows', None):\n",
    "    print(df.loc[df.TRIPID == 8026357, ['DAYOFSERVICE', 'TRIPID',\\\n",
    "        'VEHICLEID', 'PROGRNUMBER', 'STOPPOINTID']].sort_values(by=['VEHICLEID', 'DAYOFSERVICE', 'PROGRNUMBER']))"
   ]
  },
  {
   "cell_type": "markdown",
   "metadata": {},
   "source": [
    "Different vehicle ids, on different days, running the same trip_id – ADDITIONAL ISSUE: there are differing numbers of seqeuential stops."
   ]
  },
  {
   "cell_type": "markdown",
   "metadata": {},
   "source": [
    "Trip follows the same stop-points. "
   ]
  },
  {
   "cell_type": "markdown",
   "metadata": {},
   "source": [
    "Where the number of stops in the sequence between instances of trips differs (either 22 or 26 stops, in the case of this trip_id), the longer sequence is simply a continuation of the shorter sequence."
   ]
  },
  {
   "cell_type": "code",
   "execution_count": 112,
   "metadata": {},
   "outputs": [
    {
     "data": {
      "text/html": [
       "<div>\n",
       "<style scoped>\n",
       "    .dataframe tbody tr th:only-of-type {\n",
       "        vertical-align: middle;\n",
       "    }\n",
       "\n",
       "    .dataframe tbody tr th {\n",
       "        vertical-align: top;\n",
       "    }\n",
       "\n",
       "    .dataframe thead th {\n",
       "        text-align: right;\n",
       "    }\n",
       "</style>\n",
       "<table border=\"1\" class=\"dataframe\">\n",
       "  <thead>\n",
       "    <tr style=\"text-align: right;\">\n",
       "      <th></th>\n",
       "      <th>DAYOFSERVICE</th>\n",
       "      <th>TRIPID</th>\n",
       "      <th>VEHICLEID</th>\n",
       "      <th>PROGRNUMBER</th>\n",
       "    </tr>\n",
       "  </thead>\n",
       "  <tbody>\n",
       "    <tr>\n",
       "      <th>11376831</th>\n",
       "      <td>2018-02-18</td>\n",
       "      <td>6271460</td>\n",
       "      <td>2534859</td>\n",
       "      <td>1</td>\n",
       "    </tr>\n",
       "    <tr>\n",
       "      <th>11378032</th>\n",
       "      <td>2018-02-18</td>\n",
       "      <td>6271460</td>\n",
       "      <td>2534859</td>\n",
       "      <td>2</td>\n",
       "    </tr>\n",
       "    <tr>\n",
       "      <th>11378058</th>\n",
       "      <td>2018-02-18</td>\n",
       "      <td>6271460</td>\n",
       "      <td>2534859</td>\n",
       "      <td>3</td>\n",
       "    </tr>\n",
       "    <tr>\n",
       "      <th>11378079</th>\n",
       "      <td>2018-02-18</td>\n",
       "      <td>6271460</td>\n",
       "      <td>2534859</td>\n",
       "      <td>4</td>\n",
       "    </tr>\n",
       "    <tr>\n",
       "      <th>11379281</th>\n",
       "      <td>2018-02-18</td>\n",
       "      <td>6271460</td>\n",
       "      <td>2534859</td>\n",
       "      <td>5</td>\n",
       "    </tr>\n",
       "    <tr>\n",
       "      <th>11379307</th>\n",
       "      <td>2018-02-18</td>\n",
       "      <td>6271460</td>\n",
       "      <td>2534859</td>\n",
       "      <td>6</td>\n",
       "    </tr>\n",
       "    <tr>\n",
       "      <th>11379330</th>\n",
       "      <td>2018-02-18</td>\n",
       "      <td>6271460</td>\n",
       "      <td>2534859</td>\n",
       "      <td>7</td>\n",
       "    </tr>\n",
       "    <tr>\n",
       "      <th>11379351</th>\n",
       "      <td>2018-02-18</td>\n",
       "      <td>6271460</td>\n",
       "      <td>2534859</td>\n",
       "      <td>8</td>\n",
       "    </tr>\n",
       "    <tr>\n",
       "      <th>19875781</th>\n",
       "      <td>2018-02-18</td>\n",
       "      <td>6271460</td>\n",
       "      <td>2534859</td>\n",
       "      <td>9</td>\n",
       "    </tr>\n",
       "    <tr>\n",
       "      <th>11497161</th>\n",
       "      <td>2018-02-18</td>\n",
       "      <td>6271460</td>\n",
       "      <td>2534859</td>\n",
       "      <td>10</td>\n",
       "    </tr>\n",
       "    <tr>\n",
       "      <th>11380590</th>\n",
       "      <td>2018-02-18</td>\n",
       "      <td>6271460</td>\n",
       "      <td>2534859</td>\n",
       "      <td>11</td>\n",
       "    </tr>\n",
       "    <tr>\n",
       "      <th>19845808</th>\n",
       "      <td>2018-02-18</td>\n",
       "      <td>6271460</td>\n",
       "      <td>2534859</td>\n",
       "      <td>12</td>\n",
       "    </tr>\n",
       "    <tr>\n",
       "      <th>11381790</th>\n",
       "      <td>2018-02-18</td>\n",
       "      <td>6271460</td>\n",
       "      <td>2534859</td>\n",
       "      <td>13</td>\n",
       "    </tr>\n",
       "    <tr>\n",
       "      <th>19845813</th>\n",
       "      <td>2018-02-18</td>\n",
       "      <td>6271460</td>\n",
       "      <td>2534859</td>\n",
       "      <td>14</td>\n",
       "    </tr>\n",
       "    <tr>\n",
       "      <th>11382971</th>\n",
       "      <td>2018-02-18</td>\n",
       "      <td>6271460</td>\n",
       "      <td>2534859</td>\n",
       "      <td>15</td>\n",
       "    </tr>\n",
       "    <tr>\n",
       "      <th>11382997</th>\n",
       "      <td>2018-02-18</td>\n",
       "      <td>6271460</td>\n",
       "      <td>2534859</td>\n",
       "      <td>16</td>\n",
       "    </tr>\n",
       "    <tr>\n",
       "      <th>11383021</th>\n",
       "      <td>2018-02-18</td>\n",
       "      <td>6271460</td>\n",
       "      <td>2534859</td>\n",
       "      <td>17</td>\n",
       "    </tr>\n",
       "    <tr>\n",
       "      <th>11383042</th>\n",
       "      <td>2018-02-18</td>\n",
       "      <td>6271460</td>\n",
       "      <td>2534859</td>\n",
       "      <td>18</td>\n",
       "    </tr>\n",
       "    <tr>\n",
       "      <th>11364523</th>\n",
       "      <td>2018-02-18</td>\n",
       "      <td>6271460</td>\n",
       "      <td>2534859</td>\n",
       "      <td>19</td>\n",
       "    </tr>\n",
       "    <tr>\n",
       "      <th>11364549</th>\n",
       "      <td>2018-02-18</td>\n",
       "      <td>6271460</td>\n",
       "      <td>2534859</td>\n",
       "      <td>20</td>\n",
       "    </tr>\n",
       "    <tr>\n",
       "      <th>11364570</th>\n",
       "      <td>2018-02-18</td>\n",
       "      <td>6271460</td>\n",
       "      <td>2534859</td>\n",
       "      <td>21</td>\n",
       "    </tr>\n",
       "    <tr>\n",
       "      <th>11365700</th>\n",
       "      <td>2018-02-18</td>\n",
       "      <td>6271460</td>\n",
       "      <td>2534859</td>\n",
       "      <td>22</td>\n",
       "    </tr>\n",
       "    <tr>\n",
       "      <th>11365726</th>\n",
       "      <td>2018-02-18</td>\n",
       "      <td>6271460</td>\n",
       "      <td>2534859</td>\n",
       "      <td>23</td>\n",
       "    </tr>\n",
       "    <tr>\n",
       "      <th>11499131</th>\n",
       "      <td>2018-02-18</td>\n",
       "      <td>6271460</td>\n",
       "      <td>2534859</td>\n",
       "      <td>24</td>\n",
       "    </tr>\n",
       "    <tr>\n",
       "      <th>11499137</th>\n",
       "      <td>2018-02-18</td>\n",
       "      <td>6271460</td>\n",
       "      <td>2534859</td>\n",
       "      <td>25</td>\n",
       "    </tr>\n",
       "    <tr>\n",
       "      <th>19849511</th>\n",
       "      <td>2018-02-18</td>\n",
       "      <td>6271460</td>\n",
       "      <td>2534859</td>\n",
       "      <td>26</td>\n",
       "    </tr>\n",
       "    <tr>\n",
       "      <th>11366999</th>\n",
       "      <td>2018-02-18</td>\n",
       "      <td>6271460</td>\n",
       "      <td>2534859</td>\n",
       "      <td>27</td>\n",
       "    </tr>\n",
       "    <tr>\n",
       "      <th>11367020</th>\n",
       "      <td>2018-02-18</td>\n",
       "      <td>6271460</td>\n",
       "      <td>2534859</td>\n",
       "      <td>28</td>\n",
       "    </tr>\n",
       "    <tr>\n",
       "      <th>11368213</th>\n",
       "      <td>2018-02-18</td>\n",
       "      <td>6271460</td>\n",
       "      <td>2534859</td>\n",
       "      <td>29</td>\n",
       "    </tr>\n",
       "    <tr>\n",
       "      <th>11368239</th>\n",
       "      <td>2018-02-18</td>\n",
       "      <td>6271460</td>\n",
       "      <td>2534859</td>\n",
       "      <td>30</td>\n",
       "    </tr>\n",
       "    <tr>\n",
       "      <th>11504354</th>\n",
       "      <td>2018-02-18</td>\n",
       "      <td>6271460</td>\n",
       "      <td>2534859</td>\n",
       "      <td>31</td>\n",
       "    </tr>\n",
       "    <tr>\n",
       "      <th>11369438</th>\n",
       "      <td>2018-02-18</td>\n",
       "      <td>6271460</td>\n",
       "      <td>2534859</td>\n",
       "      <td>32</td>\n",
       "    </tr>\n",
       "    <tr>\n",
       "      <th>11369464</th>\n",
       "      <td>2018-02-18</td>\n",
       "      <td>6271460</td>\n",
       "      <td>2534859</td>\n",
       "      <td>33</td>\n",
       "    </tr>\n",
       "    <tr>\n",
       "      <th>19860441</th>\n",
       "      <td>2018-02-18</td>\n",
       "      <td>6271460</td>\n",
       "      <td>2534859</td>\n",
       "      <td>34</td>\n",
       "    </tr>\n",
       "    <tr>\n",
       "      <th>11369509</th>\n",
       "      <td>2018-02-18</td>\n",
       "      <td>6271460</td>\n",
       "      <td>2534859</td>\n",
       "      <td>35</td>\n",
       "    </tr>\n",
       "    <tr>\n",
       "      <th>11370637</th>\n",
       "      <td>2018-02-18</td>\n",
       "      <td>6271460</td>\n",
       "      <td>2534859</td>\n",
       "      <td>36</td>\n",
       "    </tr>\n",
       "    <tr>\n",
       "      <th>11370662</th>\n",
       "      <td>2018-02-18</td>\n",
       "      <td>6271460</td>\n",
       "      <td>2534859</td>\n",
       "      <td>37</td>\n",
       "    </tr>\n",
       "    <tr>\n",
       "      <th>11370683</th>\n",
       "      <td>2018-02-18</td>\n",
       "      <td>6271460</td>\n",
       "      <td>2534859</td>\n",
       "      <td>38</td>\n",
       "    </tr>\n",
       "    <tr>\n",
       "      <th>11371854</th>\n",
       "      <td>2018-02-18</td>\n",
       "      <td>6271460</td>\n",
       "      <td>2534859</td>\n",
       "      <td>39</td>\n",
       "    </tr>\n",
       "    <tr>\n",
       "      <th>11371881</th>\n",
       "      <td>2018-02-18</td>\n",
       "      <td>6271460</td>\n",
       "      <td>2534859</td>\n",
       "      <td>40</td>\n",
       "    </tr>\n",
       "    <tr>\n",
       "      <th>11371904</th>\n",
       "      <td>2018-02-18</td>\n",
       "      <td>6271460</td>\n",
       "      <td>2534859</td>\n",
       "      <td>41</td>\n",
       "    </tr>\n",
       "    <tr>\n",
       "      <th>11371925</th>\n",
       "      <td>2018-02-18</td>\n",
       "      <td>6271460</td>\n",
       "      <td>2534859</td>\n",
       "      <td>42</td>\n",
       "    </tr>\n",
       "    <tr>\n",
       "      <th>11373110</th>\n",
       "      <td>2018-02-18</td>\n",
       "      <td>6271460</td>\n",
       "      <td>2534859</td>\n",
       "      <td>43</td>\n",
       "    </tr>\n",
       "    <tr>\n",
       "      <th>11373135</th>\n",
       "      <td>2018-02-18</td>\n",
       "      <td>6271460</td>\n",
       "      <td>2534859</td>\n",
       "      <td>44</td>\n",
       "    </tr>\n",
       "    <tr>\n",
       "      <th>11498139</th>\n",
       "      <td>2018-02-18</td>\n",
       "      <td>6271460</td>\n",
       "      <td>2534859</td>\n",
       "      <td>45</td>\n",
       "    </tr>\n",
       "    <tr>\n",
       "      <th>11374350</th>\n",
       "      <td>2018-02-18</td>\n",
       "      <td>6271460</td>\n",
       "      <td>2534859</td>\n",
       "      <td>46</td>\n",
       "    </tr>\n",
       "    <tr>\n",
       "      <th>11374376</th>\n",
       "      <td>2018-02-18</td>\n",
       "      <td>6271460</td>\n",
       "      <td>2534859</td>\n",
       "      <td>47</td>\n",
       "    </tr>\n",
       "    <tr>\n",
       "      <th>11374399</th>\n",
       "      <td>2018-02-18</td>\n",
       "      <td>6271460</td>\n",
       "      <td>2534859</td>\n",
       "      <td>48</td>\n",
       "    </tr>\n",
       "    <tr>\n",
       "      <th>11375581</th>\n",
       "      <td>2018-02-18</td>\n",
       "      <td>6271460</td>\n",
       "      <td>2534859</td>\n",
       "      <td>49</td>\n",
       "    </tr>\n",
       "    <tr>\n",
       "      <th>11375607</th>\n",
       "      <td>2018-02-18</td>\n",
       "      <td>6271460</td>\n",
       "      <td>2534859</td>\n",
       "      <td>50</td>\n",
       "    </tr>\n",
       "    <tr>\n",
       "      <th>11375632</th>\n",
       "      <td>2018-02-18</td>\n",
       "      <td>6271460</td>\n",
       "      <td>2534859</td>\n",
       "      <td>51</td>\n",
       "    </tr>\n",
       "    <tr>\n",
       "      <th>11375653</th>\n",
       "      <td>2018-02-18</td>\n",
       "      <td>6271460</td>\n",
       "      <td>2534859</td>\n",
       "      <td>52</td>\n",
       "    </tr>\n",
       "    <tr>\n",
       "      <th>11376851</th>\n",
       "      <td>2018-02-18</td>\n",
       "      <td>6271460</td>\n",
       "      <td>2534859</td>\n",
       "      <td>53</td>\n",
       "    </tr>\n",
       "    <tr>\n",
       "      <th>19858209</th>\n",
       "      <td>2018-02-18</td>\n",
       "      <td>6271460</td>\n",
       "      <td>2534859</td>\n",
       "      <td>54</td>\n",
       "    </tr>\n",
       "    <tr>\n",
       "      <th>11376899</th>\n",
       "      <td>2018-02-18</td>\n",
       "      <td>6271460</td>\n",
       "      <td>2534859</td>\n",
       "      <td>55</td>\n",
       "    </tr>\n",
       "  </tbody>\n",
       "</table>\n",
       "</div>"
      ],
      "text/plain": [
       "         DAYOFSERVICE   TRIPID VEHICLEID PROGRNUMBER\n",
       "11376831   2018-02-18  6271460   2534859           1\n",
       "11378032   2018-02-18  6271460   2534859           2\n",
       "11378058   2018-02-18  6271460   2534859           3\n",
       "11378079   2018-02-18  6271460   2534859           4\n",
       "11379281   2018-02-18  6271460   2534859           5\n",
       "11379307   2018-02-18  6271460   2534859           6\n",
       "11379330   2018-02-18  6271460   2534859           7\n",
       "11379351   2018-02-18  6271460   2534859           8\n",
       "19875781   2018-02-18  6271460   2534859           9\n",
       "11497161   2018-02-18  6271460   2534859          10\n",
       "11380590   2018-02-18  6271460   2534859          11\n",
       "19845808   2018-02-18  6271460   2534859          12\n",
       "11381790   2018-02-18  6271460   2534859          13\n",
       "19845813   2018-02-18  6271460   2534859          14\n",
       "11382971   2018-02-18  6271460   2534859          15\n",
       "11382997   2018-02-18  6271460   2534859          16\n",
       "11383021   2018-02-18  6271460   2534859          17\n",
       "11383042   2018-02-18  6271460   2534859          18\n",
       "11364523   2018-02-18  6271460   2534859          19\n",
       "11364549   2018-02-18  6271460   2534859          20\n",
       "11364570   2018-02-18  6271460   2534859          21\n",
       "11365700   2018-02-18  6271460   2534859          22\n",
       "11365726   2018-02-18  6271460   2534859          23\n",
       "11499131   2018-02-18  6271460   2534859          24\n",
       "11499137   2018-02-18  6271460   2534859          25\n",
       "19849511   2018-02-18  6271460   2534859          26\n",
       "11366999   2018-02-18  6271460   2534859          27\n",
       "11367020   2018-02-18  6271460   2534859          28\n",
       "11368213   2018-02-18  6271460   2534859          29\n",
       "11368239   2018-02-18  6271460   2534859          30\n",
       "11504354   2018-02-18  6271460   2534859          31\n",
       "11369438   2018-02-18  6271460   2534859          32\n",
       "11369464   2018-02-18  6271460   2534859          33\n",
       "19860441   2018-02-18  6271460   2534859          34\n",
       "11369509   2018-02-18  6271460   2534859          35\n",
       "11370637   2018-02-18  6271460   2534859          36\n",
       "11370662   2018-02-18  6271460   2534859          37\n",
       "11370683   2018-02-18  6271460   2534859          38\n",
       "11371854   2018-02-18  6271460   2534859          39\n",
       "11371881   2018-02-18  6271460   2534859          40\n",
       "11371904   2018-02-18  6271460   2534859          41\n",
       "11371925   2018-02-18  6271460   2534859          42\n",
       "11373110   2018-02-18  6271460   2534859          43\n",
       "11373135   2018-02-18  6271460   2534859          44\n",
       "11498139   2018-02-18  6271460   2534859          45\n",
       "11374350   2018-02-18  6271460   2534859          46\n",
       "11374376   2018-02-18  6271460   2534859          47\n",
       "11374399   2018-02-18  6271460   2534859          48\n",
       "11375581   2018-02-18  6271460   2534859          49\n",
       "11375607   2018-02-18  6271460   2534859          50\n",
       "11375632   2018-02-18  6271460   2534859          51\n",
       "11375653   2018-02-18  6271460   2534859          52\n",
       "11376851   2018-02-18  6271460   2534859          53\n",
       "19858209   2018-02-18  6271460   2534859          54\n",
       "11376899   2018-02-18  6271460   2534859          55"
      ]
     },
     "execution_count": 112,
     "metadata": {},
     "output_type": "execute_result"
    }
   ],
   "source": [
    "# show select columns for a trip_id known to not re-occur\n",
    "# in the rt_trips dataset\n",
    "\n",
    "df.loc[df.TRIPID == 6271460, ['DAYOFSERVICE', 'TRIPID',\\\n",
    "    'VEHICLEID', 'PROGRNUMBER']].sort_values(by='PROGRNUMBER')"
   ]
  },
  {
   "cell_type": "markdown",
   "metadata": {},
   "source": [
    "### Compare Membership Trip_ids in rt_trips and rt_leavetimes"
   ]
  },
  {
   "cell_type": "code",
   "execution_count": 79,
   "metadata": {},
   "outputs": [],
   "source": [
    "leavetimes_tripids = df.TRIPID.unique().astype('object')"
   ]
  },
  {
   "cell_type": "code",
   "execution_count": 93,
   "metadata": {},
   "outputs": [],
   "source": [
    "leavetimes_tripids = pd.Series(leavetimes_tripids)"
   ]
  },
  {
   "cell_type": "code",
   "execution_count": 96,
   "metadata": {},
   "outputs": [
    {
     "data": {
      "text/plain": [
       "int"
      ]
     },
     "execution_count": 96,
     "metadata": {},
     "output_type": "execute_result"
    }
   ],
   "source": [
    "type(leavetimes_tripids[0])"
   ]
  },
  {
   "cell_type": "code",
   "execution_count": 100,
   "metadata": {},
   "outputs": [
    {
     "data": {
      "text/plain": [
       "101187    6253783\n",
       "dtype: object"
      ]
     },
     "execution_count": 100,
     "metadata": {},
     "output_type": "execute_result"
    }
   ],
   "source": [
    "leavetimes_tripids.loc[~leavetimes_tripids.isin(trips_tripsids)]"
   ]
  },
  {
   "cell_type": "code",
   "execution_count": 101,
   "metadata": {},
   "outputs": [
    {
     "data": {
      "text/plain": [
       "366733    8465360\n",
       "536102    8158657\n",
       "594102    7643159\n",
       "Name: 6253783, dtype: object"
      ]
     },
     "execution_count": 101,
     "metadata": {},
     "output_type": "execute_result"
    }
   ],
   "source": [
    "trips_tripsids.loc[~trips_tripsids.isin(leavetimes_tripids)]"
   ]
  },
  {
   "cell_type": "markdown",
   "metadata": {},
   "source": [
    "### Check Dates Represented in Year"
   ]
  },
  {
   "cell_type": "code",
   "execution_count": 120,
   "metadata": {},
   "outputs": [
    {
     "data": {
      "text/plain": [
       "Timestamp('2018-01-01 00:00:00')"
      ]
     },
     "execution_count": 120,
     "metadata": {},
     "output_type": "execute_result"
    }
   ],
   "source": [
    "# earliest timestamp\n",
    "\n",
    "start_date = df.DAYOFSERVICE.min()\n",
    "start_date"
   ]
  },
  {
   "cell_type": "code",
   "execution_count": 121,
   "metadata": {},
   "outputs": [
    {
     "data": {
      "text/plain": [
       "Timestamp('2018-12-31 00:00:00')"
      ]
     },
     "execution_count": 121,
     "metadata": {},
     "output_type": "execute_result"
    }
   ],
   "source": [
    "# latest timestamp\n",
    "\n",
    "end_date = df.DAYOFSERVICE.max()\n",
    "end_date"
   ]
  },
  {
   "cell_type": "code",
   "execution_count": 122,
   "metadata": {},
   "outputs": [],
   "source": [
    "# define the range of dates\n",
    "\n",
    "year = pd.date_range(start_date, end_date)"
   ]
  },
  {
   "cell_type": "code",
   "execution_count": 123,
   "metadata": {},
   "outputs": [
    {
     "data": {
      "text/plain": [
       "DatetimeIndex(['2018-03-01', '2018-03-02', '2018-12-09', '2018-12-10',\n",
       "               '2018-12-25'],\n",
       "              dtype='datetime64[ns]', freq=None)"
      ]
     },
     "execution_count": 123,
     "metadata": {},
     "output_type": "execute_result"
    }
   ],
   "source": [
    "# check which dates from the dataset do \n",
    "# not appear in the range\n",
    "\n",
    "year.difference(df.DAYOFSERVICE.values)"
   ]
  },
  {
   "cell_type": "markdown",
   "metadata": {},
   "source": [
    "# Export Line145 (trips thereof) for Sample Modelling"
   ]
  },
  {
   "cell_type": "markdown",
   "metadata": {
    "heading_collapsed": true
   },
   "source": [
    "## FIRST ATTEMPT — "
   ]
  },
  {
   "cell_type": "code",
   "execution_count": 124,
   "metadata": {
    "hidden": true
   },
   "outputs": [
    {
     "data": {
      "text/html": [
       "<div>\n",
       "<style scoped>\n",
       "    .dataframe tbody tr th:only-of-type {\n",
       "        vertical-align: middle;\n",
       "    }\n",
       "\n",
       "    .dataframe tbody tr th {\n",
       "        vertical-align: top;\n",
       "    }\n",
       "\n",
       "    .dataframe thead th {\n",
       "        text-align: right;\n",
       "    }\n",
       "</style>\n",
       "<table border=\"1\" class=\"dataframe\">\n",
       "  <thead>\n",
       "    <tr style=\"text-align: right;\">\n",
       "      <th></th>\n",
       "      <th>DAYOFSERVICE</th>\n",
       "      <th>TRIPID</th>\n",
       "      <th>PROGRNUMBER</th>\n",
       "      <th>STOPPOINTID</th>\n",
       "      <th>PLANNEDTIME_ARR</th>\n",
       "      <th>PLANNEDTIME_DEP</th>\n",
       "      <th>ACTUALTIME_ARR</th>\n",
       "      <th>ACTUALTIME_DEP</th>\n",
       "      <th>VEHICLEID</th>\n",
       "    </tr>\n",
       "  </thead>\n",
       "  <tbody>\n",
       "    <tr>\n",
       "      <th>0</th>\n",
       "      <td>2018-01-01</td>\n",
       "      <td>5972116</td>\n",
       "      <td>12</td>\n",
       "      <td>119</td>\n",
       "      <td>48030</td>\n",
       "      <td>48030</td>\n",
       "      <td>48012</td>\n",
       "      <td>48012</td>\n",
       "      <td>2693211</td>\n",
       "    </tr>\n",
       "    <tr>\n",
       "      <th>1</th>\n",
       "      <td>2018-01-01</td>\n",
       "      <td>5966674</td>\n",
       "      <td>12</td>\n",
       "      <td>119</td>\n",
       "      <td>54001</td>\n",
       "      <td>54001</td>\n",
       "      <td>54023</td>\n",
       "      <td>54023</td>\n",
       "      <td>2693267</td>\n",
       "    </tr>\n",
       "    <tr>\n",
       "      <th>2</th>\n",
       "      <td>2018-01-01</td>\n",
       "      <td>5959105</td>\n",
       "      <td>12</td>\n",
       "      <td>119</td>\n",
       "      <td>60001</td>\n",
       "      <td>60001</td>\n",
       "      <td>59955</td>\n",
       "      <td>59955</td>\n",
       "      <td>2693263</td>\n",
       "    </tr>\n",
       "    <tr>\n",
       "      <th>3</th>\n",
       "      <td>2018-01-01</td>\n",
       "      <td>5966888</td>\n",
       "      <td>12</td>\n",
       "      <td>119</td>\n",
       "      <td>58801</td>\n",
       "      <td>58801</td>\n",
       "      <td>58771</td>\n",
       "      <td>58771</td>\n",
       "      <td>2693284</td>\n",
       "    </tr>\n",
       "    <tr>\n",
       "      <th>4</th>\n",
       "      <td>2018-01-01</td>\n",
       "      <td>5965960</td>\n",
       "      <td>12</td>\n",
       "      <td>119</td>\n",
       "      <td>56401</td>\n",
       "      <td>56401</td>\n",
       "      <td>56309</td>\n",
       "      <td>56323</td>\n",
       "      <td>2693209</td>\n",
       "    </tr>\n",
       "  </tbody>\n",
       "</table>\n",
       "</div>"
      ],
      "text/plain": [
       "  DAYOFSERVICE   TRIPID PROGRNUMBER STOPPOINTID  PLANNEDTIME_ARR  \\\n",
       "0   2018-01-01  5972116          12         119            48030   \n",
       "1   2018-01-01  5966674          12         119            54001   \n",
       "2   2018-01-01  5959105          12         119            60001   \n",
       "3   2018-01-01  5966888          12         119            58801   \n",
       "4   2018-01-01  5965960          12         119            56401   \n",
       "\n",
       "   PLANNEDTIME_DEP  ACTUALTIME_ARR  ACTUALTIME_DEP VEHICLEID  \n",
       "0            48030           48012           48012   2693211  \n",
       "1            54001           54023           54023   2693267  \n",
       "2            60001           59955           59955   2693263  \n",
       "3            58801           58771           58771   2693284  \n",
       "4            56401           56309           56323   2693209  "
      ]
     },
     "execution_count": 124,
     "metadata": {},
     "output_type": "execute_result"
    }
   ],
   "source": [
    "df.head()"
   ]
  },
  {
   "cell_type": "code",
   "execution_count": 1,
   "metadata": {
    "hidden": true
   },
   "outputs": [],
   "source": [
    "# with open('/tmp/ssh_mount/L145_trial/df_145_trip_ids.csv', 'r') as f:\n",
    "#   reader = csv.reader(f)\n",
    "#   df_145_trip_ids = list(reader)"
   ]
  },
  {
   "cell_type": "code",
   "execution_count": 2,
   "metadata": {
    "hidden": true
   },
   "outputs": [],
   "source": [
    "# # unstack\n",
    "\n",
    "# # df_145_trip_ids = [item for sublist in df_145_trip_ids for item in sublist]\n",
    "\n",
    "# df_145_trip_ids"
   ]
  },
  {
   "cell_type": "code",
   "execution_count": 3,
   "metadata": {
    "hidden": true
   },
   "outputs": [],
   "source": [
    "# # prep: list to series\n",
    "\n",
    "# df_145_trip_ids = pd.Series(df_145_trip_ids)"
   ]
  },
  {
   "cell_type": "code",
   "execution_count": 4,
   "metadata": {
    "hidden": true
   },
   "outputs": [],
   "source": [
    "# # prep: series to int type\n",
    "\n",
    "# df_145_trip_ids = df_145_trip_ids.astype('int32')"
   ]
  },
  {
   "cell_type": "code",
   "execution_count": 5,
   "metadata": {
    "hidden": true
   },
   "outputs": [],
   "source": [
    "# # prep df column to int32, for comparison\n",
    "\n",
    "# df.TRIPID = df.TRIPID.astype('int32')"
   ]
  },
  {
   "cell_type": "code",
   "execution_count": 6,
   "metadata": {
    "hidden": true
   },
   "outputs": [],
   "source": [
    "# # for each trip id, find all rows, add this partial df to a list\n",
    "# # repeat for each trip id\n",
    "\n",
    "# chunks = []\n",
    "\n",
    "# for i, v in df_145_trip_ids.items():\n",
    "#     chunks.append(df.loc[df.TRIPID == v, :])\n"
   ]
  },
  {
   "cell_type": "code",
   "execution_count": 7,
   "metadata": {
    "hidden": true
   },
   "outputs": [],
   "source": [
    "# df_L145_leavetimes = pd.concat(chunks)"
   ]
  },
  {
   "cell_type": "code",
   "execution_count": 8,
   "metadata": {
    "hidden": true
   },
   "outputs": [],
   "source": [
    "# df_L145_leavetimes.shape"
   ]
  },
  {
   "cell_type": "code",
   "execution_count": 9,
   "metadata": {
    "hidden": true
   },
   "outputs": [],
   "source": [
    "# del chunks"
   ]
  },
  {
   "cell_type": "code",
   "execution_count": 189,
   "metadata": {
    "hidden": true
   },
   "outputs": [],
   "source": [
    "# df_L145_leavetimes.reset_index(drop=True, inplace=True)"
   ]
  },
  {
   "cell_type": "code",
   "execution_count": 190,
   "metadata": {
    "hidden": true
   },
   "outputs": [],
   "source": [
    "# df_L145_leavetimes.to_feather('/tmp/ssh_mount/L145_trial/df_L145_leavetimes.feather')"
   ]
  },
  {
   "cell_type": "markdown",
   "metadata": {},
   "source": [
    "## SECOND ATTEMPT"
   ]
  },
  {
   "cell_type": "code",
   "execution_count": 6,
   "metadata": {},
   "outputs": [
    {
     "data": {
      "text/html": [
       "<div>\n",
       "<style scoped>\n",
       "    .dataframe tbody tr th:only-of-type {\n",
       "        vertical-align: middle;\n",
       "    }\n",
       "\n",
       "    .dataframe tbody tr th {\n",
       "        vertical-align: top;\n",
       "    }\n",
       "\n",
       "    .dataframe thead th {\n",
       "        text-align: right;\n",
       "    }\n",
       "</style>\n",
       "<table border=\"1\" class=\"dataframe\">\n",
       "  <thead>\n",
       "    <tr style=\"text-align: right;\">\n",
       "      <th></th>\n",
       "      <th>DAYOFSERVICE</th>\n",
       "      <th>TRIPID</th>\n",
       "      <th>PROGRNUMBER</th>\n",
       "      <th>STOPPOINTID</th>\n",
       "      <th>PLANNEDTIME_ARR</th>\n",
       "      <th>PLANNEDTIME_DEP</th>\n",
       "      <th>ACTUALTIME_ARR</th>\n",
       "      <th>ACTUALTIME_DEP</th>\n",
       "      <th>VEHICLEID</th>\n",
       "    </tr>\n",
       "  </thead>\n",
       "  <tbody>\n",
       "    <tr>\n",
       "      <th>0</th>\n",
       "      <td>2018-01-01</td>\n",
       "      <td>5972116</td>\n",
       "      <td>12</td>\n",
       "      <td>119</td>\n",
       "      <td>48030</td>\n",
       "      <td>48030</td>\n",
       "      <td>48012</td>\n",
       "      <td>48012</td>\n",
       "      <td>2693211</td>\n",
       "    </tr>\n",
       "    <tr>\n",
       "      <th>1</th>\n",
       "      <td>2018-01-01</td>\n",
       "      <td>5966674</td>\n",
       "      <td>12</td>\n",
       "      <td>119</td>\n",
       "      <td>54001</td>\n",
       "      <td>54001</td>\n",
       "      <td>54023</td>\n",
       "      <td>54023</td>\n",
       "      <td>2693267</td>\n",
       "    </tr>\n",
       "  </tbody>\n",
       "</table>\n",
       "</div>"
      ],
      "text/plain": [
       "  DAYOFSERVICE   TRIPID PROGRNUMBER STOPPOINTID  PLANNEDTIME_ARR  \\\n",
       "0   2018-01-01  5972116          12         119            48030   \n",
       "1   2018-01-01  5966674          12         119            54001   \n",
       "\n",
       "   PLANNEDTIME_DEP  ACTUALTIME_ARR  ACTUALTIME_DEP VEHICLEID  \n",
       "0            48030           48012           48012   2693211  \n",
       "1            54001           54023           54023   2693267  "
      ]
     },
     "execution_count": 6,
     "metadata": {},
     "output_type": "execute_result"
    }
   ],
   "source": [
    "df.head(2)"
   ]
  },
  {
   "cell_type": "code",
   "execution_count": 7,
   "metadata": {},
   "outputs": [
    {
     "data": {
      "text/plain": [
       "CategoricalDtype(categories=[5955221, 5955222, 5955223, 5955224, 5955225, 5955226,\n",
       "                  5955227, 5955228, 5955229, 5955230,\n",
       "                  ...\n",
       "                  8592186, 8592187, 8592188, 8592189, 8592202, 8592203,\n",
       "                  8592204, 8592205, 8592206, 8592207],\n",
       "                 ordered=False)"
      ]
     },
     "execution_count": 7,
     "metadata": {},
     "output_type": "execute_result"
    }
   ],
   "source": [
    "df.TRIPID.dtype"
   ]
  },
  {
   "cell_type": "code",
   "execution_count": 8,
   "metadata": {},
   "outputs": [],
   "source": [
    "df.TRIPID = df.TRIPID.astype('int32')"
   ]
  },
  {
   "cell_type": "code",
   "execution_count": 9,
   "metadata": {},
   "outputs": [],
   "source": [
    "df_145_trip_ids = pd.read_csv('/Users/davidodwyer/Documents/studyCS/Semester_3/data/dataframes/L145/L145_indices.csv',\\\n",
    "                             header=None, squeeze=True, index_col=0)"
   ]
  },
  {
   "cell_type": "code",
   "execution_count": 10,
   "metadata": {},
   "outputs": [
    {
     "data": {
      "text/plain": [
       "0\n",
       "0    6263611\n",
       "1    6267386\n",
       "2    6265005\n",
       "3    6398012\n",
       "5    6388460\n",
       "Name: 1, dtype: int64"
      ]
     },
     "execution_count": 10,
     "metadata": {},
     "output_type": "execute_result"
    }
   ],
   "source": [
    "df_145_trip_ids.head()"
   ]
  },
  {
   "cell_type": "code",
   "execution_count": 11,
   "metadata": {},
   "outputs": [
    {
     "data": {
      "text/plain": [
       "dtype('int64')"
      ]
     },
     "execution_count": 11,
     "metadata": {},
     "output_type": "execute_result"
    }
   ],
   "source": [
    "df_145_trip_ids.dtype"
   ]
  },
  {
   "cell_type": "code",
   "execution_count": 12,
   "metadata": {},
   "outputs": [],
   "source": [
    "df_145_trip_ids = df_145_trip_ids.astype('int32')"
   ]
  },
  {
   "cell_type": "code",
   "execution_count": 13,
   "metadata": {},
   "outputs": [],
   "source": [
    "# make a list of dataframes: each containing\n",
    "# rows from leavetimes corresponding to a \n",
    "# trip id (trip_ids correspond to a given line\n",
    "# number)\n",
    "\n",
    "chunks = []\n",
    "\n",
    "for i, v in df_145_trip_ids.items():\n",
    "    chunks.append(df.loc[df.TRIPID == v, :])"
   ]
  },
  {
   "cell_type": "code",
   "execution_count": 14,
   "metadata": {},
   "outputs": [],
   "source": [
    "# concatentate the dataframes\n",
    "\n",
    "df_L145_leavetimes = pd.concat(chunks)"
   ]
  },
  {
   "cell_type": "code",
   "execution_count": 15,
   "metadata": {},
   "outputs": [
    {
     "data": {
      "text/html": [
       "<div>\n",
       "<style scoped>\n",
       "    .dataframe tbody tr th:only-of-type {\n",
       "        vertical-align: middle;\n",
       "    }\n",
       "\n",
       "    .dataframe tbody tr th {\n",
       "        vertical-align: top;\n",
       "    }\n",
       "\n",
       "    .dataframe thead th {\n",
       "        text-align: right;\n",
       "    }\n",
       "</style>\n",
       "<table border=\"1\" class=\"dataframe\">\n",
       "  <thead>\n",
       "    <tr style=\"text-align: right;\">\n",
       "      <th></th>\n",
       "      <th>DAYOFSERVICE</th>\n",
       "      <th>TRIPID</th>\n",
       "      <th>PROGRNUMBER</th>\n",
       "      <th>STOPPOINTID</th>\n",
       "      <th>PLANNEDTIME_ARR</th>\n",
       "      <th>PLANNEDTIME_DEP</th>\n",
       "      <th>ACTUALTIME_ARR</th>\n",
       "      <th>ACTUALTIME_DEP</th>\n",
       "      <th>VEHICLEID</th>\n",
       "    </tr>\n",
       "  </thead>\n",
       "  <tbody>\n",
       "    <tr>\n",
       "      <th>11345366</th>\n",
       "      <td>2018-02-18</td>\n",
       "      <td>6263611</td>\n",
       "      <td>31</td>\n",
       "      <td>2013</td>\n",
       "      <td>55128</td>\n",
       "      <td>55128</td>\n",
       "      <td>55231</td>\n",
       "      <td>55240</td>\n",
       "      <td>2868334</td>\n",
       "    </tr>\n",
       "    <tr>\n",
       "      <th>11345424</th>\n",
       "      <td>2018-02-18</td>\n",
       "      <td>6263611</td>\n",
       "      <td>66</td>\n",
       "      <td>2964</td>\n",
       "      <td>57113</td>\n",
       "      <td>57113</td>\n",
       "      <td>57459</td>\n",
       "      <td>57483</td>\n",
       "      <td>2868334</td>\n",
       "    </tr>\n",
       "    <tr>\n",
       "      <th>11345457</th>\n",
       "      <td>2018-02-18</td>\n",
       "      <td>6263611</td>\n",
       "      <td>67</td>\n",
       "      <td>4175</td>\n",
       "      <td>57174</td>\n",
       "      <td>57174</td>\n",
       "      <td>57611</td>\n",
       "      <td>57635</td>\n",
       "      <td>2868334</td>\n",
       "    </tr>\n",
       "    <tr>\n",
       "      <th>11346539</th>\n",
       "      <td>2018-02-18</td>\n",
       "      <td>6263611</td>\n",
       "      <td>32</td>\n",
       "      <td>2014</td>\n",
       "      <td>55200</td>\n",
       "      <td>55200</td>\n",
       "      <td>55277</td>\n",
       "      <td>55286</td>\n",
       "      <td>2868334</td>\n",
       "    </tr>\n",
       "    <tr>\n",
       "      <th>11346576</th>\n",
       "      <td>2018-02-18</td>\n",
       "      <td>6263611</td>\n",
       "      <td>33</td>\n",
       "      <td>4636</td>\n",
       "      <td>55238</td>\n",
       "      <td>55238</td>\n",
       "      <td>55315</td>\n",
       "      <td>55328</td>\n",
       "      <td>2868334</td>\n",
       "    </tr>\n",
       "  </tbody>\n",
       "</table>\n",
       "</div>"
      ],
      "text/plain": [
       "         DAYOFSERVICE   TRIPID PROGRNUMBER STOPPOINTID  PLANNEDTIME_ARR  \\\n",
       "11345366   2018-02-18  6263611          31        2013            55128   \n",
       "11345424   2018-02-18  6263611          66        2964            57113   \n",
       "11345457   2018-02-18  6263611          67        4175            57174   \n",
       "11346539   2018-02-18  6263611          32        2014            55200   \n",
       "11346576   2018-02-18  6263611          33        4636            55238   \n",
       "\n",
       "          PLANNEDTIME_DEP  ACTUALTIME_ARR  ACTUALTIME_DEP VEHICLEID  \n",
       "11345366            55128           55231           55240   2868334  \n",
       "11345424            57113           57459           57483   2868334  \n",
       "11345457            57174           57611           57635   2868334  \n",
       "11346539            55200           55277           55286   2868334  \n",
       "11346576            55238           55315           55328   2868334  "
      ]
     },
     "execution_count": 15,
     "metadata": {},
     "output_type": "execute_result"
    }
   ],
   "source": [
    "df_L145_leavetimes.head()"
   ]
  },
  {
   "cell_type": "code",
   "execution_count": 16,
   "metadata": {},
   "outputs": [],
   "source": [
    "df_L145_leavetimes.reset_index(drop=True, inplace=True)"
   ]
  },
  {
   "cell_type": "code",
   "execution_count": 17,
   "metadata": {},
   "outputs": [],
   "source": [
    "df_L145_leavetimes.to_feather('/tmp/ssh_mount/data/dataframes/L145/df_L145_leavetimes.feather')"
   ]
  },
  {
   "cell_type": "code",
   "execution_count": 38,
   "metadata": {},
   "outputs": [
    {
     "name": "stdout",
     "output_type": "stream",
     "text": [
      "<class 'pandas.core.frame.DataFrame'>\n",
      "RangeIndex: 4027897 entries, 0 to 4027896\n",
      "Data columns (total 9 columns):\n",
      "DAYOFSERVICE       datetime64[ns]\n",
      "TRIPID             int32\n",
      "PROGRNUMBER        category\n",
      "STOPPOINTID        category\n",
      "PLANNEDTIME_ARR    int32\n",
      "PLANNEDTIME_DEP    int32\n",
      "ACTUALTIME_ARR     int32\n",
      "ACTUALTIME_DEP     int32\n",
      "VEHICLEID          category\n",
      "dtypes: category(3), datetime64[ns](1), int32(5)\n",
      "memory usage: 127.0 MB\n",
      "None\n",
      "\n",
      "\n",
      "Index                    80\n",
      "DAYOFSERVICE       32223176\n",
      "TRIPID             16111588\n",
      "PROGRNUMBER         4033889\n",
      "STOPPOINTID         8257826\n",
      "PLANNEDTIME_ARR    16111588\n",
      "PLANNEDTIME_DEP    16111588\n",
      "ACTUALTIME_ARR     16111588\n",
      "ACTUALTIME_DEP     16111588\n",
      "VEHICLEID           8105962\n",
      "dtype: int64\n",
      "\n",
      "\n"
     ]
    }
   ],
   "source": [
    "print(df_L145_leavetimes.info(memory_usage='deep'))\n",
    "print('\\n')\n",
    "print(df_L145_leavetimes.memory_usage(deep=True))\n",
    "print('\\n')"
   ]
  },
  {
   "cell_type": "code",
   "execution_count": null,
   "metadata": {},
   "outputs": [],
   "source": []
  }
 ],
 "metadata": {
  "kernelspec": {
   "display_name": "analytics",
   "language": "python",
   "name": "analytics"
  },
  "language_info": {
   "codemirror_mode": {
    "name": "ipython",
    "version": 3
   },
   "file_extension": ".py",
   "mimetype": "text/x-python",
   "name": "python",
   "nbconvert_exporter": "python",
   "pygments_lexer": "ipython3",
   "version": "3.7.3"
  },
  "toc": {
   "base_numbering": 1,
   "nav_menu": {},
   "number_sections": true,
   "sideBar": true,
   "skip_h1_title": false,
   "title_cell": "Table of Contents",
   "title_sidebar": "Contents",
   "toc_cell": true,
   "toc_position": {},
   "toc_section_display": true,
   "toc_window_display": false
  },
  "varInspector": {
   "cols": {
    "lenName": 16,
    "lenType": 16,
    "lenVar": 40
   },
   "kernels_config": {
    "python": {
     "delete_cmd_postfix": "",
     "delete_cmd_prefix": "del ",
     "library": "var_list.py",
     "varRefreshCmd": "print(var_dic_list())"
    },
    "r": {
     "delete_cmd_postfix": ") ",
     "delete_cmd_prefix": "rm(",
     "library": "var_list.r",
     "varRefreshCmd": "cat(var_dic_list()) "
    }
   },
   "types_to_exclude": [
    "module",
    "function",
    "builtin_function_or_method",
    "instance",
    "_Feature"
   ],
   "window_display": false
  }
 },
 "nbformat": 4,
 "nbformat_minor": 2
}
