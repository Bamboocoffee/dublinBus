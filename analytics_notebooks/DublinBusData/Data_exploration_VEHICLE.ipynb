{
 "cells": [
  {
   "cell_type": "markdown",
   "metadata": {
    "toc": true
   },
   "source": [
    "<h1>Table of Contents<span class=\"tocSkip\"></span></h1>\n",
    "<div class=\"toc\"><ul class=\"toc-item\"><li><span><a href=\"#Imports\" data-toc-modified-id=\"Imports-1\"><span class=\"toc-item-num\">1&nbsp;&nbsp;</span>Imports</a></span></li><li><span><a href=\"#Initial-Data-Assessment-&amp;-Configuration\" data-toc-modified-id=\"Initial-Data-Assessment-&amp;-Configuration-2\"><span class=\"toc-item-num\">2&nbsp;&nbsp;</span>Initial Data Assessment &amp; Configuration</a></span><ul class=\"toc-item\"><li><span><a href=\"#Configure-Datatypes\" data-toc-modified-id=\"Configure-Datatypes-2.1\"><span class=\"toc-item-num\">2.1&nbsp;&nbsp;</span>Configure Datatypes</a></span></li><li><span><a href=\"#Drop-Constant-Columns\" data-toc-modified-id=\"Drop-Constant-Columns-2.2\"><span class=\"toc-item-num\">2.2&nbsp;&nbsp;</span>Drop Constant Columns</a></span></li><li><span><a href=\"#Drop-Unneeded-Columns\" data-toc-modified-id=\"Drop-Unneeded-Columns-2.3\"><span class=\"toc-item-num\">2.3&nbsp;&nbsp;</span>Drop Unneeded Columns</a></span></li></ul></li><li><span><a href=\"#Data-Insights\" data-toc-modified-id=\"Data-Insights-3\"><span class=\"toc-item-num\">3&nbsp;&nbsp;</span>Data Insights</a></span><ul class=\"toc-item\"><li><span><a href=\"#Is-the-unique-count-of-VEHICLEID-correct?-Dublin-Bus-states-publically-that-they-operate-a-fleet-of-1,016-buses\" data-toc-modified-id=\"Is-the-unique-count-of-VEHICLEID-correct?-Dublin-Bus-states-publically-that-they-operate-a-fleet-of-1,016-buses-3.1\"><span class=\"toc-item-num\">3.1&nbsp;&nbsp;</span>Is the unique count of VEHICLEID correct? Dublin Bus states publically that they operate a fleet of 1,016 buses</a></span></li></ul></li><li><span><a href=\"#Visualise-Inspect-of-Continuous-Features\" data-toc-modified-id=\"Visualise-Inspect-of-Continuous-Features-4\"><span class=\"toc-item-num\">4&nbsp;&nbsp;</span>Visualise Inspect of Continuous Features</a></span><ul class=\"toc-item\"><li><span><a href=\"#MINUTES\" data-toc-modified-id=\"MINUTES-4.1\"><span class=\"toc-item-num\">4.1&nbsp;&nbsp;</span>MINUTES</a></span><ul class=\"toc-item\"><li><span><a href=\"#There-is-an-unusual-minimum-minutes-value:-negative\" data-toc-modified-id=\"There-is-an-unusual-minimum-minutes-value:-negative-4.1.1\"><span class=\"toc-item-num\">4.1.1&nbsp;&nbsp;</span>There is an unusual minimum minutes value: negative</a></span></li><li><span><a href=\"#Inspect-Upper-Bound-Outlier-region\" data-toc-modified-id=\"Inspect-Upper-Bound-Outlier-region-4.1.2\"><span class=\"toc-item-num\">4.1.2&nbsp;&nbsp;</span>Inspect Upper Bound Outlier region</a></span></li><li><span><a href=\"#Inspect-Lower-Bound-Outlier-Region\" data-toc-modified-id=\"Inspect-Lower-Bound-Outlier-Region-4.1.3\"><span class=\"toc-item-num\">4.1.3&nbsp;&nbsp;</span>Inspect Lower-Bound Outlier Region</a></span></li></ul></li><li><span><a href=\"#DISTANCE\" data-toc-modified-id=\"DISTANCE-4.2\"><span class=\"toc-item-num\">4.2&nbsp;&nbsp;</span>DISTANCE</a></span></li></ul></li><li><span><a href=\"#TRANSFORMATIONS\" data-toc-modified-id=\"TRANSFORMATIONS-5\"><span class=\"toc-item-num\">5&nbsp;&nbsp;</span>TRANSFORMATIONS</a></span></li><li><span><a href=\"#OUTPUTTING-DF-STATE\" data-toc-modified-id=\"OUTPUTTING-DF-STATE-6\"><span class=\"toc-item-num\">6&nbsp;&nbsp;</span>OUTPUTTING DF STATE</a></span></li></ul></div>"
   ]
  },
  {
   "cell_type": "markdown",
   "metadata": {},
   "source": [
    "# Imports"
   ]
  },
  {
   "cell_type": "code",
   "execution_count": 1,
   "metadata": {},
   "outputs": [
    {
     "data": {
      "text/html": [
       "<style>.container {width:80% !important;}</style>"
      ],
      "text/plain": [
       "<IPython.core.display.HTML object>"
      ]
     },
     "metadata": {},
     "output_type": "display_data"
    }
   ],
   "source": [
    "# set the display aspect ratio\n",
    "\n",
    "from IPython.core.display import display, HTML\n",
    "display(HTML('<style>.container {width:80% !important;}</style>'))"
   ]
  },
  {
   "cell_type": "code",
   "execution_count": 50,
   "metadata": {},
   "outputs": [],
   "source": [
    "# import packages\n",
    "\n",
    "import pandas as pd\n",
    "import numpy as np\n",
    "import matplotlib.pyplot as plt\n",
    "import pandas_profiling as papr"
   ]
  },
  {
   "cell_type": "code",
   "execution_count": 3,
   "metadata": {},
   "outputs": [],
   "source": [
    "# Display plots in the notebook\n",
    "\n",
    "%matplotlib inline"
   ]
  },
  {
   "cell_type": "code",
   "execution_count": 4,
   "metadata": {},
   "outputs": [],
   "source": [
    "# load custom function for assessing dataframes succinctly\n",
    "\n",
    "def assess_df(df):\n",
    "  \n",
    "    feature_types = {df[df.columns[x]].dtypes.name for x in range(len(df.columns))}\n",
    "    \n",
    "  \t# print datatypes\n",
    "  \n",
    "    print(\"Datatypes:\\n\")\n",
    "    print(df.dtypes)\n",
    "    print('\\n\\n')\n",
    "    \n",
    "    # print number rows and cols\n",
    "    print('*' * 50)\n",
    "    print('ROWS, COLUMNS, NULLS\\n')\n",
    "    print(df.shape[0], \"rows in the dataframe.\")\n",
    "    print(df.shape[1], \"columns in the dataframe.\\n\")\n",
    "    print(df.isnull().sum().sum(), \"null values in the dataframe.\")\n",
    "    \n",
    "    # check duplicate rows & col; print if present\n",
    "    \n",
    "    duplicate_rows = df.duplicated(keep=False).sum()\n",
    "    duplicate_cols = df.index.T.duplicated(keep=False).sum()\n",
    "    \n",
    "    print(duplicate_rows, \"duplicate rows\")\n",
    "    print(duplicate_cols, \"duplicate columns\")\n",
    "    \n",
    "    if duplicate_rows > 0 or duplicate_cols > 0:\n",
    "      print(df.loc[df.duplicated()])\n",
    "\t\n",
    "    print('\\n')\n",
    "    \n",
    "    # check for constant columns\n",
    "    \n",
    "    numeric_cols = list(df.select_dtypes(include=[np.number]).columns.values)\n",
    "    categorical_cols = list(df.select_dtypes('category').columns.values)\n",
    "    \n",
    "    standard_diffs = [df.describe().loc['std', x] for x in numeric_cols]\n",
    "    \n",
    "    constant_categorical_column=False\n",
    "    if 'category' in feature_types:\n",
    "        for column in categorical_cols:\n",
    "            if df[column].describe().index.unique == 1:\n",
    "                constant_categorical_column = True\n",
    "            \n",
    "            \n",
    "    if 0 in standard_diffs:\n",
    "        print(\"Constant numeric columns: TRUE\")\n",
    "    else:\n",
    "        print(\"Constant numeric columns: FALSE\")\n",
    "  \n",
    "    if 'category' in feature_types:    \n",
    "        if constant_categorical_column == True:\n",
    "            print(\"Constant categorical columns: TRUE\")\n",
    "        else:\n",
    "            print(\"Constant categorical columns: FALSE\")\n",
    "\n",
    "            \n",
    "    \n",
    "    print('\\n\\n')\n",
    "\n",
    "    \n",
    "    # feature stats\n",
    "    print('*' * 50)\n",
    "    print('DESCRIPTION\\n')\n",
    "    print(df.describe().T)\n",
    "    print('\\n\\n')\n",
    "    print('*' * 50)\n",
    "\n",
    "    \n",
    "    # feature stats: categorical\n",
    "    \n",
    "    if 'category' in feature_types:\n",
    "        print('CATEGORICAL DESCRIPTION\\n')\n",
    "        print('\\n')\n",
    "        print(df.select_dtypes(['category']).describe().T)\n",
    "        print('\\n\\n')\n",
    "        print('*' * 50)\n",
    "    \n",
    "    # print feature cardinalities\n",
    "    \n",
    "    print(\"FEATURE CARDINALITIES\\n\")\n",
    "    column_names = list(df.columns.values)\n",
    "\n",
    "    print('{0:45}  {1}'.format(\"Feature\", \"Distinct Values\"))\n",
    "    print('{0:45}  {1}'.format(\"-------\", \"--------------- \\n\"))\n",
    "\n",
    "    for c in column_names:\n",
    "        print('{0:45}  {1}'.format(c, str(len(df[c].unique()))))\n",
    "    \n",
    "    print('\\n')\n",
    "    print('*' * 50)\n",
    "    print('MEMORY\\n')\n",
    "    \n",
    "    \n",
    "    print(df.info(memory_usage='deep'))\n",
    "    print('\\n')\n",
    "    print(df.memory_usage(deep=True))\n",
    "    print('\\n')\n",
    "    print('*' * 50)\n",
    "    print('HEAD\\n')\n",
    "    print(df.head(10))\n",
    "    print('\\n')\n",
    "    print('*' * 50)\n",
    "    print('TAIL\\n')\n",
    "    print(df.tail(10))"
   ]
  },
  {
   "cell_type": "markdown",
   "metadata": {},
   "source": [
    "# Initial Data Assessment & Configuration"
   ]
  },
  {
   "cell_type": "code",
   "execution_count": 19,
   "metadata": {},
   "outputs": [],
   "source": [
    "# # load the original .txt file\n",
    "\n",
    "# path = \\\n",
    "# '/home/student/data/original_raw_data_bus_total/rt_vehicles_DB_2018.txt'\n",
    "# vehicles = pd.read_csv(path, sep=';')"
   ]
  },
  {
   "cell_type": "code",
   "execution_count": 5,
   "metadata": {},
   "outputs": [],
   "source": [
    "path = '/tmp/ssh_mount/rt_vehicles_DB_2018.txt'\n",
    "\n",
    "vehicles = pd.read_csv(path, sep=';')"
   ]
  },
  {
   "cell_type": "code",
   "execution_count": 6,
   "metadata": {},
   "outputs": [
    {
     "name": "stdout",
     "output_type": "stream",
     "text": [
      "Datatypes:\n",
      "\n",
      "DATASOURCE       object\n",
      "DAYOFSERVICE     object\n",
      "VEHICLEID         int64\n",
      "DISTANCE          int64\n",
      "MINUTES           int64\n",
      "LASTUPDATE       object\n",
      "NOTE            float64\n",
      "dtype: object\n",
      "\n",
      "\n",
      "\n",
      "**************************************************\n",
      "ROWS, COLUMNS, NULLS\n",
      "\n",
      "272622 rows in the dataframe.\n",
      "7 columns in the dataframe.\n",
      "\n",
      "272622 null values in the dataframe.\n",
      "0 duplicate rows\n",
      "0 duplicate columns\n",
      "\n",
      "\n",
      "Constant numeric columns: FALSE\n",
      "\n",
      "\n",
      "\n",
      "**************************************************\n",
      "DESCRIPTION\n",
      "\n",
      "              count          mean            std        min        25%  \\\n",
      "VEHICLEID  272622.0  1.928436e+06  810440.716935  1000110.0  1000948.0   \n",
      "DISTANCE   272622.0  1.774863e+05   71334.432383        0.0   126765.0   \n",
      "MINUTES    272622.0  4.559764e+04   14881.389868   -70145.0    39380.0   \n",
      "NOTE            0.0           NaN            NaN        NaN        NaN   \n",
      "\n",
      "                 50%         75%        max  \n",
      "VEHICLEID  2172252.0  2693217.00  3394131.0  \n",
      "DISTANCE    177420.0   227126.25   473864.0  \n",
      "MINUTES      46994.5    57911.00    76651.0  \n",
      "NOTE             NaN         NaN        NaN  \n",
      "\n",
      "\n",
      "\n",
      "**************************************************\n",
      "FEATURE CARDINALITIES\n",
      "\n",
      "Feature                                        Distinct Values\n",
      "-------                                        --------------- \n",
      "\n",
      "DATASOURCE                                     1\n",
      "DAYOFSERVICE                                   360\n",
      "VEHICLEID                                      1152\n",
      "DISTANCE                                       170498\n",
      "MINUTES                                        57523\n",
      "LASTUPDATE                                     360\n",
      "NOTE                                           1\n",
      "\n",
      "\n",
      "**************************************************\n",
      "MEMORY\n",
      "\n",
      "<class 'pandas.core.frame.DataFrame'>\n",
      "RangeIndex: 272622 entries, 0 to 272621\n",
      "Data columns (total 7 columns):\n",
      "DATASOURCE      272622 non-null object\n",
      "DAYOFSERVICE    272622 non-null object\n",
      "VEHICLEID       272622 non-null int64\n",
      "DISTANCE        272622 non-null int64\n",
      "MINUTES         272622 non-null int64\n",
      "LASTUPDATE      272622 non-null object\n",
      "NOTE            0 non-null float64\n",
      "dtypes: float64(1), int64(3), object(3)\n",
      "memory usage: 62.7 MB\n",
      "None\n",
      "\n",
      "\n",
      "Index                 80\n",
      "DATASOURCE      16084698\n",
      "DAYOFSERVICE    20446650\n",
      "VEHICLEID        2180976\n",
      "DISTANCE         2180976\n",
      "MINUTES          2180976\n",
      "LASTUPDATE      20446650\n",
      "NOTE             2180976\n",
      "dtype: int64\n",
      "\n",
      "\n",
      "**************************************************\n",
      "HEAD\n",
      "\n",
      "  DATASOURCE        DAYOFSERVICE  VEHICLEID  DISTANCE  MINUTES  \\\n",
      "0         DB  23-NOV-18 00:00:00    3303848    286166    58849   \n",
      "1         DB  23-NOV-18 00:00:00    3303847    259545    56828   \n",
      "2         DB  28-FEB-18 00:00:00    2868329    103096    40967   \n",
      "3         DB  28-FEB-18 00:00:00    2868330    147277    43599   \n",
      "4         DB  28-FEB-18 00:00:00    2868331    224682    40447   \n",
      "5         DB  28-FEB-18 00:00:00    2868332     19499     6289   \n",
      "6         DB  28-FEB-18 00:00:00    2868333    133014    43647   \n",
      "7         DB  28-FEB-18 00:00:00    2868334    168964    47167   \n",
      "8         DB  28-FEB-18 00:00:00    2868335    360842    55477   \n",
      "9         DB  28-FEB-18 00:00:00    2868336    139959    39599   \n",
      "\n",
      "           LASTUPDATE  NOTE  \n",
      "0  04-DEC-18 08:03:09   NaN  \n",
      "1  04-DEC-18 08:03:09   NaN  \n",
      "2  08-MAR-18 10:35:59   NaN  \n",
      "3  08-MAR-18 10:35:59   NaN  \n",
      "4  08-MAR-18 10:35:59   NaN  \n",
      "5  08-MAR-18 10:35:59   NaN  \n",
      "6  08-MAR-18 10:35:59   NaN  \n",
      "7  08-MAR-18 10:35:59   NaN  \n",
      "8  08-MAR-18 10:35:59   NaN  \n",
      "9  08-MAR-18 10:35:59   NaN  \n",
      "\n",
      "\n",
      "**************************************************\n",
      "TAIL\n",
      "\n",
      "       DATASOURCE        DAYOFSERVICE  VEHICLEID  DISTANCE  MINUTES  \\\n",
      "272612         DB  29-DEC-18 00:00:00    3393871     18770      596   \n",
      "272613         DB  29-DEC-18 00:00:00    3393873     85857    16884   \n",
      "272614         DB  29-DEC-18 00:00:00    3393874    154631    43992   \n",
      "272615         DB  29-DEC-18 00:00:00    3393875    210361    49470   \n",
      "272616         DB  29-DEC-18 00:00:00    3393877    234756    60558   \n",
      "272617         DB  29-DEC-18 00:00:00    3393878    264237    62320   \n",
      "272618         DB  29-DEC-18 00:00:00    3394105    250335    52254   \n",
      "272619         DB  29-DEC-18 00:00:00    3394109    172539    44349   \n",
      "272620         DB  29-DEC-18 00:00:00    3394130    188057    38948   \n",
      "272621         DB  29-DEC-18 00:00:00    3394131    291697    63677   \n",
      "\n",
      "                LASTUPDATE  NOTE  \n",
      "272612  16-JAN-19 18:00:42   NaN  \n",
      "272613  16-JAN-19 18:00:42   NaN  \n",
      "272614  16-JAN-19 18:00:42   NaN  \n",
      "272615  16-JAN-19 18:00:42   NaN  \n",
      "272616  16-JAN-19 18:00:42   NaN  \n",
      "272617  16-JAN-19 18:00:42   NaN  \n",
      "272618  16-JAN-19 18:00:42   NaN  \n",
      "272619  16-JAN-19 18:00:42   NaN  \n",
      "272620  16-JAN-19 18:00:42   NaN  \n",
      "272621  16-JAN-19 18:00:42   NaN  \n"
     ]
    }
   ],
   "source": [
    "# assess the dataframe\n",
    "\n",
    "assess_df(vehicles)"
   ]
  },
  {
   "cell_type": "markdown",
   "metadata": {},
   "source": [
    "## Configure Datatypes"
   ]
  },
  {
   "cell_type": "code",
   "execution_count": 7,
   "metadata": {},
   "outputs": [],
   "source": [
    "# change DAYOFSERVICE to datetime\n",
    "\n",
    "vehicles.loc[:, 'DAYOFSERVICE'] = vehicles.loc[:, 'DAYOFSERVICE'].apply(lambda x: pd.to_datetime(x, format='%d-%b-%y %H:%M:%S'))"
   ]
  },
  {
   "cell_type": "code",
   "execution_count": 8,
   "metadata": {},
   "outputs": [],
   "source": [
    "# change LASTUPDATE to datetime\n",
    "\n",
    "vehicles.loc[:, 'LASTUPDATE'] = vehicles.loc[:, 'LASTUPDATE'].apply(lambda x: pd.to_datetime(x, format='%d-%b-%y %H:%M:%S'))"
   ]
  },
  {
   "cell_type": "code",
   "execution_count": 9,
   "metadata": {},
   "outputs": [],
   "source": [
    "# Change low cardinality – categorical meaning – features to category type\n",
    "# any cardinality representing under 50% of the size of the dataframe is a candidate for\n",
    "# conversion to the categorical datatype.\n",
    "\n",
    "vehicles = vehicles.astype({'DATASOURCE':'category', 'VEHICLEID':'category'})"
   ]
  },
  {
   "cell_type": "markdown",
   "metadata": {},
   "source": [
    "## Drop Constant Columns"
   ]
  },
  {
   "cell_type": "code",
   "execution_count": 10,
   "metadata": {},
   "outputs": [],
   "source": [
    "vehicles.drop('NOTE', axis=1, inplace=True)"
   ]
  },
  {
   "cell_type": "code",
   "execution_count": 11,
   "metadata": {},
   "outputs": [],
   "source": [
    "vehicles.drop('DATASOURCE', axis=1, inplace=True)"
   ]
  },
  {
   "cell_type": "markdown",
   "metadata": {},
   "source": [
    "## Drop Unneeded Columns"
   ]
  },
  {
   "cell_type": "code",
   "execution_count": 12,
   "metadata": {},
   "outputs": [
    {
     "data": {
      "text/html": [
       "<div>\n",
       "<style scoped>\n",
       "    .dataframe tbody tr th:only-of-type {\n",
       "        vertical-align: middle;\n",
       "    }\n",
       "\n",
       "    .dataframe tbody tr th {\n",
       "        vertical-align: top;\n",
       "    }\n",
       "\n",
       "    .dataframe thead th {\n",
       "        text-align: right;\n",
       "    }\n",
       "</style>\n",
       "<table border=\"1\" class=\"dataframe\">\n",
       "  <thead>\n",
       "    <tr style=\"text-align: right;\">\n",
       "      <th></th>\n",
       "      <th>DAYOFSERVICE</th>\n",
       "      <th>VEHICLEID</th>\n",
       "      <th>DISTANCE</th>\n",
       "      <th>MINUTES</th>\n",
       "      <th>LASTUPDATE</th>\n",
       "    </tr>\n",
       "  </thead>\n",
       "  <tbody>\n",
       "    <tr>\n",
       "      <th>0</th>\n",
       "      <td>2018-11-23</td>\n",
       "      <td>3303848</td>\n",
       "      <td>286166</td>\n",
       "      <td>58849</td>\n",
       "      <td>2018-12-04 08:03:09</td>\n",
       "    </tr>\n",
       "    <tr>\n",
       "      <th>1</th>\n",
       "      <td>2018-11-23</td>\n",
       "      <td>3303847</td>\n",
       "      <td>259545</td>\n",
       "      <td>56828</td>\n",
       "      <td>2018-12-04 08:03:09</td>\n",
       "    </tr>\n",
       "    <tr>\n",
       "      <th>2</th>\n",
       "      <td>2018-02-28</td>\n",
       "      <td>2868329</td>\n",
       "      <td>103096</td>\n",
       "      <td>40967</td>\n",
       "      <td>2018-03-08 10:35:59</td>\n",
       "    </tr>\n",
       "    <tr>\n",
       "      <th>3</th>\n",
       "      <td>2018-02-28</td>\n",
       "      <td>2868330</td>\n",
       "      <td>147277</td>\n",
       "      <td>43599</td>\n",
       "      <td>2018-03-08 10:35:59</td>\n",
       "    </tr>\n",
       "    <tr>\n",
       "      <th>4</th>\n",
       "      <td>2018-02-28</td>\n",
       "      <td>2868331</td>\n",
       "      <td>224682</td>\n",
       "      <td>40447</td>\n",
       "      <td>2018-03-08 10:35:59</td>\n",
       "    </tr>\n",
       "    <tr>\n",
       "      <th>5</th>\n",
       "      <td>2018-02-28</td>\n",
       "      <td>2868332</td>\n",
       "      <td>19499</td>\n",
       "      <td>6289</td>\n",
       "      <td>2018-03-08 10:35:59</td>\n",
       "    </tr>\n",
       "    <tr>\n",
       "      <th>6</th>\n",
       "      <td>2018-02-28</td>\n",
       "      <td>2868333</td>\n",
       "      <td>133014</td>\n",
       "      <td>43647</td>\n",
       "      <td>2018-03-08 10:35:59</td>\n",
       "    </tr>\n",
       "    <tr>\n",
       "      <th>7</th>\n",
       "      <td>2018-02-28</td>\n",
       "      <td>2868334</td>\n",
       "      <td>168964</td>\n",
       "      <td>47167</td>\n",
       "      <td>2018-03-08 10:35:59</td>\n",
       "    </tr>\n",
       "    <tr>\n",
       "      <th>8</th>\n",
       "      <td>2018-02-28</td>\n",
       "      <td>2868335</td>\n",
       "      <td>360842</td>\n",
       "      <td>55477</td>\n",
       "      <td>2018-03-08 10:35:59</td>\n",
       "    </tr>\n",
       "    <tr>\n",
       "      <th>9</th>\n",
       "      <td>2018-02-28</td>\n",
       "      <td>2868336</td>\n",
       "      <td>139959</td>\n",
       "      <td>39599</td>\n",
       "      <td>2018-03-08 10:35:59</td>\n",
       "    </tr>\n",
       "    <tr>\n",
       "      <th>10</th>\n",
       "      <td>2018-02-28</td>\n",
       "      <td>2868337</td>\n",
       "      <td>131071</td>\n",
       "      <td>38785</td>\n",
       "      <td>2018-03-08 10:35:59</td>\n",
       "    </tr>\n",
       "    <tr>\n",
       "      <th>11</th>\n",
       "      <td>2018-02-28</td>\n",
       "      <td>2868338</td>\n",
       "      <td>249542</td>\n",
       "      <td>45036</td>\n",
       "      <td>2018-03-08 10:35:59</td>\n",
       "    </tr>\n",
       "    <tr>\n",
       "      <th>12</th>\n",
       "      <td>2018-02-28</td>\n",
       "      <td>2868339</td>\n",
       "      <td>202134</td>\n",
       "      <td>47154</td>\n",
       "      <td>2018-03-08 10:35:59</td>\n",
       "    </tr>\n",
       "    <tr>\n",
       "      <th>13</th>\n",
       "      <td>2018-02-28</td>\n",
       "      <td>2868340</td>\n",
       "      <td>127213</td>\n",
       "      <td>40033</td>\n",
       "      <td>2018-03-08 10:35:59</td>\n",
       "    </tr>\n",
       "    <tr>\n",
       "      <th>14</th>\n",
       "      <td>2018-02-28</td>\n",
       "      <td>2868341</td>\n",
       "      <td>123956</td>\n",
       "      <td>41386</td>\n",
       "      <td>2018-03-08 10:35:59</td>\n",
       "    </tr>\n",
       "    <tr>\n",
       "      <th>15</th>\n",
       "      <td>2018-02-28</td>\n",
       "      <td>2868342</td>\n",
       "      <td>280353</td>\n",
       "      <td>44036</td>\n",
       "      <td>2018-03-08 10:35:59</td>\n",
       "    </tr>\n",
       "    <tr>\n",
       "      <th>16</th>\n",
       "      <td>2018-02-28</td>\n",
       "      <td>2868343</td>\n",
       "      <td>136115</td>\n",
       "      <td>47505</td>\n",
       "      <td>2018-03-08 10:35:59</td>\n",
       "    </tr>\n",
       "    <tr>\n",
       "      <th>17</th>\n",
       "      <td>2018-02-28</td>\n",
       "      <td>2868344</td>\n",
       "      <td>86740</td>\n",
       "      <td>18236</td>\n",
       "      <td>2018-03-08 10:35:59</td>\n",
       "    </tr>\n",
       "    <tr>\n",
       "      <th>18</th>\n",
       "      <td>2018-02-28</td>\n",
       "      <td>2868345</td>\n",
       "      <td>162987</td>\n",
       "      <td>45516</td>\n",
       "      <td>2018-03-08 10:35:59</td>\n",
       "    </tr>\n",
       "    <tr>\n",
       "      <th>19</th>\n",
       "      <td>2018-02-28</td>\n",
       "      <td>2868346</td>\n",
       "      <td>8402</td>\n",
       "      <td>6321</td>\n",
       "      <td>2018-03-08 10:35:59</td>\n",
       "    </tr>\n",
       "    <tr>\n",
       "      <th>20</th>\n",
       "      <td>2018-02-28</td>\n",
       "      <td>2868347</td>\n",
       "      <td>183751</td>\n",
       "      <td>45998</td>\n",
       "      <td>2018-03-08 10:35:59</td>\n",
       "    </tr>\n",
       "    <tr>\n",
       "      <th>21</th>\n",
       "      <td>2018-02-28</td>\n",
       "      <td>2868348</td>\n",
       "      <td>139799</td>\n",
       "      <td>26802</td>\n",
       "      <td>2018-03-08 10:35:59</td>\n",
       "    </tr>\n",
       "    <tr>\n",
       "      <th>22</th>\n",
       "      <td>2018-02-28</td>\n",
       "      <td>2868349</td>\n",
       "      <td>13143</td>\n",
       "      <td>7543</td>\n",
       "      <td>2018-03-08 10:35:59</td>\n",
       "    </tr>\n",
       "    <tr>\n",
       "      <th>23</th>\n",
       "      <td>2018-02-28</td>\n",
       "      <td>2868350</td>\n",
       "      <td>57593</td>\n",
       "      <td>16823</td>\n",
       "      <td>2018-03-08 10:35:59</td>\n",
       "    </tr>\n",
       "    <tr>\n",
       "      <th>24</th>\n",
       "      <td>2018-02-28</td>\n",
       "      <td>2868351</td>\n",
       "      <td>130596</td>\n",
       "      <td>47300</td>\n",
       "      <td>2018-03-08 10:35:59</td>\n",
       "    </tr>\n",
       "    <tr>\n",
       "      <th>25</th>\n",
       "      <td>2018-02-28</td>\n",
       "      <td>2868352</td>\n",
       "      <td>57337</td>\n",
       "      <td>45696</td>\n",
       "      <td>2018-03-08 10:35:59</td>\n",
       "    </tr>\n",
       "    <tr>\n",
       "      <th>26</th>\n",
       "      <td>2018-02-28</td>\n",
       "      <td>2868353</td>\n",
       "      <td>137107</td>\n",
       "      <td>39512</td>\n",
       "      <td>2018-03-08 10:35:59</td>\n",
       "    </tr>\n",
       "    <tr>\n",
       "      <th>27</th>\n",
       "      <td>2018-02-28</td>\n",
       "      <td>2868354</td>\n",
       "      <td>176249</td>\n",
       "      <td>26931</td>\n",
       "      <td>2018-03-08 10:35:59</td>\n",
       "    </tr>\n",
       "    <tr>\n",
       "      <th>28</th>\n",
       "      <td>2018-02-28</td>\n",
       "      <td>2868356</td>\n",
       "      <td>194320</td>\n",
       "      <td>29603</td>\n",
       "      <td>2018-03-08 10:35:59</td>\n",
       "    </tr>\n",
       "    <tr>\n",
       "      <th>29</th>\n",
       "      <td>2018-02-28</td>\n",
       "      <td>2868357</td>\n",
       "      <td>169799</td>\n",
       "      <td>47510</td>\n",
       "      <td>2018-03-08 10:35:59</td>\n",
       "    </tr>\n",
       "    <tr>\n",
       "      <th>...</th>\n",
       "      <td>...</td>\n",
       "      <td>...</td>\n",
       "      <td>...</td>\n",
       "      <td>...</td>\n",
       "      <td>...</td>\n",
       "    </tr>\n",
       "    <tr>\n",
       "      <th>272592</th>\n",
       "      <td>2018-12-29</td>\n",
       "      <td>3303843</td>\n",
       "      <td>217587</td>\n",
       "      <td>50582</td>\n",
       "      <td>2019-01-16 18:00:42</td>\n",
       "    </tr>\n",
       "    <tr>\n",
       "      <th>272593</th>\n",
       "      <td>2018-12-29</td>\n",
       "      <td>3303844</td>\n",
       "      <td>253839</td>\n",
       "      <td>63508</td>\n",
       "      <td>2019-01-16 18:00:42</td>\n",
       "    </tr>\n",
       "    <tr>\n",
       "      <th>272594</th>\n",
       "      <td>2018-12-29</td>\n",
       "      <td>3303845</td>\n",
       "      <td>283623</td>\n",
       "      <td>47261</td>\n",
       "      <td>2019-01-16 18:00:42</td>\n",
       "    </tr>\n",
       "    <tr>\n",
       "      <th>272595</th>\n",
       "      <td>2018-12-29</td>\n",
       "      <td>3303846</td>\n",
       "      <td>248876</td>\n",
       "      <td>37846</td>\n",
       "      <td>2019-01-16 18:00:42</td>\n",
       "    </tr>\n",
       "    <tr>\n",
       "      <th>272596</th>\n",
       "      <td>2018-12-29</td>\n",
       "      <td>3303848</td>\n",
       "      <td>171668</td>\n",
       "      <td>46215</td>\n",
       "      <td>2019-01-16 18:00:42</td>\n",
       "    </tr>\n",
       "    <tr>\n",
       "      <th>272597</th>\n",
       "      <td>2018-12-29</td>\n",
       "      <td>3303849</td>\n",
       "      <td>145278</td>\n",
       "      <td>33792</td>\n",
       "      <td>2019-01-16 18:00:42</td>\n",
       "    </tr>\n",
       "    <tr>\n",
       "      <th>272598</th>\n",
       "      <td>2018-12-29</td>\n",
       "      <td>3370449</td>\n",
       "      <td>229843</td>\n",
       "      <td>62303</td>\n",
       "      <td>2019-01-16 18:00:42</td>\n",
       "    </tr>\n",
       "    <tr>\n",
       "      <th>272599</th>\n",
       "      <td>2018-12-29</td>\n",
       "      <td>3370450</td>\n",
       "      <td>234226</td>\n",
       "      <td>60647</td>\n",
       "      <td>2019-01-16 18:00:42</td>\n",
       "    </tr>\n",
       "    <tr>\n",
       "      <th>272600</th>\n",
       "      <td>2018-12-29</td>\n",
       "      <td>3370451</td>\n",
       "      <td>327181</td>\n",
       "      <td>62311</td>\n",
       "      <td>2019-01-16 18:00:42</td>\n",
       "    </tr>\n",
       "    <tr>\n",
       "      <th>272601</th>\n",
       "      <td>2018-12-29</td>\n",
       "      <td>3370452</td>\n",
       "      <td>227325</td>\n",
       "      <td>61693</td>\n",
       "      <td>2019-01-16 18:00:42</td>\n",
       "    </tr>\n",
       "    <tr>\n",
       "      <th>272602</th>\n",
       "      <td>2018-12-29</td>\n",
       "      <td>3370454</td>\n",
       "      <td>142062</td>\n",
       "      <td>30342</td>\n",
       "      <td>2019-01-16 18:00:42</td>\n",
       "    </tr>\n",
       "    <tr>\n",
       "      <th>272603</th>\n",
       "      <td>2018-12-29</td>\n",
       "      <td>3370455</td>\n",
       "      <td>31465</td>\n",
       "      <td>5188</td>\n",
       "      <td>2019-01-16 18:00:42</td>\n",
       "    </tr>\n",
       "    <tr>\n",
       "      <th>272604</th>\n",
       "      <td>2018-12-29</td>\n",
       "      <td>3370456</td>\n",
       "      <td>238797</td>\n",
       "      <td>61662</td>\n",
       "      <td>2019-01-16 18:00:42</td>\n",
       "    </tr>\n",
       "    <tr>\n",
       "      <th>272605</th>\n",
       "      <td>2018-12-29</td>\n",
       "      <td>3370457</td>\n",
       "      <td>254252</td>\n",
       "      <td>45548</td>\n",
       "      <td>2019-01-16 18:00:42</td>\n",
       "    </tr>\n",
       "    <tr>\n",
       "      <th>272606</th>\n",
       "      <td>2018-12-29</td>\n",
       "      <td>3370458</td>\n",
       "      <td>248036</td>\n",
       "      <td>64939</td>\n",
       "      <td>2019-01-16 18:00:42</td>\n",
       "    </tr>\n",
       "    <tr>\n",
       "      <th>272607</th>\n",
       "      <td>2018-12-29</td>\n",
       "      <td>3370459</td>\n",
       "      <td>73808</td>\n",
       "      <td>14692</td>\n",
       "      <td>2019-01-16 18:00:42</td>\n",
       "    </tr>\n",
       "    <tr>\n",
       "      <th>272608</th>\n",
       "      <td>2018-12-29</td>\n",
       "      <td>3393865</td>\n",
       "      <td>221771</td>\n",
       "      <td>49552</td>\n",
       "      <td>2019-01-16 18:00:42</td>\n",
       "    </tr>\n",
       "    <tr>\n",
       "      <th>272609</th>\n",
       "      <td>2018-12-29</td>\n",
       "      <td>3393866</td>\n",
       "      <td>264889</td>\n",
       "      <td>39746</td>\n",
       "      <td>2019-01-16 18:00:42</td>\n",
       "    </tr>\n",
       "    <tr>\n",
       "      <th>272610</th>\n",
       "      <td>2018-12-29</td>\n",
       "      <td>3393867</td>\n",
       "      <td>304978</td>\n",
       "      <td>62767</td>\n",
       "      <td>2019-01-16 18:00:42</td>\n",
       "    </tr>\n",
       "    <tr>\n",
       "      <th>272611</th>\n",
       "      <td>2018-12-29</td>\n",
       "      <td>3393870</td>\n",
       "      <td>19269</td>\n",
       "      <td>625</td>\n",
       "      <td>2019-01-16 18:00:42</td>\n",
       "    </tr>\n",
       "    <tr>\n",
       "      <th>272612</th>\n",
       "      <td>2018-12-29</td>\n",
       "      <td>3393871</td>\n",
       "      <td>18770</td>\n",
       "      <td>596</td>\n",
       "      <td>2019-01-16 18:00:42</td>\n",
       "    </tr>\n",
       "    <tr>\n",
       "      <th>272613</th>\n",
       "      <td>2018-12-29</td>\n",
       "      <td>3393873</td>\n",
       "      <td>85857</td>\n",
       "      <td>16884</td>\n",
       "      <td>2019-01-16 18:00:42</td>\n",
       "    </tr>\n",
       "    <tr>\n",
       "      <th>272614</th>\n",
       "      <td>2018-12-29</td>\n",
       "      <td>3393874</td>\n",
       "      <td>154631</td>\n",
       "      <td>43992</td>\n",
       "      <td>2019-01-16 18:00:42</td>\n",
       "    </tr>\n",
       "    <tr>\n",
       "      <th>272615</th>\n",
       "      <td>2018-12-29</td>\n",
       "      <td>3393875</td>\n",
       "      <td>210361</td>\n",
       "      <td>49470</td>\n",
       "      <td>2019-01-16 18:00:42</td>\n",
       "    </tr>\n",
       "    <tr>\n",
       "      <th>272616</th>\n",
       "      <td>2018-12-29</td>\n",
       "      <td>3393877</td>\n",
       "      <td>234756</td>\n",
       "      <td>60558</td>\n",
       "      <td>2019-01-16 18:00:42</td>\n",
       "    </tr>\n",
       "    <tr>\n",
       "      <th>272617</th>\n",
       "      <td>2018-12-29</td>\n",
       "      <td>3393878</td>\n",
       "      <td>264237</td>\n",
       "      <td>62320</td>\n",
       "      <td>2019-01-16 18:00:42</td>\n",
       "    </tr>\n",
       "    <tr>\n",
       "      <th>272618</th>\n",
       "      <td>2018-12-29</td>\n",
       "      <td>3394105</td>\n",
       "      <td>250335</td>\n",
       "      <td>52254</td>\n",
       "      <td>2019-01-16 18:00:42</td>\n",
       "    </tr>\n",
       "    <tr>\n",
       "      <th>272619</th>\n",
       "      <td>2018-12-29</td>\n",
       "      <td>3394109</td>\n",
       "      <td>172539</td>\n",
       "      <td>44349</td>\n",
       "      <td>2019-01-16 18:00:42</td>\n",
       "    </tr>\n",
       "    <tr>\n",
       "      <th>272620</th>\n",
       "      <td>2018-12-29</td>\n",
       "      <td>3394130</td>\n",
       "      <td>188057</td>\n",
       "      <td>38948</td>\n",
       "      <td>2019-01-16 18:00:42</td>\n",
       "    </tr>\n",
       "    <tr>\n",
       "      <th>272621</th>\n",
       "      <td>2018-12-29</td>\n",
       "      <td>3394131</td>\n",
       "      <td>291697</td>\n",
       "      <td>63677</td>\n",
       "      <td>2019-01-16 18:00:42</td>\n",
       "    </tr>\n",
       "  </tbody>\n",
       "</table>\n",
       "<p>272622 rows × 5 columns</p>\n",
       "</div>"
      ],
      "text/plain": [
       "       DAYOFSERVICE VEHICLEID  DISTANCE  MINUTES          LASTUPDATE\n",
       "0        2018-11-23   3303848    286166    58849 2018-12-04 08:03:09\n",
       "1        2018-11-23   3303847    259545    56828 2018-12-04 08:03:09\n",
       "2        2018-02-28   2868329    103096    40967 2018-03-08 10:35:59\n",
       "3        2018-02-28   2868330    147277    43599 2018-03-08 10:35:59\n",
       "4        2018-02-28   2868331    224682    40447 2018-03-08 10:35:59\n",
       "5        2018-02-28   2868332     19499     6289 2018-03-08 10:35:59\n",
       "6        2018-02-28   2868333    133014    43647 2018-03-08 10:35:59\n",
       "7        2018-02-28   2868334    168964    47167 2018-03-08 10:35:59\n",
       "8        2018-02-28   2868335    360842    55477 2018-03-08 10:35:59\n",
       "9        2018-02-28   2868336    139959    39599 2018-03-08 10:35:59\n",
       "10       2018-02-28   2868337    131071    38785 2018-03-08 10:35:59\n",
       "11       2018-02-28   2868338    249542    45036 2018-03-08 10:35:59\n",
       "12       2018-02-28   2868339    202134    47154 2018-03-08 10:35:59\n",
       "13       2018-02-28   2868340    127213    40033 2018-03-08 10:35:59\n",
       "14       2018-02-28   2868341    123956    41386 2018-03-08 10:35:59\n",
       "15       2018-02-28   2868342    280353    44036 2018-03-08 10:35:59\n",
       "16       2018-02-28   2868343    136115    47505 2018-03-08 10:35:59\n",
       "17       2018-02-28   2868344     86740    18236 2018-03-08 10:35:59\n",
       "18       2018-02-28   2868345    162987    45516 2018-03-08 10:35:59\n",
       "19       2018-02-28   2868346      8402     6321 2018-03-08 10:35:59\n",
       "20       2018-02-28   2868347    183751    45998 2018-03-08 10:35:59\n",
       "21       2018-02-28   2868348    139799    26802 2018-03-08 10:35:59\n",
       "22       2018-02-28   2868349     13143     7543 2018-03-08 10:35:59\n",
       "23       2018-02-28   2868350     57593    16823 2018-03-08 10:35:59\n",
       "24       2018-02-28   2868351    130596    47300 2018-03-08 10:35:59\n",
       "25       2018-02-28   2868352     57337    45696 2018-03-08 10:35:59\n",
       "26       2018-02-28   2868353    137107    39512 2018-03-08 10:35:59\n",
       "27       2018-02-28   2868354    176249    26931 2018-03-08 10:35:59\n",
       "28       2018-02-28   2868356    194320    29603 2018-03-08 10:35:59\n",
       "29       2018-02-28   2868357    169799    47510 2018-03-08 10:35:59\n",
       "...             ...       ...       ...      ...                 ...\n",
       "272592   2018-12-29   3303843    217587    50582 2019-01-16 18:00:42\n",
       "272593   2018-12-29   3303844    253839    63508 2019-01-16 18:00:42\n",
       "272594   2018-12-29   3303845    283623    47261 2019-01-16 18:00:42\n",
       "272595   2018-12-29   3303846    248876    37846 2019-01-16 18:00:42\n",
       "272596   2018-12-29   3303848    171668    46215 2019-01-16 18:00:42\n",
       "272597   2018-12-29   3303849    145278    33792 2019-01-16 18:00:42\n",
       "272598   2018-12-29   3370449    229843    62303 2019-01-16 18:00:42\n",
       "272599   2018-12-29   3370450    234226    60647 2019-01-16 18:00:42\n",
       "272600   2018-12-29   3370451    327181    62311 2019-01-16 18:00:42\n",
       "272601   2018-12-29   3370452    227325    61693 2019-01-16 18:00:42\n",
       "272602   2018-12-29   3370454    142062    30342 2019-01-16 18:00:42\n",
       "272603   2018-12-29   3370455     31465     5188 2019-01-16 18:00:42\n",
       "272604   2018-12-29   3370456    238797    61662 2019-01-16 18:00:42\n",
       "272605   2018-12-29   3370457    254252    45548 2019-01-16 18:00:42\n",
       "272606   2018-12-29   3370458    248036    64939 2019-01-16 18:00:42\n",
       "272607   2018-12-29   3370459     73808    14692 2019-01-16 18:00:42\n",
       "272608   2018-12-29   3393865    221771    49552 2019-01-16 18:00:42\n",
       "272609   2018-12-29   3393866    264889    39746 2019-01-16 18:00:42\n",
       "272610   2018-12-29   3393867    304978    62767 2019-01-16 18:00:42\n",
       "272611   2018-12-29   3393870     19269      625 2019-01-16 18:00:42\n",
       "272612   2018-12-29   3393871     18770      596 2019-01-16 18:00:42\n",
       "272613   2018-12-29   3393873     85857    16884 2019-01-16 18:00:42\n",
       "272614   2018-12-29   3393874    154631    43992 2019-01-16 18:00:42\n",
       "272615   2018-12-29   3393875    210361    49470 2019-01-16 18:00:42\n",
       "272616   2018-12-29   3393877    234756    60558 2019-01-16 18:00:42\n",
       "272617   2018-12-29   3393878    264237    62320 2019-01-16 18:00:42\n",
       "272618   2018-12-29   3394105    250335    52254 2019-01-16 18:00:42\n",
       "272619   2018-12-29   3394109    172539    44349 2019-01-16 18:00:42\n",
       "272620   2018-12-29   3394130    188057    38948 2019-01-16 18:00:42\n",
       "272621   2018-12-29   3394131    291697    63677 2019-01-16 18:00:42\n",
       "\n",
       "[272622 rows x 5 columns]"
      ]
     },
     "execution_count": 12,
     "metadata": {},
     "output_type": "execute_result"
    }
   ],
   "source": [
    "vehicles"
   ]
  },
  {
   "cell_type": "code",
   "execution_count": 13,
   "metadata": {},
   "outputs": [
    {
     "name": "stdout",
     "output_type": "stream",
     "text": [
      "Datatypes:\n",
      "\n",
      "DAYOFSERVICE    datetime64[ns]\n",
      "VEHICLEID             category\n",
      "DISTANCE                 int64\n",
      "MINUTES                  int64\n",
      "LASTUPDATE      datetime64[ns]\n",
      "dtype: object\n",
      "\n",
      "\n",
      "\n",
      "**************************************************\n",
      "ROWS, COLUMNS, NULLS\n",
      "\n",
      "272622 rows in the dataframe.\n",
      "5 columns in the dataframe.\n",
      "\n",
      "0 null values in the dataframe.\n",
      "0 duplicate rows\n",
      "0 duplicate columns\n",
      "\n",
      "\n",
      "Constant numeric columns: FALSE\n",
      "Constant categorical columns: FALSE\n",
      "\n",
      "\n",
      "\n",
      "**************************************************\n",
      "DESCRIPTION\n",
      "\n",
      "             count           mean           std      min       25%       50%  \\\n",
      "DISTANCE  272622.0  177486.328466  71334.432383      0.0  126765.0  177420.0   \n",
      "MINUTES   272622.0   45597.643220  14881.389868 -70145.0   39380.0   46994.5   \n",
      "\n",
      "                75%       max  \n",
      "DISTANCE  227126.25  473864.0  \n",
      "MINUTES    57911.00   76651.0  \n",
      "\n",
      "\n",
      "\n",
      "**************************************************\n",
      "CATEGORICAL DESCRIPTION\n",
      "\n",
      "\n",
      "\n",
      "            count  unique      top  freq\n",
      "VEHICLEID  272622    1152  2693284   342\n",
      "\n",
      "\n",
      "\n",
      "**************************************************\n",
      "FEATURE CARDINALITIES\n",
      "\n",
      "Feature                                        Distinct Values\n",
      "-------                                        --------------- \n",
      "\n",
      "DAYOFSERVICE                                   360\n",
      "VEHICLEID                                      1152\n",
      "DISTANCE                                       170498\n",
      "MINUTES                                        57523\n",
      "LASTUPDATE                                     360\n",
      "\n",
      "\n",
      "**************************************************\n",
      "MEMORY\n",
      "\n",
      "<class 'pandas.core.frame.DataFrame'>\n",
      "RangeIndex: 272622 entries, 0 to 272621\n",
      "Data columns (total 5 columns):\n",
      "DAYOFSERVICE    272622 non-null datetime64[ns]\n",
      "VEHICLEID       272622 non-null category\n",
      "DISTANCE        272622 non-null int64\n",
      "MINUTES         272622 non-null int64\n",
      "LASTUPDATE      272622 non-null datetime64[ns]\n",
      "dtypes: category(1), datetime64[ns](2), int64(2)\n",
      "memory usage: 8.9 MB\n",
      "None\n",
      "\n",
      "\n",
      "Index                80\n",
      "DAYOFSERVICE    2180976\n",
      "VEHICLEID        595420\n",
      "DISTANCE        2180976\n",
      "MINUTES         2180976\n",
      "LASTUPDATE      2180976\n",
      "dtype: int64\n",
      "\n",
      "\n",
      "**************************************************\n",
      "HEAD\n",
      "\n",
      "  DAYOFSERVICE VEHICLEID  DISTANCE  MINUTES          LASTUPDATE\n",
      "0   2018-11-23   3303848    286166    58849 2018-12-04 08:03:09\n",
      "1   2018-11-23   3303847    259545    56828 2018-12-04 08:03:09\n",
      "2   2018-02-28   2868329    103096    40967 2018-03-08 10:35:59\n",
      "3   2018-02-28   2868330    147277    43599 2018-03-08 10:35:59\n",
      "4   2018-02-28   2868331    224682    40447 2018-03-08 10:35:59\n",
      "5   2018-02-28   2868332     19499     6289 2018-03-08 10:35:59\n",
      "6   2018-02-28   2868333    133014    43647 2018-03-08 10:35:59\n",
      "7   2018-02-28   2868334    168964    47167 2018-03-08 10:35:59\n",
      "8   2018-02-28   2868335    360842    55477 2018-03-08 10:35:59\n",
      "9   2018-02-28   2868336    139959    39599 2018-03-08 10:35:59\n",
      "\n",
      "\n",
      "**************************************************\n",
      "TAIL\n",
      "\n",
      "       DAYOFSERVICE VEHICLEID  DISTANCE  MINUTES          LASTUPDATE\n",
      "272612   2018-12-29   3393871     18770      596 2019-01-16 18:00:42\n",
      "272613   2018-12-29   3393873     85857    16884 2019-01-16 18:00:42\n",
      "272614   2018-12-29   3393874    154631    43992 2019-01-16 18:00:42\n",
      "272615   2018-12-29   3393875    210361    49470 2019-01-16 18:00:42\n",
      "272616   2018-12-29   3393877    234756    60558 2019-01-16 18:00:42\n",
      "272617   2018-12-29   3393878    264237    62320 2019-01-16 18:00:42\n",
      "272618   2018-12-29   3394105    250335    52254 2019-01-16 18:00:42\n",
      "272619   2018-12-29   3394109    172539    44349 2019-01-16 18:00:42\n",
      "272620   2018-12-29   3394130    188057    38948 2019-01-16 18:00:42\n",
      "272621   2018-12-29   3394131    291697    63677 2019-01-16 18:00:42\n"
     ]
    }
   ],
   "source": [
    "assess_df(vehicles)"
   ]
  },
  {
   "cell_type": "markdown",
   "metadata": {},
   "source": [
    "# Data Insights"
   ]
  },
  {
   "cell_type": "markdown",
   "metadata": {},
   "source": [
    "## Is the unique count of VEHICLEID correct? Dublin Bus states publically that they operate a fleet of 1,016 buses"
   ]
  },
  {
   "cell_type": "code",
   "execution_count": 14,
   "metadata": {},
   "outputs": [
    {
     "data": {
      "text/plain": [
       "1152"
      ]
     },
     "execution_count": 14,
     "metadata": {},
     "output_type": "execute_result"
    }
   ],
   "source": [
    "# find the number of unique vehicle IDs\n",
    "\n",
    "len(set(vehicles.VEHICLEID.value_counts().index))"
   ]
  },
  {
   "cell_type": "code",
   "execution_count": 15,
   "metadata": {},
   "outputs": [],
   "source": [
    "# visual inspection of values\n",
    "# hidden for presentation\n",
    "\n",
    "\n",
    "# print(set(vehicles.VEHICLEID.value_counts().index))"
   ]
  },
  {
   "cell_type": "markdown",
   "metadata": {},
   "source": [
    "Conclusion: Either the Dublin Bus public information is incorrect, or vehicles have been added (possibly retired) in the 2018 period."
   ]
  },
  {
   "cell_type": "markdown",
   "metadata": {},
   "source": [
    "# Visualise Inspect of Continuous Features"
   ]
  },
  {
   "cell_type": "markdown",
   "metadata": {},
   "source": [
    "## MINUTES"
   ]
  },
  {
   "cell_type": "markdown",
   "metadata": {},
   "source": [
    "### There is an unusual minimum minutes value: negative"
   ]
  },
  {
   "cell_type": "code",
   "execution_count": 16,
   "metadata": {},
   "outputs": [
    {
     "data": {
      "image/png": "[encoded data removed]",
      "text/plain": [
       "<Figure size 432x288 with 1 Axes>"
      ]
     },
     "metadata": {
      "needs_background": "light"
     },
     "output_type": "display_data"
    }
   ],
   "source": [
    "# histogram representing MINUTES value distribution\n",
    "\n",
    "plt.figure()\n",
    "vehicles.MINUTES.plot(kind='hist')\n",
    "plt.savefig(\"Histogram MINUTES value distribution\")"
   ]
  },
  {
   "cell_type": "code",
   "execution_count": 17,
   "metadata": {},
   "outputs": [
    {
     "data": {
      "image/png": "[encoded data removed]",
      "text/plain": [
       "<Figure size 720x360 with 1 Axes>"
      ]
     },
     "metadata": {
      "needs_background": "light"
     },
     "output_type": "display_data"
    }
   ],
   "source": [
    "# boxplot representing MINUTES value distribution\n",
    "\n",
    "plt.figure()\n",
    "vehicles.MINUTES.plot(kind='box', figsize=(10,5))\n",
    "plt.savefig(\"Boxplt MINUTES value distribution\")"
   ]
  },
  {
   "cell_type": "code",
   "execution_count": 18,
   "metadata": {},
   "outputs": [
    {
     "name": "stdout",
     "output_type": "stream",
     "text": [
      "35337    -63660\n",
      "63322    -49317\n",
      "73317    -26906\n",
      "74817    -56723\n",
      "75516    -56686\n",
      "86099    -53576\n",
      "155328   -55863\n",
      "160494   -55245\n",
      "160954   -58114\n",
      "225571   -24695\n",
      "266506   -70145\n",
      "Name: MINUTES, dtype: int64\n",
      "\n",
      "\n",
      " 11\n"
     ]
    }
   ],
   "source": [
    "# statistics on the anomolous negative values\n",
    "\n",
    "print(vehicles.MINUTES.loc[vehicles.MINUTES <0])\n",
    "print(\"\\n\\n\", len(vehicles.MINUTES.loc[vehicles.MINUTES <0]))"
   ]
  },
  {
   "cell_type": "code",
   "execution_count": 19,
   "metadata": {},
   "outputs": [
    {
     "name": "stdout",
     "output_type": "stream",
     "text": [
      "% rows affected by a negative MINUTES value: 0.004 %\n"
     ]
    }
   ],
   "source": [
    "# the percentage of rows affected with negative values\n",
    "\n",
    "print(\"% rows affected by a negative MINUTES value:\", round(11/len(vehicles)*100, 3), \"%\")"
   ]
  },
  {
   "cell_type": "code",
   "execution_count": 20,
   "metadata": {},
   "outputs": [
    {
     "data": {
      "image/png": "[encoded data removed]",
      "text/plain": [
       "<Figure size 432x288 with 1 Axes>"
      ]
     },
     "metadata": {
      "needs_background": "light"
     },
     "output_type": "display_data"
    }
   ],
   "source": [
    "# corrected plot, with the negative values removed\n",
    "\n",
    "plt.figure()\n",
    "vehicles.MINUTES.loc[vehicles.MINUTES >0].plot(kind='hist')\n",
    "plt.savefig(\"originalMinutes_corrected_for_negs_hist\")"
   ]
  },
  {
   "cell_type": "code",
   "execution_count": 21,
   "metadata": {},
   "outputs": [
    {
     "data": {
      "image/png": "[encoded data removed]",
      "text/plain": [
       "<Figure size 432x288 with 1 Axes>"
      ]
     },
     "metadata": {
      "needs_background": "light"
     },
     "output_type": "display_data"
    }
   ],
   "source": [
    "# corrected plot, with the negative values removed\n",
    "\n",
    "plt.figure()\n",
    "vehicles.MINUTES.loc[vehicles.MINUTES >0].plot(kind='box')\n",
    "plt.savefig(\"originalMinutes_corrected_for_negs_box\")"
   ]
  },
  {
   "cell_type": "markdown",
   "metadata": {},
   "source": [
    "### Inspect Upper Bound Outlier region"
   ]
  },
  {
   "cell_type": "code",
   "execution_count": 57,
   "metadata": {},
   "outputs": [
    {
     "data": {
      "image/png": "[encoded data removed]",
      "text/plain": [
       "<Figure size 576x396 with 1 Axes>"
      ]
     },
     "metadata": {},
     "output_type": "display_data"
    }
   ],
   "source": [
    "# plot, focusing on the outlier region\n",
    "\n",
    "plt.figure()\n",
    "vehicles.MINUTES.loc[vehicles.MINUTES >55000].plot(kind='hist', bins=50)\n",
    "plt.savefig(\"originalMINUTES_outlier_region2\")"
   ]
  },
  {
   "cell_type": "markdown",
   "metadata": {},
   "source": [
    "The peak at 70000 represents a likely veracious phenomenon: the conclusion of a whole day of service. 70000 minutes is equivalent to 19.5 hrs of operation. Dublin Bus operates for 19 hours per day."
   ]
  },
  {
   "cell_type": "code",
   "execution_count": 23,
   "metadata": {},
   "outputs": [
    {
     "data": {
      "text/plain": [
       "278"
      ]
     },
     "execution_count": 23,
     "metadata": {},
     "output_type": "execute_result"
    }
   ],
   "source": [
    "# The number of rows, excluding anaomolous negative values, for which MINUTES is greater than 70000\n",
    "\n",
    "len(vehicles.MINUTES.loc[vehicles.MINUTES > 70000])"
   ]
  },
  {
   "cell_type": "code",
   "execution_count": 24,
   "metadata": {},
   "outputs": [
    {
     "name": "stdout",
     "output_type": "stream",
     "text": [
      "0.102 %\n"
     ]
    }
   ],
   "source": [
    "# percentage of values greater than 6700\n",
    "\n",
    "print(round(len(vehicles.MINUTES.loc[(vehicles.MINUTES > 0) & (vehicles.MINUTES > 70000)]) / len(vehicles) * 100, 3), \"%\")"
   ]
  },
  {
   "cell_type": "markdown",
   "metadata": {},
   "source": [
    "Comparison with an upper bound: a vehicle operating all day, and beginning a 1.5hr journey at the close of day (=73800 s)"
   ]
  },
  {
   "cell_type": "code",
   "execution_count": 25,
   "metadata": {},
   "outputs": [
    {
     "data": {
      "text/plain": [
       "8"
      ]
     },
     "execution_count": 25,
     "metadata": {},
     "output_type": "execute_result"
    }
   ],
   "source": [
    "# find the number of instances having a value above this upper-threshold\n",
    "\n",
    "len(vehicles.MINUTES.loc[vehicles.MINUTES > 73800])"
   ]
  },
  {
   "cell_type": "code",
   "execution_count": 26,
   "metadata": {},
   "outputs": [
    {
     "name": "stdout",
     "output_type": "stream",
     "text": [
      "0.003 %\n"
     ]
    }
   ],
   "source": [
    "# find the percentage of rows affected with a value about this upper-threshold\n",
    "\n",
    "print(round(len(vehicles.MINUTES.loc[vehicles.MINUTES > 73800]) / len(vehicles) * 100, 3), \"%\")"
   ]
  },
  {
   "cell_type": "markdown",
   "metadata": {},
   "source": [
    "### Inspect Lower-Bound Outlier Region"
   ]
  },
  {
   "cell_type": "markdown",
   "metadata": {},
   "source": [
    "This range represents between 0hrs of operation and 9.7hrs of operation. The mean is 12.6hrs of operation"
   ]
  },
  {
   "cell_type": "code",
   "execution_count": 27,
   "metadata": {},
   "outputs": [
    {
     "data": {
      "image/png": "[encoded data removed]",
      "text/plain": [
       "<Figure size 432x288 with 1 Axes>"
      ]
     },
     "metadata": {
      "needs_background": "light"
     },
     "output_type": "display_data"
    }
   ],
   "source": [
    "plt.figure()\n",
    "vehicles.MINUTES.loc[(vehicles.MINUTES > 0) & (vehicles.MINUTES < 35000)].plot(kind='hist', bins=25)\n",
    "plt.savefig(\"originalMinutes_lower_bound\")"
   ]
  },
  {
   "cell_type": "code",
   "execution_count": 28,
   "metadata": {},
   "outputs": [
    {
     "name": "stdout",
     "output_type": "stream",
     "text": [
      "0.431 %\n"
     ]
    }
   ],
   "source": [
    "# percentage of vehicle operational days that are under an hour\n",
    "\n",
    "print(round(len(vehicles.MINUTES.loc[(vehicles.MINUTES > 0) & (vehicles.MINUTES < 3600)]) / len(vehicles) * 100, 3), \"%\")"
   ]
  },
  {
   "cell_type": "code",
   "execution_count": 29,
   "metadata": {},
   "outputs": [
    {
     "data": {
      "text/plain": [
       "1175"
      ]
     },
     "execution_count": 29,
     "metadata": {},
     "output_type": "execute_result"
    }
   ],
   "source": [
    "# number of vehicle operational days that are under an hour\n",
    "\n",
    "len(vehicles.MINUTES.loc[(vehicles.MINUTES > 0) & (vehicles.MINUTES < 3600)])"
   ]
  },
  {
   "cell_type": "code",
   "execution_count": 30,
   "metadata": {},
   "outputs": [
    {
     "name": "stdout",
     "output_type": "stream",
     "text": [
      "4.532 %\n"
     ]
    }
   ],
   "source": [
    "# percentage of vehicle operational days that are under 3 hours\n",
    "\n",
    "print(round(len(vehicles.MINUTES.loc[(vehicles.MINUTES > 0) & (vehicles.MINUTES < 3600*3)]) / len(vehicles) * 100, 3), \"%\")"
   ]
  },
  {
   "cell_type": "code",
   "execution_count": 31,
   "metadata": {},
   "outputs": [
    {
     "data": {
      "text/plain": [
       "12356"
      ]
     },
     "execution_count": 31,
     "metadata": {},
     "output_type": "execute_result"
    }
   ],
   "source": [
    "# number of vehicle operational days that are under 3 hours\n",
    "\n",
    "len(vehicles.MINUTES.loc[(vehicles.MINUTES > 0) & (vehicles.MINUTES < 3600*3)])"
   ]
  },
  {
   "cell_type": "code",
   "execution_count": 32,
   "metadata": {},
   "outputs": [
    {
     "name": "stdout",
     "output_type": "stream",
     "text": [
      "9.07 %\n"
     ]
    }
   ],
   "source": [
    "# percentage of vehicle operational days that are under 6 hours\n",
    "\n",
    "print(round(len(vehicles.MINUTES.loc[(vehicles.MINUTES > 0) & (vehicles.MINUTES < 3600*6)]) / len(vehicles) * 100, 3), \"%\")"
   ]
  },
  {
   "cell_type": "markdown",
   "metadata": {},
   "source": [
    "Note: Investigate whether these unexpected values belong to certain routes – if values are included in Analytics Base Table."
   ]
  },
  {
   "cell_type": "markdown",
   "metadata": {},
   "source": [
    "For now, investigate whether they have a relationship with DAYOFSERVICE."
   ]
  },
  {
   "cell_type": "code",
   "execution_count": 33,
   "metadata": {},
   "outputs": [],
   "source": [
    "under1hr = vehicles.loc[(vehicles.MINUTES > 0) & (vehicles.MINUTES < 3600)]"
   ]
  },
  {
   "cell_type": "code",
   "execution_count": 34,
   "metadata": {},
   "outputs": [
    {
     "data": {
      "text/html": [
       "<div>\n",
       "<style scoped>\n",
       "    .dataframe tbody tr th:only-of-type {\n",
       "        vertical-align: middle;\n",
       "    }\n",
       "\n",
       "    .dataframe tbody tr th {\n",
       "        vertical-align: top;\n",
       "    }\n",
       "\n",
       "    .dataframe thead th {\n",
       "        text-align: right;\n",
       "    }\n",
       "</style>\n",
       "<table border=\"1\" class=\"dataframe\">\n",
       "  <thead>\n",
       "    <tr style=\"text-align: right;\">\n",
       "      <th></th>\n",
       "      <th>DAYOFSERVICE</th>\n",
       "      <th>VEHICLEID</th>\n",
       "      <th>DISTANCE</th>\n",
       "      <th>MINUTES</th>\n",
       "      <th>LASTUPDATE</th>\n",
       "    </tr>\n",
       "  </thead>\n",
       "  <tbody>\n",
       "    <tr>\n",
       "      <th>1053</th>\n",
       "      <td>2018-07-27</td>\n",
       "      <td>3265699</td>\n",
       "      <td>27545</td>\n",
       "      <td>490</td>\n",
       "      <td>2018-08-17 03:39:00</td>\n",
       "    </tr>\n",
       "    <tr>\n",
       "      <th>1640</th>\n",
       "      <td>2018-08-22</td>\n",
       "      <td>3265667</td>\n",
       "      <td>28140</td>\n",
       "      <td>2297</td>\n",
       "      <td>2018-08-30 09:47:32</td>\n",
       "    </tr>\n",
       "    <tr>\n",
       "      <th>1866</th>\n",
       "      <td>2018-07-16</td>\n",
       "      <td>2868391</td>\n",
       "      <td>43935</td>\n",
       "      <td>1264</td>\n",
       "      <td>2018-07-24 14:51:47</td>\n",
       "    </tr>\n",
       "    <tr>\n",
       "      <th>2164</th>\n",
       "      <td>2018-07-26</td>\n",
       "      <td>3265706</td>\n",
       "      <td>136774</td>\n",
       "      <td>2452</td>\n",
       "      <td>2018-08-17 03:29:11</td>\n",
       "    </tr>\n",
       "    <tr>\n",
       "      <th>2466</th>\n",
       "      <td>2018-07-30</td>\n",
       "      <td>3265715</td>\n",
       "      <td>43059</td>\n",
       "      <td>2890</td>\n",
       "      <td>2018-08-18 17:33:02</td>\n",
       "    </tr>\n",
       "  </tbody>\n",
       "</table>\n",
       "</div>"
      ],
      "text/plain": [
       "     DAYOFSERVICE VEHICLEID  DISTANCE  MINUTES          LASTUPDATE\n",
       "1053   2018-07-27   3265699     27545      490 2018-08-17 03:39:00\n",
       "1640   2018-08-22   3265667     28140     2297 2018-08-30 09:47:32\n",
       "1866   2018-07-16   2868391     43935     1264 2018-07-24 14:51:47\n",
       "2164   2018-07-26   3265706    136774     2452 2018-08-17 03:29:11\n",
       "2466   2018-07-30   3265715     43059     2890 2018-08-18 17:33:02"
      ]
     },
     "execution_count": 34,
     "metadata": {},
     "output_type": "execute_result"
    }
   ],
   "source": [
    "under1hr.head()"
   ]
  },
  {
   "cell_type": "code",
   "execution_count": 35,
   "metadata": {},
   "outputs": [
    {
     "data": {
      "text/plain": [
       "0.55"
      ]
     },
     "execution_count": 35,
     "metadata": {},
     "output_type": "execute_result"
    }
   ],
   "source": [
    "# % of vehicles that have had a operational day under 1hr\n",
    "\n",
    "round(len(under1hr.VEHICLEID.unique()) / len(vehicles.VEHICLEID.unique()),2)"
   ]
  },
  {
   "cell_type": "code",
   "execution_count": 36,
   "metadata": {},
   "outputs": [
    {
     "data": {
      "text/plain": [
       "0.94"
      ]
     },
     "execution_count": 36,
     "metadata": {},
     "output_type": "execute_result"
    }
   ],
   "source": [
    "# % days that have included a vehicle's operational day of under 1hr\n",
    "\n",
    "round(len(under1hr.DAYOFSERVICE.unique()) / len(vehicles.DAYOFSERVICE.unique()),2)"
   ]
  },
  {
   "cell_type": "code",
   "execution_count": 37,
   "metadata": {},
   "outputs": [
    {
     "data": {
      "text/plain": [
       "count    1175.000000\n",
       "mean     2545.084255\n",
       "std       920.793908\n",
       "min         1.000000\n",
       "25%      2096.500000\n",
       "50%      2826.000000\n",
       "75%      3268.000000\n",
       "max      3598.000000\n",
       "Name: MINUTES, dtype: float64"
      ]
     },
     "execution_count": 37,
     "metadata": {},
     "output_type": "execute_result"
    }
   ],
   "source": [
    "# distribution of operation durations for those under 1hr\n",
    "\n",
    "under1hr.MINUTES.describe()"
   ]
  },
  {
   "cell_type": "markdown",
   "metadata": {},
   "source": [
    "Half of all equal-to or under 1hr operation days (total=1175) have been equal-to or less than 47min; three-quarters have been equal-to or less than 54min. "
   ]
  },
  {
   "cell_type": "markdown",
   "metadata": {},
   "source": [
    "## DISTANCE"
   ]
  },
  {
   "cell_type": "code",
   "execution_count": 38,
   "metadata": {},
   "outputs": [
    {
     "data": {
      "image/png": "[encoded data removed]",
      "text/plain": [
       "<Figure size 432x288 with 1 Axes>"
      ]
     },
     "metadata": {
      "needs_background": "light"
     },
     "output_type": "display_data"
    }
   ],
   "source": [
    "# plot distribution of DISTANCE values: histogram\n",
    "\n",
    "plt.figure()\n",
    "vehicles.DISTANCE.plot(kind='hist')\n",
    "plt.savefig(\"originalDISTANCE_hist\")"
   ]
  },
  {
   "cell_type": "code",
   "execution_count": 39,
   "metadata": {},
   "outputs": [
    {
     "data": {
      "image/png": "[encoded data removed]",
      "text/plain": [
       "<Figure size 432x288 with 1 Axes>"
      ]
     },
     "metadata": {
      "needs_background": "light"
     },
     "output_type": "display_data"
    }
   ],
   "source": [
    "# plot distribution of DISTANCE values: boxplot\n",
    "\n",
    "plt.figure()\n",
    "vehicles.DISTANCE.plot(kind='box')\n",
    "plt.savefig(\"originalDISTANCE_box\")"
   ]
  },
  {
   "cell_type": "code",
   "execution_count": 40,
   "metadata": {},
   "outputs": [
    {
     "data": {
      "image/png": "[encoded data removed]",
      "text/plain": [
       "<Figure size 432x288 with 1 Axes>"
      ]
     },
     "metadata": {
      "needs_background": "light"
     },
     "output_type": "display_data"
    }
   ],
   "source": [
    "# distribution of values in the – roughly estimated – outlier region\n",
    "\n",
    "plt.figure()\n",
    "vehicles.DISTANCE.loc[(vehicles.DISTANCE > 320000) &\\\n",
    "        (vehicles.DISTANCE <= vehicles.DISTANCE.max())].plot(kind='hist', bins=20)\n",
    "plt.savefig(\"originalDistance_outlier_region\")"
   ]
  },
  {
   "cell_type": "code",
   "execution_count": 41,
   "metadata": {},
   "outputs": [
    {
     "data": {
      "image/png": "[encoded data removed]",
      "text/plain": [
       "<Figure size 432x288 with 1 Axes>"
      ]
     },
     "metadata": {
      "needs_background": "light"
     },
     "output_type": "display_data"
    }
   ],
   "source": [
    "# a closer look at where the distribution is disturbed\n",
    "\n",
    "plt.figure()\n",
    "vehicles.DISTANCE.loc[(vehicles.DISTANCE > 320000)&(vehicles.DISTANCE < 400000)].plot(kind='hist', bins=20)\n",
    "plt.savefig(\"originalDistance_outlier_region_closer\")"
   ]
  },
  {
   "cell_type": "markdown",
   "metadata": {},
   "source": [
    "Anomolous values from ~Distance>370000"
   ]
  },
  {
   "cell_type": "code",
   "execution_count": 42,
   "metadata": {},
   "outputs": [
    {
     "name": "stdout",
     "output_type": "stream",
     "text": [
      "\n",
      "\n",
      " 1211\n"
     ]
    }
   ],
   "source": [
    "# number of entires in the outlier region\n",
    "\n",
    "print(\"\\n\\n\", len(vehicles.DISTANCE.loc[vehicles.DISTANCE > 370000]))"
   ]
  },
  {
   "cell_type": "code",
   "execution_count": 43,
   "metadata": {},
   "outputs": [
    {
     "name": "stdout",
     "output_type": "stream",
     "text": [
      "0.44 %\n"
     ]
    }
   ],
   "source": [
    "# percentage of entries in the outlier region\n",
    "\n",
    "print(round(len(vehicles.DISTANCE.loc[vehicles.DISTANCE > 370000]) / len(vehicles) * 100, 2), \"%\")"
   ]
  },
  {
   "cell_type": "code",
   "execution_count": 44,
   "metadata": {},
   "outputs": [
    {
     "data": {
      "text/plain": [
       "153"
      ]
     },
     "execution_count": 44,
     "metadata": {},
     "output_type": "execute_result"
    }
   ],
   "source": [
    "len(vehicles.DISTANCE.loc[(vehicles.DISTANCE > 430000) & (vehicles.DISTANCE <= vehicles.DISTANCE.max())])"
   ]
  },
  {
   "cell_type": "code",
   "execution_count": 45,
   "metadata": {},
   "outputs": [
    {
     "name": "stdout",
     "output_type": "stream",
     "text": [
      "0.06 %\n"
     ]
    }
   ],
   "source": [
    "print(round(len(vehicles.DISTANCE.loc[(vehicles.DISTANCE > 430000) &\\\n",
    "                        (vehicles.DISTANCE <= vehicles.DISTANCE.max())]) / len(vehicles) * 100, 2), \"%\")"
   ]
  },
  {
   "cell_type": "markdown",
   "metadata": {},
   "source": [
    "# TRANSFORMATIONS"
   ]
  },
  {
   "cell_type": "code",
   "execution_count": 46,
   "metadata": {},
   "outputs": [
    {
     "data": {
      "text/html": [
       "<div>\n",
       "<style scoped>\n",
       "    .dataframe tbody tr th:only-of-type {\n",
       "        vertical-align: middle;\n",
       "    }\n",
       "\n",
       "    .dataframe tbody tr th {\n",
       "        vertical-align: top;\n",
       "    }\n",
       "\n",
       "    .dataframe thead th {\n",
       "        text-align: right;\n",
       "    }\n",
       "</style>\n",
       "<table border=\"1\" class=\"dataframe\">\n",
       "  <thead>\n",
       "    <tr style=\"text-align: right;\">\n",
       "      <th></th>\n",
       "      <th>DAYOFSERVICE</th>\n",
       "      <th>VEHICLEID</th>\n",
       "      <th>DISTANCE</th>\n",
       "      <th>MINUTES</th>\n",
       "      <th>LASTUPDATE</th>\n",
       "    </tr>\n",
       "  </thead>\n",
       "  <tbody>\n",
       "    <tr>\n",
       "      <th>0</th>\n",
       "      <td>2018-11-23</td>\n",
       "      <td>3303848</td>\n",
       "      <td>286166</td>\n",
       "      <td>58849</td>\n",
       "      <td>2018-12-04 08:03:09</td>\n",
       "    </tr>\n",
       "    <tr>\n",
       "      <th>1</th>\n",
       "      <td>2018-11-23</td>\n",
       "      <td>3303847</td>\n",
       "      <td>259545</td>\n",
       "      <td>56828</td>\n",
       "      <td>2018-12-04 08:03:09</td>\n",
       "    </tr>\n",
       "    <tr>\n",
       "      <th>2</th>\n",
       "      <td>2018-02-28</td>\n",
       "      <td>2868329</td>\n",
       "      <td>103096</td>\n",
       "      <td>40967</td>\n",
       "      <td>2018-03-08 10:35:59</td>\n",
       "    </tr>\n",
       "    <tr>\n",
       "      <th>3</th>\n",
       "      <td>2018-02-28</td>\n",
       "      <td>2868330</td>\n",
       "      <td>147277</td>\n",
       "      <td>43599</td>\n",
       "      <td>2018-03-08 10:35:59</td>\n",
       "    </tr>\n",
       "    <tr>\n",
       "      <th>4</th>\n",
       "      <td>2018-02-28</td>\n",
       "      <td>2868331</td>\n",
       "      <td>224682</td>\n",
       "      <td>40447</td>\n",
       "      <td>2018-03-08 10:35:59</td>\n",
       "    </tr>\n",
       "  </tbody>\n",
       "</table>\n",
       "</div>"
      ],
      "text/plain": [
       "  DAYOFSERVICE VEHICLEID  DISTANCE  MINUTES          LASTUPDATE\n",
       "0   2018-11-23   3303848    286166    58849 2018-12-04 08:03:09\n",
       "1   2018-11-23   3303847    259545    56828 2018-12-04 08:03:09\n",
       "2   2018-02-28   2868329    103096    40967 2018-03-08 10:35:59\n",
       "3   2018-02-28   2868330    147277    43599 2018-03-08 10:35:59\n",
       "4   2018-02-28   2868331    224682    40447 2018-03-08 10:35:59"
      ]
     },
     "execution_count": 46,
     "metadata": {},
     "output_type": "execute_result"
    }
   ],
   "source": [
    "vehicles.head()"
   ]
  },
  {
   "cell_type": "code",
   "execution_count": 47,
   "metadata": {},
   "outputs": [],
   "source": [
    "vehicles.drop('LASTUPDATE', axis=1, inplace=True)"
   ]
  },
  {
   "cell_type": "code",
   "execution_count": 48,
   "metadata": {},
   "outputs": [
    {
     "name": "stdout",
     "output_type": "stream",
     "text": [
      "<class 'pandas.core.frame.DataFrame'>\n",
      "RangeIndex: 272622 entries, 0 to 272621\n",
      "Data columns (total 4 columns):\n",
      "DAYOFSERVICE    272622 non-null datetime64[ns]\n",
      "VEHICLEID       272622 non-null category\n",
      "DISTANCE        272622 non-null int64\n",
      "MINUTES         272622 non-null int64\n",
      "dtypes: category(1), datetime64[ns](1), int64(2)\n",
      "memory usage: 6.8 MB\n"
     ]
    }
   ],
   "source": [
    "vehicles.info(memory_usage='deep')"
   ]
  },
  {
   "cell_type": "markdown",
   "metadata": {},
   "source": [
    "# OUTPUTTING DF STATE"
   ]
  },
  {
   "cell_type": "code",
   "execution_count": 49,
   "metadata": {},
   "outputs": [],
   "source": [
    "vehicles.to_feather('/tmp/ssh_mount/rt_vehicles/020719_vehicles.feather')"
   ]
  },
  {
   "cell_type": "code",
   "execution_count": null,
   "metadata": {},
   "outputs": [],
   "source": []
  }
 ],
 "metadata": {
  "kernelspec": {
   "display_name": "analytics",
   "language": "python",
   "name": "analytics"
  },
  "language_info": {
   "codemirror_mode": {
    "name": "ipython",
    "version": 3
   },
   "file_extension": ".py",
   "mimetype": "text/x-python",
   "name": "python",
   "nbconvert_exporter": "python",
   "pygments_lexer": "ipython3",
   "version": "3.7.3"
  },
  "toc": {
   "base_numbering": 1,
   "nav_menu": {},
   "number_sections": true,
   "sideBar": true,
   "skip_h1_title": false,
   "title_cell": "Table of Contents",
   "title_sidebar": "Contents",
   "toc_cell": true,
   "toc_position": {},
   "toc_section_display": true,
   "toc_window_display": false
  },
  "varInspector": {
   "cols": {
    "lenName": 16,
    "lenType": 16,
    "lenVar": 40
   },
   "kernels_config": {
    "python": {
     "delete_cmd_postfix": "",
     "delete_cmd_prefix": "del ",
     "library": "var_list.py",
     "varRefreshCmd": "print(var_dic_list())"
    },
    "r": {
     "delete_cmd_postfix": ") ",
     "delete_cmd_prefix": "rm(",
     "library": "var_list.r",
     "varRefreshCmd": "cat(var_dic_list()) "
    }
   },
   "types_to_exclude": [
    "module",
    "function",
    "builtin_function_or_method",
    "instance",
    "_Feature"
   ],
   "window_display": false
  }
 },
 "nbformat": 4,
 "nbformat_minor": 2
}
