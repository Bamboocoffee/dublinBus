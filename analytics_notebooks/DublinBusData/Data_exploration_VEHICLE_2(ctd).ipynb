{
 "cells": [
  {
   "cell_type": "markdown",
   "metadata": {
    "toc": true
   },
   "source": [
    "<h1>Table of Contents<span class=\"tocSkip\"></span></h1>\n",
    "<div class=\"toc\"><ul class=\"toc-item\"><li><span><a href=\"#IMPORTS\" data-toc-modified-id=\"IMPORTS-1\"><span class=\"toc-item-num\">1&nbsp;&nbsp;</span>IMPORTS</a></span></li><li><span><a href=\"#Read-in-Feather\" data-toc-modified-id=\"Read-in-Feather-2\"><span class=\"toc-item-num\">2&nbsp;&nbsp;</span>Read-in Feather</a></span></li><li><span><a href=\"#Data-Exploration\" data-toc-modified-id=\"Data-Exploration-3\"><span class=\"toc-item-num\">3&nbsp;&nbsp;</span>Data Exploration</a></span><ul class=\"toc-item\"><li><span><a href=\"#Check-Dates-in-DateRange\" data-toc-modified-id=\"Check-Dates-in-DateRange-3.1\"><span class=\"toc-item-num\">3.1&nbsp;&nbsp;</span>Check Dates in DateRange</a></span></li><li><span><a href=\"#Number-of-Minutes-Values-exceeding-threshold-of-19.5hrs\" data-toc-modified-id=\"Number-of-Minutes-Values-exceeding-threshold-of-19.5hrs-3.2\"><span class=\"toc-item-num\">3.2&nbsp;&nbsp;</span>Number of Minutes Values exceeding threshold of 19.5hrs</a></span></li><li><span><a href=\"#Distance-Upper-End\" data-toc-modified-id=\"Distance-Upper-End-3.3\"><span class=\"toc-item-num\">3.3&nbsp;&nbsp;</span>Distance Upper-End</a></span></li></ul></li></ul></div>"
   ]
  },
  {
   "cell_type": "markdown",
   "metadata": {
    "heading_collapsed": true
   },
   "source": [
    "# IMPORTS"
   ]
  },
  {
   "cell_type": "code",
   "execution_count": 1,
   "metadata": {
    "hidden": true
   },
   "outputs": [
    {
     "data": {
      "text/html": [
       "<style>.container {width:80% !important;}</style>"
      ],
      "text/plain": [
       "<IPython.core.display.HTML object>"
      ]
     },
     "metadata": {},
     "output_type": "display_data"
    }
   ],
   "source": [
    "# set the display aspect ratio\n",
    "\n",
    "from IPython.core.display import display, HTML\n",
    "display(HTML('<style>.container {width:80% !important;}</style>'))"
   ]
  },
  {
   "cell_type": "code",
   "execution_count": 2,
   "metadata": {
    "hidden": true
   },
   "outputs": [],
   "source": [
    "# import packages\n",
    "\n",
    "import pandas as pd\n",
    "import numpy as np\n",
    "import matplotlib.pyplot as plt\n",
    "import pandas_profiling as papr"
   ]
  },
  {
   "cell_type": "code",
   "execution_count": 3,
   "metadata": {
    "hidden": true
   },
   "outputs": [],
   "source": [
    "# Display plots in the notebook\n",
    "\n",
    "%matplotlib inline"
   ]
  },
  {
   "cell_type": "code",
   "execution_count": 4,
   "metadata": {
    "hidden": true
   },
   "outputs": [],
   "source": [
    "# load custom function for assessing dataframes succinctly\n",
    "\n",
    "def assess_df(df):\n",
    "  \n",
    "    feature_types = {df[df.columns[x]].dtypes.name for x in range(len(df.columns))}\n",
    "    \n",
    "  \t# print datatypes\n",
    "  \n",
    "    print(\"Datatypes:\\n\")\n",
    "    print(df.dtypes)\n",
    "    print('\\n\\n')\n",
    "    \n",
    "    # print number rows and cols\n",
    "    print('*' * 50)\n",
    "    print('ROWS, COLUMNS, NULLS\\n')\n",
    "    print(df.shape[0], \"rows in the dataframe.\")\n",
    "    print(df.shape[1], \"columns in the dataframe.\\n\")\n",
    "    print(df.isnull().sum().sum(), \"null values in the dataframe.\")\n",
    "    \n",
    "    # check duplicate rows & col; print if present\n",
    "    \n",
    "    duplicate_rows = df.duplicated(keep=False).sum()\n",
    "    duplicate_cols = df.index.T.duplicated(keep=False).sum()\n",
    "    \n",
    "    print(duplicate_rows, \"duplicate rows\")\n",
    "    print(duplicate_cols, \"duplicate columns\")\n",
    "    \n",
    "    if duplicate_rows > 0 or duplicate_cols > 0:\n",
    "      print(df.loc[df.duplicated()])\n",
    "\t\n",
    "    print('\\n')\n",
    "    \n",
    "    # check for constant columns\n",
    "    \n",
    "    numeric_cols = list(df.select_dtypes(include=[np.number]).columns.values)\n",
    "    categorical_cols = list(df.select_dtypes('category').columns.values)\n",
    "    \n",
    "    standard_diffs = [df.describe().loc['std', x] for x in numeric_cols]\n",
    "    \n",
    "    constant_categorical_column=False\n",
    "    if 'category' in feature_types:\n",
    "        for column in categorical_cols:\n",
    "            if df[column].describe().index.unique == 1:\n",
    "                constant_categorical_column = True\n",
    "            \n",
    "            \n",
    "    if 0 in standard_diffs:\n",
    "        print(\"Constant numeric columns: TRUE\")\n",
    "    else:\n",
    "        print(\"Constant numeric columns: FALSE\")\n",
    "  \n",
    "    if 'category' in feature_types:    \n",
    "        if constant_categorical_column == True:\n",
    "            print(\"Constant categorical columns: TRUE\")\n",
    "        else:\n",
    "            print(\"Constant categorical columns: FALSE\")\n",
    "\n",
    "            \n",
    "    \n",
    "    print('\\n\\n')\n",
    "\n",
    "    \n",
    "    # feature stats\n",
    "    print('*' * 50)\n",
    "    print('DESCRIPTION\\n')\n",
    "    print(df.describe().T)\n",
    "    print('\\n\\n')\n",
    "    print('*' * 50)\n",
    "\n",
    "    \n",
    "    # feature stats: categorical\n",
    "    \n",
    "    if 'category' in feature_types:\n",
    "        print('CATEGORICAL DESCRIPTION\\n')\n",
    "        print('\\n')\n",
    "        print(df.select_dtypes(['category']).describe().T)\n",
    "        print('\\n\\n')\n",
    "        print('*' * 50)\n",
    "    \n",
    "    # print feature cardinalities\n",
    "    \n",
    "    print(\"FEATURE CARDINALITIES\\n\")\n",
    "    column_names = list(df.columns.values)\n",
    "\n",
    "    print('{0:45}  {1}'.format(\"Feature\", \"Distinct Values\"))\n",
    "    print('{0:45}  {1}'.format(\"-------\", \"--------------- \\n\"))\n",
    "\n",
    "    for c in column_names:\n",
    "        print('{0:45}  {1}'.format(c, str(len(df[c].unique()))))\n",
    "    \n",
    "    print('\\n')\n",
    "    print('*' * 50)\n",
    "    print('MEMORY\\n')\n",
    "    \n",
    "    \n",
    "    print(df.info(memory_usage='deep'))\n",
    "    print('\\n')\n",
    "    print(df.memory_usage(deep=True))\n",
    "    print('\\n')\n",
    "    print('*' * 50)\n",
    "    print('HEAD\\n')\n",
    "    print(df.head(10))\n",
    "    print('\\n')\n",
    "    print('*' * 50)\n",
    "    print('TAIL\\n')\n",
    "    print(df.tail(10))"
   ]
  },
  {
   "cell_type": "markdown",
   "metadata": {},
   "source": [
    "# Read-in Feather"
   ]
  },
  {
   "cell_type": "code",
   "execution_count": 5,
   "metadata": {},
   "outputs": [],
   "source": [
    "df = pd.read_feather('/tmp/ssh_mount/rt_vehicles/020719_vehicles.feather')"
   ]
  },
  {
   "cell_type": "code",
   "execution_count": 6,
   "metadata": {},
   "outputs": [
    {
     "data": {
      "text/html": [
       "<div>\n",
       "<style scoped>\n",
       "    .dataframe tbody tr th:only-of-type {\n",
       "        vertical-align: middle;\n",
       "    }\n",
       "\n",
       "    .dataframe tbody tr th {\n",
       "        vertical-align: top;\n",
       "    }\n",
       "\n",
       "    .dataframe thead th {\n",
       "        text-align: right;\n",
       "    }\n",
       "</style>\n",
       "<table border=\"1\" class=\"dataframe\">\n",
       "  <thead>\n",
       "    <tr style=\"text-align: right;\">\n",
       "      <th></th>\n",
       "      <th>DAYOFSERVICE</th>\n",
       "      <th>VEHICLEID</th>\n",
       "      <th>DISTANCE</th>\n",
       "      <th>MINUTES</th>\n",
       "    </tr>\n",
       "  </thead>\n",
       "  <tbody>\n",
       "    <tr>\n",
       "      <th>0</th>\n",
       "      <td>2018-11-23</td>\n",
       "      <td>3303848</td>\n",
       "      <td>286166</td>\n",
       "      <td>58849</td>\n",
       "    </tr>\n",
       "    <tr>\n",
       "      <th>1</th>\n",
       "      <td>2018-11-23</td>\n",
       "      <td>3303847</td>\n",
       "      <td>259545</td>\n",
       "      <td>56828</td>\n",
       "    </tr>\n",
       "    <tr>\n",
       "      <th>2</th>\n",
       "      <td>2018-02-28</td>\n",
       "      <td>2868329</td>\n",
       "      <td>103096</td>\n",
       "      <td>40967</td>\n",
       "    </tr>\n",
       "    <tr>\n",
       "      <th>3</th>\n",
       "      <td>2018-02-28</td>\n",
       "      <td>2868330</td>\n",
       "      <td>147277</td>\n",
       "      <td>43599</td>\n",
       "    </tr>\n",
       "    <tr>\n",
       "      <th>4</th>\n",
       "      <td>2018-02-28</td>\n",
       "      <td>2868331</td>\n",
       "      <td>224682</td>\n",
       "      <td>40447</td>\n",
       "    </tr>\n",
       "  </tbody>\n",
       "</table>\n",
       "</div>"
      ],
      "text/plain": [
       "  DAYOFSERVICE VEHICLEID  DISTANCE  MINUTES\n",
       "0   2018-11-23   3303848    286166    58849\n",
       "1   2018-11-23   3303847    259545    56828\n",
       "2   2018-02-28   2868329    103096    40967\n",
       "3   2018-02-28   2868330    147277    43599\n",
       "4   2018-02-28   2868331    224682    40447"
      ]
     },
     "execution_count": 6,
     "metadata": {},
     "output_type": "execute_result"
    }
   ],
   "source": [
    "df.head()"
   ]
  },
  {
   "cell_type": "code",
   "execution_count": 7,
   "metadata": {},
   "outputs": [
    {
     "name": "stdout",
     "output_type": "stream",
     "text": [
      "Datatypes:\n",
      "\n",
      "DAYOFSERVICE    datetime64[ns]\n",
      "VEHICLEID             category\n",
      "DISTANCE                 int64\n",
      "MINUTES                  int64\n",
      "dtype: object\n",
      "\n",
      "\n",
      "\n",
      "**************************************************\n",
      "ROWS, COLUMNS, NULLS\n",
      "\n",
      "272622 rows in the dataframe.\n",
      "4 columns in the dataframe.\n",
      "\n",
      "0 null values in the dataframe.\n",
      "0 duplicate rows\n",
      "0 duplicate columns\n",
      "\n",
      "\n",
      "Constant numeric columns: FALSE\n",
      "Constant categorical columns: FALSE\n",
      "\n",
      "\n",
      "\n",
      "**************************************************\n",
      "DESCRIPTION\n",
      "\n",
      "             count           mean           std      min       25%       50%  \\\n",
      "DISTANCE  272622.0  177486.328466  71334.432383      0.0  126765.0  177420.0   \n",
      "MINUTES   272622.0   45597.643220  14881.389868 -70145.0   39380.0   46994.5   \n",
      "\n",
      "                75%       max  \n",
      "DISTANCE  227126.25  473864.0  \n",
      "MINUTES    57911.00   76651.0  \n",
      "\n",
      "\n",
      "\n",
      "**************************************************\n",
      "CATEGORICAL DESCRIPTION\n",
      "\n",
      "\n",
      "\n",
      "            count  unique      top  freq\n",
      "VEHICLEID  272622    1152  2693284   342\n",
      "\n",
      "\n",
      "\n",
      "**************************************************\n",
      "FEATURE CARDINALITIES\n",
      "\n",
      "Feature                                        Distinct Values\n",
      "-------                                        --------------- \n",
      "\n",
      "DAYOFSERVICE                                   360\n",
      "VEHICLEID                                      1152\n",
      "DISTANCE                                       170498\n",
      "MINUTES                                        57523\n",
      "\n",
      "\n",
      "**************************************************\n",
      "MEMORY\n",
      "\n",
      "<class 'pandas.core.frame.DataFrame'>\n",
      "RangeIndex: 272622 entries, 0 to 272621\n",
      "Data columns (total 4 columns):\n",
      "DAYOFSERVICE    272622 non-null datetime64[ns]\n",
      "VEHICLEID       272622 non-null category\n",
      "DISTANCE        272622 non-null int64\n",
      "MINUTES         272622 non-null int64\n",
      "dtypes: category(1), datetime64[ns](1), int64(2)\n",
      "memory usage: 6.8 MB\n",
      "None\n",
      "\n",
      "\n",
      "Index                80\n",
      "DAYOFSERVICE    2180976\n",
      "VEHICLEID        595420\n",
      "DISTANCE        2180976\n",
      "MINUTES         2180976\n",
      "dtype: int64\n",
      "\n",
      "\n",
      "**************************************************\n",
      "HEAD\n",
      "\n",
      "  DAYOFSERVICE VEHICLEID  DISTANCE  MINUTES\n",
      "0   2018-11-23   3303848    286166    58849\n",
      "1   2018-11-23   3303847    259545    56828\n",
      "2   2018-02-28   2868329    103096    40967\n",
      "3   2018-02-28   2868330    147277    43599\n",
      "4   2018-02-28   2868331    224682    40447\n",
      "5   2018-02-28   2868332     19499     6289\n",
      "6   2018-02-28   2868333    133014    43647\n",
      "7   2018-02-28   2868334    168964    47167\n",
      "8   2018-02-28   2868335    360842    55477\n",
      "9   2018-02-28   2868336    139959    39599\n",
      "\n",
      "\n",
      "**************************************************\n",
      "TAIL\n",
      "\n",
      "       DAYOFSERVICE VEHICLEID  DISTANCE  MINUTES\n",
      "272612   2018-12-29   3393871     18770      596\n",
      "272613   2018-12-29   3393873     85857    16884\n",
      "272614   2018-12-29   3393874    154631    43992\n",
      "272615   2018-12-29   3393875    210361    49470\n",
      "272616   2018-12-29   3393877    234756    60558\n",
      "272617   2018-12-29   3393878    264237    62320\n",
      "272618   2018-12-29   3394105    250335    52254\n",
      "272619   2018-12-29   3394109    172539    44349\n",
      "272620   2018-12-29   3394130    188057    38948\n",
      "272621   2018-12-29   3394131    291697    63677\n"
     ]
    }
   ],
   "source": [
    "assess_df(df)"
   ]
  },
  {
   "cell_type": "markdown",
   "metadata": {},
   "source": [
    "# Data Exploration"
   ]
  },
  {
   "cell_type": "markdown",
   "metadata": {},
   "source": [
    "## Check Dates in DateRange"
   ]
  },
  {
   "cell_type": "code",
   "execution_count": 8,
   "metadata": {},
   "outputs": [
    {
     "data": {
      "text/plain": [
       "Timestamp('2018-01-01 00:00:00')"
      ]
     },
     "execution_count": 8,
     "metadata": {},
     "output_type": "execute_result"
    }
   ],
   "source": [
    "# earliest timestamp\n",
    "\n",
    "start_date = df.DAYOFSERVICE.min()\n",
    "start_date"
   ]
  },
  {
   "cell_type": "code",
   "execution_count": 9,
   "metadata": {},
   "outputs": [
    {
     "data": {
      "text/plain": [
       "Timestamp('2018-12-31 00:00:00')"
      ]
     },
     "execution_count": 9,
     "metadata": {},
     "output_type": "execute_result"
    }
   ],
   "source": [
    "# latest timestamp\n",
    "\n",
    "end_date = df.DAYOFSERVICE.max()\n",
    "end_date"
   ]
  },
  {
   "cell_type": "code",
   "execution_count": 10,
   "metadata": {},
   "outputs": [],
   "source": [
    "# define the range of dates\n",
    "\n",
    "year = pd.date_range(start_date, end_date)"
   ]
  },
  {
   "cell_type": "code",
   "execution_count": 11,
   "metadata": {},
   "outputs": [
    {
     "data": {
      "text/plain": [
       "DatetimeIndex(['2018-03-01', '2018-03-02', '2018-12-09', '2018-12-10',\n",
       "               '2018-12-25'],\n",
       "              dtype='datetime64[ns]', freq=None)"
      ]
     },
     "execution_count": 11,
     "metadata": {},
     "output_type": "execute_result"
    }
   ],
   "source": [
    "# check which dates from the dataset do \n",
    "# not appear in the range\n",
    "\n",
    "year.difference(df.DAYOFSERVICE.values)"
   ]
  },
  {
   "cell_type": "markdown",
   "metadata": {},
   "source": [
    "## Number of Minutes Values exceeding threshold of 19.5hrs"
   ]
  },
  {
   "cell_type": "code",
   "execution_count": 13,
   "metadata": {},
   "outputs": [
    {
     "data": {
      "text/plain": [
       "270"
      ]
     },
     "execution_count": 13,
     "metadata": {},
     "output_type": "execute_result"
    }
   ],
   "source": [
    "df.loc[df.MINUTES > 70020].shape[0]"
   ]
  },
  {
   "cell_type": "code",
   "execution_count": 15,
   "metadata": {},
   "outputs": [
    {
     "data": {
      "text/plain": [
       "0.09903822875629995"
      ]
     },
     "execution_count": 15,
     "metadata": {},
     "output_type": "execute_result"
    }
   ],
   "source": [
    "(df.loc[df.MINUTES > 70020].shape[0] / len(df)) * 100"
   ]
  },
  {
   "cell_type": "markdown",
   "metadata": {},
   "source": [
    "## Distance Upper-End"
   ]
  },
  {
   "cell_type": "code",
   "execution_count": 21,
   "metadata": {},
   "outputs": [
    {
     "data": {
      "text/plain": [
       "<matplotlib.axes._subplots.AxesSubplot at 0x11ecd73c8>"
      ]
     },
     "execution_count": 21,
     "metadata": {},
     "output_type": "execute_result"
    },
    {
     "data": {
      "image/png": "[encoded data removed]",
      "text/plain": [
       "<Figure size 720x720 with 1 Axes>"
      ]
     },
     "metadata": {
      "needs_background": "light"
     },
     "output_type": "display_data"
    }
   ],
   "source": [
    "# plot distance figures above the 75th percentile\n",
    "\n",
    "df.loc[df.DISTANCE > 227126, 'DISTANCE'].plot(kind='hist', bins=80, figsize=(10,10))"
   ]
  },
  {
   "cell_type": "code",
   "execution_count": 22,
   "metadata": {},
   "outputs": [
    {
     "data": {
      "text/plain": [
       "<matplotlib.axes._subplots.AxesSubplot at 0x11d9acb70>"
      ]
     },
     "execution_count": 22,
     "metadata": {},
     "output_type": "execute_result"
    },
    {
     "data": {
      "image/png": "[encoded data removed]",
      "text/plain": [
       "<Figure size 720x720 with 1 Axes>"
      ]
     },
     "metadata": {
      "needs_background": "light"
     },
     "output_type": "display_data"
    }
   ],
   "source": [
    "df.loc[df.DISTANCE > 227126, 'DISTANCE'].plot(kind='box', figsize=(10,10))"
   ]
  },
  {
   "cell_type": "code",
   "execution_count": 23,
   "metadata": {},
   "outputs": [
    {
     "data": {
      "text/plain": [
       "2141"
      ]
     },
     "execution_count": 23,
     "metadata": {},
     "output_type": "execute_result"
    }
   ],
   "source": [
    "df.loc[df.DISTANCE > 350000].shape[0]"
   ]
  },
  {
   "cell_type": "code",
   "execution_count": 24,
   "metadata": {},
   "outputs": [
    {
     "data": {
      "text/plain": [
       "0.7853364732119932"
      ]
     },
     "execution_count": 24,
     "metadata": {},
     "output_type": "execute_result"
    }
   ],
   "source": [
    "(df.loc[df.DISTANCE > 350000].shape[0] / len(df)) * 100"
   ]
  },
  {
   "cell_type": "code",
   "execution_count": null,
   "metadata": {},
   "outputs": [],
   "source": []
  }
 ],
 "metadata": {
  "kernelspec": {
   "display_name": "analytics",
   "language": "python",
   "name": "analytics"
  },
  "language_info": {
   "codemirror_mode": {
    "name": "ipython",
    "version": 3
   },
   "file_extension": ".py",
   "mimetype": "text/x-python",
   "name": "python",
   "nbconvert_exporter": "python",
   "pygments_lexer": "ipython3",
   "version": "3.7.3"
  },
  "toc": {
   "base_numbering": 1,
   "nav_menu": {},
   "number_sections": true,
   "sideBar": true,
   "skip_h1_title": false,
   "title_cell": "Table of Contents",
   "title_sidebar": "Contents",
   "toc_cell": true,
   "toc_position": {},
   "toc_section_display": true,
   "toc_window_display": false
  },
  "varInspector": {
   "cols": {
    "lenName": 16,
    "lenType": 16,
    "lenVar": 40
   },
   "kernels_config": {
    "python": {
     "delete_cmd_postfix": "",
     "delete_cmd_prefix": "del ",
     "library": "var_list.py",
     "varRefreshCmd": "print(var_dic_list())"
    },
    "r": {
     "delete_cmd_postfix": ") ",
     "delete_cmd_prefix": "rm(",
     "library": "var_list.r",
     "varRefreshCmd": "cat(var_dic_list()) "
    }
   },
   "types_to_exclude": [
    "module",
    "function",
    "builtin_function_or_method",
    "instance",
    "_Feature"
   ],
   "window_display": false
  }
 },
 "nbformat": 4,
 "nbformat_minor": 2
}
