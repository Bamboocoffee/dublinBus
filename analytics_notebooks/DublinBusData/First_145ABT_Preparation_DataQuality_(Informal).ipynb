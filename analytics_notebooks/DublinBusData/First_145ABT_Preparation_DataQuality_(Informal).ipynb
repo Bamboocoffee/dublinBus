{
 "cells": [
  {
   "cell_type": "markdown",
   "metadata": {
    "toc": true
   },
   "source": [
    "<h1>Table of Contents<span class=\"tocSkip\"></span></h1>\n",
    "<div class=\"toc\"><ul class=\"toc-item\"><li><span><a href=\"#IMPORTS\" data-toc-modified-id=\"IMPORTS-1\"><span class=\"toc-item-num\">1&nbsp;&nbsp;</span>IMPORTS</a></span></li><li><span><a href=\"#General-rt_Dataset-Data-Quality-Issues:-Check-if-Applicable-to-Subset\" data-toc-modified-id=\"General-rt_Dataset-Data-Quality-Issues:-Check-if-Applicable-to-Subset-2\"><span class=\"toc-item-num\">2&nbsp;&nbsp;</span>General rt_Dataset Data Quality Issues: Check if Applicable to Subset</a></span></li><li><span><a href=\"#Read-in,-Assess,-Explore\" data-toc-modified-id=\"Read-in,-Assess,-Explore-3\"><span class=\"toc-item-num\">3&nbsp;&nbsp;</span>Read-in, Assess, Explore</a></span><ul class=\"toc-item\"><li><span><a href=\"#Read-in\" data-toc-modified-id=\"Read-in-3.1\"><span class=\"toc-item-num\">3.1&nbsp;&nbsp;</span>Read-in</a></span></li><li><span><a href=\"#Trips\" data-toc-modified-id=\"Trips-3.2\"><span class=\"toc-item-num\">3.2&nbsp;&nbsp;</span>Trips</a></span><ul class=\"toc-item\"><li><span><a href=\"#Check-for-Null-Values\" data-toc-modified-id=\"Check-for-Null-Values-3.2.1\"><span class=\"toc-item-num\">3.2.1&nbsp;&nbsp;</span>Check for Null Values</a></span></li><li><span><a href=\"#Check-for-u-nreliable-ACTUALTIMES:-indicating-issues-with-ACTUALTIME_-features\" data-toc-modified-id=\"Check-for-u-nreliable-ACTUALTIMES:-indicating-issues-with-ACTUALTIME_-features-3.2.2\"><span class=\"toc-item-num\">3.2.2&nbsp;&nbsp;</span>Check for u nreliable ACTUALTIMES: indicating issues with ACTUALTIME_ features</a></span></li><li><span><a href=\"#Check-Changes\" data-toc-modified-id=\"Check-Changes-3.2.3\"><span class=\"toc-item-num\">3.2.3&nbsp;&nbsp;</span>Check Changes</a></span></li><li><span><a href=\"#Inspect-&amp;-Remove-Outliers\" data-toc-modified-id=\"Inspect-&amp;-Remove-Outliers-3.2.4\"><span class=\"toc-item-num\">3.2.4&nbsp;&nbsp;</span>Inspect &amp; Remove Outliers</a></span><ul class=\"toc-item\"><li><span><a href=\"#Based-on-Journey-Times\" data-toc-modified-id=\"Based-on-Journey-Times-3.2.4.1\"><span class=\"toc-item-num\">3.2.4.1&nbsp;&nbsp;</span>Based on Journey Times</a></span></li><li><span><a href=\"#Based-on-Actual-Times\" data-toc-modified-id=\"Based-on-Actual-Times-3.2.4.2\"><span class=\"toc-item-num\">3.2.4.2&nbsp;&nbsp;</span>Based on Actual Times</a></span></li></ul></li><li><span><a href=\"#Plot-distribution-of-trips-per-hour\" data-toc-modified-id=\"Plot-distribution-of-trips-per-hour-3.2.5\"><span class=\"toc-item-num\">3.2.5&nbsp;&nbsp;</span>Plot distribution of trips per hour</a></span></li></ul></li><li><span><a href=\"#LeaveTimes\" data-toc-modified-id=\"LeaveTimes-3.3\"><span class=\"toc-item-num\">3.3&nbsp;&nbsp;</span>LeaveTimes</a></span><ul class=\"toc-item\"><li><span><a href=\"#First,-remove-any-trips-removed-in-the-trips-dataset,-above.\" data-toc-modified-id=\"First,-remove-any-trips-removed-in-the-trips-dataset,-above.-3.3.1\"><span class=\"toc-item-num\">3.3.1&nbsp;&nbsp;</span>First, remove any trips removed in the trips dataset, above.</a></span><ul class=\"toc-item\"><li><span><a href=\"#List-TRIPS-ids\" data-toc-modified-id=\"List-TRIPS-ids-3.3.1.1\"><span class=\"toc-item-num\">3.3.1.1&nbsp;&nbsp;</span>List TRIPS ids</a></span></li><li><span><a href=\"#Remove-trips-ids-from-LEAVETIMES-not-in-prev.-list\" data-toc-modified-id=\"Remove-trips-ids-from-LEAVETIMES-not-in-prev.-list-3.3.1.2\"><span class=\"toc-item-num\">3.3.1.2&nbsp;&nbsp;</span>Remove trips ids from LEAVETIMES not in prev. list</a></span></li></ul></li><li><span><a href=\"#Check-Distributions\" data-toc-modified-id=\"Check-Distributions-3.3.2\"><span class=\"toc-item-num\">3.3.2&nbsp;&nbsp;</span>Check Distributions</a></span><ul class=\"toc-item\"><li><span><a href=\"#Inspect-distribution-of-planned-vs-actual-arrival-times\" data-toc-modified-id=\"Inspect-distribution-of-planned-vs-actual-arrival-times-3.3.2.1\"><span class=\"toc-item-num\">3.3.2.1&nbsp;&nbsp;</span>Inspect distribution of planned vs actual arrival times</a></span></li></ul></li><li><span><a href=\"#Examine-Very-Early-Trips\" data-toc-modified-id=\"Examine-Very-Early-Trips-3.3.3\"><span class=\"toc-item-num\">3.3.3&nbsp;&nbsp;</span>Examine Very Early Trips</a></span></li></ul></li></ul></li><li><span><a href=\"#New\" data-toc-modified-id=\"New-4\"><span class=\"toc-item-num\">4&nbsp;&nbsp;</span>New</a></span></li></ul></div>"
   ]
  },
  {
   "cell_type": "markdown",
   "metadata": {},
   "source": [
    "# IMPORTS"
   ]
  },
  {
   "cell_type": "code",
   "execution_count": 1,
   "metadata": {},
   "outputs": [
    {
     "data": {
      "text/html": [
       "<style>.container {width:80% !important;}</style>"
      ],
      "text/plain": [
       "<IPython.core.display.HTML object>"
      ]
     },
     "metadata": {},
     "output_type": "display_data"
    }
   ],
   "source": [
    "# set the display aspect ratio\n",
    "\n",
    "from IPython.core.display import display, HTML\n",
    "display(HTML('<style>.container {width:80% !important;}</style>'))"
   ]
  },
  {
   "cell_type": "code",
   "execution_count": 2,
   "metadata": {},
   "outputs": [],
   "source": [
    "# import packages\n",
    "\n",
    "import pandas as pd\n",
    "import numpy as np\n",
    "import matplotlib.pyplot as plt\n",
    "import pandas_profiling as papr\n",
    "from matplotlib import style\n",
    "import gc"
   ]
  },
  {
   "cell_type": "code",
   "execution_count": 3,
   "metadata": {},
   "outputs": [],
   "source": [
    "# Display plots in the notebook\n",
    "\n",
    "%matplotlib inline"
   ]
  },
  {
   "cell_type": "code",
   "execution_count": 4,
   "metadata": {},
   "outputs": [],
   "source": [
    "# load custom function for assessing dataframes succinctly\n",
    "\n",
    "def assess_df(df):\n",
    "  \n",
    "    feature_types = {df[df.columns[x]].dtypes.name for x in range(len(df.columns))}\n",
    "    \n",
    "  \t# print datatypes\n",
    "  \n",
    "    print(\"Datatypes:\\n\")\n",
    "    print(df.dtypes)\n",
    "    print('\\n\\n')\n",
    "    \n",
    "    # print number rows and cols\n",
    "    print('*' * 50)\n",
    "    print('ROWS, COLUMNS, NULLS\\n')\n",
    "    print(df.shape[0], \"rows in the dataframe.\")\n",
    "    print(df.shape[1], \"columns in the dataframe.\\n\")\n",
    "    print(df.isnull().sum().sum(), \"null values in the dataframe.\")\n",
    "    \n",
    "    # check duplicate rows & col; print if present\n",
    "    \n",
    "    duplicate_rows = df.duplicated(keep=False).sum()\n",
    "    duplicate_cols = df.index.T.duplicated(keep=False).sum()\n",
    "    \n",
    "    print(duplicate_rows, \"duplicate rows\")\n",
    "    print(duplicate_cols, \"duplicate columns\")\n",
    "    \n",
    "    if duplicate_rows > 0 or duplicate_cols > 0:\n",
    "      print(df.loc[df.duplicated()])\n",
    "\t\n",
    "    print('\\n')\n",
    "    \n",
    "    # check for constant columns\n",
    "    \n",
    "    numeric_cols = list(df.select_dtypes(include=[np.number]).columns.values)\n",
    "    categorical_cols = list(df.select_dtypes('category').columns.values)\n",
    "    \n",
    "    standard_diffs = [df.describe().loc['std', x] for x in numeric_cols]\n",
    "    \n",
    "    constant_categorical_column=False\n",
    "    if 'category' in feature_types:\n",
    "        for column in categorical_cols:\n",
    "            if df[column].describe().index.unique == 1:\n",
    "                constant_categorical_column = True\n",
    "            \n",
    "            \n",
    "    if 0 in standard_diffs:\n",
    "        print(\"Constant numeric columns: TRUE\")\n",
    "    else:\n",
    "        print(\"Constant numeric columns: FALSE\")\n",
    "  \n",
    "    if 'category' in feature_types:    \n",
    "        if constant_categorical_column == True:\n",
    "            print(\"Constant categorical columns: TRUE\")\n",
    "        else:\n",
    "            print(\"Constant categorical columns: FALSE\")\n",
    "\n",
    "            \n",
    "    \n",
    "    print('\\n\\n')\n",
    "\n",
    "    \n",
    "    # feature stats\n",
    "    print('*' * 50)\n",
    "    print('DESCRIPTION\\n')\n",
    "    print(df.describe().T)\n",
    "    print('\\n\\n')\n",
    "    print('*' * 50)\n",
    "\n",
    "    \n",
    "    # feature stats: categorical\n",
    "    \n",
    "    if 'category' in feature_types:\n",
    "        print('CATEGORICAL DESCRIPTION\\n')\n",
    "        print('\\n')\n",
    "        print(df.select_dtypes(['category']).describe().T)\n",
    "        print('\\n\\n')\n",
    "        print('*' * 50)\n",
    "    \n",
    "    # print feature cardinalities\n",
    "    \n",
    "    print(\"FEATURE CARDINALITIES\\n\")\n",
    "    column_names = list(df.columns.values)\n",
    "\n",
    "    print('{0:45}  {1}'.format(\"Feature\", \"Distinct Values\"))\n",
    "    print('{0:45}  {1}'.format(\"-------\", \"--------------- \\n\"))\n",
    "\n",
    "    for c in column_names:\n",
    "        print('{0:45}  {1}'.format(c, str(len(df[c].unique()))))\n",
    "    \n",
    "    print('\\n')\n",
    "    print('*' * 50)\n",
    "    print('MEMORY\\n')\n",
    "    \n",
    "    \n",
    "    print(df.info(memory_usage='deep'))\n",
    "    print('\\n')\n",
    "    print(df.memory_usage(deep=True))\n",
    "    print('\\n')\n",
    "    print('*' * 50)\n",
    "    print('HEAD\\n')\n",
    "    print(df.head(10))\n",
    "    print('\\n')\n",
    "    print('*' * 50)\n",
    "    print('TAIL\\n')\n",
    "    print(df.tail(10))"
   ]
  },
  {
   "cell_type": "markdown",
   "metadata": {},
   "source": [
    "# General rt_Dataset Data Quality Issues: Check if Applicable to Subset"
   ]
  },
  {
   "cell_type": "markdown",
   "metadata": {},
   "source": [
    "**TRIPS**\n",
    "\n",
    "<br>\n",
    "\n",
    "Actual_Arr, and Act_Dep have nulls\n",
    "\n",
    "<br>\n",
    "\n",
    "In some cases actual time of departure is greater than actual time of arrival. Thus unreliable.\n",
    "\n",
    "<br>\n",
    "\n",
    "There exist outliers.\n",
    "\n",
    "<br>\n",
    "\n",
    "_Set correct data types before modelling_\n",
    "\n",
    "\n",
    "<br>\n",
    "_____________________________________________\n",
    "\n",
    "<br>\n",
    "\n",
    "**LEAVETIMES**\n",
    "\n",
    "<br>\n",
    "\n",
    "Possible Outier values for Planned and Actual times or arrival / departure: may not correspond to real service"
   ]
  },
  {
   "cell_type": "markdown",
   "metadata": {},
   "source": [
    "# Read-in, Assess, Explore"
   ]
  },
  {
   "cell_type": "markdown",
   "metadata": {},
   "source": [
    "## Read-in"
   ]
  },
  {
   "cell_type": "code",
   "execution_count": 5,
   "metadata": {},
   "outputs": [],
   "source": [
    "df_trips = pd.read_feather('/tmp/ssh_mount/L145_trial/df_145_trips.feather')"
   ]
  },
  {
   "cell_type": "code",
   "execution_count": 6,
   "metadata": {},
   "outputs": [],
   "source": [
    "# this is a workflow legacy problem: true df_leavetimes declared below\n",
    "\n",
    "temp_df_leavetimes = pd.read_feather('/tmp/ssh_mount/L145_trial/df_L145_leavetimes.feather')"
   ]
  },
  {
   "cell_type": "code",
   "execution_count": 7,
   "metadata": {},
   "outputs": [],
   "source": [
    "weather = pd.read_feather('/tmp/ssh_mount/L145_trial/weather.feather')"
   ]
  },
  {
   "cell_type": "code",
   "execution_count": 8,
   "metadata": {
    "scrolled": true
   },
   "outputs": [
    {
     "data": {
      "text/html": [
       "<div>\n",
       "<style scoped>\n",
       "    .dataframe tbody tr th:only-of-type {\n",
       "        vertical-align: middle;\n",
       "    }\n",
       "\n",
       "    .dataframe tbody tr th {\n",
       "        vertical-align: top;\n",
       "    }\n",
       "\n",
       "    .dataframe thead th {\n",
       "        text-align: right;\n",
       "    }\n",
       "</style>\n",
       "<table border=\"1\" class=\"dataframe\">\n",
       "  <thead>\n",
       "    <tr style=\"text-align: right;\">\n",
       "      <th></th>\n",
       "      <th>DAYOFSERVICE</th>\n",
       "      <th>TRIPID</th>\n",
       "      <th>LINEID</th>\n",
       "      <th>ROUTEID</th>\n",
       "      <th>DIRECTION</th>\n",
       "      <th>PLANNEDTIME_ARR</th>\n",
       "      <th>PLANNEDTIME_DEP</th>\n",
       "      <th>ACTUALTIME_ARR</th>\n",
       "      <th>ACTUALTIME_DEP</th>\n",
       "      <th>ACTUAL_TRIP_DURATION</th>\n",
       "      <th>DAYOFWEEK</th>\n",
       "      <th>MONTH</th>\n",
       "      <th>HOURRANGE_DEPARTURE</th>\n",
       "    </tr>\n",
       "  </thead>\n",
       "  <tbody>\n",
       "    <tr>\n",
       "      <th>0</th>\n",
       "      <td>2018-02-18</td>\n",
       "      <td>6263611</td>\n",
       "      <td>145</td>\n",
       "      <td>145_102</td>\n",
       "      <td>1</td>\n",
       "      <td>57297</td>\n",
       "      <td>52800</td>\n",
       "      <td>57733.0</td>\n",
       "      <td>52807.0</td>\n",
       "      <td>4926.0</td>\n",
       "      <td>6</td>\n",
       "      <td>2</td>\n",
       "      <td>14:00-15:00</td>\n",
       "    </tr>\n",
       "    <tr>\n",
       "      <th>1</th>\n",
       "      <td>2018-02-18</td>\n",
       "      <td>6267386</td>\n",
       "      <td>145</td>\n",
       "      <td>145_102</td>\n",
       "      <td>1</td>\n",
       "      <td>58497</td>\n",
       "      <td>54000</td>\n",
       "      <td>58711.0</td>\n",
       "      <td>53932.0</td>\n",
       "      <td>4779.0</td>\n",
       "      <td>6</td>\n",
       "      <td>2</td>\n",
       "      <td>14:00-15:00</td>\n",
       "    </tr>\n",
       "  </tbody>\n",
       "</table>\n",
       "</div>"
      ],
      "text/plain": [
       "  DAYOFSERVICE   TRIPID LINEID  ROUTEID DIRECTION  PLANNEDTIME_ARR  \\\n",
       "0   2018-02-18  6263611    145  145_102         1            57297   \n",
       "1   2018-02-18  6267386    145  145_102         1            58497   \n",
       "\n",
       "   PLANNEDTIME_DEP  ACTUALTIME_ARR  ACTUALTIME_DEP  ACTUAL_TRIP_DURATION  \\\n",
       "0            52800         57733.0         52807.0                4926.0   \n",
       "1            54000         58711.0         53932.0                4779.0   \n",
       "\n",
       "   DAYOFWEEK  MONTH HOURRANGE_DEPARTURE  \n",
       "0          6      2         14:00-15:00  \n",
       "1          6      2         14:00-15:00  "
      ]
     },
     "execution_count": 8,
     "metadata": {},
     "output_type": "execute_result"
    }
   ],
   "source": [
    "df_trips.head(2)"
   ]
  },
  {
   "cell_type": "code",
   "execution_count": 12,
   "metadata": {},
   "outputs": [
    {
     "data": {
      "text/html": [
       "<div>\n",
       "<style scoped>\n",
       "    .dataframe tbody tr th:only-of-type {\n",
       "        vertical-align: middle;\n",
       "    }\n",
       "\n",
       "    .dataframe tbody tr th {\n",
       "        vertical-align: top;\n",
       "    }\n",
       "\n",
       "    .dataframe thead th {\n",
       "        text-align: right;\n",
       "    }\n",
       "</style>\n",
       "<table border=\"1\" class=\"dataframe\">\n",
       "  <thead>\n",
       "    <tr style=\"text-align: right;\">\n",
       "      <th></th>\n",
       "      <th>DAYOFSERVICE</th>\n",
       "      <th>TRIPID</th>\n",
       "      <th>PROGRNUMBER</th>\n",
       "      <th>STOPPOINTID</th>\n",
       "      <th>PLANNEDTIME_ARR</th>\n",
       "      <th>PLANNEDTIME_DEP</th>\n",
       "      <th>ACTUALTIME_ARR</th>\n",
       "      <th>ACTUALTIME_DEP</th>\n",
       "      <th>VEHICLEID</th>\n",
       "    </tr>\n",
       "  </thead>\n",
       "  <tbody>\n",
       "    <tr>\n",
       "      <th>0</th>\n",
       "      <td>2018-02-18</td>\n",
       "      <td>6263611</td>\n",
       "      <td>31</td>\n",
       "      <td>2013</td>\n",
       "      <td>55128</td>\n",
       "      <td>55128</td>\n",
       "      <td>55231</td>\n",
       "      <td>55240</td>\n",
       "      <td>2868334</td>\n",
       "    </tr>\n",
       "    <tr>\n",
       "      <th>1</th>\n",
       "      <td>2018-02-18</td>\n",
       "      <td>6263611</td>\n",
       "      <td>66</td>\n",
       "      <td>2964</td>\n",
       "      <td>57113</td>\n",
       "      <td>57113</td>\n",
       "      <td>57459</td>\n",
       "      <td>57483</td>\n",
       "      <td>2868334</td>\n",
       "    </tr>\n",
       "  </tbody>\n",
       "</table>\n",
       "</div>"
      ],
      "text/plain": [
       "  DAYOFSERVICE   TRIPID PROGRNUMBER STOPPOINTID  PLANNEDTIME_ARR  \\\n",
       "0   2018-02-18  6263611          31        2013            55128   \n",
       "1   2018-02-18  6263611          66        2964            57113   \n",
       "\n",
       "   PLANNEDTIME_DEP  ACTUALTIME_ARR  ACTUALTIME_DEP VEHICLEID  \n",
       "0            55128           55231           55240   2868334  \n",
       "1            57113           57459           57483   2868334  "
      ]
     },
     "execution_count": 12,
     "metadata": {},
     "output_type": "execute_result"
    }
   ],
   "source": [
    "temp_df_leavetimes.head(2)"
   ]
  },
  {
   "cell_type": "code",
   "execution_count": 10,
   "metadata": {},
   "outputs": [
    {
     "data": {
      "text/html": [
       "<div>\n",
       "<style scoped>\n",
       "    .dataframe tbody tr th:only-of-type {\n",
       "        vertical-align: middle;\n",
       "    }\n",
       "\n",
       "    .dataframe tbody tr th {\n",
       "        vertical-align: top;\n",
       "    }\n",
       "\n",
       "    .dataframe thead th {\n",
       "        text-align: right;\n",
       "    }\n",
       "</style>\n",
       "<table border=\"1\" class=\"dataframe\">\n",
       "  <thead>\n",
       "    <tr style=\"text-align: right;\">\n",
       "      <th></th>\n",
       "      <th>date</th>\n",
       "      <th>rain</th>\n",
       "      <th>temp</th>\n",
       "    </tr>\n",
       "  </thead>\n",
       "  <tbody>\n",
       "    <tr>\n",
       "      <th>0</th>\n",
       "      <td>2018-01-01 00:00:00</td>\n",
       "      <td>0.033325</td>\n",
       "      <td>4.167969</td>\n",
       "    </tr>\n",
       "    <tr>\n",
       "      <th>1</th>\n",
       "      <td>2018-01-01 01:00:00</td>\n",
       "      <td>0.033325</td>\n",
       "      <td>4.332031</td>\n",
       "    </tr>\n",
       "  </tbody>\n",
       "</table>\n",
       "</div>"
      ],
      "text/plain": [
       "                 date      rain      temp\n",
       "0 2018-01-01 00:00:00  0.033325  4.167969\n",
       "1 2018-01-01 01:00:00  0.033325  4.332031"
      ]
     },
     "execution_count": 10,
     "metadata": {},
     "output_type": "execute_result"
    }
   ],
   "source": [
    "weather.head(2)"
   ]
  },
  {
   "cell_type": "markdown",
   "metadata": {},
   "source": [
    "## Trips"
   ]
  },
  {
   "cell_type": "code",
   "execution_count": null,
   "metadata": {},
   "outputs": [],
   "source": [
    "# df_trips.drop([\n",
    "#     'LASTUPDATE',\n",
    "#     'LINEID'\n",
    "# ],axis=1, inplace=True)"
   ]
  },
  {
   "cell_type": "code",
   "execution_count": 13,
   "metadata": {},
   "outputs": [
    {
     "data": {
      "text/html": [
       "<div>\n",
       "<style scoped>\n",
       "    .dataframe tbody tr th:only-of-type {\n",
       "        vertical-align: middle;\n",
       "    }\n",
       "\n",
       "    .dataframe tbody tr th {\n",
       "        vertical-align: top;\n",
       "    }\n",
       "\n",
       "    .dataframe thead th {\n",
       "        text-align: right;\n",
       "    }\n",
       "</style>\n",
       "<table border=\"1\" class=\"dataframe\">\n",
       "  <thead>\n",
       "    <tr style=\"text-align: right;\">\n",
       "      <th></th>\n",
       "      <th>DAYOFSERVICE</th>\n",
       "      <th>TRIPID</th>\n",
       "      <th>LINEID</th>\n",
       "      <th>ROUTEID</th>\n",
       "      <th>DIRECTION</th>\n",
       "      <th>PLANNEDTIME_ARR</th>\n",
       "      <th>PLANNEDTIME_DEP</th>\n",
       "      <th>ACTUALTIME_ARR</th>\n",
       "      <th>ACTUALTIME_DEP</th>\n",
       "      <th>ACTUAL_TRIP_DURATION</th>\n",
       "      <th>DAYOFWEEK</th>\n",
       "      <th>MONTH</th>\n",
       "      <th>HOURRANGE_DEPARTURE</th>\n",
       "    </tr>\n",
       "  </thead>\n",
       "  <tbody>\n",
       "    <tr>\n",
       "      <th>0</th>\n",
       "      <td>2018-02-18</td>\n",
       "      <td>6263611</td>\n",
       "      <td>145</td>\n",
       "      <td>145_102</td>\n",
       "      <td>1</td>\n",
       "      <td>57297</td>\n",
       "      <td>52800</td>\n",
       "      <td>57733.0</td>\n",
       "      <td>52807.0</td>\n",
       "      <td>4926.0</td>\n",
       "      <td>6</td>\n",
       "      <td>2</td>\n",
       "      <td>14:00-15:00</td>\n",
       "    </tr>\n",
       "    <tr>\n",
       "      <th>1</th>\n",
       "      <td>2018-02-18</td>\n",
       "      <td>6267386</td>\n",
       "      <td>145</td>\n",
       "      <td>145_102</td>\n",
       "      <td>1</td>\n",
       "      <td>58497</td>\n",
       "      <td>54000</td>\n",
       "      <td>58711.0</td>\n",
       "      <td>53932.0</td>\n",
       "      <td>4779.0</td>\n",
       "      <td>6</td>\n",
       "      <td>2</td>\n",
       "      <td>14:00-15:00</td>\n",
       "    </tr>\n",
       "    <tr>\n",
       "      <th>2</th>\n",
       "      <td>2018-02-18</td>\n",
       "      <td>6265005</td>\n",
       "      <td>145</td>\n",
       "      <td>145_102</td>\n",
       "      <td>1</td>\n",
       "      <td>59697</td>\n",
       "      <td>55200</td>\n",
       "      <td>60354.0</td>\n",
       "      <td>55198.0</td>\n",
       "      <td>5156.0</td>\n",
       "      <td>6</td>\n",
       "      <td>2</td>\n",
       "      <td>15:00-16:00</td>\n",
       "    </tr>\n",
       "    <tr>\n",
       "      <th>3</th>\n",
       "      <td>2018-03-16</td>\n",
       "      <td>6398012</td>\n",
       "      <td>145</td>\n",
       "      <td>145_102</td>\n",
       "      <td>1</td>\n",
       "      <td>59653</td>\n",
       "      <td>54600</td>\n",
       "      <td>60906.0</td>\n",
       "      <td>54684.0</td>\n",
       "      <td>6222.0</td>\n",
       "      <td>4</td>\n",
       "      <td>3</td>\n",
       "      <td>15:00-16:00</td>\n",
       "    </tr>\n",
       "    <tr>\n",
       "      <th>4</th>\n",
       "      <td>2018-03-11</td>\n",
       "      <td>6389383</td>\n",
       "      <td>145</td>\n",
       "      <td>145_105</td>\n",
       "      <td>2</td>\n",
       "      <td>34920</td>\n",
       "      <td>31200</td>\n",
       "      <td>35764.0</td>\n",
       "      <td>NaN</td>\n",
       "      <td>NaN</td>\n",
       "      <td>6</td>\n",
       "      <td>3</td>\n",
       "      <td>NaN</td>\n",
       "    </tr>\n",
       "  </tbody>\n",
       "</table>\n",
       "</div>"
      ],
      "text/plain": [
       "  DAYOFSERVICE   TRIPID LINEID  ROUTEID DIRECTION  PLANNEDTIME_ARR  \\\n",
       "0   2018-02-18  6263611    145  145_102         1            57297   \n",
       "1   2018-02-18  6267386    145  145_102         1            58497   \n",
       "2   2018-02-18  6265005    145  145_102         1            59697   \n",
       "3   2018-03-16  6398012    145  145_102         1            59653   \n",
       "4   2018-03-11  6389383    145  145_105         2            34920   \n",
       "\n",
       "   PLANNEDTIME_DEP  ACTUALTIME_ARR  ACTUALTIME_DEP  ACTUAL_TRIP_DURATION  \\\n",
       "0            52800         57733.0         52807.0                4926.0   \n",
       "1            54000         58711.0         53932.0                4779.0   \n",
       "2            55200         60354.0         55198.0                5156.0   \n",
       "3            54600         60906.0         54684.0                6222.0   \n",
       "4            31200         35764.0             NaN                   NaN   \n",
       "\n",
       "   DAYOFWEEK  MONTH HOURRANGE_DEPARTURE  \n",
       "0          6      2         14:00-15:00  \n",
       "1          6      2         14:00-15:00  \n",
       "2          6      2         15:00-16:00  \n",
       "3          4      3         15:00-16:00  \n",
       "4          6      3                 NaN  "
      ]
     },
     "execution_count": 13,
     "metadata": {},
     "output_type": "execute_result"
    }
   ],
   "source": [
    "df_trips.head()"
   ]
  },
  {
   "cell_type": "code",
   "execution_count": 14,
   "metadata": {},
   "outputs": [
    {
     "name": "stdout",
     "output_type": "stream",
     "text": [
      "Datatypes:\n",
      "\n",
      "DAYOFSERVICE            datetime64[ns]\n",
      "TRIPID                        category\n",
      "LINEID                        category\n",
      "ROUTEID                       category\n",
      "DIRECTION                     category\n",
      "PLANNEDTIME_ARR                  int32\n",
      "PLANNEDTIME_DEP                  int32\n",
      "ACTUALTIME_ARR                 float32\n",
      "ACTUALTIME_DEP                 float32\n",
      "ACTUAL_TRIP_DURATION           float32\n",
      "DAYOFWEEK                        int64\n",
      "MONTH                            int64\n",
      "HOURRANGE_DEPARTURE           category\n",
      "dtype: object\n",
      "\n",
      "\n",
      "\n",
      "**************************************************\n",
      "ROWS, COLUMNS, NULLS\n",
      "\n",
      "62730 rows in the dataframe.\n",
      "13 columns in the dataframe.\n",
      "\n",
      "21833 null values in the dataframe.\n",
      "0 duplicate rows\n",
      "0 duplicate columns\n",
      "\n",
      "\n",
      "Constant numeric columns: FALSE\n",
      "Constant categorical columns: FALSE\n",
      "\n",
      "\n",
      "\n",
      "**************************************************\n",
      "DESCRIPTION\n",
      "\n",
      "                        count          mean           std      min      25%  \\\n",
      "PLANNEDTIME_ARR       62730.0  56019.172103  16638.336169  26357.0  40886.0   \n",
      "PLANNEDTIME_DEP       62730.0  51324.763271  16858.981856  22200.0  36000.0   \n",
      "ACTUALTIME_ARR        59045.0  56300.894531  16659.259766  25617.0  41249.0   \n",
      "ACTUALTIME_DEP        57797.0  51808.578125  16816.902344  22095.0  36872.0   \n",
      "ACTUAL_TRIP_DURATION  54448.0   5179.007812    985.583191  -1959.0   4588.0   \n",
      "DAYOFWEEK             62730.0      2.595457      1.817701      0.0      1.0   \n",
      "MONTH                 62730.0      6.399968      3.447104      1.0      3.0   \n",
      "\n",
      "                          50%      75%      max  \n",
      "PLANNEDTIME_ARR       56736.0  69645.0  88657.0  \n",
      "PLANNEDTIME_DEP       51600.0  64800.0  84300.0  \n",
      "ACTUALTIME_ARR        56782.0  70047.0  90518.0  \n",
      "ACTUALTIME_DEP        52136.0  65406.0  85556.0  \n",
      "ACTUAL_TRIP_DURATION   5232.0   5848.0  16040.0  \n",
      "DAYOFWEEK                 3.0      4.0      6.0  \n",
      "MONTH                     6.0      9.0     12.0  \n",
      "\n",
      "\n",
      "\n",
      "**************************************************\n",
      "CATEGORICAL DESCRIPTION\n",
      "\n",
      "\n",
      "\n",
      "                     count unique          top   freq\n",
      "TRIPID               62730  17701      7319485     19\n",
      "LINEID               62730      1          145  62730\n",
      "ROUTEID              62730     15      145_102  29259\n",
      "DIRECTION            62730      2            2  31509\n",
      "HOURRANGE_DEPARTURE  57797     18  09:00-10:00   4249\n",
      "\n",
      "\n",
      "\n",
      "**************************************************\n",
      "FEATURE CARDINALITIES\n",
      "\n",
      "Feature                                        Distinct Values\n",
      "-------                                        --------------- \n",
      "\n",
      "DAYOFSERVICE                                   360\n",
      "TRIPID                                         17701\n",
      "LINEID                                         1\n",
      "ROUTEID                                        15\n",
      "DIRECTION                                      2\n",
      "PLANNEDTIME_ARR                                10000\n",
      "PLANNEDTIME_DEP                                139\n",
      "ACTUALTIME_ARR                                 36891\n",
      "ACTUALTIME_DEP                                 25405\n",
      "ACTUAL_TRIP_DURATION                           5331\n",
      "DAYOFWEEK                                      7\n",
      "MONTH                                          12\n",
      "HOURRANGE_DEPARTURE                            19\n",
      "\n",
      "\n",
      "**************************************************\n",
      "MEMORY\n",
      "\n",
      "<class 'pandas.core.frame.DataFrame'>\n",
      "RangeIndex: 62730 entries, 0 to 62729\n",
      "Data columns (total 13 columns):\n",
      "DAYOFSERVICE            62730 non-null datetime64[ns]\n",
      "TRIPID                  62730 non-null category\n",
      "LINEID                  62730 non-null category\n",
      "ROUTEID                 62730 non-null category\n",
      "DIRECTION               62730 non-null category\n",
      "PLANNEDTIME_ARR         62730 non-null int32\n",
      "PLANNEDTIME_DEP         62730 non-null int32\n",
      "ACTUALTIME_ARR          59045 non-null float32\n",
      "ACTUALTIME_DEP          57797 non-null float32\n",
      "ACTUAL_TRIP_DURATION    54448 non-null float32\n",
      "DAYOFWEEK               62730 non-null int64\n",
      "MONTH                   62730 non-null int64\n",
      "HOURRANGE_DEPARTURE     57797 non-null category\n",
      "dtypes: category(5), datetime64[ns](1), float32(3), int32(2), int64(2)\n",
      "memory usage: 28.3 MB\n",
      "None\n",
      "\n",
      "\n",
      "Index                         80\n",
      "DAYOFSERVICE              501840\n",
      "TRIPID                  26494152\n",
      "LINEID                    138363\n",
      "ROUTEID                   182737\n",
      "DIRECTION                  62826\n",
      "PLANNEDTIME_ARR           250920\n",
      "PLANNEDTIME_DEP           250920\n",
      "ACTUALTIME_ARR            250920\n",
      "ACTUALTIME_DEP            250920\n",
      "ACTUAL_TRIP_DURATION      250920\n",
      "DAYOFWEEK                 501840\n",
      "MONTH                     501840\n",
      "HOURRANGE_DEPARTURE        65784\n",
      "dtype: int64\n",
      "\n",
      "\n",
      "**************************************************\n",
      "HEAD\n",
      "\n",
      "  DAYOFSERVICE   TRIPID LINEID  ROUTEID DIRECTION  PLANNEDTIME_ARR  \\\n",
      "0   2018-02-18  6263611    145  145_102         1            57297   \n",
      "1   2018-02-18  6267386    145  145_102         1            58497   \n",
      "2   2018-02-18  6265005    145  145_102         1            59697   \n",
      "3   2018-03-16  6398012    145  145_102         1            59653   \n",
      "4   2018-03-11  6389383    145  145_105         2            34920   \n",
      "5   2018-03-11  6388460    145  145_105         2            37320   \n",
      "6   2018-03-11  6390315    145  145_105         2            36120   \n",
      "7   2018-09-26  7772930    145  145_102         1            43020   \n",
      "8   2018-09-26  7757568    145  145_102         1            47220   \n",
      "9   2018-09-26  7764777    145  145_102         1            45420   \n",
      "\n",
      "   PLANNEDTIME_DEP  ACTUALTIME_ARR  ACTUALTIME_DEP  ACTUAL_TRIP_DURATION  \\\n",
      "0            52800         57733.0         52807.0                4926.0   \n",
      "1            54000         58711.0         53932.0                4779.0   \n",
      "2            55200         60354.0         55198.0                5156.0   \n",
      "3            54600         60906.0         54684.0                6222.0   \n",
      "4            31200         35764.0             NaN                   NaN   \n",
      "5            33600         38037.0         33606.0                4431.0   \n",
      "6            32400         37100.0             NaN                   NaN   \n",
      "7            38400         42752.0         38377.0                4375.0   \n",
      "8            42600         47605.0         42554.0                5051.0   \n",
      "9            40800         44965.0         40527.0                4438.0   \n",
      "\n",
      "   DAYOFWEEK  MONTH HOURRANGE_DEPARTURE  \n",
      "0          6      2         14:00-15:00  \n",
      "1          6      2         14:00-15:00  \n",
      "2          6      2         15:00-16:00  \n",
      "3          4      3         15:00-16:00  \n",
      "4          6      3                 NaN  \n",
      "5          6      3         09:00-10:00  \n",
      "6          6      3                 NaN  \n",
      "7          2      9         10:00-11:00  \n",
      "8          2      9         11:00-12:00  \n",
      "9          2      9         11:00-12:00  \n",
      "\n",
      "\n",
      "**************************************************\n",
      "TAIL\n",
      "\n",
      "      DAYOFSERVICE   TRIPID LINEID  ROUTEID DIRECTION  PLANNEDTIME_ARR  \\\n",
      "62720   2018-05-15  6754452    145  145_105         2            53689   \n",
      "62721   2018-05-15  6755576    145  145_105         2            82755   \n",
      "62722   2018-05-15  6752030    145  145_102         1            70921   \n",
      "62723   2018-05-15  6754448    145  145_105         2            30235   \n",
      "62724   2018-05-15  6766708    145  145_105         2            41120   \n",
      "62725   2018-05-14  6759343    145  145_102         1            58685   \n",
      "62726   2018-05-15  6767009    145  145_102         1            76534   \n",
      "62727   2018-05-15  6752029    145  145_105         2            64464   \n",
      "62728   2018-05-14  6763191    145   145_89         2            58500   \n",
      "62729   2018-05-14  6758027    145  145_105         2            38939   \n",
      "\n",
      "       PLANNEDTIME_DEP  ACTUALTIME_ARR  ACTUALTIME_DEP  ACTUAL_TRIP_DURATION  \\\n",
      "62720            48600         54385.0         48593.0                5792.0   \n",
      "62721            79200         82914.0         79212.0                3702.0   \n",
      "62722            65400         71747.0         65683.0                6064.0   \n",
      "62723            24600         30849.0         24614.0                6235.0   \n",
      "62724            36000         41770.0         36004.0                5766.0   \n",
      "62725            53400         59690.0         53426.0                6264.0   \n",
      "62726            72000         75877.0             NaN                   NaN   \n",
      "62727            58800         65595.0         58790.0                6805.0   \n",
      "62728            55500         58200.0             NaN                   NaN   \n",
      "62729            33600         40052.0         33573.0                6479.0   \n",
      "\n",
      "       DAYOFWEEK  MONTH HOURRANGE_DEPARTURE  \n",
      "62720          1      5         13:00-14:00  \n",
      "62721          1      5         22:00-23:00  \n",
      "62722          1      5         18:00-19:00  \n",
      "62723          1      5         06:00-07:00  \n",
      "62724          1      5         10:00-11:00  \n",
      "62725          0      5         14:00-15:00  \n",
      "62726          1      5                 NaN  \n",
      "62727          1      5         16:00-17:00  \n",
      "62728          0      5                 NaN  \n",
      "62729          0      5         09:00-10:00  \n"
     ]
    }
   ],
   "source": [
    "assess_df(df_trips)"
   ]
  },
  {
   "cell_type": "markdown",
   "metadata": {},
   "source": [
    "### Check for Null Values"
   ]
  },
  {
   "cell_type": "code",
   "execution_count": 15,
   "metadata": {},
   "outputs": [
    {
     "name": "stdout",
     "output_type": "stream",
     "text": [
      "DAYOFSERVICE 0\n",
      "TRIPID 0\n",
      "LINEID 0\n",
      "ROUTEID 0\n",
      "DIRECTION 0\n",
      "PLANNEDTIME_ARR 0\n",
      "PLANNEDTIME_DEP 0\n",
      "ACTUALTIME_ARR 3685\n",
      "ACTUALTIME_DEP 4933\n",
      "ACTUAL_TRIP_DURATION 8282\n",
      "DAYOFWEEK 0\n",
      "MONTH 0\n",
      "HOURRANGE_DEPARTURE 4933\n"
     ]
    }
   ],
   "source": [
    "# check where the null values exist\n",
    "\n",
    "for column in df_trips.columns:\n",
    "    print(column, df_trips[column].isna().sum())"
   ]
  },
  {
   "cell_type": "markdown",
   "metadata": {},
   "source": [
    "These will be removed"
   ]
  },
  {
   "cell_type": "code",
   "execution_count": 16,
   "metadata": {},
   "outputs": [],
   "source": [
    "df_trips.dropna(axis=0, inplace=True)"
   ]
  },
  {
   "cell_type": "markdown",
   "metadata": {},
   "source": [
    "### Check for u nreliable ACTUALTIMES: indicating issues with ACTUALTIME_ features"
   ]
  },
  {
   "cell_type": "code",
   "execution_count": 17,
   "metadata": {},
   "outputs": [
    {
     "data": {
      "text/html": [
       "<div>\n",
       "<style scoped>\n",
       "    .dataframe tbody tr th:only-of-type {\n",
       "        vertical-align: middle;\n",
       "    }\n",
       "\n",
       "    .dataframe tbody tr th {\n",
       "        vertical-align: top;\n",
       "    }\n",
       "\n",
       "    .dataframe thead th {\n",
       "        text-align: right;\n",
       "    }\n",
       "</style>\n",
       "<table border=\"1\" class=\"dataframe\">\n",
       "  <thead>\n",
       "    <tr style=\"text-align: right;\">\n",
       "      <th></th>\n",
       "      <th>DAYOFSERVICE</th>\n",
       "      <th>TRIPID</th>\n",
       "      <th>LINEID</th>\n",
       "      <th>ROUTEID</th>\n",
       "      <th>DIRECTION</th>\n",
       "      <th>PLANNEDTIME_ARR</th>\n",
       "      <th>PLANNEDTIME_DEP</th>\n",
       "      <th>ACTUALTIME_ARR</th>\n",
       "      <th>ACTUALTIME_DEP</th>\n",
       "      <th>ACTUAL_TRIP_DURATION</th>\n",
       "      <th>DAYOFWEEK</th>\n",
       "      <th>MONTH</th>\n",
       "      <th>HOURRANGE_DEPARTURE</th>\n",
       "    </tr>\n",
       "  </thead>\n",
       "  <tbody>\n",
       "    <tr>\n",
       "      <th>5053</th>\n",
       "      <td>2018-04-14</td>\n",
       "      <td>6625989</td>\n",
       "      <td>145</td>\n",
       "      <td>145_102</td>\n",
       "      <td>1</td>\n",
       "      <td>57904</td>\n",
       "      <td>53100</td>\n",
       "      <td>57848.0</td>\n",
       "      <td>58213.0</td>\n",
       "      <td>-365.0</td>\n",
       "      <td>5</td>\n",
       "      <td>4</td>\n",
       "      <td>16:00-17:00</td>\n",
       "    </tr>\n",
       "    <tr>\n",
       "      <th>13044</th>\n",
       "      <td>2018-12-23</td>\n",
       "      <td>8582161</td>\n",
       "      <td>145</td>\n",
       "      <td>145_105</td>\n",
       "      <td>2</td>\n",
       "      <td>47377</td>\n",
       "      <td>43200</td>\n",
       "      <td>48963.0</td>\n",
       "      <td>49337.0</td>\n",
       "      <td>-374.0</td>\n",
       "      <td>6</td>\n",
       "      <td>12</td>\n",
       "      <td>13:00-14:00</td>\n",
       "    </tr>\n",
       "    <tr>\n",
       "      <th>47839</th>\n",
       "      <td>2018-04-25</td>\n",
       "      <td>6642862</td>\n",
       "      <td>145</td>\n",
       "      <td>145_102</td>\n",
       "      <td>1</td>\n",
       "      <td>34886</td>\n",
       "      <td>30000</td>\n",
       "      <td>35668.0</td>\n",
       "      <td>36756.0</td>\n",
       "      <td>-1088.0</td>\n",
       "      <td>2</td>\n",
       "      <td>4</td>\n",
       "      <td>10:00-11:00</td>\n",
       "    </tr>\n",
       "    <tr>\n",
       "      <th>51047</th>\n",
       "      <td>2018-07-16</td>\n",
       "      <td>7180350</td>\n",
       "      <td>145</td>\n",
       "      <td>145_105</td>\n",
       "      <td>2</td>\n",
       "      <td>72770</td>\n",
       "      <td>69000</td>\n",
       "      <td>73207.0</td>\n",
       "      <td>75166.0</td>\n",
       "      <td>-1959.0</td>\n",
       "      <td>0</td>\n",
       "      <td>7</td>\n",
       "      <td>20:00-21:00</td>\n",
       "    </tr>\n",
       "  </tbody>\n",
       "</table>\n",
       "</div>"
      ],
      "text/plain": [
       "      DAYOFSERVICE   TRIPID LINEID  ROUTEID DIRECTION  PLANNEDTIME_ARR  \\\n",
       "5053    2018-04-14  6625989    145  145_102         1            57904   \n",
       "13044   2018-12-23  8582161    145  145_105         2            47377   \n",
       "47839   2018-04-25  6642862    145  145_102         1            34886   \n",
       "51047   2018-07-16  7180350    145  145_105         2            72770   \n",
       "\n",
       "       PLANNEDTIME_DEP  ACTUALTIME_ARR  ACTUALTIME_DEP  ACTUAL_TRIP_DURATION  \\\n",
       "5053             53100         57848.0         58213.0                -365.0   \n",
       "13044            43200         48963.0         49337.0                -374.0   \n",
       "47839            30000         35668.0         36756.0               -1088.0   \n",
       "51047            69000         73207.0         75166.0               -1959.0   \n",
       "\n",
       "       DAYOFWEEK  MONTH HOURRANGE_DEPARTURE  \n",
       "5053           5      4         16:00-17:00  \n",
       "13044          6     12         13:00-14:00  \n",
       "47839          2      4         10:00-11:00  \n",
       "51047          0      7         20:00-21:00  "
      ]
     },
     "execution_count": 17,
     "metadata": {},
     "output_type": "execute_result"
    }
   ],
   "source": [
    "# check if any of the departure times > arrival times\n",
    "\n",
    "df_trips.loc[df_trips.ACTUALTIME_DEP > df_trips.ACTUALTIME_ARR]"
   ]
  },
  {
   "cell_type": "markdown",
   "metadata": {},
   "source": [
    "These are thus unreliable, and will be removed."
   ]
  },
  {
   "cell_type": "code",
   "execution_count": 18,
   "metadata": {},
   "outputs": [],
   "source": [
    "df_trips.drop(df_trips[df_trips.ACTUALTIME_DEP > df_trips.ACTUALTIME_ARR].index, inplace=True)"
   ]
  },
  {
   "cell_type": "markdown",
   "metadata": {},
   "source": [
    "### Check Changes"
   ]
  },
  {
   "cell_type": "code",
   "execution_count": 19,
   "metadata": {},
   "outputs": [
    {
     "name": "stdout",
     "output_type": "stream",
     "text": [
      "DAYOFSERVICE 0\n",
      "TRIPID 0\n",
      "LINEID 0\n",
      "ROUTEID 0\n",
      "DIRECTION 0\n",
      "PLANNEDTIME_ARR 0\n",
      "PLANNEDTIME_DEP 0\n",
      "ACTUALTIME_ARR 0\n",
      "ACTUALTIME_DEP 0\n",
      "ACTUAL_TRIP_DURATION 0\n",
      "DAYOFWEEK 0\n",
      "MONTH 0\n",
      "HOURRANGE_DEPARTURE 0\n"
     ]
    }
   ],
   "source": [
    "# re-check where the null values exist\n",
    "\n",
    "for column in df_trips.columns:\n",
    "    print(column, df_trips[column].isna().sum())"
   ]
  },
  {
   "cell_type": "code",
   "execution_count": 20,
   "metadata": {},
   "outputs": [
    {
     "data": {
      "text/html": [
       "<div>\n",
       "<style scoped>\n",
       "    .dataframe tbody tr th:only-of-type {\n",
       "        vertical-align: middle;\n",
       "    }\n",
       "\n",
       "    .dataframe tbody tr th {\n",
       "        vertical-align: top;\n",
       "    }\n",
       "\n",
       "    .dataframe thead th {\n",
       "        text-align: right;\n",
       "    }\n",
       "</style>\n",
       "<table border=\"1\" class=\"dataframe\">\n",
       "  <thead>\n",
       "    <tr style=\"text-align: right;\">\n",
       "      <th></th>\n",
       "      <th>DAYOFSERVICE</th>\n",
       "      <th>TRIPID</th>\n",
       "      <th>LINEID</th>\n",
       "      <th>ROUTEID</th>\n",
       "      <th>DIRECTION</th>\n",
       "      <th>PLANNEDTIME_ARR</th>\n",
       "      <th>PLANNEDTIME_DEP</th>\n",
       "      <th>ACTUALTIME_ARR</th>\n",
       "      <th>ACTUALTIME_DEP</th>\n",
       "      <th>ACTUAL_TRIP_DURATION</th>\n",
       "      <th>DAYOFWEEK</th>\n",
       "      <th>MONTH</th>\n",
       "      <th>HOURRANGE_DEPARTURE</th>\n",
       "    </tr>\n",
       "  </thead>\n",
       "  <tbody>\n",
       "  </tbody>\n",
       "</table>\n",
       "</div>"
      ],
      "text/plain": [
       "Empty DataFrame\n",
       "Columns: [DAYOFSERVICE, TRIPID, LINEID, ROUTEID, DIRECTION, PLANNEDTIME_ARR, PLANNEDTIME_DEP, ACTUALTIME_ARR, ACTUALTIME_DEP, ACTUAL_TRIP_DURATION, DAYOFWEEK, MONTH, HOURRANGE_DEPARTURE]\n",
       "Index: []"
      ]
     },
     "execution_count": 20,
     "metadata": {},
     "output_type": "execute_result"
    }
   ],
   "source": [
    "# re-check if any of the departure times > arrival times\n",
    "\n",
    "df_trips.loc[df_trips.ACTUALTIME_DEP > df_trips.ACTUALTIME_ARR]"
   ]
  },
  {
   "cell_type": "markdown",
   "metadata": {},
   "source": [
    "### Inspect & Remove Outliers"
   ]
  },
  {
   "cell_type": "markdown",
   "metadata": {},
   "source": [
    "#### Based on Journey Times"
   ]
  },
  {
   "cell_type": "code",
   "execution_count": 21,
   "metadata": {},
   "outputs": [
    {
     "data": {
      "text/plain": [
       "<matplotlib.axes._subplots.AxesSubplot at 0x1365f8eb8>"
      ]
     },
     "execution_count": 21,
     "metadata": {},
     "output_type": "execute_result"
    },
    {
     "data": {
      "image/png": "[encoded data removed]",
      "text/plain": [
       "<Figure size 864x864 with 1 Axes>"
      ]
     },
     "metadata": {
      "needs_background": "light"
     },
     "output_type": "display_data"
    }
   ],
   "source": [
    "# plot journey times\n",
    "\n",
    "df_trips.ACTUAL_TRIP_DURATION.plot(kind='hist', bins=50, figsize=(12,12))"
   ]
  },
  {
   "cell_type": "code",
   "execution_count": 22,
   "metadata": {},
   "outputs": [
    {
     "data": {
      "text/plain": [
       "<matplotlib.axes._subplots.AxesSubplot at 0x139700b38>"
      ]
     },
     "execution_count": 22,
     "metadata": {},
     "output_type": "execute_result"
    },
    {
     "data": {
      "image/png": "[encoded data removed]",
      "text/plain": [
       "<Figure size 864x864 with 1 Axes>"
      ]
     },
     "metadata": {
      "needs_background": "light"
     },
     "output_type": "display_data"
    }
   ],
   "source": [
    "# plot journey times\n",
    "\n",
    "df_trips.ACTUAL_TRIP_DURATION.plot(kind='box', figsize=(12,12))"
   ]
  },
  {
   "cell_type": "code",
   "execution_count": 23,
   "metadata": {},
   "outputs": [
    {
     "data": {
      "text/plain": [
       "<matplotlib.axes._subplots.AxesSubplot at 0x13965dd30>"
      ]
     },
     "execution_count": 23,
     "metadata": {},
     "output_type": "execute_result"
    },
    {
     "data": {
      "image/png": "[encoded data removed]",
      "text/plain": [
       "<Figure size 432x288 with 1 Axes>"
      ]
     },
     "metadata": {
      "needs_background": "light"
     },
     "output_type": "display_data"
    }
   ],
   "source": [
    "# plot min tail of journey times\n",
    "\n",
    "df_trips.loc[df_trips.ACTUAL_TRIP_DURATION < 3500]['ACTUAL_TRIP_DURATION'].plot(kind='hist', bins=50)"
   ]
  },
  {
   "cell_type": "code",
   "execution_count": 24,
   "metadata": {},
   "outputs": [
    {
     "data": {
      "text/plain": [
       "1.6549114686650503"
      ]
     },
     "execution_count": 24,
     "metadata": {},
     "output_type": "execute_result"
    }
   ],
   "source": [
    "# find percentage of rows in negative outlier region: below 2750 seconds\n",
    "\n",
    "(df_trips.loc[df_trips.ACTUAL_TRIP_DURATION < 2750].shape[0] / len(df_trips)) * 100"
   ]
  },
  {
   "cell_type": "markdown",
   "metadata": {},
   "source": [
    "These outliers will be removed. It is extremely unlikely that any journies are under 45min in length."
   ]
  },
  {
   "cell_type": "code",
   "execution_count": 25,
   "metadata": {},
   "outputs": [],
   "source": [
    "# remove these outliers\n",
    "\n",
    "df_trips.drop(df_trips[df_trips.ACTUAL_TRIP_DURATION < 2750].index, inplace=True)"
   ]
  },
  {
   "cell_type": "code",
   "execution_count": 26,
   "metadata": {},
   "outputs": [
    {
     "data": {
      "text/plain": [
       "<matplotlib.axes._subplots.AxesSubplot at 0x13965dcc0>"
      ]
     },
     "execution_count": 26,
     "metadata": {},
     "output_type": "execute_result"
    },
    {
     "data": {
      "image/png": "[encoded data removed]",
      "text/plain": [
       "<Figure size 864x864 with 1 Axes>"
      ]
     },
     "metadata": {
      "needs_background": "light"
     },
     "output_type": "display_data"
    }
   ],
   "source": [
    "# inspect long journey times\n",
    "\n",
    "df_trips.loc[df_trips.ACTUAL_TRIP_DURATION > 7500]['ACTUAL_TRIP_DURATION'].plot(kind='hist', bins=50, figsize=(12,12))"
   ]
  },
  {
   "cell_type": "code",
   "execution_count": 27,
   "metadata": {},
   "outputs": [
    {
     "data": {
      "text/plain": [
       "<matplotlib.axes._subplots.AxesSubplot at 0x13712c160>"
      ]
     },
     "execution_count": 27,
     "metadata": {},
     "output_type": "execute_result"
    },
    {
     "data": {
      "image/png": "[encoded data removed]",
      "text/plain": [
       "<Figure size 864x864 with 1 Axes>"
      ]
     },
     "metadata": {
      "needs_background": "light"
     },
     "output_type": "display_data"
    }
   ],
   "source": [
    "# inspect high journey times\n",
    "\n",
    "df_trips.loc[(df_trips.ACTUAL_TRIP_DURATION > 7500) & (df_trips.ACTUAL_TRIP_DURATION < 9000)\\\n",
    "            ]['ACTUAL_TRIP_DURATION'].plot(kind='hist', bins=50, figsize=(12,12))"
   ]
  },
  {
   "cell_type": "code",
   "execution_count": 28,
   "metadata": {},
   "outputs": [
    {
     "data": {
      "text/plain": [
       "<matplotlib.axes._subplots.AxesSubplot at 0x1373e3128>"
      ]
     },
     "execution_count": 28,
     "metadata": {},
     "output_type": "execute_result"
    },
    {
     "data": {
      "image/png": "[encoded data removed]",
      "text/plain": [
       "<Figure size 864x864 with 1 Axes>"
      ]
     },
     "metadata": {
      "needs_background": "light"
     },
     "output_type": "display_data"
    }
   ],
   "source": [
    "# inspect high journey times\n",
    "\n",
    "df_trips.loc[df_trips.ACTUAL_TRIP_DURATION > 8300]\\\n",
    "['ACTUAL_TRIP_DURATION'].plot(kind='hist', bins=50, figsize=(12,12))"
   ]
  },
  {
   "cell_type": "code",
   "execution_count": 29,
   "metadata": {},
   "outputs": [
    {
     "data": {
      "text/plain": [
       "0.08591225743794707"
      ]
     },
     "execution_count": 29,
     "metadata": {},
     "output_type": "execute_result"
    }
   ],
   "source": [
    "# percentage of rows beyond 8300s threshold, i.e. 2.3hr trip\n",
    "\n",
    "(df_trips.loc[df_trips.ACTUAL_TRIP_DURATION > 8300].shape[0] / len(df_trips)) * 100"
   ]
  },
  {
   "cell_type": "markdown",
   "metadata": {},
   "source": [
    "Outliers beyond this threshold will be removed."
   ]
  },
  {
   "cell_type": "code",
   "execution_count": 30,
   "metadata": {},
   "outputs": [],
   "source": [
    "# remove these outliers\n",
    "\n",
    "df_trips.drop(df_trips[df_trips.ACTUAL_TRIP_DURATION > 8300].index, inplace=True)"
   ]
  },
  {
   "cell_type": "markdown",
   "metadata": {},
   "source": [
    "Plot following Drops"
   ]
  },
  {
   "cell_type": "code",
   "execution_count": 31,
   "metadata": {},
   "outputs": [
    {
     "data": {
      "text/plain": [
       "<matplotlib.axes._subplots.AxesSubplot at 0x13788e550>"
      ]
     },
     "execution_count": 31,
     "metadata": {},
     "output_type": "execute_result"
    },
    {
     "data": {
      "image/png": "[encoded data removed]",
      "text/plain": [
       "<Figure size 864x864 with 1 Axes>"
      ]
     },
     "metadata": {
      "needs_background": "light"
     },
     "output_type": "display_data"
    }
   ],
   "source": [
    "df_trips.ACTUAL_TRIP_DURATION.plot(kind='hist', bins=50, figsize=(12,12))"
   ]
  },
  {
   "cell_type": "code",
   "execution_count": 32,
   "metadata": {},
   "outputs": [
    {
     "data": {
      "text/plain": [
       "<matplotlib.axes._subplots.AxesSubplot at 0x1386113c8>"
      ]
     },
     "execution_count": 32,
     "metadata": {},
     "output_type": "execute_result"
    },
    {
     "data": {
      "image/png": "[encoded data removed]",
      "text/plain": [
       "<Figure size 720x720 with 1 Axes>"
      ]
     },
     "metadata": {
      "needs_background": "light"
     },
     "output_type": "display_data"
    }
   ],
   "source": [
    "# inspect peak\n",
    "\n",
    "df_trips.loc[(df_trips.ACTUAL_TRIP_DURATION > 5500)&\\\n",
    "    (df_trips.ACTUAL_TRIP_DURATION <6500)]['ACTUAL_TRIP_DURATION'].plot(kind='hist', bins=50, figsize=(10,10))"
   ]
  },
  {
   "cell_type": "markdown",
   "metadata": {},
   "source": [
    "#### Based on Actual Times"
   ]
  },
  {
   "cell_type": "code",
   "execution_count": 33,
   "metadata": {},
   "outputs": [
    {
     "data": {
      "text/plain": [
       "<matplotlib.axes._subplots.AxesSubplot at 0x138afeeb8>"
      ]
     },
     "execution_count": 33,
     "metadata": {},
     "output_type": "execute_result"
    },
    {
     "data": {
      "image/png": "[encoded data removed]",
      "text/plain": [
       "<Figure size 864x864 with 1 Axes>"
      ]
     },
     "metadata": {
      "needs_background": "light"
     },
     "output_type": "display_data"
    }
   ],
   "source": [
    "df_trips.ACTUALTIME_ARR.plot(kind='hist', bins=50, figsize=(12,12))"
   ]
  },
  {
   "cell_type": "code",
   "execution_count": 34,
   "metadata": {},
   "outputs": [
    {
     "data": {
      "text/plain": [
       "<matplotlib.axes._subplots.AxesSubplot at 0x138db17b8>"
      ]
     },
     "execution_count": 34,
     "metadata": {},
     "output_type": "execute_result"
    },
    {
     "data": {
      "image/png": "[encoded data removed]",
      "text/plain": [
       "<Figure size 864x864 with 1 Axes>"
      ]
     },
     "metadata": {
      "needs_background": "light"
     },
     "output_type": "display_data"
    }
   ],
   "source": [
    "df_trips.ACTUALTIME_ARR.plot(kind='box', figsize=(12,12))"
   ]
  },
  {
   "cell_type": "markdown",
   "metadata": {},
   "source": [
    "Result: No issues."
   ]
  },
  {
   "cell_type": "code",
   "execution_count": 35,
   "metadata": {},
   "outputs": [
    {
     "data": {
      "text/plain": [
       "86400"
      ]
     },
     "execution_count": 35,
     "metadata": {},
     "output_type": "execute_result"
    }
   ],
   "source": [
    "24*60*60"
   ]
  },
  {
   "cell_type": "code",
   "execution_count": 36,
   "metadata": {},
   "outputs": [
    {
     "data": {
      "text/html": [
       "<div>\n",
       "<style scoped>\n",
       "    .dataframe tbody tr th:only-of-type {\n",
       "        vertical-align: middle;\n",
       "    }\n",
       "\n",
       "    .dataframe tbody tr th {\n",
       "        vertical-align: top;\n",
       "    }\n",
       "\n",
       "    .dataframe thead th {\n",
       "        text-align: right;\n",
       "    }\n",
       "</style>\n",
       "<table border=\"1\" class=\"dataframe\">\n",
       "  <thead>\n",
       "    <tr style=\"text-align: right;\">\n",
       "      <th></th>\n",
       "      <th>DAYOFSERVICE</th>\n",
       "      <th>TRIPID</th>\n",
       "      <th>LINEID</th>\n",
       "      <th>ROUTEID</th>\n",
       "      <th>DIRECTION</th>\n",
       "      <th>PLANNEDTIME_ARR</th>\n",
       "      <th>PLANNEDTIME_DEP</th>\n",
       "      <th>ACTUALTIME_ARR</th>\n",
       "      <th>ACTUALTIME_DEP</th>\n",
       "      <th>ACTUAL_TRIP_DURATION</th>\n",
       "      <th>DAYOFWEEK</th>\n",
       "      <th>MONTH</th>\n",
       "      <th>HOURRANGE_DEPARTURE</th>\n",
       "    </tr>\n",
       "  </thead>\n",
       "  <tbody>\n",
       "  </tbody>\n",
       "</table>\n",
       "</div>"
      ],
      "text/plain": [
       "Empty DataFrame\n",
       "Columns: [DAYOFSERVICE, TRIPID, LINEID, ROUTEID, DIRECTION, PLANNEDTIME_ARR, PLANNEDTIME_DEP, ACTUALTIME_ARR, ACTUALTIME_DEP, ACTUAL_TRIP_DURATION, DAYOFWEEK, MONTH, HOURRANGE_DEPARTURE]\n",
       "Index: []"
      ]
     },
     "execution_count": 36,
     "metadata": {},
     "output_type": "execute_result"
    }
   ],
   "source": [
    "df_trips.loc[df_trips.ACTUALTIME_DEP > (24 * 60 * 60)]"
   ]
  },
  {
   "cell_type": "markdown",
   "metadata": {},
   "source": [
    "### Plot distribution of trips per hour"
   ]
  },
  {
   "cell_type": "code",
   "execution_count": 37,
   "metadata": {},
   "outputs": [
    {
     "data": {
      "text/plain": [
       "<matplotlib.axes._subplots.AxesSubplot at 0x1195f59b0>"
      ]
     },
     "execution_count": 37,
     "metadata": {},
     "output_type": "execute_result"
    },
    {
     "data": {
      "image/png": "[encoded data removed]",
      "text/plain": [
       "<Figure size 864x864 with 1 Axes>"
      ]
     },
     "metadata": {
      "needs_background": "light"
     },
     "output_type": "display_data"
    }
   ],
   "source": [
    "df_trips.HOURRANGE_DEPARTURE.value_counts(sort=False).plot(kind='bar', figsize=(12,12))"
   ]
  },
  {
   "cell_type": "code",
   "execution_count": 38,
   "metadata": {},
   "outputs": [
    {
     "data": {
      "text/plain": [
       "0"
      ]
     },
     "execution_count": 38,
     "metadata": {},
     "output_type": "execute_result"
    }
   ],
   "source": [
    "# trips that leave depart after midnight: erroneous\n",
    "\n",
    "df_trips.loc[df_trips.HOURRANGE_DEPARTURE > '23:00-00:00'].shape[0]"
   ]
  },
  {
   "cell_type": "markdown",
   "metadata": {},
   "source": [
    "## LeaveTimes"
   ]
  },
  {
   "cell_type": "markdown",
   "metadata": {},
   "source": [
    "### First, remove any trips removed in the trips dataset, above."
   ]
  },
  {
   "cell_type": "markdown",
   "metadata": {},
   "source": [
    "#### List TRIPS ids"
   ]
  },
  {
   "cell_type": "code",
   "execution_count": 39,
   "metadata": {},
   "outputs": [],
   "source": [
    "df_145_trip_ids = df_trips.TRIPID.drop_duplicates()"
   ]
  },
  {
   "cell_type": "code",
   "execution_count": 44,
   "metadata": {},
   "outputs": [
    {
     "data": {
      "text/plain": [
       "16490"
      ]
     },
     "execution_count": 44,
     "metadata": {},
     "output_type": "execute_result"
    }
   ],
   "source": [
    "len(df_145_trip_ids)"
   ]
  },
  {
   "cell_type": "code",
   "execution_count": 41,
   "metadata": {},
   "outputs": [
    {
     "data": {
      "text/plain": [
       "CategoricalDtype(categories=[5955221, 5955222, 5955223, 5955224, 5955225, 5955226,\n",
       "                  5955227, 5955228, 5955229, 5955230,\n",
       "                  ...\n",
       "                  8592186, 8592187, 8592188, 8592189, 8592202, 8592203,\n",
       "                  8592204, 8592205, 8592206, 8592207],\n",
       "                 ordered=False)"
      ]
     },
     "execution_count": 41,
     "metadata": {},
     "output_type": "execute_result"
    }
   ],
   "source": [
    "df_145_trip_ids.dtype"
   ]
  },
  {
   "cell_type": "code",
   "execution_count": 42,
   "metadata": {},
   "outputs": [],
   "source": [
    "df_145_trip_ids = df_145_trip_ids.astype('int32')"
   ]
  },
  {
   "cell_type": "markdown",
   "metadata": {},
   "source": [
    "#### Remove trips ids from LEAVETIMES not in prev. list"
   ]
  },
  {
   "cell_type": "code",
   "execution_count": 43,
   "metadata": {},
   "outputs": [],
   "source": [
    "chunks = []\n",
    "\n",
    "for i, v in df_145_trip_ids.items():\n",
    "    chunks.append(temp_df_leavetimes.loc[temp_df_leavetimes.TRIPID == v, :])"
   ]
  },
  {
   "cell_type": "code",
   "execution_count": 46,
   "metadata": {},
   "outputs": [
    {
     "data": {
      "text/plain": [
       "16490"
      ]
     },
     "execution_count": 46,
     "metadata": {},
     "output_type": "execute_result"
    }
   ],
   "source": [
    "len(chunks)"
   ]
  },
  {
   "cell_type": "code",
   "execution_count": 47,
   "metadata": {},
   "outputs": [],
   "source": [
    "df_leavetimes = pd.concat(chunks)"
   ]
  },
  {
   "cell_type": "markdown",
   "metadata": {},
   "source": [
    "<br>\n",
    "NB check for duplicate rows"
   ]
  },
  {
   "cell_type": "code",
   "execution_count": 49,
   "metadata": {},
   "outputs": [
    {
     "data": {
      "text/html": [
       "<div>\n",
       "<style scoped>\n",
       "    .dataframe tbody tr th:only-of-type {\n",
       "        vertical-align: middle;\n",
       "    }\n",
       "\n",
       "    .dataframe tbody tr th {\n",
       "        vertical-align: top;\n",
       "    }\n",
       "\n",
       "    .dataframe thead th {\n",
       "        text-align: right;\n",
       "    }\n",
       "</style>\n",
       "<table border=\"1\" class=\"dataframe\">\n",
       "  <thead>\n",
       "    <tr style=\"text-align: right;\">\n",
       "      <th></th>\n",
       "      <th>DAYOFSERVICE</th>\n",
       "      <th>TRIPID</th>\n",
       "      <th>PROGRNUMBER</th>\n",
       "      <th>STOPPOINTID</th>\n",
       "      <th>PLANNEDTIME_ARR</th>\n",
       "      <th>PLANNEDTIME_DEP</th>\n",
       "      <th>ACTUALTIME_ARR</th>\n",
       "      <th>ACTUALTIME_DEP</th>\n",
       "      <th>VEHICLEID</th>\n",
       "    </tr>\n",
       "  </thead>\n",
       "  <tbody>\n",
       "    <tr>\n",
       "      <th>0</th>\n",
       "      <td>2018-02-18</td>\n",
       "      <td>6263611</td>\n",
       "      <td>31</td>\n",
       "      <td>2013</td>\n",
       "      <td>55128</td>\n",
       "      <td>55128</td>\n",
       "      <td>55231</td>\n",
       "      <td>55240</td>\n",
       "      <td>2868334</td>\n",
       "    </tr>\n",
       "    <tr>\n",
       "      <th>1</th>\n",
       "      <td>2018-02-18</td>\n",
       "      <td>6263611</td>\n",
       "      <td>66</td>\n",
       "      <td>2964</td>\n",
       "      <td>57113</td>\n",
       "      <td>57113</td>\n",
       "      <td>57459</td>\n",
       "      <td>57483</td>\n",
       "      <td>2868334</td>\n",
       "    </tr>\n",
       "    <tr>\n",
       "      <th>2</th>\n",
       "      <td>2018-02-18</td>\n",
       "      <td>6263611</td>\n",
       "      <td>67</td>\n",
       "      <td>4175</td>\n",
       "      <td>57174</td>\n",
       "      <td>57174</td>\n",
       "      <td>57611</td>\n",
       "      <td>57635</td>\n",
       "      <td>2868334</td>\n",
       "    </tr>\n",
       "    <tr>\n",
       "      <th>3</th>\n",
       "      <td>2018-02-18</td>\n",
       "      <td>6263611</td>\n",
       "      <td>32</td>\n",
       "      <td>2014</td>\n",
       "      <td>55200</td>\n",
       "      <td>55200</td>\n",
       "      <td>55277</td>\n",
       "      <td>55286</td>\n",
       "      <td>2868334</td>\n",
       "    </tr>\n",
       "    <tr>\n",
       "      <th>4</th>\n",
       "      <td>2018-02-18</td>\n",
       "      <td>6263611</td>\n",
       "      <td>33</td>\n",
       "      <td>4636</td>\n",
       "      <td>55238</td>\n",
       "      <td>55238</td>\n",
       "      <td>55315</td>\n",
       "      <td>55328</td>\n",
       "      <td>2868334</td>\n",
       "    </tr>\n",
       "  </tbody>\n",
       "</table>\n",
       "</div>"
      ],
      "text/plain": [
       "  DAYOFSERVICE   TRIPID PROGRNUMBER STOPPOINTID  PLANNEDTIME_ARR  \\\n",
       "0   2018-02-18  6263611          31        2013            55128   \n",
       "1   2018-02-18  6263611          66        2964            57113   \n",
       "2   2018-02-18  6263611          67        4175            57174   \n",
       "3   2018-02-18  6263611          32        2014            55200   \n",
       "4   2018-02-18  6263611          33        4636            55238   \n",
       "\n",
       "   PLANNEDTIME_DEP  ACTUALTIME_ARR  ACTUALTIME_DEP VEHICLEID  \n",
       "0            55128           55231           55240   2868334  \n",
       "1            57113           57459           57483   2868334  \n",
       "2            57174           57611           57635   2868334  \n",
       "3            55200           55277           55286   2868334  \n",
       "4            55238           55315           55328   2868334  "
      ]
     },
     "execution_count": 49,
     "metadata": {},
     "output_type": "execute_result"
    }
   ],
   "source": [
    "df_leavetimes.head()"
   ]
  },
  {
   "cell_type": "code",
   "execution_count": null,
   "metadata": {},
   "outputs": [],
   "source": [
    "df_leavetimes.shape"
   ]
  },
  {
   "cell_type": "markdown",
   "metadata": {},
   "source": [
    "### Check Distributions"
   ]
  },
  {
   "cell_type": "code",
   "execution_count": null,
   "metadata": {},
   "outputs": [],
   "source": [
    "style.use('dark_background')\n",
    "df_leavetimes.PLANNEDTIME_ARR.plot(kind='hist', bins=50, figsize=(12,12))"
   ]
  },
  {
   "cell_type": "code",
   "execution_count": 53,
   "metadata": {},
   "outputs": [
    {
     "data": {
      "text/plain": [
       "<matplotlib.axes._subplots.AxesSubplot at 0x1359b9c50>"
      ]
     },
     "execution_count": 53,
     "metadata": {},
     "output_type": "execute_result"
    },
    {
     "data": {
      "image/png": "[encoded data removed]",
      "text/plain": [
       "<Figure size 864x864 with 1 Axes>"
      ]
     },
     "metadata": {
      "needs_background": "light"
     },
     "output_type": "display_data"
    }
   ],
   "source": [
    "df_leavetimes.PLANNEDTIME_ARR.plot(kind='box', figsize=(12,12))"
   ]
  },
  {
   "cell_type": "code",
   "execution_count": 76,
   "metadata": {},
   "outputs": [
    {
     "data": {
      "text/plain": [
       "<matplotlib.axes._subplots.AxesSubplot at 0x14aa8dfd0>"
      ]
     },
     "execution_count": 76,
     "metadata": {},
     "output_type": "execute_result"
    },
    {
     "data": {
      "image/png": "[encoded data removed]",
      "text/plain": [
       "<Figure size 864x864 with 1 Axes>"
      ]
     },
     "metadata": {},
     "output_type": "display_data"
    }
   ],
   "source": [
    "style.use('dark_background')\n",
    "df_leavetimes.ACTUALTIME_DEP.plot(kind='hist', bins=50, figsize=(12,12))"
   ]
  },
  {
   "cell_type": "code",
   "execution_count": 55,
   "metadata": {},
   "outputs": [
    {
     "data": {
      "text/plain": [
       "<matplotlib.axes._subplots.AxesSubplot at 0x1359acfd0>"
      ]
     },
     "execution_count": 55,
     "metadata": {},
     "output_type": "execute_result"
    },
    {
     "data": {
      "image/png": "[encoded data removed]",
      "text/plain": [
       "<Figure size 864x864 with 1 Axes>"
      ]
     },
     "metadata": {
      "needs_background": "light"
     },
     "output_type": "display_data"
    }
   ],
   "source": [
    "df_leavetimes.ACTUALTIME_DEP.plot(kind='box', figsize=(12,12))"
   ]
  },
  {
   "cell_type": "markdown",
   "metadata": {},
   "source": [
    "Result: No issues"
   ]
  },
  {
   "cell_type": "markdown",
   "metadata": {},
   "source": [
    "#### Inspect distribution of planned vs actual arrival times"
   ]
  },
  {
   "cell_type": "code",
   "execution_count": 64,
   "metadata": {},
   "outputs": [
    {
     "data": {
      "image/png": "[encoded data removed]",
      "text/plain": [
       "<Figure size 432x288 with 1 Axes>"
      ]
     },
     "metadata": {
      "needs_background": "light"
     },
     "output_type": "display_data"
    }
   ],
   "source": [
    "plt.hist(df_leavetimes.PLANNEDTIME_ARR, alpha=0.5, label='PLANNED')\n",
    "plt.hist(df_leavetimes.ACTUALTIME_ARR, alpha=0.5, label='ACTUAL')\n",
    "plt.legend(loc='upper right')\n",
    "plt.show()"
   ]
  },
  {
   "cell_type": "code",
   "execution_count": 65,
   "metadata": {},
   "outputs": [
    {
     "data": {
      "text/plain": [
       "([array([237602., 554877., 486392., 466104., 463228., 523817., 521107.,\n",
       "         460502., 300233., 110928.]),\n",
       "  array([232297., 545314., 490001., 462725., 467136., 516323., 517851.,\n",
       "         474567., 306221., 112355.])],\n",
       " array([21739. , 28616.9, 35494.8, 42372.7, 49250.6, 56128.5, 63006.4,\n",
       "        69884.3, 76762.2, 83640.1, 90518. ]),\n",
       " <a list of 2 Lists of Patches objects>)"
      ]
     },
     "execution_count": 65,
     "metadata": {},
     "output_type": "execute_result"
    },
    {
     "data": {
      "image/png": "[encoded data removed]",
      "text/plain": [
       "<Figure size 432x288 with 1 Axes>"
      ]
     },
     "metadata": {
      "needs_background": "light"
     },
     "output_type": "display_data"
    }
   ],
   "source": [
    "plt.hist([df_leavetimes.PLANNEDTIME_ARR, df_leavetimes.ACTUALTIME_ARR])"
   ]
  },
  {
   "cell_type": "markdown",
   "metadata": {},
   "source": [
    "### Examine Very Early Trips"
   ]
  },
  {
   "cell_type": "code",
   "execution_count": 66,
   "metadata": {},
   "outputs": [
    {
     "data": {
      "text/plain": [
       "0"
      ]
     },
     "execution_count": 66,
     "metadata": {},
     "output_type": "execute_result"
    }
   ],
   "source": [
    "# inspect trips earlier than 5am, the stated start-of-service time\n",
    "# how many?\n",
    "\n",
    "df_leavetimes.loc[df_leavetiems.ACTUALTIME_ARR <18000].shape[0]"
   ]
  }
 ],
 "metadata": {
  "kernelspec": {
   "display_name": "analytics",
   "language": "python",
   "name": "analytics"
  },
  "language_info": {
   "codemirror_mode": {
    "name": "ipython",
    "version": 3
   },
   "file_extension": ".py",
   "mimetype": "text/x-python",
   "name": "python",
   "nbconvert_exporter": "python",
   "pygments_lexer": "ipython3",
   "version": "3.7.3"
  },
  "toc": {
   "base_numbering": 1,
   "nav_menu": {},
   "number_sections": true,
   "sideBar": true,
   "skip_h1_title": false,
   "title_cell": "Table of Contents",
   "title_sidebar": "Contents",
   "toc_cell": true,
   "toc_position": {},
   "toc_section_display": true,
   "toc_window_display": false
  },
  "varInspector": {
   "cols": {
    "lenName": 16,
    "lenType": 16,
    "lenVar": 40
   },
   "kernels_config": {
    "python": {
     "delete_cmd_postfix": "",
     "delete_cmd_prefix": "del ",
     "library": "var_list.py",
     "varRefreshCmd": "print(var_dic_list())"
    },
    "r": {
     "delete_cmd_postfix": ") ",
     "delete_cmd_prefix": "rm(",
     "library": "var_list.r",
     "varRefreshCmd": "cat(var_dic_list()) "
    }
   },
   "types_to_exclude": [
    "module",
    "function",
    "builtin_function_or_method",
    "instance",
    "_Feature"
   ],
   "window_display": false
  }
 },
 "nbformat": 4,
 "nbformat_minor": 2
}
