{
 "cells": [
  {
   "cell_type": "markdown",
   "metadata": {
    "toc": true
   },
   "source": [
    "<h1>Table of Contents<span class=\"tocSkip\"></span></h1>\n",
    "<div class=\"toc\"><ul class=\"toc-item\"><li><span><a href=\"#IMPORTS\" data-toc-modified-id=\"IMPORTS-1\"><span class=\"toc-item-num\">1&nbsp;&nbsp;</span>IMPORTS</a></span></li><li><span><a href=\"#READ-IN\" data-toc-modified-id=\"READ-IN-2\"><span class=\"toc-item-num\">2&nbsp;&nbsp;</span>READ IN</a></span></li><li><span><a href=\"#TRAIN-—-VALIDATION-—-TEST\" data-toc-modified-id=\"TRAIN-—-VALIDATION-—-TEST-3\"><span class=\"toc-item-num\">3&nbsp;&nbsp;</span>TRAIN — VALIDATION — TEST</a></span></li><li><span><a href=\"#EXAMINTE-THE-RELATIONSHIP-BETWEEN-CONTINUOUS-FEATURE\" data-toc-modified-id=\"EXAMINTE-THE-RELATIONSHIP-BETWEEN-CONTINUOUS-FEATURE-4\"><span class=\"toc-item-num\">4&nbsp;&nbsp;</span>EXAMINTE THE RELATIONSHIP BETWEEN CONTINUOUS FEATURE</a></span><ul class=\"toc-item\"><li><span><a href=\"#RELATIONSHIP-BETWEEN-CONTINUOUS-FEATURES\" data-toc-modified-id=\"RELATIONSHIP-BETWEEN-CONTINUOUS-FEATURES-4.1\"><span class=\"toc-item-num\">4.1&nbsp;&nbsp;</span>RELATIONSHIP BETWEEN CONTINUOUS FEATURES</a></span></li><li><span><a href=\"#RELATIONSHIP-BETWEEN-CONTINUOUS-FEATURES-+-TARGET\" data-toc-modified-id=\"RELATIONSHIP-BETWEEN-CONTINUOUS-FEATURES-+-TARGET-4.2\"><span class=\"toc-item-num\">4.2&nbsp;&nbsp;</span>RELATIONSHIP BETWEEN CONTINUOUS FEATURES + TARGET</a></span><ul class=\"toc-item\"><li><span><a href=\"#POINT-BISERIAL-CORRELATION\" data-toc-modified-id=\"POINT-BISERIAL-CORRELATION-4.2.1\"><span class=\"toc-item-num\">4.2.1&nbsp;&nbsp;</span>POINT BISERIAL CORRELATION</a></span></li></ul></li><li><span><a href=\"#RELATIONSHIP-BETWEEN-CATEGORICAL-FEATURES-+-TARGET\" data-toc-modified-id=\"RELATIONSHIP-BETWEEN-CATEGORICAL-FEATURES-+-TARGET-4.3\"><span class=\"toc-item-num\">4.3&nbsp;&nbsp;</span>RELATIONSHIP BETWEEN CATEGORICAL FEATURES + TARGET</a></span></li><li><span><a href=\"#Colinearity\" data-toc-modified-id=\"Colinearity-4.4\"><span class=\"toc-item-num\">4.4&nbsp;&nbsp;</span>Colinearity</a></span></li></ul></li><li><span><a href=\"#LINEAR-REGRESSION\" data-toc-modified-id=\"LINEAR-REGRESSION-5\"><span class=\"toc-item-num\">5&nbsp;&nbsp;</span>LINEAR REGRESSION</a></span><ul class=\"toc-item\"><li><span><a href=\"#SAVE-THE-VARIOUS-DATAFRAMES-STATES-FOR-CONSISTENCY-BETWEEN-MODEL-TESTS\" data-toc-modified-id=\"SAVE-THE-VARIOUS-DATAFRAMES-STATES-FOR-CONSISTENCY-BETWEEN-MODEL-TESTS-5.1\"><span class=\"toc-item-num\">5.1&nbsp;&nbsp;</span>SAVE THE VARIOUS DATAFRAMES STATES FOR CONSISTENCY BETWEEN MODEL TESTS</a></span></li><li><span><a href=\"#DEFINE-HELPER-FUNCTIONS\" data-toc-modified-id=\"DEFINE-HELPER-FUNCTIONS-5.2\"><span class=\"toc-item-num\">5.2&nbsp;&nbsp;</span>DEFINE HELPER FUNCTIONS</a></span></li><li><span><a href=\"#DATA-PREPARATION:-SCALING-&amp;-DUMMY-VARS\" data-toc-modified-id=\"DATA-PREPARATION:-SCALING-&amp;-DUMMY-VARS-5.3\"><span class=\"toc-item-num\">5.3&nbsp;&nbsp;</span>DATA PREPARATION: SCALING &amp; DUMMY VARS</a></span><ul class=\"toc-item\"><li><span><a href=\"#FIRST-ATTEMPT\" data-toc-modified-id=\"FIRST-ATTEMPT-5.3.1\"><span class=\"toc-item-num\">5.3.1&nbsp;&nbsp;</span>FIRST ATTEMPT</a></span></li><li><span><a href=\"#SECOND-ATTEMPT\" data-toc-modified-id=\"SECOND-ATTEMPT-5.3.2\"><span class=\"toc-item-num\">5.3.2&nbsp;&nbsp;</span>SECOND ATTEMPT</a></span><ul class=\"toc-item\"><li><span><a href=\"#ON-THE-TRAINING-SET\" data-toc-modified-id=\"ON-THE-TRAINING-SET-5.3.2.1\"><span class=\"toc-item-num\">5.3.2.1&nbsp;&nbsp;</span>ON THE TRAINING SET</a></span></li><li><span><a href=\"#On-the-Validation-Set\" data-toc-modified-id=\"On-the-Validation-Set-5.3.2.2\"><span class=\"toc-item-num\">5.3.2.2&nbsp;&nbsp;</span>On the Validation Set</a></span></li></ul></li></ul></li></ul></li><li><span><a href=\"#Feature-Order-for-Hacky-implementation-of-first-model,-for-Presentation-Demo\" data-toc-modified-id=\"Feature-Order-for-Hacky-implementation-of-first-model,-for-Presentation-Demo-6\"><span class=\"toc-item-num\">6&nbsp;&nbsp;</span>Feature Order for Hacky implementation of first model, for Presentation Demo</a></span></li><li><span><a href=\"#Export-(poor,-original)-MLR-model-for-demo\" data-toc-modified-id=\"Export-(poor,-original)-MLR-model-for-demo-7\"><span class=\"toc-item-num\">7&nbsp;&nbsp;</span>Export (poor, original) MLR model for demo</a></span></li><li><span><a href=\"#CHECK-THE-FEATURE-IMPORTANCES-OF-THIS-ITERATION\" data-toc-modified-id=\"CHECK-THE-FEATURE-IMPORTANCES-OF-THIS-ITERATION-8\"><span class=\"toc-item-num\">8&nbsp;&nbsp;</span>CHECK THE FEATURE IMPORTANCES OF THIS ITERATION</a></span></li></ul></div>"
   ]
  },
  {
   "cell_type": "markdown",
   "metadata": {},
   "source": [
    "# IMPORTS"
   ]
  },
  {
   "cell_type": "code",
   "execution_count": 1,
   "metadata": {},
   "outputs": [
    {
     "data": {
      "text/html": [
       "<style>.container {width:80% !important;}</style>"
      ],
      "text/plain": [
       "<IPython.core.display.HTML object>"
      ]
     },
     "metadata": {},
     "output_type": "display_data"
    }
   ],
   "source": [
    "# set the display aspect ratio\n",
    "\n",
    "from IPython.core.display import display, HTML\n",
    "display(HTML('<style>.container {width:80% !important;}</style>'))"
   ]
  },
  {
   "cell_type": "code",
   "execution_count": 2,
   "metadata": {},
   "outputs": [],
   "source": [
    "# import packages\n",
    "\n",
    "import sys\n",
    "import pandas as pd\n",
    "import numpy as np\n",
    "import matplotlib.pyplot as plt\n",
    "import seaborn as sns\n",
    "from scipy import stats\n",
    "from sklearn.metrics import r2_score\n",
    "from sklearn import metrics\n",
    "import statsmodels.formula.api as sm\n",
    "from sklearn.model_selection import train_test_split\n",
    "from sklearn.model_selection import cross_val_score\n",
    "from sklearn.preprocessing import StandardScaler\n",
    "from sklearn.linear_model import LinearRegression\n",
    "from sklearn.metrics import mean_squared_error\n",
    "from sklearn.metrics import roc_curve, auc\n",
    "from sklearn.ensemble import RandomForestRegressor\n",
    "# from treeinterpreter import treeinterpreter as ti\n",
    "from rfpimp import *\n",
    "from sklearn.linear_model import Lasso\n",
    "from sklearn.preprocessing import PolynomialFeatures\n",
    "from sklearn.model_selection import GridSearchCV\n",
    "# from matplotlib.backends.backend_pdf import PdfPages\n",
    "from joblib import dump, load\n",
    "from sklearn.preprocessing import LabelEncoder, OneHotEncoder"
   ]
  },
  {
   "cell_type": "code",
   "execution_count": 3,
   "metadata": {},
   "outputs": [],
   "source": [
    "# Display plots in the notebook\n",
    "\n",
    "%matplotlib inline"
   ]
  },
  {
   "cell_type": "code",
   "execution_count": 4,
   "metadata": {},
   "outputs": [],
   "source": [
    "# load custom function for assessing dataframes succinctly\n",
    "\n",
    "def assess_df(df):\n",
    "  \n",
    "    feature_types = {df[df.columns[x]].dtypes.name for x in range(len(df.columns))}\n",
    "    \n",
    "  \t# print datatypes\n",
    "  \n",
    "    print(\"Datatypes:\\n\")\n",
    "    print(df.dtypes)\n",
    "    print('\\n\\n')\n",
    "    \n",
    "    # print number rows and cols\n",
    "    print('*' * 50)\n",
    "    print('ROWS, COLUMNS, NULLS\\n')\n",
    "    print(df.shape[0], \"rows in the dataframe.\")\n",
    "    print(df.shape[1], \"columns in the dataframe.\\n\")\n",
    "    print(df.isnull().sum().sum(), \"null values in the dataframe.\")\n",
    "    \n",
    "    # check duplicate rows & col; print if present\n",
    "    \n",
    "    duplicate_rows = df.duplicated(keep=False).sum()\n",
    "    duplicate_cols = df.index.T.duplicated(keep=False).sum()\n",
    "    \n",
    "    print(duplicate_rows, \"duplicate rows\")\n",
    "    print(duplicate_cols, \"duplicate columns\")\n",
    "    \n",
    "    if duplicate_rows > 0 or duplicate_cols > 0:\n",
    "      print(df.loc[df.duplicated()])\n",
    "\t\n",
    "    print('\\n')\n",
    "    \n",
    "    # check for constant columns\n",
    "    \n",
    "    numeric_cols = list(df.select_dtypes(include=[np.number]).columns.values)\n",
    "    categorical_cols = list(df.select_dtypes('category').columns.values)\n",
    "    \n",
    "    standard_diffs = [df.describe().loc['std', x] for x in numeric_cols]\n",
    "    \n",
    "    constant_categorical_column=False\n",
    "    if 'category' in feature_types:\n",
    "        for column in categorical_cols:\n",
    "            if df[column].describe().index.unique == 1:\n",
    "                constant_categorical_column = True\n",
    "            \n",
    "            \n",
    "    if 0 in standard_diffs:\n",
    "        print(\"Constant numeric columns: TRUE\")\n",
    "    else:\n",
    "        print(\"Constant numeric columns: FALSE\")\n",
    "  \n",
    "    if 'category' in feature_types:    \n",
    "        if constant_categorical_column == True:\n",
    "            print(\"Constant categorical columns: TRUE\")\n",
    "        else:\n",
    "            print(\"Constant categorical columns: FALSE\")\n",
    "\n",
    "            \n",
    "    \n",
    "    print('\\n\\n')\n",
    "\n",
    "    \n",
    "    # feature stats\n",
    "    print('*' * 50)\n",
    "    print('DESCRIPTION\\n')\n",
    "    print(df.describe().T)\n",
    "    print('\\n\\n')\n",
    "    print('*' * 50)\n",
    "\n",
    "    \n",
    "    # feature stats: categorical\n",
    "    \n",
    "    if 'category' in feature_types:\n",
    "        print('CATEGORICAL DESCRIPTION\\n')\n",
    "        print('\\n')\n",
    "        print(df.select_dtypes(['category']).describe().T)\n",
    "        print('\\n\\n')\n",
    "        print('*' * 50)\n",
    "    \n",
    "    # print feature cardinalities\n",
    "    \n",
    "    print(\"FEATURE CARDINALITIES\\n\")\n",
    "    column_names = list(df.columns.values)\n",
    "\n",
    "    print('{0:45}  {1}'.format(\"Feature\", \"Distinct Values\"))\n",
    "    print('{0:45}  {1}'.format(\"-------\", \"--------------- \\n\"))\n",
    "\n",
    "    for c in column_names:\n",
    "        print('{0:45}  {1}'.format(c, str(len(df[c].unique()))))\n",
    "    \n",
    "    print('\\n')\n",
    "    print('*' * 50)\n",
    "    print('MEMORY\\n')\n",
    "    \n",
    "    \n",
    "    print(df.info(memory_usage='deep'))\n",
    "    print('\\n')\n",
    "    print(df.memory_usage(deep=True))\n",
    "    print('\\n')\n",
    "    print('*' * 50)\n",
    "    print('HEAD\\n')\n",
    "    print(df.head(10))\n",
    "    print('\\n')\n",
    "    print('*' * 50)\n",
    "    print('TAIL\\n')\n",
    "    print(df.tail(10))"
   ]
  },
  {
   "cell_type": "markdown",
   "metadata": {},
   "source": [
    "# READ IN"
   ]
  },
  {
   "cell_type": "code",
   "execution_count": 4,
   "metadata": {},
   "outputs": [],
   "source": [
    "path = '/tmp/ssh_mount/data/dataframes/L145/145ABT.feather'\n",
    "\n",
    "df = pd.read_feather(path)"
   ]
  },
  {
   "cell_type": "code",
   "execution_count": 6,
   "metadata": {},
   "outputs": [
    {
     "data": {
      "text/html": [
       "<div>\n",
       "<style scoped>\n",
       "    .dataframe tbody tr th:only-of-type {\n",
       "        vertical-align: middle;\n",
       "    }\n",
       "\n",
       "    .dataframe tbody tr th {\n",
       "        vertical-align: top;\n",
       "    }\n",
       "\n",
       "    .dataframe thead th {\n",
       "        text-align: right;\n",
       "    }\n",
       "</style>\n",
       "<table border=\"1\" class=\"dataframe\">\n",
       "  <thead>\n",
       "    <tr style=\"text-align: right;\">\n",
       "      <th></th>\n",
       "      <th>STOP_ID</th>\n",
       "      <th>MONTH</th>\n",
       "      <th>DAYOFWEEK</th>\n",
       "      <th>ARRIVAL_INTERVAL</th>\n",
       "      <th>PLANNEDTIME_ARR</th>\n",
       "      <th>SCHOOL_OFF</th>\n",
       "      <th>RAIN</th>\n",
       "      <th>TEMP</th>\n",
       "      <th>ACTUALTIME_ARR</th>\n",
       "    </tr>\n",
       "  </thead>\n",
       "  <tbody>\n",
       "    <tr>\n",
       "      <th>0</th>\n",
       "      <td>2013</td>\n",
       "      <td>2</td>\n",
       "      <td>6</td>\n",
       "      <td>15:00 - 15:30</td>\n",
       "      <td>55128</td>\n",
       "      <td>0</td>\n",
       "      <td>0.000000</td>\n",
       "      <td>10.000000</td>\n",
       "      <td>55231</td>\n",
       "    </tr>\n",
       "    <tr>\n",
       "      <th>1</th>\n",
       "      <td>2964</td>\n",
       "      <td>2</td>\n",
       "      <td>6</td>\n",
       "      <td>15:30 - 16:00</td>\n",
       "      <td>57113</td>\n",
       "      <td>0</td>\n",
       "      <td>0.000000</td>\n",
       "      <td>10.000000</td>\n",
       "      <td>57459</td>\n",
       "    </tr>\n",
       "    <tr>\n",
       "      <th>2</th>\n",
       "      <td>4175</td>\n",
       "      <td>2</td>\n",
       "      <td>6</td>\n",
       "      <td>16:00 - 16:30</td>\n",
       "      <td>57174</td>\n",
       "      <td>0</td>\n",
       "      <td>0.199951</td>\n",
       "      <td>10.070312</td>\n",
       "      <td>57611</td>\n",
       "    </tr>\n",
       "    <tr>\n",
       "      <th>3</th>\n",
       "      <td>2014</td>\n",
       "      <td>2</td>\n",
       "      <td>6</td>\n",
       "      <td>15:00 - 15:30</td>\n",
       "      <td>55200</td>\n",
       "      <td>0</td>\n",
       "      <td>0.000000</td>\n",
       "      <td>10.000000</td>\n",
       "      <td>55277</td>\n",
       "    </tr>\n",
       "    <tr>\n",
       "      <th>4</th>\n",
       "      <td>4636</td>\n",
       "      <td>2</td>\n",
       "      <td>6</td>\n",
       "      <td>15:00 - 15:30</td>\n",
       "      <td>55238</td>\n",
       "      <td>0</td>\n",
       "      <td>0.000000</td>\n",
       "      <td>10.000000</td>\n",
       "      <td>55315</td>\n",
       "    </tr>\n",
       "  </tbody>\n",
       "</table>\n",
       "</div>"
      ],
      "text/plain": [
       "  STOP_ID MONTH DAYOFWEEK ARRIVAL_INTERVAL  PLANNEDTIME_ARR SCHOOL_OFF  \\\n",
       "0    2013     2         6    15:00 - 15:30            55128          0   \n",
       "1    2964     2         6    15:30 - 16:00            57113          0   \n",
       "2    4175     2         6    16:00 - 16:30            57174          0   \n",
       "3    2014     2         6    15:00 - 15:30            55200          0   \n",
       "4    4636     2         6    15:00 - 15:30            55238          0   \n",
       "\n",
       "       RAIN       TEMP  ACTUALTIME_ARR  \n",
       "0  0.000000  10.000000           55231  \n",
       "1  0.000000  10.000000           57459  \n",
       "2  0.199951  10.070312           57611  \n",
       "3  0.000000  10.000000           55277  \n",
       "4  0.000000  10.000000           55315  "
      ]
     },
     "execution_count": 6,
     "metadata": {},
     "output_type": "execute_result"
    }
   ],
   "source": [
    "df.head()"
   ]
  },
  {
   "cell_type": "code",
   "execution_count": 7,
   "metadata": {},
   "outputs": [
    {
     "name": "stdout",
     "output_type": "stream",
     "text": [
      "Datatypes:\n",
      "\n",
      "STOP_ID             category\n",
      "MONTH               category\n",
      "DAYOFWEEK           category\n",
      "ARRIVAL_INTERVAL    category\n",
      "PLANNEDTIME_ARR        int32\n",
      "SCHOOL_OFF          category\n",
      "RAIN                 float32\n",
      "TEMP                 float32\n",
      "ACTUALTIME_ARR         int32\n",
      "dtype: object\n",
      "\n",
      "\n",
      "\n",
      "**************************************************\n",
      "ROWS, COLUMNS, NULLS\n",
      "\n",
      "4021592 rows in the dataframe.\n",
      "9 columns in the dataframe.\n",
      "\n",
      "0 null values in the dataframe.\n",
      "0 duplicate rows\n",
      "0 duplicate columns\n",
      "\n",
      "\n",
      "Constant numeric columns: FALSE\n",
      "Constant categorical columns: FALSE\n",
      "\n",
      "\n",
      "\n",
      "**************************************************\n",
      "DESCRIPTION\n",
      "\n",
      "                     count          mean           std           min  \\\n",
      "PLANNEDTIME_ARR  4021592.0  53915.532551  16896.684293  22200.000000   \n",
      "RAIN             4021592.0      0.065601      0.282155      0.000000   \n",
      "TEMP             4021592.0     10.958720      5.634358     -4.167969   \n",
      "ACTUALTIME_ARR   4021592.0  54102.292433  16915.229651  21739.000000   \n",
      "\n",
      "                          25%          50%           75%           max  \n",
      "PLANNEDTIME_ARR  39105.000000  54119.00000  67836.000000  88657.000000  \n",
      "RAIN                 0.000000      0.00000      0.000000      6.066406  \n",
      "TEMP                 6.734375     10.53125     15.195312     26.968750  \n",
      "ACTUALTIME_ARR   39280.000000  54272.00000  68101.000000  90518.000000  \n",
      "\n",
      "\n",
      "\n",
      "**************************************************\n",
      "CATEGORICAL DESCRIPTION\n",
      "\n",
      "\n",
      "\n",
      "                    count unique            top     freq\n",
      "STOP_ID           4021592    146           4320    55870\n",
      "MONTH             4021592     12              1   369882\n",
      "DAYOFWEEK         4021592      7              1   693083\n",
      "ARRIVAL_INTERVAL  4021592     39  17:30 - 18:00   143412\n",
      "SCHOOL_OFF        4021592      2              0  2900466\n",
      "\n",
      "\n",
      "\n",
      "**************************************************\n",
      "FEATURE CARDINALITIES\n",
      "\n",
      "Feature                                        Distinct Values\n",
      "-------                                        --------------- \n",
      "\n",
      "STOP_ID                                        146\n",
      "MONTH                                          12\n",
      "DAYOFWEEK                                      7\n",
      "ARRIVAL_INTERVAL                               39\n",
      "PLANNEDTIME_ARR                                64962\n",
      "SCHOOL_OFF                                     2\n",
      "RAIN                                           112\n",
      "TEMP                                           1140\n",
      "ACTUALTIME_ARR                                 66832\n",
      "\n",
      "\n",
      "**************************************************\n",
      "MEMORY\n",
      "\n",
      "<class 'pandas.core.frame.DataFrame'>\n",
      "RangeIndex: 4021592 entries, 0 to 4021591\n",
      "Data columns (total 9 columns):\n",
      "STOP_ID             category\n",
      "MONTH               category\n",
      "DAYOFWEEK           category\n",
      "ARRIVAL_INTERVAL    category\n",
      "PLANNEDTIME_ARR     int32\n",
      "SCHOOL_OFF          category\n",
      "RAIN                float32\n",
      "TEMP                float32\n",
      "ACTUALTIME_ARR      int32\n",
      "dtypes: category(5), float32(2), int32(2)\n",
      "memory usage: 84.6 MB\n",
      "None\n",
      "\n",
      "\n",
      "Index                     80\n",
      "STOP_ID              8245216\n",
      "MONTH                4022008\n",
      "DAYOFWEEK            4021968\n",
      "ARRIVAL_INTERVAL     4027725\n",
      "PLANNEDTIME_ARR     16086368\n",
      "SCHOOL_OFF           4021804\n",
      "RAIN                16086368\n",
      "TEMP                16086368\n",
      "ACTUALTIME_ARR      16086368\n",
      "dtype: int64\n",
      "\n",
      "\n",
      "**************************************************\n",
      "HEAD\n",
      "\n",
      "  STOP_ID MONTH DAYOFWEEK ARRIVAL_INTERVAL  PLANNEDTIME_ARR SCHOOL_OFF  \\\n",
      "0    2013     2         6    15:00 - 15:30            55128          0   \n",
      "1    2964     2         6    15:30 - 16:00            57113          0   \n",
      "2    4175     2         6    16:00 - 16:30            57174          0   \n",
      "3    2014     2         6    15:00 - 15:30            55200          0   \n",
      "4    4636     2         6    15:00 - 15:30            55238          0   \n",
      "5    5091     2         6    16:00 - 16:30            57196          0   \n",
      "6    5092     2         6    16:00 - 16:30            57235          0   \n",
      "7    2016     2         6    15:00 - 15:30            55311          0   \n",
      "8    2015     2         6    15:00 - 15:30            55359          0   \n",
      "9    7574     2         6    16:00 - 16:30            57297          0   \n",
      "\n",
      "       RAIN       TEMP  ACTUALTIME_ARR  \n",
      "0  0.000000  10.000000           55231  \n",
      "1  0.000000  10.000000           57459  \n",
      "2  0.199951  10.070312           57611  \n",
      "3  0.000000  10.000000           55277  \n",
      "4  0.000000  10.000000           55315  \n",
      "5  0.199951  10.070312           57656  \n",
      "6  0.199951  10.070312           57692  \n",
      "7  0.000000  10.000000           55439  \n",
      "8  0.000000  10.000000           55489  \n",
      "9  0.199951  10.070312           57733  \n",
      "\n",
      "\n",
      "**************************************************\n",
      "TAIL\n",
      "\n",
      "        STOP_ID MONTH DAYOFWEEK ARRIVAL_INTERVAL  PLANNEDTIME_ARR SCHOOL_OFF  \\\n",
      "4021582    4727     5         6    23:30 - 24:00            85511          0   \n",
      "4021583    2070     5         6    23:30 - 24:00            85637          0   \n",
      "4021584     771     5         6    23:30 - 24:00            85778          0   \n",
      "4021585     776     5         6    23:30 - 24:00            85903          0   \n",
      "4021586     909     5         6    23:30 - 24:00            86025          0   \n",
      "4021587    2993     5         6    23:00 - 23:30            84205          0   \n",
      "4021588    4206     5         6    23:30 - 24:00            84734          0   \n",
      "4021589    5127     5         6    23:30 - 24:00            85107          0   \n",
      "4021590    2068     5         6    23:30 - 24:00            85589          0   \n",
      "4021591     906     5         6    23:30 - 24:00            85953          0   \n",
      "\n",
      "         RAIN  TEMP  ACTUALTIME_ARR  \n",
      "4021582   0.0  13.0           85836  \n",
      "4021583   0.0  13.0           86019  \n",
      "4021584   0.0  13.0           86142  \n",
      "4021585   0.0  13.0           86266  \n",
      "4021586   0.0  13.0           86384  \n",
      "4021587   0.0  13.0           84269  \n",
      "4021588   0.0  13.0           84891  \n",
      "4021589   0.0  13.0           85310  \n",
      "4021590   0.0  13.0           85938  \n",
      "4021591   0.0  13.0           86326  \n"
     ]
    }
   ],
   "source": [
    "assess_df(df)"
   ]
  },
  {
   "cell_type": "markdown",
   "metadata": {},
   "source": [
    "# TRAIN — VALIDATION — TEST"
   ]
  },
  {
   "cell_type": "code",
   "execution_count": 5,
   "metadata": {},
   "outputs": [
    {
     "data": {
      "text/plain": [
       "'ACTUALTIME_ARR'"
      ]
     },
     "execution_count": 5,
     "metadata": {},
     "output_type": "execute_result"
    }
   ],
   "source": [
    "predict_features = df.columns.tolist()\n",
    "predict_features.pop()"
   ]
  },
  {
   "cell_type": "code",
   "execution_count": 6,
   "metadata": {},
   "outputs": [],
   "source": [
    "target_feature = 'ACTUALTIME_ARR'"
   ]
  },
  {
   "cell_type": "code",
   "execution_count": 7,
   "metadata": {},
   "outputs": [],
   "source": [
    "X = df[predict_features]\n",
    "y = df[target_feature]"
   ]
  },
  {
   "cell_type": "code",
   "execution_count": 8,
   "metadata": {},
   "outputs": [],
   "source": [
    "# set 20% rows aside for testing\n",
    "\n",
    "X_train, X_test, y_train, y_test = train_test_split(X, y, test_size = 0.2)"
   ]
  },
  {
   "cell_type": "code",
   "execution_count": 9,
   "metadata": {},
   "outputs": [],
   "source": [
    "# create test and validation sets\n",
    "\n",
    "X_train, X_val, y_train, y_val = train_test_split(X_train, y_train, test_size = 0.2)"
   ]
  },
  {
   "cell_type": "code",
   "execution_count": 10,
   "metadata": {},
   "outputs": [
    {
     "data": {
      "text/plain": [
       "(2573818, 8)"
      ]
     },
     "execution_count": 10,
     "metadata": {},
     "output_type": "execute_result"
    }
   ],
   "source": [
    "X_train.shape"
   ]
  },
  {
   "cell_type": "markdown",
   "metadata": {},
   "source": [
    "# EXAMINTE THE RELATIONSHIP BETWEEN CONTINUOUS FEATURE"
   ]
  },
  {
   "cell_type": "markdown",
   "metadata": {},
   "source": [
    "Relationships between the continuous features themselves are not included as we know that there is no relationship between actual weather data and timetabled schedule."
   ]
  },
  {
   "cell_type": "markdown",
   "metadata": {},
   "source": [
    "## RELATIONSHIP BETWEEN CONTINUOUS FEATURES"
   ]
  },
  {
   "cell_type": "markdown",
   "metadata": {},
   "source": [
    "<br>\n",
    "\n",
    "Here we check whether there is a correlation between the continuous features as a point of good practice. We know apriori that there is going to be no dependence between planned arrival time and weather; we may anticipate a minor dependance, negative correlation, between temperature and rainfall.\n",
    "\n",
    "<br>"
   ]
  },
  {
   "cell_type": "code",
   "execution_count": 11,
   "metadata": {},
   "outputs": [],
   "source": [
    "# specicify the continuous features\n",
    "\n",
    "continuous_features = ['PLANNEDTIME_ARR', 'RAIN', 'TEMP']\n",
    "\n",
    "# check correlation\n",
    "\n",
    "continuous_correlation = X_train[continuous_features].corr()"
   ]
  },
  {
   "cell_type": "code",
   "execution_count": 12,
   "metadata": {},
   "outputs": [
    {
     "data": {
      "text/html": [
       "<div>\n",
       "<style scoped>\n",
       "    .dataframe tbody tr th:only-of-type {\n",
       "        vertical-align: middle;\n",
       "    }\n",
       "\n",
       "    .dataframe tbody tr th {\n",
       "        vertical-align: top;\n",
       "    }\n",
       "\n",
       "    .dataframe thead th {\n",
       "        text-align: right;\n",
       "    }\n",
       "</style>\n",
       "<table border=\"1\" class=\"dataframe\">\n",
       "  <thead>\n",
       "    <tr style=\"text-align: right;\">\n",
       "      <th></th>\n",
       "      <th>PLANNEDTIME_ARR</th>\n",
       "      <th>RAIN</th>\n",
       "      <th>TEMP</th>\n",
       "    </tr>\n",
       "  </thead>\n",
       "  <tbody>\n",
       "    <tr>\n",
       "      <th>PLANNEDTIME_ARR</th>\n",
       "      <td>1.000000</td>\n",
       "      <td>-0.025019</td>\n",
       "      <td>0.005873</td>\n",
       "    </tr>\n",
       "    <tr>\n",
       "      <th>RAIN</th>\n",
       "      <td>-0.025019</td>\n",
       "      <td>1.000000</td>\n",
       "      <td>-0.081680</td>\n",
       "    </tr>\n",
       "    <tr>\n",
       "      <th>TEMP</th>\n",
       "      <td>0.005873</td>\n",
       "      <td>-0.081680</td>\n",
       "      <td>1.000000</td>\n",
       "    </tr>\n",
       "  </tbody>\n",
       "</table>\n",
       "</div>"
      ],
      "text/plain": [
       "                 PLANNEDTIME_ARR      RAIN      TEMP\n",
       "PLANNEDTIME_ARR         1.000000 -0.025019  0.005873\n",
       "RAIN                   -0.025019  1.000000 -0.081680\n",
       "TEMP                    0.005873 -0.081680  1.000000"
      ]
     },
     "execution_count": 12,
     "metadata": {},
     "output_type": "execute_result"
    }
   ],
   "source": [
    "continuous_correlation"
   ]
  },
  {
   "cell_type": "code",
   "execution_count": 13,
   "metadata": {},
   "outputs": [
    {
     "data": {
      "text/plain": [
       "<matplotlib.axes._subplots.AxesSubplot at 0x11945cbe0>"
      ]
     },
     "execution_count": 13,
     "metadata": {},
     "output_type": "execute_result"
    },
    {
     "data": {
      "image/png": "[encoded data removed]",
      "text/plain": [
       "<Figure size 576x576 with 2 Axes>"
      ]
     },
     "metadata": {
      "needs_background": "light"
     },
     "output_type": "display_data"
    }
   ],
   "source": [
    "plt.figure(figsize=(8,8))\n",
    "mask = np.zeros_like(continuous_correlation)\n",
    "mask[np.triu_indices_from(mask)] = True\n",
    "sns.heatmap(continuous_correlation, linewidths=.5, annot=True)"
   ]
  },
  {
   "cell_type": "markdown",
   "metadata": {},
   "source": [
    "<br>\n",
    "\n",
    "**Result**\n",
    "\n",
    "<br>\n",
    "\n",
    "A strong correlation is defined as greater than 0.7; moderate as 0.5 < r < 0.7; weak as below 0.5. There is a clear non-linear-correlation between these features.\n",
    "\n",
    "<br>\n",
    "\n",
    "A very strong correlation bewteen features would render one of the features redundant for linear models as it would contribute nothing towards predictive capacity.\n",
    "\n",
    "<br>"
   ]
  },
  {
   "cell_type": "markdown",
   "metadata": {},
   "source": [
    "## RELATIONSHIP BETWEEN CONTINUOUS FEATURES + TARGET"
   ]
  },
  {
   "cell_type": "markdown",
   "metadata": {},
   "source": [
    "### POINT BISERIAL CORRELATION"
   ]
  },
  {
   "cell_type": "markdown",
   "metadata": {},
   "source": [
    "<br>\n",
    "\n",
    "Taking a single continuous feature at a time, we investigate the strength of linear correlation between it and the target feature. Here we use the Pearson Product-Moment Coefficient (r-value) to measure this correlation, which also returns a p-value, which taking the number of samples into account, determines whether a possible correlation is statistically legitmate. An r-value with an associated p-value falling above 0.05 cannot be considered a legitmate statement of correlation. \n",
    "\n",
    "<br>"
   ]
  },
  {
   "cell_type": "code",
   "execution_count": 14,
   "metadata": {},
   "outputs": [
    {
     "data": {
      "text/plain": [
       "STOP_ID             category\n",
       "MONTH               category\n",
       "DAYOFWEEK           category\n",
       "ARRIVAL_INTERVAL    category\n",
       "PLANNEDTIME_ARR        int32\n",
       "SCHOOL_OFF          category\n",
       "RAIN                 float32\n",
       "TEMP                 float32\n",
       "dtype: object"
      ]
     },
     "execution_count": 14,
     "metadata": {},
     "output_type": "execute_result"
    }
   ],
   "source": [
    "X_train.dtypes"
   ]
  },
  {
   "cell_type": "markdown",
   "metadata": {},
   "source": [
    "<br>\n",
    "\n",
    "Calculating the correlation coefficient (r-value) \n",
    "\n",
    "<br>"
   ]
  },
  {
   "cell_type": "code",
   "execution_count": 15,
   "metadata": {},
   "outputs": [
    {
     "data": {
      "text/plain": [
       "PointbiserialrResult(correlation=0.9996870194447158, pvalue=0.0)"
      ]
     },
     "execution_count": 15,
     "metadata": {},
     "output_type": "execute_result"
    }
   ],
   "source": [
    "# determine the r- and p-values for planned arrival times with target\n",
    "\n",
    "stats.pointbiserialr(X_train.PLANNEDTIME_ARR, y_train)"
   ]
  },
  {
   "cell_type": "code",
   "execution_count": 16,
   "metadata": {},
   "outputs": [
    {
     "data": {
      "text/plain": [
       "PointbiserialrResult(correlation=-0.024152785663839382, pvalue=0.0)"
      ]
     },
     "execution_count": 16,
     "metadata": {},
     "output_type": "execute_result"
    }
   ],
   "source": [
    "# determine the r- and p-values for rainfall with target\n",
    "\n",
    "stats.pointbiserialr(X_train.RAIN, y_train)"
   ]
  },
  {
   "cell_type": "code",
   "execution_count": 17,
   "metadata": {},
   "outputs": [
    {
     "data": {
      "text/plain": [
       "PointbiserialrResult(correlation=0.007211572267698842, pvalue=5.86471717791226e-31)"
      ]
     },
     "execution_count": 17,
     "metadata": {},
     "output_type": "execute_result"
    }
   ],
   "source": [
    "# determine the r- and p-values for temperature with target\n",
    "\n",
    "stats.pointbiserialr(X_train.TEMP, y_train)"
   ]
  },
  {
   "cell_type": "markdown",
   "metadata": {},
   "source": [
    "<br>\n",
    "\n",
    "**Results:**\n",
    "\n",
    "<br>\n",
    "\n",
    "RAIN and temp have a p-value under .05, thus a valid correlation; they however have a weak correlation. \n",
    "\n",
    "<br>\n",
    "\n",
    "PLANNEDTIME_ARR has a very strong and valid correlation.\n",
    "\n",
    "<br>"
   ]
  },
  {
   "cell_type": "markdown",
   "metadata": {},
   "source": [
    "VISUALISE THESE RELATIONSHIPS: SCATTER PLOT"
   ]
  },
  {
   "cell_type": "code",
   "execution_count": 18,
   "metadata": {},
   "outputs": [
    {
     "data": {
      "image/png": "[encoded data removed]",
      "text/plain": [
       "<Figure size 432x288 with 1 Axes>"
      ]
     },
     "metadata": {
      "needs_background": "light"
     },
     "output_type": "display_data"
    },
    {
     "data": {
      "image/png": "[encoded data removed]",
      "text/plain": [
       "<Figure size 432x288 with 1 Axes>"
      ]
     },
     "metadata": {
      "needs_background": "light"
     },
     "output_type": "display_data"
    },
    {
     "data": {
      "image/png": "[encoded data removed]",
      "text/plain": [
       "<Figure size 432x288 with 1 Axes>"
      ]
     },
     "metadata": {
      "needs_background": "light"
     },
     "output_type": "display_data"
    }
   ],
   "source": [
    "continuous_features = ['PLANNEDTIME_ARR', 'RAIN', 'TEMP']\n",
    "\n",
    "for feature in continuous_features:    \n",
    "    plt.scatter(y_train, X_train[feature], alpha=0.5)\n",
    "    plt.title('Scatter plot ACTUALTIME_ARR vs ' + feature)\n",
    "    plt.ylabel(feature)\n",
    "    plt.xlabel('ACTUALTIME_ARR')\n",
    "    plt.show()"
   ]
  },
  {
   "cell_type": "markdown",
   "metadata": {},
   "source": [
    "## RELATIONSHIP BETWEEN CATEGORICAL FEATURES + TARGET"
   ]
  },
  {
   "cell_type": "markdown",
   "metadata": {},
   "source": [
    "<br>\n",
    "\n",
    "**Small Multiples**\n",
    "\n",
    "<br>\n",
    "\n",
    "The first plot is a base plot: the density distribution of the target feature's values as such. Then, for each categorical feature's values the target's values are again plotted. If the categorical feature plots differ among themselves, it indicates a strong relationship between that feature and the target. If the barplots taken together – as far as possible – differ significantly from the base plot, this is another indication of a strong relatinship.\n",
    "\n",
    "<br>"
   ]
  },
  {
   "cell_type": "code",
   "execution_count": 19,
   "metadata": {},
   "outputs": [
    {
     "data": {
      "text/html": [
       "<div>\n",
       "<style scoped>\n",
       "    .dataframe tbody tr th:only-of-type {\n",
       "        vertical-align: middle;\n",
       "    }\n",
       "\n",
       "    .dataframe tbody tr th {\n",
       "        vertical-align: top;\n",
       "    }\n",
       "\n",
       "    .dataframe thead th {\n",
       "        text-align: right;\n",
       "    }\n",
       "</style>\n",
       "<table border=\"1\" class=\"dataframe\">\n",
       "  <thead>\n",
       "    <tr style=\"text-align: right;\">\n",
       "      <th></th>\n",
       "      <th>STOP_ID</th>\n",
       "      <th>MONTH</th>\n",
       "      <th>DAYOFWEEK</th>\n",
       "      <th>ARRIVAL_INTERVAL</th>\n",
       "      <th>PLANNEDTIME_ARR</th>\n",
       "      <th>SCHOOL_OFF</th>\n",
       "      <th>RAIN</th>\n",
       "      <th>TEMP</th>\n",
       "    </tr>\n",
       "  </thead>\n",
       "  <tbody>\n",
       "    <tr>\n",
       "      <th>3344480</th>\n",
       "      <td>772</td>\n",
       "      <td>9</td>\n",
       "      <td>4</td>\n",
       "      <td>14:30 - 15:00</td>\n",
       "      <td>53353</td>\n",
       "      <td>0</td>\n",
       "      <td>0.0</td>\n",
       "      <td>14.398438</td>\n",
       "    </tr>\n",
       "  </tbody>\n",
       "</table>\n",
       "</div>"
      ],
      "text/plain": [
       "        STOP_ID MONTH DAYOFWEEK ARRIVAL_INTERVAL  PLANNEDTIME_ARR SCHOOL_OFF  \\\n",
       "3344480     772     9         4    14:30 - 15:00            53353          0   \n",
       "\n",
       "         RAIN       TEMP  \n",
       "3344480   0.0  14.398438  "
      ]
     },
     "execution_count": 19,
     "metadata": {},
     "output_type": "execute_result"
    }
   ],
   "source": [
    "X_train.head(1)"
   ]
  },
  {
   "cell_type": "code",
   "execution_count": 20,
   "metadata": {},
   "outputs": [
    {
     "data": {
      "text/plain": [
       "STOP_ID             category\n",
       "MONTH               category\n",
       "DAYOFWEEK           category\n",
       "ARRIVAL_INTERVAL    category\n",
       "PLANNEDTIME_ARR        int32\n",
       "SCHOOL_OFF          category\n",
       "RAIN                 float32\n",
       "TEMP                 float32\n",
       "dtype: object"
      ]
     },
     "execution_count": 20,
     "metadata": {},
     "output_type": "execute_result"
    }
   ],
   "source": [
    "X_train.dtypes"
   ]
  },
  {
   "cell_type": "code",
   "execution_count": 21,
   "metadata": {},
   "outputs": [
    {
     "data": {
      "text/plain": [
       "<matplotlib.axes._subplots.AxesSubplot at 0x118cb8710>"
      ]
     },
     "execution_count": 21,
     "metadata": {},
     "output_type": "execute_result"
    },
    {
     "data": {
      "image/png": "[encoded data removed]",
      "text/plain": [
       "<Figure size 864x576 with 1 Axes>"
      ]
     },
     "metadata": {
      "needs_background": "light"
     },
     "output_type": "display_data"
    }
   ],
   "source": [
    "plt.subplots(figsize=(12,8))\n",
    "plt.xlim(0, y_train.value_counts().max())\n",
    "sns.distplot(y_train.value_counts(sort=False), bins=100, kde=True, hist=False)"
   ]
  },
  {
   "cell_type": "code",
   "execution_count": 22,
   "metadata": {},
   "outputs": [],
   "source": [
    "def small_multiples(feature):\n",
    "    \n",
    "    total_train = X_train.copy()\n",
    "    total_train['ACTUALTIME_ARR'] = y_train\n",
    "    \n",
    "    feature_values = sorted(X_train[feature].unique().tolist())\n",
    "    \n",
    "    for f in feature_values:\n",
    "#         temp = total_train.loc[total_train[feature] == f]\n",
    "        plt.xlim(0, y_train.value_counts().max())\n",
    "#         sns.distplot(temp['ACTUALTIME_ARR'].value_counts(sort=False), bins=500, kde=True, hist=False)\n",
    "        \n",
    "        values = total_train.loc[total_train[feature] == f, 'ACTUALTIME_ARR'].value_counts(sort=False)\n",
    "        sns.distplot(values, bins=100, kde=True, hist=False)\n"
   ]
  },
  {
   "cell_type": "code",
   "execution_count": 23,
   "metadata": {},
   "outputs": [
    {
     "data": {
      "image/png": "[encoded data removed]",
      "text/plain": [
       "<Figure size 864x576 with 1 Axes>"
      ]
     },
     "metadata": {
      "needs_background": "light"
     },
     "output_type": "display_data"
    }
   ],
   "source": [
    "plt.subplots(figsize=(12,8))\n",
    "small_multiples('MONTH')"
   ]
  },
  {
   "cell_type": "code",
   "execution_count": 24,
   "metadata": {},
   "outputs": [
    {
     "data": {
      "image/png": "[encoded data removed]",
      "text/plain": [
       "<Figure size 864x576 with 1 Axes>"
      ]
     },
     "metadata": {
      "needs_background": "light"
     },
     "output_type": "display_data"
    }
   ],
   "source": [
    "plt.subplots(figsize=(12,8))\n",
    "small_multiples('DAYOFWEEK')"
   ]
  },
  {
   "cell_type": "code",
   "execution_count": 25,
   "metadata": {},
   "outputs": [
    {
     "data": {
      "image/png": "[encoded data removed]",
      "text/plain": [
       "<Figure size 864x576 with 1 Axes>"
      ]
     },
     "metadata": {
      "needs_background": "light"
     },
     "output_type": "display_data"
    }
   ],
   "source": [
    "plt.subplots(figsize=(12,8))\n",
    "small_multiples('SCHOOL_OFF')"
   ]
  },
  {
   "cell_type": "markdown",
   "metadata": {},
   "source": [
    "<br>\n",
    "\n",
    "**Results**\n",
    "\n",
    "<br>\n",
    "\n",
    "Month and day of the week appear to have a relationship to the target feature. School off appears to less so have one.\n",
    "\n",
    "<br>"
   ]
  },
  {
   "cell_type": "markdown",
   "metadata": {},
   "source": [
    "## Colinearity"
   ]
  },
  {
   "cell_type": "markdown",
   "metadata": {},
   "source": [
    "An alternative way to guage linear relationships between predictive features: measure of colinearity, or the ability of one feature to determine the value of another to a degree of accuracy."
   ]
  },
  {
   "cell_type": "code",
   "execution_count": 26,
   "metadata": {},
   "outputs": [
    {
     "data": {
      "image/png": "[encoded data removed]",
      "text/plain": [
       "<Figure size 720x720 with 2 Axes>"
      ]
     },
     "metadata": {
      "needs_background": "light"
     },
     "output_type": "display_data"
    }
   ],
   "source": [
    "visual_colinearity = plot_corr_heatmap(X_train, figsize=(10,10))"
   ]
  },
  {
   "cell_type": "markdown",
   "metadata": {},
   "source": [
    "<br>\n",
    "\n",
    "Contra much literature, multicolinearity does not affect the predictive capacity of a model (Applied Linear Statistics Models, 4th Ed, p289). It may affect explainability, however our concern is prediction.\n",
    "\n",
    "<br>"
   ]
  },
  {
   "cell_type": "markdown",
   "metadata": {},
   "source": [
    "# LINEAR REGRESSION"
   ]
  },
  {
   "cell_type": "markdown",
   "metadata": {},
   "source": [
    "## SAVE THE VARIOUS DATAFRAMES STATES FOR CONSISTENCY BETWEEN MODEL TESTS"
   ]
  },
  {
   "cell_type": "code",
   "execution_count": 27,
   "metadata": {},
   "outputs": [],
   "source": [
    "# reset indices\n",
    "\n",
    "X_train.reset_index(drop=True, inplace=True)\n",
    "y_train.reset_index(drop=True, inplace=True)\n",
    "X_val.reset_index(drop=True, inplace=True)\n",
    "y_val.reset_index(drop=True, inplace=True)\n",
    "X_test.reset_index(drop=True, inplace=True)\n",
    "y_test.reset_index(drop=True, inplace=True)"
   ]
  },
  {
   "cell_type": "code",
   "execution_count": 121,
   "metadata": {},
   "outputs": [
    {
     "name": "stderr",
     "output_type": "stream",
     "text": [
      "/Users/davidodwyer/anaconda3/envs/analytics/lib/python3.7/site-packages/ipykernel_launcher.py:2: FutureWarning: The signature of `Series.to_csv` was aligned to that of `DataFrame.to_csv`, and argument 'header' will change its default value from False to True: please pass an explicit value to suppress this warning.\n",
      "  \n",
      "/Users/davidodwyer/anaconda3/envs/analytics/lib/python3.7/site-packages/ipykernel_launcher.py:4: FutureWarning: The signature of `Series.to_csv` was aligned to that of `DataFrame.to_csv`, and argument 'header' will change its default value from False to True: please pass an explicit value to suppress this warning.\n",
      "  after removing the cwd from sys.path.\n",
      "/Users/davidodwyer/anaconda3/envs/analytics/lib/python3.7/site-packages/ipykernel_launcher.py:6: FutureWarning: The signature of `Series.to_csv` was aligned to that of `DataFrame.to_csv`, and argument 'header' will change its default value from False to True: please pass an explicit value to suppress this warning.\n",
      "  \n"
     ]
    }
   ],
   "source": [
    "# save train, validation, test sets.\n",
    "\n",
    "X_train.to_feather('/Users/davidodwyer/Documents/studyCS/Semester_3/data/dataframes/L145/train_val_test/xtrain.feather')\n",
    "y_train.to_csv('/Users/davidodwyer/Documents/studyCS/Semester_3/data/dataframes/L145/train_val_test/ytrain.csv', )\n",
    "X_val.to_feather('/Users/davidodwyer/Documents/studyCS/Semester_3/data/dataframes/L145/train_val_test/xval.feather')\n",
    "y_val.to_csv('/Users/davidodwyer/Documents/studyCS/Semester_3/data/dataframes/L145/train_val_test/yval.csv')\n",
    "X_test.to_feather('/Users/davidodwyer/Documents/studyCS/Semester_3/data/dataframes/L145/train_val_test/xtest.feather')\n",
    "y_test.to_csv('/Users/davidodwyer/Documents/studyCS/Semester_3/data/dataframes/L145/train_val_test/ytest.csv')"
   ]
  },
  {
   "cell_type": "markdown",
   "metadata": {},
   "source": [
    "## DEFINE HELPER FUNCTIONS"
   ]
  },
  {
   "cell_type": "code",
   "execution_count": 1,
   "metadata": {},
   "outputs": [],
   "source": [
    "# Define a function that will make dummies of a categorical feature or a series\n",
    "# This will be used repeatedly. Thus DRY code.\n",
    "\n",
    "def get_dummies(data):\n",
    "    \n",
    "    \"\"\"\n",
    "    Creates new binary features for each value for each categorical feature -1, or for series\n",
    "    Input: Dataframe or Series\n",
    "    Output: Dataframe with value indicator columes added; or dummified Series\n",
    "    \"\"\"\n",
    "    \n",
    "    if isinstance(data, pd.DataFrame):\n",
    "        df = data\n",
    "        categorical_features = df.select_dtypes(['category']).columns\n",
    "        for feature in categorical_features:\n",
    "            dummies = pd.get_dummies(df[feature], prefix=feature, drop_first=True)\n",
    "            df = pd.concat([df, dummies], axis=1)\n",
    "            df.reset_index(drop=True, inplace=True)\n",
    "        for feature in categorical_features:\n",
    "            df.drop(feature, axis=1, inplace=True)\n",
    "        return df\n",
    "    elif isinstance(data, pd.Series):\n",
    "        series = data\n",
    "        dummies = pd.get_dummies(series).iloc[:, 1:]\n",
    "        return dummies"
   ]
  },
  {
   "cell_type": "code",
   "execution_count": 2,
   "metadata": {},
   "outputs": [],
   "source": [
    "# Define a function that will centre and scale continuous feature values\n",
    "\n",
    "def centre_scale(df):\n",
    "    \n",
    "    df = df\n",
    "    \n",
    "    \"\"\"\n",
    "    Centres and scales the continuous features' values\n",
    "    Input: dataframe\n",
    "    Output: dataframe with its continuous features scaled\n",
    "    \"\"\"\n",
    "    \n",
    "#     continuous_subset = pd.DataFrame(df.select_dtypes(include=[np.number])\n",
    "#     noncontinuous_subset = pd.DataFrame(df.select_dtypes(['category']))\n",
    "    \n",
    "    continuous_subset = df.select_dtypes(include=[np.number])\n",
    "    noncontinuous_subset = df.select_dtypes(['category'])\n",
    "    \n",
    "    standard_scaler = StandardScaler()\n",
    "    scaled = standard_scaler.fit_transform(continuous_subset)\n",
    "    scaled_df = pd.DataFrame(scaled, columns=continuous_subset.columns)\n",
    "    \n",
    "    scaled_df.reset_index(drop=True, inplace=True)\n",
    "    noncontinuous_subset.reset_index(drop=True, inplace=True)\n",
    "\n",
    "    join = pd.concat([scaled_df, noncontinuous_subset], axis=1)\n",
    "    join.reset_index(drop=True, inplace=True)\n",
    "    \n",
    "    dump(standard_scaler, '/Users/davidodwyer/Desktop/basic_mlr_145_scaler.joblib')\n",
    "    \n",
    "    return join"
   ]
  },
  {
   "cell_type": "markdown",
   "metadata": {},
   "source": [
    "## DATA PREPARATION: SCALING & DUMMY VARS"
   ]
  },
  {
   "cell_type": "markdown",
   "metadata": {},
   "source": [
    "### FIRST ATTEMPT"
   ]
  },
  {
   "cell_type": "code",
   "execution_count": 31,
   "metadata": {},
   "outputs": [],
   "source": [
    "# read in training set predictors\n",
    "\n",
    "X_train = pd.read_feather('/Users/davidodwyer/Documents/studyCS/Semester_3/data/dataframes/L145/train_val_test/xtrain.feather')"
   ]
  },
  {
   "cell_type": "code",
   "execution_count": 32,
   "metadata": {},
   "outputs": [],
   "source": [
    "# read in training set target\n",
    "\n",
    "y_train = pd.read_csv('/Users/davidodwyer/Documents/studyCS/Semester_3/data/dataframes/L145/train_val_test/ytrain.csv', header=None)"
   ]
  },
  {
   "cell_type": "code",
   "execution_count": 33,
   "metadata": {},
   "outputs": [
    {
     "data": {
      "text/html": [
       "<div>\n",
       "<style scoped>\n",
       "    .dataframe tbody tr th:only-of-type {\n",
       "        vertical-align: middle;\n",
       "    }\n",
       "\n",
       "    .dataframe tbody tr th {\n",
       "        vertical-align: top;\n",
       "    }\n",
       "\n",
       "    .dataframe thead th {\n",
       "        text-align: right;\n",
       "    }\n",
       "</style>\n",
       "<table border=\"1\" class=\"dataframe\">\n",
       "  <thead>\n",
       "    <tr style=\"text-align: right;\">\n",
       "      <th></th>\n",
       "      <th>STOP_ID</th>\n",
       "      <th>MONTH</th>\n",
       "      <th>DAYOFWEEK</th>\n",
       "      <th>ARRIVAL_INTERVAL</th>\n",
       "      <th>PLANNEDTIME_ARR</th>\n",
       "      <th>SCHOOL_OFF</th>\n",
       "      <th>RAIN</th>\n",
       "      <th>TEMP</th>\n",
       "    </tr>\n",
       "  </thead>\n",
       "  <tbody>\n",
       "    <tr>\n",
       "      <th>0</th>\n",
       "      <td>774</td>\n",
       "      <td>1</td>\n",
       "      <td>5</td>\n",
       "      <td>16:00 - 16:30</td>\n",
       "      <td>58141</td>\n",
       "      <td>0</td>\n",
       "      <td>0.333252</td>\n",
       "      <td>11.101562</td>\n",
       "    </tr>\n",
       "    <tr>\n",
       "      <th>1</th>\n",
       "      <td>4171</td>\n",
       "      <td>10</td>\n",
       "      <td>2</td>\n",
       "      <td>18:30 - 19:00</td>\n",
       "      <td>67341</td>\n",
       "      <td>1</td>\n",
       "      <td>0.000000</td>\n",
       "      <td>8.234375</td>\n",
       "    </tr>\n",
       "  </tbody>\n",
       "</table>\n",
       "</div>"
      ],
      "text/plain": [
       "  STOP_ID MONTH DAYOFWEEK ARRIVAL_INTERVAL  PLANNEDTIME_ARR SCHOOL_OFF  \\\n",
       "0     774     1         5    16:00 - 16:30            58141          0   \n",
       "1    4171    10         2    18:30 - 19:00            67341          1   \n",
       "\n",
       "       RAIN       TEMP  \n",
       "0  0.333252  11.101562  \n",
       "1  0.000000   8.234375  "
      ]
     },
     "execution_count": 33,
     "metadata": {},
     "output_type": "execute_result"
    }
   ],
   "source": [
    "# inspect head\n",
    "\n",
    "X_train.head(2)"
   ]
  },
  {
   "cell_type": "code",
   "execution_count": 34,
   "metadata": {},
   "outputs": [
    {
     "data": {
      "text/html": [
       "<div>\n",
       "<style scoped>\n",
       "    .dataframe tbody tr th:only-of-type {\n",
       "        vertical-align: middle;\n",
       "    }\n",
       "\n",
       "    .dataframe tbody tr th {\n",
       "        vertical-align: top;\n",
       "    }\n",
       "\n",
       "    .dataframe thead th {\n",
       "        text-align: right;\n",
       "    }\n",
       "</style>\n",
       "<table border=\"1\" class=\"dataframe\">\n",
       "  <thead>\n",
       "    <tr style=\"text-align: right;\">\n",
       "      <th></th>\n",
       "      <th>0</th>\n",
       "      <th>1</th>\n",
       "    </tr>\n",
       "  </thead>\n",
       "  <tbody>\n",
       "    <tr>\n",
       "      <th>0</th>\n",
       "      <td>0</td>\n",
       "      <td>57925</td>\n",
       "    </tr>\n",
       "    <tr>\n",
       "      <th>1</th>\n",
       "      <td>1</td>\n",
       "      <td>67848</td>\n",
       "    </tr>\n",
       "    <tr>\n",
       "      <th>2</th>\n",
       "      <td>2</td>\n",
       "      <td>51201</td>\n",
       "    </tr>\n",
       "    <tr>\n",
       "      <th>3</th>\n",
       "      <td>3</td>\n",
       "      <td>48103</td>\n",
       "    </tr>\n",
       "    <tr>\n",
       "      <th>4</th>\n",
       "      <td>4</td>\n",
       "      <td>40497</td>\n",
       "    </tr>\n",
       "  </tbody>\n",
       "</table>\n",
       "</div>"
      ],
      "text/plain": [
       "   0      1\n",
       "0  0  57925\n",
       "1  1  67848\n",
       "2  2  51201\n",
       "3  3  48103\n",
       "4  4  40497"
      ]
     },
     "execution_count": 34,
     "metadata": {},
     "output_type": "execute_result"
    }
   ],
   "source": [
    "y_train.head()"
   ]
  },
  {
   "cell_type": "code",
   "execution_count": 35,
   "metadata": {},
   "outputs": [],
   "source": [
    "# drop included index\n",
    "\n",
    "y_train.drop(0, axis=1, inplace=True)"
   ]
  },
  {
   "cell_type": "code",
   "execution_count": 36,
   "metadata": {},
   "outputs": [
    {
     "data": {
      "text/html": [
       "<div>\n",
       "<style scoped>\n",
       "    .dataframe tbody tr th:only-of-type {\n",
       "        vertical-align: middle;\n",
       "    }\n",
       "\n",
       "    .dataframe tbody tr th {\n",
       "        vertical-align: top;\n",
       "    }\n",
       "\n",
       "    .dataframe thead th {\n",
       "        text-align: right;\n",
       "    }\n",
       "</style>\n",
       "<table border=\"1\" class=\"dataframe\">\n",
       "  <thead>\n",
       "    <tr style=\"text-align: right;\">\n",
       "      <th></th>\n",
       "      <th>1</th>\n",
       "    </tr>\n",
       "  </thead>\n",
       "  <tbody>\n",
       "    <tr>\n",
       "      <th>0</th>\n",
       "      <td>57925</td>\n",
       "    </tr>\n",
       "    <tr>\n",
       "      <th>1</th>\n",
       "      <td>67848</td>\n",
       "    </tr>\n",
       "  </tbody>\n",
       "</table>\n",
       "</div>"
      ],
      "text/plain": [
       "       1\n",
       "0  57925\n",
       "1  67848"
      ]
     },
     "execution_count": 36,
     "metadata": {},
     "output_type": "execute_result"
    }
   ],
   "source": [
    "y_train.head(2)"
   ]
  },
  {
   "cell_type": "code",
   "execution_count": 37,
   "metadata": {},
   "outputs": [
    {
     "data": {
      "text/plain": [
       "array([57925, 67848, 51201, ..., 62904, 74458, 84137])"
      ]
     },
     "execution_count": 37,
     "metadata": {},
     "output_type": "execute_result"
    }
   ],
   "source": [
    "# view values\n",
    "\n",
    "y_train.unstack().values"
   ]
  },
  {
   "cell_type": "code",
   "execution_count": 38,
   "metadata": {},
   "outputs": [],
   "source": [
    "# centre and scale the continuous data\n",
    "\n",
    "X_train = centre_scale(X_train)"
   ]
  },
  {
   "cell_type": "code",
   "execution_count": null,
   "metadata": {},
   "outputs": [],
   "source": [
    "# create dummy variables for the categorical features\n",
    "\n",
    "X_train = get_dummies(X_train)"
   ]
  },
  {
   "cell_type": "code",
   "execution_count": null,
   "metadata": {},
   "outputs": [],
   "source": [
    "# attempt to assess the df\n",
    "\n",
    "# assess_df(X_train)"
   ]
  },
  {
   "cell_type": "code",
   "execution_count": null,
   "metadata": {},
   "outputs": [],
   "source": [
    "# check how large the df is\n",
    "\n",
    "X_train.info(memory_usage='deep')"
   ]
  },
  {
   "cell_type": "markdown",
   "metadata": {},
   "source": [
    "This dataset is far too large."
   ]
  },
  {
   "cell_type": "markdown",
   "metadata": {},
   "source": [
    "### SECOND ATTEMPT"
   ]
  },
  {
   "cell_type": "markdown",
   "metadata": {},
   "source": [
    "<br>\n",
    "\n",
    "Here we will represent the stop id as an int, rather than a categorical\n",
    "\n",
    "<br>"
   ]
  },
  {
   "cell_type": "markdown",
   "metadata": {},
   "source": [
    "#### ON THE TRAINING SET"
   ]
  },
  {
   "cell_type": "code",
   "execution_count": 5,
   "metadata": {},
   "outputs": [],
   "source": [
    "# re-import the training set\n",
    "\n",
    "X_train = pd.read_feather('/Users/davidodwyer/Documents/studyCS/Semester_3/data/dataframes/L145/train_val_test/xtrain.feather')"
   ]
  },
  {
   "cell_type": "code",
   "execution_count": 6,
   "metadata": {},
   "outputs": [
    {
     "data": {
      "text/html": [
       "<div>\n",
       "<style scoped>\n",
       "    .dataframe tbody tr th:only-of-type {\n",
       "        vertical-align: middle;\n",
       "    }\n",
       "\n",
       "    .dataframe tbody tr th {\n",
       "        vertical-align: top;\n",
       "    }\n",
       "\n",
       "    .dataframe thead th {\n",
       "        text-align: right;\n",
       "    }\n",
       "</style>\n",
       "<table border=\"1\" class=\"dataframe\">\n",
       "  <thead>\n",
       "    <tr style=\"text-align: right;\">\n",
       "      <th></th>\n",
       "      <th>STOP_ID</th>\n",
       "      <th>MONTH</th>\n",
       "      <th>DAYOFWEEK</th>\n",
       "      <th>ARRIVAL_INTERVAL</th>\n",
       "      <th>PLANNEDTIME_ARR</th>\n",
       "      <th>SCHOOL_OFF</th>\n",
       "      <th>RAIN</th>\n",
       "      <th>TEMP</th>\n",
       "    </tr>\n",
       "  </thead>\n",
       "  <tbody>\n",
       "    <tr>\n",
       "      <th>0</th>\n",
       "      <td>774</td>\n",
       "      <td>1</td>\n",
       "      <td>5</td>\n",
       "      <td>16:00 - 16:30</td>\n",
       "      <td>58141</td>\n",
       "      <td>0</td>\n",
       "      <td>0.333252</td>\n",
       "      <td>11.101562</td>\n",
       "    </tr>\n",
       "    <tr>\n",
       "      <th>1</th>\n",
       "      <td>4171</td>\n",
       "      <td>10</td>\n",
       "      <td>2</td>\n",
       "      <td>18:30 - 19:00</td>\n",
       "      <td>67341</td>\n",
       "      <td>1</td>\n",
       "      <td>0.000000</td>\n",
       "      <td>8.234375</td>\n",
       "    </tr>\n",
       "    <tr>\n",
       "      <th>2</th>\n",
       "      <td>4132</td>\n",
       "      <td>8</td>\n",
       "      <td>4</td>\n",
       "      <td>14:00 - 14:30</td>\n",
       "      <td>51283</td>\n",
       "      <td>1</td>\n",
       "      <td>0.000000</td>\n",
       "      <td>22.937500</td>\n",
       "    </tr>\n",
       "    <tr>\n",
       "      <th>3</th>\n",
       "      <td>7588</td>\n",
       "      <td>11</td>\n",
       "      <td>0</td>\n",
       "      <td>13:00 - 13:30</td>\n",
       "      <td>49097</td>\n",
       "      <td>0</td>\n",
       "      <td>0.000000</td>\n",
       "      <td>10.796875</td>\n",
       "    </tr>\n",
       "    <tr>\n",
       "      <th>4</th>\n",
       "      <td>5091</td>\n",
       "      <td>2</td>\n",
       "      <td>0</td>\n",
       "      <td>11:00 - 11:30</td>\n",
       "      <td>40424</td>\n",
       "      <td>0</td>\n",
       "      <td>0.000000</td>\n",
       "      <td>1.766602</td>\n",
       "    </tr>\n",
       "    <tr>\n",
       "      <th>5</th>\n",
       "      <td>2009</td>\n",
       "      <td>3</td>\n",
       "      <td>4</td>\n",
       "      <td>12:30 - 13:00</td>\n",
       "      <td>46404</td>\n",
       "      <td>0</td>\n",
       "      <td>0.000000</td>\n",
       "      <td>8.968750</td>\n",
       "    </tr>\n",
       "    <tr>\n",
       "      <th>6</th>\n",
       "      <td>2062</td>\n",
       "      <td>4</td>\n",
       "      <td>5</td>\n",
       "      <td>17:00 - 17:30</td>\n",
       "      <td>62500</td>\n",
       "      <td>0</td>\n",
       "      <td>0.000000</td>\n",
       "      <td>17.031250</td>\n",
       "    </tr>\n",
       "    <tr>\n",
       "      <th>7</th>\n",
       "      <td>4179</td>\n",
       "      <td>5</td>\n",
       "      <td>6</td>\n",
       "      <td>12:00 - 12:30</td>\n",
       "      <td>43431</td>\n",
       "      <td>0</td>\n",
       "      <td>0.000000</td>\n",
       "      <td>15.968750</td>\n",
       "    </tr>\n",
       "    <tr>\n",
       "      <th>8</th>\n",
       "      <td>7453</td>\n",
       "      <td>5</td>\n",
       "      <td>1</td>\n",
       "      <td>19:00 - 19:30</td>\n",
       "      <td>67995</td>\n",
       "      <td>0</td>\n",
       "      <td>0.000000</td>\n",
       "      <td>17.562500</td>\n",
       "    </tr>\n",
       "    <tr>\n",
       "      <th>9</th>\n",
       "      <td>406</td>\n",
       "      <td>11</td>\n",
       "      <td>6</td>\n",
       "      <td>18:30 - 19:00</td>\n",
       "      <td>66959</td>\n",
       "      <td>0</td>\n",
       "      <td>0.033325</td>\n",
       "      <td>10.234375</td>\n",
       "    </tr>\n",
       "    <tr>\n",
       "      <th>10</th>\n",
       "      <td>3142</td>\n",
       "      <td>4</td>\n",
       "      <td>1</td>\n",
       "      <td>07:00 - 07:30</td>\n",
       "      <td>26519</td>\n",
       "      <td>0</td>\n",
       "      <td>0.233276</td>\n",
       "      <td>7.101562</td>\n",
       "    </tr>\n",
       "    <tr>\n",
       "      <th>11</th>\n",
       "      <td>2013</td>\n",
       "      <td>4</td>\n",
       "      <td>2</td>\n",
       "      <td>15:30 - 16:00</td>\n",
       "      <td>55410</td>\n",
       "      <td>1</td>\n",
       "      <td>0.000000</td>\n",
       "      <td>5.832031</td>\n",
       "    </tr>\n",
       "    <tr>\n",
       "      <th>12</th>\n",
       "      <td>4153</td>\n",
       "      <td>10</td>\n",
       "      <td>3</td>\n",
       "      <td>21:00 - 21:30</td>\n",
       "      <td>76131</td>\n",
       "      <td>0</td>\n",
       "      <td>0.000000</td>\n",
       "      <td>9.328125</td>\n",
       "    </tr>\n",
       "    <tr>\n",
       "      <th>13</th>\n",
       "      <td>5092</td>\n",
       "      <td>4</td>\n",
       "      <td>3</td>\n",
       "      <td>11:30 - 12:00</td>\n",
       "      <td>42101</td>\n",
       "      <td>0</td>\n",
       "      <td>0.000000</td>\n",
       "      <td>7.101562</td>\n",
       "    </tr>\n",
       "    <tr>\n",
       "      <th>14</th>\n",
       "      <td>845</td>\n",
       "      <td>12</td>\n",
       "      <td>4</td>\n",
       "      <td>10:30 - 11:00</td>\n",
       "      <td>37867</td>\n",
       "      <td>0</td>\n",
       "      <td>0.000000</td>\n",
       "      <td>6.132812</td>\n",
       "    </tr>\n",
       "    <tr>\n",
       "      <th>15</th>\n",
       "      <td>4177</td>\n",
       "      <td>1</td>\n",
       "      <td>1</td>\n",
       "      <td>14:00 - 14:30</td>\n",
       "      <td>51154</td>\n",
       "      <td>0</td>\n",
       "      <td>0.033325</td>\n",
       "      <td>6.800781</td>\n",
       "    </tr>\n",
       "    <tr>\n",
       "      <th>16</th>\n",
       "      <td>5092</td>\n",
       "      <td>12</td>\n",
       "      <td>2</td>\n",
       "      <td>16:30 - 17:00</td>\n",
       "      <td>57966</td>\n",
       "      <td>0</td>\n",
       "      <td>0.000000</td>\n",
       "      <td>8.367188</td>\n",
       "    </tr>\n",
       "    <tr>\n",
       "      <th>17</th>\n",
       "      <td>4173</td>\n",
       "      <td>12</td>\n",
       "      <td>4</td>\n",
       "      <td>13:00 - 13:30</td>\n",
       "      <td>47040</td>\n",
       "      <td>1</td>\n",
       "      <td>0.000000</td>\n",
       "      <td>10.968750</td>\n",
       "    </tr>\n",
       "    <tr>\n",
       "      <th>18</th>\n",
       "      <td>4416</td>\n",
       "      <td>1</td>\n",
       "      <td>4</td>\n",
       "      <td>07:30 - 08:00</td>\n",
       "      <td>28330</td>\n",
       "      <td>0</td>\n",
       "      <td>0.000000</td>\n",
       "      <td>4.066406</td>\n",
       "    </tr>\n",
       "    <tr>\n",
       "      <th>19</th>\n",
       "      <td>2017</td>\n",
       "      <td>10</td>\n",
       "      <td>3</td>\n",
       "      <td>16:30 - 17:00</td>\n",
       "      <td>59868</td>\n",
       "      <td>0</td>\n",
       "      <td>0.000000</td>\n",
       "      <td>13.429688</td>\n",
       "    </tr>\n",
       "    <tr>\n",
       "      <th>20</th>\n",
       "      <td>4175</td>\n",
       "      <td>8</td>\n",
       "      <td>4</td>\n",
       "      <td>17:30 - 18:00</td>\n",
       "      <td>64805</td>\n",
       "      <td>1</td>\n",
       "      <td>0.000000</td>\n",
       "      <td>18.734375</td>\n",
       "    </tr>\n",
       "    <tr>\n",
       "      <th>21</th>\n",
       "      <td>7622</td>\n",
       "      <td>1</td>\n",
       "      <td>3</td>\n",
       "      <td>13:00 - 13:30</td>\n",
       "      <td>47414</td>\n",
       "      <td>1</td>\n",
       "      <td>0.000000</td>\n",
       "      <td>3.599609</td>\n",
       "    </tr>\n",
       "    <tr>\n",
       "      <th>22</th>\n",
       "      <td>7638</td>\n",
       "      <td>12</td>\n",
       "      <td>2</td>\n",
       "      <td>14:30 - 15:00</td>\n",
       "      <td>54174</td>\n",
       "      <td>1</td>\n",
       "      <td>0.000000</td>\n",
       "      <td>10.601562</td>\n",
       "    </tr>\n",
       "    <tr>\n",
       "      <th>23</th>\n",
       "      <td>4177</td>\n",
       "      <td>10</td>\n",
       "      <td>6</td>\n",
       "      <td>22:00 - 22:30</td>\n",
       "      <td>80510</td>\n",
       "      <td>0</td>\n",
       "      <td>0.000000</td>\n",
       "      <td>3.599609</td>\n",
       "    </tr>\n",
       "    <tr>\n",
       "      <th>24</th>\n",
       "      <td>760</td>\n",
       "      <td>4</td>\n",
       "      <td>4</td>\n",
       "      <td>12:00 - 12:30</td>\n",
       "      <td>43697</td>\n",
       "      <td>0</td>\n",
       "      <td>0.000000</td>\n",
       "      <td>8.406250</td>\n",
       "    </tr>\n",
       "    <tr>\n",
       "      <th>25</th>\n",
       "      <td>771</td>\n",
       "      <td>7</td>\n",
       "      <td>3</td>\n",
       "      <td>17:30 - 18:00</td>\n",
       "      <td>62063</td>\n",
       "      <td>1</td>\n",
       "      <td>0.000000</td>\n",
       "      <td>21.078125</td>\n",
       "    </tr>\n",
       "    <tr>\n",
       "      <th>26</th>\n",
       "      <td>3144</td>\n",
       "      <td>12</td>\n",
       "      <td>4</td>\n",
       "      <td>07:30 - 08:00</td>\n",
       "      <td>28412</td>\n",
       "      <td>0</td>\n",
       "      <td>0.000000</td>\n",
       "      <td>6.867188</td>\n",
       "    </tr>\n",
       "    <tr>\n",
       "      <th>27</th>\n",
       "      <td>7294</td>\n",
       "      <td>5</td>\n",
       "      <td>2</td>\n",
       "      <td>16:30 - 17:00</td>\n",
       "      <td>59696</td>\n",
       "      <td>0</td>\n",
       "      <td>0.000000</td>\n",
       "      <td>15.164062</td>\n",
       "    </tr>\n",
       "    <tr>\n",
       "      <th>28</th>\n",
       "      <td>7361</td>\n",
       "      <td>12</td>\n",
       "      <td>0</td>\n",
       "      <td>22:30 - 23:00</td>\n",
       "      <td>81559</td>\n",
       "      <td>0</td>\n",
       "      <td>0.033325</td>\n",
       "      <td>11.562500</td>\n",
       "    </tr>\n",
       "    <tr>\n",
       "      <th>29</th>\n",
       "      <td>2064</td>\n",
       "      <td>8</td>\n",
       "      <td>4</td>\n",
       "      <td>09:00 - 09:30</td>\n",
       "      <td>32839</td>\n",
       "      <td>1</td>\n",
       "      <td>0.000000</td>\n",
       "      <td>18.203125</td>\n",
       "    </tr>\n",
       "    <tr>\n",
       "      <th>...</th>\n",
       "      <td>...</td>\n",
       "      <td>...</td>\n",
       "      <td>...</td>\n",
       "      <td>...</td>\n",
       "      <td>...</td>\n",
       "      <td>...</td>\n",
       "      <td>...</td>\n",
       "      <td>...</td>\n",
       "    </tr>\n",
       "    <tr>\n",
       "      <th>2573788</th>\n",
       "      <td>2061</td>\n",
       "      <td>11</td>\n",
       "      <td>6</td>\n",
       "      <td>14:30 - 15:00</td>\n",
       "      <td>53835</td>\n",
       "      <td>0</td>\n",
       "      <td>0.000000</td>\n",
       "      <td>10.632812</td>\n",
       "    </tr>\n",
       "    <tr>\n",
       "      <th>2573789</th>\n",
       "      <td>2060</td>\n",
       "      <td>8</td>\n",
       "      <td>1</td>\n",
       "      <td>12:00 - 12:30</td>\n",
       "      <td>44072</td>\n",
       "      <td>1</td>\n",
       "      <td>0.000000</td>\n",
       "      <td>14.968750</td>\n",
       "    </tr>\n",
       "    <tr>\n",
       "      <th>2573790</th>\n",
       "      <td>2084</td>\n",
       "      <td>11</td>\n",
       "      <td>4</td>\n",
       "      <td>08:00 - 08:30</td>\n",
       "      <td>29563</td>\n",
       "      <td>0</td>\n",
       "      <td>0.000000</td>\n",
       "      <td>1.299805</td>\n",
       "    </tr>\n",
       "    <tr>\n",
       "      <th>2573791</th>\n",
       "      <td>2017</td>\n",
       "      <td>11</td>\n",
       "      <td>3</td>\n",
       "      <td>17:30 - 18:00</td>\n",
       "      <td>63327</td>\n",
       "      <td>0</td>\n",
       "      <td>0.133301</td>\n",
       "      <td>9.398438</td>\n",
       "    </tr>\n",
       "    <tr>\n",
       "      <th>2573792</th>\n",
       "      <td>5092</td>\n",
       "      <td>1</td>\n",
       "      <td>5</td>\n",
       "      <td>10:30 - 11:00</td>\n",
       "      <td>39497</td>\n",
       "      <td>0</td>\n",
       "      <td>2.333984</td>\n",
       "      <td>2.900391</td>\n",
       "    </tr>\n",
       "    <tr>\n",
       "      <th>2573793</th>\n",
       "      <td>848</td>\n",
       "      <td>8</td>\n",
       "      <td>2</td>\n",
       "      <td>07:00 - 07:30</td>\n",
       "      <td>25801</td>\n",
       "      <td>1</td>\n",
       "      <td>0.000000</td>\n",
       "      <td>17.937500</td>\n",
       "    </tr>\n",
       "    <tr>\n",
       "      <th>2573794</th>\n",
       "      <td>786</td>\n",
       "      <td>8</td>\n",
       "      <td>5</td>\n",
       "      <td>13:00 - 13:30</td>\n",
       "      <td>46772</td>\n",
       "      <td>1</td>\n",
       "      <td>0.000000</td>\n",
       "      <td>18.843750</td>\n",
       "    </tr>\n",
       "    <tr>\n",
       "      <th>2573795</th>\n",
       "      <td>2068</td>\n",
       "      <td>8</td>\n",
       "      <td>4</td>\n",
       "      <td>09:00 - 09:30</td>\n",
       "      <td>32872</td>\n",
       "      <td>1</td>\n",
       "      <td>0.000000</td>\n",
       "      <td>15.531250</td>\n",
       "    </tr>\n",
       "    <tr>\n",
       "      <th>2573796</th>\n",
       "      <td>3134</td>\n",
       "      <td>10</td>\n",
       "      <td>4</td>\n",
       "      <td>13:30 - 14:00</td>\n",
       "      <td>48366</td>\n",
       "      <td>0</td>\n",
       "      <td>0.000000</td>\n",
       "      <td>8.171875</td>\n",
       "    </tr>\n",
       "    <tr>\n",
       "      <th>2573797</th>\n",
       "      <td>7574</td>\n",
       "      <td>12</td>\n",
       "      <td>6</td>\n",
       "      <td>22:00 - 22:30</td>\n",
       "      <td>80040</td>\n",
       "      <td>1</td>\n",
       "      <td>0.000000</td>\n",
       "      <td>4.933594</td>\n",
       "    </tr>\n",
       "    <tr>\n",
       "      <th>2573798</th>\n",
       "      <td>2795</td>\n",
       "      <td>6</td>\n",
       "      <td>4</td>\n",
       "      <td>17:00 - 17:30</td>\n",
       "      <td>61558</td>\n",
       "      <td>1</td>\n",
       "      <td>0.833496</td>\n",
       "      <td>17.609375</td>\n",
       "    </tr>\n",
       "    <tr>\n",
       "      <th>2573799</th>\n",
       "      <td>3140</td>\n",
       "      <td>6</td>\n",
       "      <td>3</td>\n",
       "      <td>11:30 - 12:00</td>\n",
       "      <td>42635</td>\n",
       "      <td>0</td>\n",
       "      <td>0.000000</td>\n",
       "      <td>19.906250</td>\n",
       "    </tr>\n",
       "    <tr>\n",
       "      <th>2573800</th>\n",
       "      <td>848</td>\n",
       "      <td>2</td>\n",
       "      <td>3</td>\n",
       "      <td>10:30 - 11:00</td>\n",
       "      <td>37480</td>\n",
       "      <td>0</td>\n",
       "      <td>0.000000</td>\n",
       "      <td>6.199219</td>\n",
       "    </tr>\n",
       "    <tr>\n",
       "      <th>2573801</th>\n",
       "      <td>3135</td>\n",
       "      <td>1</td>\n",
       "      <td>4</td>\n",
       "      <td>18:30 - 19:00</td>\n",
       "      <td>66106</td>\n",
       "      <td>0</td>\n",
       "      <td>0.033325</td>\n",
       "      <td>2.533203</td>\n",
       "    </tr>\n",
       "    <tr>\n",
       "      <th>2573802</th>\n",
       "      <td>4204</td>\n",
       "      <td>1</td>\n",
       "      <td>1</td>\n",
       "      <td>11:30 - 12:00</td>\n",
       "      <td>41807</td>\n",
       "      <td>0</td>\n",
       "      <td>0.000000</td>\n",
       "      <td>12.195312</td>\n",
       "    </tr>\n",
       "    <tr>\n",
       "      <th>2573803</th>\n",
       "      <td>3144</td>\n",
       "      <td>9</td>\n",
       "      <td>5</td>\n",
       "      <td>19:30 - 20:00</td>\n",
       "      <td>71028</td>\n",
       "      <td>0</td>\n",
       "      <td>0.000000</td>\n",
       "      <td>10.062500</td>\n",
       "    </tr>\n",
       "    <tr>\n",
       "      <th>2573804</th>\n",
       "      <td>3130</td>\n",
       "      <td>10</td>\n",
       "      <td>5</td>\n",
       "      <td>+24:00 - 00:30</td>\n",
       "      <td>87177</td>\n",
       "      <td>0</td>\n",
       "      <td>0.000000</td>\n",
       "      <td>12.195312</td>\n",
       "    </tr>\n",
       "    <tr>\n",
       "      <th>2573805</th>\n",
       "      <td>4171</td>\n",
       "      <td>7</td>\n",
       "      <td>2</td>\n",
       "      <td>17:30 - 18:00</td>\n",
       "      <td>63576</td>\n",
       "      <td>1</td>\n",
       "      <td>0.000000</td>\n",
       "      <td>24.406250</td>\n",
       "    </tr>\n",
       "    <tr>\n",
       "      <th>2573806</th>\n",
       "      <td>3134</td>\n",
       "      <td>7</td>\n",
       "      <td>1</td>\n",
       "      <td>22:00 - 22:30</td>\n",
       "      <td>79461</td>\n",
       "      <td>1</td>\n",
       "      <td>0.000000</td>\n",
       "      <td>16.500000</td>\n",
       "    </tr>\n",
       "    <tr>\n",
       "      <th>2573807</th>\n",
       "      <td>3132</td>\n",
       "      <td>6</td>\n",
       "      <td>2</td>\n",
       "      <td>09:00 - 09:30</td>\n",
       "      <td>32723</td>\n",
       "      <td>0</td>\n",
       "      <td>0.000000</td>\n",
       "      <td>22.203125</td>\n",
       "    </tr>\n",
       "    <tr>\n",
       "      <th>2573808</th>\n",
       "      <td>2795</td>\n",
       "      <td>9</td>\n",
       "      <td>4</td>\n",
       "      <td>07:30 - 08:00</td>\n",
       "      <td>27742</td>\n",
       "      <td>0</td>\n",
       "      <td>0.399902</td>\n",
       "      <td>11.328125</td>\n",
       "    </tr>\n",
       "    <tr>\n",
       "      <th>2573809</th>\n",
       "      <td>848</td>\n",
       "      <td>2</td>\n",
       "      <td>3</td>\n",
       "      <td>10:30 - 11:00</td>\n",
       "      <td>38677</td>\n",
       "      <td>1</td>\n",
       "      <td>0.000000</td>\n",
       "      <td>2.466797</td>\n",
       "    </tr>\n",
       "    <tr>\n",
       "      <th>2573810</th>\n",
       "      <td>4177</td>\n",
       "      <td>9</td>\n",
       "      <td>4</td>\n",
       "      <td>09:30 - 10:00</td>\n",
       "      <td>35532</td>\n",
       "      <td>0</td>\n",
       "      <td>0.000000</td>\n",
       "      <td>8.468750</td>\n",
       "    </tr>\n",
       "    <tr>\n",
       "      <th>2573811</th>\n",
       "      <td>4201</td>\n",
       "      <td>12</td>\n",
       "      <td>3</td>\n",
       "      <td>16:30 - 17:00</td>\n",
       "      <td>60427</td>\n",
       "      <td>0</td>\n",
       "      <td>0.000000</td>\n",
       "      <td>5.734375</td>\n",
       "    </tr>\n",
       "    <tr>\n",
       "      <th>2573812</th>\n",
       "      <td>5127</td>\n",
       "      <td>12</td>\n",
       "      <td>1</td>\n",
       "      <td>08:00 - 08:30</td>\n",
       "      <td>28976</td>\n",
       "      <td>0</td>\n",
       "      <td>0.000000</td>\n",
       "      <td>5.699219</td>\n",
       "    </tr>\n",
       "    <tr>\n",
       "      <th>2573813</th>\n",
       "      <td>3148</td>\n",
       "      <td>5</td>\n",
       "      <td>2</td>\n",
       "      <td>16:30 - 17:00</td>\n",
       "      <td>59349</td>\n",
       "      <td>0</td>\n",
       "      <td>0.000000</td>\n",
       "      <td>15.164062</td>\n",
       "    </tr>\n",
       "    <tr>\n",
       "      <th>2573814</th>\n",
       "      <td>2993</td>\n",
       "      <td>2</td>\n",
       "      <td>2</td>\n",
       "      <td>09:00 - 09:30</td>\n",
       "      <td>32787</td>\n",
       "      <td>0</td>\n",
       "      <td>0.000000</td>\n",
       "      <td>0.300049</td>\n",
       "    </tr>\n",
       "    <tr>\n",
       "      <th>2573815</th>\n",
       "      <td>760</td>\n",
       "      <td>1</td>\n",
       "      <td>0</td>\n",
       "      <td>17:00 - 17:30</td>\n",
       "      <td>63401</td>\n",
       "      <td>0</td>\n",
       "      <td>0.000000</td>\n",
       "      <td>2.701172</td>\n",
       "    </tr>\n",
       "    <tr>\n",
       "      <th>2573816</th>\n",
       "      <td>1479</td>\n",
       "      <td>3</td>\n",
       "      <td>3</td>\n",
       "      <td>20:30 - 21:00</td>\n",
       "      <td>74663</td>\n",
       "      <td>0</td>\n",
       "      <td>0.000000</td>\n",
       "      <td>8.468750</td>\n",
       "    </tr>\n",
       "    <tr>\n",
       "      <th>2573817</th>\n",
       "      <td>4178</td>\n",
       "      <td>10</td>\n",
       "      <td>6</td>\n",
       "      <td>23:00 - 23:30</td>\n",
       "      <td>84144</td>\n",
       "      <td>0</td>\n",
       "      <td>0.000000</td>\n",
       "      <td>-2.066406</td>\n",
       "    </tr>\n",
       "  </tbody>\n",
       "</table>\n",
       "<p>2573818 rows × 8 columns</p>\n",
       "</div>"
      ],
      "text/plain": [
       "        STOP_ID MONTH DAYOFWEEK ARRIVAL_INTERVAL  PLANNEDTIME_ARR SCHOOL_OFF  \\\n",
       "0           774     1         5    16:00 - 16:30            58141          0   \n",
       "1          4171    10         2    18:30 - 19:00            67341          1   \n",
       "2          4132     8         4    14:00 - 14:30            51283          1   \n",
       "3          7588    11         0    13:00 - 13:30            49097          0   \n",
       "4          5091     2         0    11:00 - 11:30            40424          0   \n",
       "5          2009     3         4    12:30 - 13:00            46404          0   \n",
       "6          2062     4         5    17:00 - 17:30            62500          0   \n",
       "7          4179     5         6    12:00 - 12:30            43431          0   \n",
       "8          7453     5         1    19:00 - 19:30            67995          0   \n",
       "9           406    11         6    18:30 - 19:00            66959          0   \n",
       "10         3142     4         1    07:00 - 07:30            26519          0   \n",
       "11         2013     4         2    15:30 - 16:00            55410          1   \n",
       "12         4153    10         3    21:00 - 21:30            76131          0   \n",
       "13         5092     4         3    11:30 - 12:00            42101          0   \n",
       "14          845    12         4    10:30 - 11:00            37867          0   \n",
       "15         4177     1         1    14:00 - 14:30            51154          0   \n",
       "16         5092    12         2    16:30 - 17:00            57966          0   \n",
       "17         4173    12         4    13:00 - 13:30            47040          1   \n",
       "18         4416     1         4    07:30 - 08:00            28330          0   \n",
       "19         2017    10         3    16:30 - 17:00            59868          0   \n",
       "20         4175     8         4    17:30 - 18:00            64805          1   \n",
       "21         7622     1         3    13:00 - 13:30            47414          1   \n",
       "22         7638    12         2    14:30 - 15:00            54174          1   \n",
       "23         4177    10         6    22:00 - 22:30            80510          0   \n",
       "24          760     4         4    12:00 - 12:30            43697          0   \n",
       "25          771     7         3    17:30 - 18:00            62063          1   \n",
       "26         3144    12         4    07:30 - 08:00            28412          0   \n",
       "27         7294     5         2    16:30 - 17:00            59696          0   \n",
       "28         7361    12         0    22:30 - 23:00            81559          0   \n",
       "29         2064     8         4    09:00 - 09:30            32839          1   \n",
       "...         ...   ...       ...              ...              ...        ...   \n",
       "2573788    2061    11         6    14:30 - 15:00            53835          0   \n",
       "2573789    2060     8         1    12:00 - 12:30            44072          1   \n",
       "2573790    2084    11         4    08:00 - 08:30            29563          0   \n",
       "2573791    2017    11         3    17:30 - 18:00            63327          0   \n",
       "2573792    5092     1         5    10:30 - 11:00            39497          0   \n",
       "2573793     848     8         2    07:00 - 07:30            25801          1   \n",
       "2573794     786     8         5    13:00 - 13:30            46772          1   \n",
       "2573795    2068     8         4    09:00 - 09:30            32872          1   \n",
       "2573796    3134    10         4    13:30 - 14:00            48366          0   \n",
       "2573797    7574    12         6    22:00 - 22:30            80040          1   \n",
       "2573798    2795     6         4    17:00 - 17:30            61558          1   \n",
       "2573799    3140     6         3    11:30 - 12:00            42635          0   \n",
       "2573800     848     2         3    10:30 - 11:00            37480          0   \n",
       "2573801    3135     1         4    18:30 - 19:00            66106          0   \n",
       "2573802    4204     1         1    11:30 - 12:00            41807          0   \n",
       "2573803    3144     9         5    19:30 - 20:00            71028          0   \n",
       "2573804    3130    10         5   +24:00 - 00:30            87177          0   \n",
       "2573805    4171     7         2    17:30 - 18:00            63576          1   \n",
       "2573806    3134     7         1    22:00 - 22:30            79461          1   \n",
       "2573807    3132     6         2    09:00 - 09:30            32723          0   \n",
       "2573808    2795     9         4    07:30 - 08:00            27742          0   \n",
       "2573809     848     2         3    10:30 - 11:00            38677          1   \n",
       "2573810    4177     9         4    09:30 - 10:00            35532          0   \n",
       "2573811    4201    12         3    16:30 - 17:00            60427          0   \n",
       "2573812    5127    12         1    08:00 - 08:30            28976          0   \n",
       "2573813    3148     5         2    16:30 - 17:00            59349          0   \n",
       "2573814    2993     2         2    09:00 - 09:30            32787          0   \n",
       "2573815     760     1         0    17:00 - 17:30            63401          0   \n",
       "2573816    1479     3         3    20:30 - 21:00            74663          0   \n",
       "2573817    4178    10         6    23:00 - 23:30            84144          0   \n",
       "\n",
       "             RAIN       TEMP  \n",
       "0        0.333252  11.101562  \n",
       "1        0.000000   8.234375  \n",
       "2        0.000000  22.937500  \n",
       "3        0.000000  10.796875  \n",
       "4        0.000000   1.766602  \n",
       "5        0.000000   8.968750  \n",
       "6        0.000000  17.031250  \n",
       "7        0.000000  15.968750  \n",
       "8        0.000000  17.562500  \n",
       "9        0.033325  10.234375  \n",
       "10       0.233276   7.101562  \n",
       "11       0.000000   5.832031  \n",
       "12       0.000000   9.328125  \n",
       "13       0.000000   7.101562  \n",
       "14       0.000000   6.132812  \n",
       "15       0.033325   6.800781  \n",
       "16       0.000000   8.367188  \n",
       "17       0.000000  10.968750  \n",
       "18       0.000000   4.066406  \n",
       "19       0.000000  13.429688  \n",
       "20       0.000000  18.734375  \n",
       "21       0.000000   3.599609  \n",
       "22       0.000000  10.601562  \n",
       "23       0.000000   3.599609  \n",
       "24       0.000000   8.406250  \n",
       "25       0.000000  21.078125  \n",
       "26       0.000000   6.867188  \n",
       "27       0.000000  15.164062  \n",
       "28       0.033325  11.562500  \n",
       "29       0.000000  18.203125  \n",
       "...           ...        ...  \n",
       "2573788  0.000000  10.632812  \n",
       "2573789  0.000000  14.968750  \n",
       "2573790  0.000000   1.299805  \n",
       "2573791  0.133301   9.398438  \n",
       "2573792  2.333984   2.900391  \n",
       "2573793  0.000000  17.937500  \n",
       "2573794  0.000000  18.843750  \n",
       "2573795  0.000000  15.531250  \n",
       "2573796  0.000000   8.171875  \n",
       "2573797  0.000000   4.933594  \n",
       "2573798  0.833496  17.609375  \n",
       "2573799  0.000000  19.906250  \n",
       "2573800  0.000000   6.199219  \n",
       "2573801  0.033325   2.533203  \n",
       "2573802  0.000000  12.195312  \n",
       "2573803  0.000000  10.062500  \n",
       "2573804  0.000000  12.195312  \n",
       "2573805  0.000000  24.406250  \n",
       "2573806  0.000000  16.500000  \n",
       "2573807  0.000000  22.203125  \n",
       "2573808  0.399902  11.328125  \n",
       "2573809  0.000000   2.466797  \n",
       "2573810  0.000000   8.468750  \n",
       "2573811  0.000000   5.734375  \n",
       "2573812  0.000000   5.699219  \n",
       "2573813  0.000000  15.164062  \n",
       "2573814  0.000000   0.300049  \n",
       "2573815  0.000000   2.701172  \n",
       "2573816  0.000000   8.468750  \n",
       "2573817  0.000000  -2.066406  \n",
       "\n",
       "[2573818 rows x 8 columns]"
      ]
     },
     "execution_count": 6,
     "metadata": {},
     "output_type": "execute_result"
    }
   ],
   "source": [
    "X_train"
   ]
  },
  {
   "cell_type": "code",
   "execution_count": 7,
   "metadata": {},
   "outputs": [],
   "source": [
    "# reimport the target values\n",
    "\n",
    "y_train = pd.read_csv('/Users/davidodwyer/Documents/studyCS/Semester_3/data/dataframes/L145/train_val_test/ytrain.csv', header=None)"
   ]
  },
  {
   "cell_type": "code",
   "execution_count": 8,
   "metadata": {},
   "outputs": [],
   "source": [
    "# drop the included index column\n",
    "\n",
    "y_train.drop(0, axis=1, inplace=True)"
   ]
  },
  {
   "cell_type": "code",
   "execution_count": 9,
   "metadata": {},
   "outputs": [],
   "source": [
    "# extract stop id series as int type\n",
    "\n",
    "stop_id = X_train.STOP_ID.astype('int32')"
   ]
  },
  {
   "cell_type": "code",
   "execution_count": 10,
   "metadata": {},
   "outputs": [],
   "source": [
    "# drop stop id as categorical\n",
    "\n",
    "X_train.drop('STOP_ID', axis=1, inplace=True)"
   ]
  },
  {
   "cell_type": "code",
   "execution_count": 11,
   "metadata": {},
   "outputs": [],
   "source": [
    "# centre and scale the continuous data\n",
    "\n",
    "X_train = centre_scale(X_train)"
   ]
  },
  {
   "cell_type": "code",
   "execution_count": 12,
   "metadata": {},
   "outputs": [],
   "source": [
    "# get dummies for the categorical features\n",
    "\n",
    "X_train = get_dummies(X_train)"
   ]
  },
  {
   "cell_type": "code",
   "execution_count": 13,
   "metadata": {},
   "outputs": [],
   "source": [
    "# add the (now integer type) stop id to the dataframe\n",
    "\n",
    "X_train['STOP_ID'] = stop_id"
   ]
  },
  {
   "cell_type": "code",
   "execution_count": 15,
   "metadata": {},
   "outputs": [],
   "source": [
    "# instantiate and train a linear regression model\n",
    "\n",
    "mlr = LinearRegression().fit(X_train, y_train.unstack().values)"
   ]
  },
  {
   "cell_type": "code",
   "execution_count": 13,
   "metadata": {},
   "outputs": [],
   "source": [
    "# generate predictions on the training data\n",
    "\n",
    "mlr_predictions = mlr.predict(X_train)"
   ]
  },
  {
   "cell_type": "code",
   "execution_count": 14,
   "metadata": {},
   "outputs": [
    {
     "data": {
      "text/plain": [
       "103683.00559753217"
      ]
     },
     "execution_count": 14,
     "metadata": {},
     "output_type": "execute_result"
    }
   ],
   "source": [
    "# print mean square error \n",
    "\n",
    "mean_squared_error(y_train.unstack().values, mlr_predictions)"
   ]
  },
  {
   "cell_type": "code",
   "execution_count": 15,
   "metadata": {},
   "outputs": [
    {
     "data": {
      "text/plain": [
       "<matplotlib.axes._subplots.AxesSubplot at 0x11d6b2128>"
      ]
     },
     "execution_count": 15,
     "metadata": {},
     "output_type": "execute_result"
    },
    {
     "data": {
      "image/png": "[encoded data removed]",
      "text/plain": [
       "<Figure size 720x720 with 1 Axes>"
      ]
     },
     "metadata": {
      "needs_background": "light"
     },
     "output_type": "display_data"
    }
   ],
   "source": [
    "# scatter plot predicted v. actual values\n",
    "\n",
    "plt.figure(figsize=(10, 10))\n",
    "sns.regplot(mlr_predictions, y_train.unstack().values, scatter=True, marker=\"+\", color=\"g\")"
   ]
  },
  {
   "cell_type": "markdown",
   "metadata": {},
   "source": [
    "<br>\n",
    "\n",
    "Result: Linear Relationship\n",
    "    \n",
    "<br>"
   ]
  },
  {
   "cell_type": "code",
   "execution_count": 37,
   "metadata": {},
   "outputs": [
    {
     "data": {
      "text/plain": [
       "0.9996376499477145"
      ]
     },
     "execution_count": 37,
     "metadata": {},
     "output_type": "execute_result"
    }
   ],
   "source": [
    "# calculate the r2 score\n",
    "\n",
    "r2_score(mlr_predictions, y_train.unstack().values)"
   ]
  },
  {
   "cell_type": "code",
   "execution_count": 45,
   "metadata": {},
   "outputs": [
    {
     "name": "stdout",
     "output_type": "stream",
     "text": [
      "PREDICTION — ACTUAL — TIME DIFFERENCE\n",
      "58321 — 57925 — 6.6 minutes\n",
      "67520 — 67848 — 5.5 minutes\n",
      "51480 — 51201 — 4.6 minutes\n",
      "48626 — 48103 — 8.7 minutes\n",
      "40497 — 40497 — 0.0 minutes\n",
      "46395 — 46304 — 1.5 minutes\n",
      "62466 — 62906 — 7.3 minutes\n",
      "43768 — 43416 — 5.9 minutes\n",
      "68637 — 68581 — 0.9 minutes\n",
      "67299 — 67275 — 0.4 minutes\n"
     ]
    }
   ],
   "source": [
    "# for the first ten predictions, compare actual v. predicted: values and time difference (+/-)\n",
    "\n",
    "print('PREDICTION — ACTUAL — TIME DIFFERENCE')\n",
    "\n",
    "for i in range(0,10):\n",
    "    time_diff = abs(int(mlr_predictions[i]) - y_train.unstack().values[i]) / 60\n",
    "    print(int(mlr_predictions[i]), \"—\", y_train.unstack().values[i], \"—\", round(time_diff, 1), \"minutes\")"
   ]
  },
  {
   "cell_type": "code",
   "execution_count": 51,
   "metadata": {},
   "outputs": [
    {
     "name": "stdout",
     "output_type": "stream",
     "text": [
      "Average time difference between predicted and actual: 3.77 minutes\n"
     ]
    }
   ],
   "source": [
    "# sample 1000 predictions, find the average difference in time between actual and predicted\n",
    "\n",
    "time_differences = []\n",
    "\n",
    "for i in range(0,1000):\n",
    "    time_diff = abs(int(mlr_predictions[i]) - y_train.unstack().values[i]) / 60\n",
    "    time_differences.append(time_diff)\n",
    "    \n",
    "average_difference = sum(time_differences) / 1000 \n",
    "print(\"Average time difference between predicted and actual:\", round(average_difference, 3), \"minutes\")\n",
    "    "
   ]
  },
  {
   "cell_type": "markdown",
   "metadata": {},
   "source": [
    "#### On the Validation Set"
   ]
  },
  {
   "cell_type": "code",
   "execution_count": 75,
   "metadata": {},
   "outputs": [],
   "source": [
    "# import the validation predictors and targets\n",
    "\n",
    "X_val = pd.read_feather('/Users/davidodwyer/Documents/studyCS/Semester_3/data/dataframes/L145/train_val_test/xval.feather')\n",
    "y_val = pd.read_csv('/Users/davidodwyer/Documents/studyCS/Semester_3/data/dataframes/L145/train_val_test/yval.csv', header=None)"
   ]
  },
  {
   "cell_type": "code",
   "execution_count": 76,
   "metadata": {},
   "outputs": [],
   "source": [
    "# drop additional index col\n",
    "\n",
    "y_val.drop(0, axis=1, inplace=True)"
   ]
  },
  {
   "cell_type": "code",
   "execution_count": 66,
   "metadata": {},
   "outputs": [],
   "source": [
    "# remove the stop id series, as int type\n",
    "\n",
    "stop_id = X_val.STOP_ID.astype('int32')"
   ]
  },
  {
   "cell_type": "code",
   "execution_count": 67,
   "metadata": {},
   "outputs": [],
   "source": [
    "# drop stop id as a categorical feature\n",
    "\n",
    "X_val.drop('STOP_ID', axis=1, inplace=True)"
   ]
  },
  {
   "cell_type": "code",
   "execution_count": 68,
   "metadata": {},
   "outputs": [],
   "source": [
    "# centre and scale the predictor values\n",
    "\n",
    "X_val = centre_scale(X_val)"
   ]
  },
  {
   "cell_type": "code",
   "execution_count": 69,
   "metadata": {},
   "outputs": [],
   "source": [
    "# make dummy variables for categorical features\n",
    "\n",
    "X_val = get_dummies(X_val)"
   ]
  },
  {
   "cell_type": "code",
   "execution_count": 70,
   "metadata": {},
   "outputs": [],
   "source": [
    "# add stop id back into the dataframe\n",
    "\n",
    "X_val['STOP_ID'] = stop_id"
   ]
  },
  {
   "cell_type": "code",
   "execution_count": 71,
   "metadata": {},
   "outputs": [],
   "source": [
    "# make predictions on the validation set\n",
    "\n",
    "mlr_predictions = mlr.predict(X_val)"
   ]
  },
  {
   "cell_type": "code",
   "execution_count": 24,
   "metadata": {},
   "outputs": [
    {
     "data": {
      "text/plain": [
       "104741.32609791262"
      ]
     },
     "execution_count": 24,
     "metadata": {},
     "output_type": "execute_result"
    }
   ],
   "source": [
    "# find the mean square error\n",
    "\n",
    "mean_squared_error(y_val.unstack().values, mlr_predictions)"
   ]
  },
  {
   "cell_type": "code",
   "execution_count": 88,
   "metadata": {},
   "outputs": [
    {
     "data": {
      "text/plain": [
       "<matplotlib.axes._subplots.AxesSubplot at 0x10c69f860>"
      ]
     },
     "execution_count": 88,
     "metadata": {},
     "output_type": "execute_result"
    },
    {
     "data": {
      "image/png": "[encoded data removed]",
      "text/plain": [
       "<Figure size 720x720 with 1 Axes>"
      ]
     },
     "metadata": {
      "needs_background": "light"
     },
     "output_type": "display_data"
    }
   ],
   "source": [
    "# plot actual vs. predicted values\n",
    "\n",
    "plt.figure(figsize=(10, 10))\n",
    "sns.regplot(mlr_predictions, y_val.unstack().values, scatter=True, marker=\"+\", color=\"g\")"
   ]
  },
  {
   "cell_type": "code",
   "execution_count": 25,
   "metadata": {},
   "outputs": [
    {
     "data": {
      "text/plain": [
       "0.9996337353269863"
      ]
     },
     "execution_count": 25,
     "metadata": {},
     "output_type": "execute_result"
    }
   ],
   "source": [
    "# find the r2 score\n",
    "\n",
    "r2_score(mlr_predictions, y_val.unstack().values)"
   ]
  },
  {
   "cell_type": "code",
   "execution_count": 68,
   "metadata": {},
   "outputs": [
    {
     "name": "stdout",
     "output_type": "stream",
     "text": [
      "PREDICTION — ACTUAL — TIME DIFFERENCE\n",
      "38814 — 38838 — 0.4 minutes\n",
      "70215 — 70092 — 2.0 minutes\n",
      "69079 — 68545 — 8.9 minutes\n",
      "65277 — 64752 — 8.8 minutes\n",
      "31047 — 31186 — 2.3 minutes\n",
      "57066 — 57197 — 2.2 minutes\n",
      "37215 — 36819 — 6.6 minutes\n",
      "38940 — 39174 — 3.9 minutes\n",
      "65990 — 66390 — 6.7 minutes\n",
      "61922 — 61594 — 5.5 minutes\n"
     ]
    }
   ],
   "source": [
    "# for the first 10 predictions, compare with actual values; state time difference\n",
    "\n",
    "print('PREDICTION — ACTUAL — TIME DIFFERENCE')\n",
    "\n",
    "for i in range(0,10):\n",
    "    time_diff = abs(int(mlr_predictions[i]) - y_val.unstack().values[i]) / 60\n",
    "    print(int(mlr_predictions[i]), \"—\", y_val.unstack().values[i], \"—\", round(time_diff, 1), \"minutes\")"
   ]
  },
  {
   "cell_type": "code",
   "execution_count": 70,
   "metadata": {},
   "outputs": [
    {
     "name": "stdout",
     "output_type": "stream",
     "text": [
      "Average time difference between predicted and actual: 4.213 minutes\n"
     ]
    }
   ],
   "source": [
    "# for the first 1000 predictions, find the average difference in actual v. predicted time\n",
    "\n",
    "time_differences = []\n",
    "\n",
    "for i in range(0,1000):\n",
    "    time_diff = abs(int(mlr_predictions[i]) - y_val.unstack().values[i]) / 60\n",
    "    time_differences.append(time_diff)\n",
    "    \n",
    "average_difference = sum(time_differences) / 1000\n",
    "print(\"Average time difference between predicted and actual:\", round(average_difference, 3), \"minutes\")"
   ]
  },
  {
   "cell_type": "code",
   "execution_count": 71,
   "metadata": {},
   "outputs": [
    {
     "name": "stdout",
     "output_type": "stream",
     "text": [
      "% trips earlier than scheduled =  43.7\n",
      "% trips later than scheduled =  56.3\n"
     ]
    }
   ],
   "source": [
    "# for the first 1000 predictions, find proportion of later / earlier than actual time.\n",
    "\n",
    "later_than_actual = 0\n",
    "earlier_than_actual = 0\n",
    "\n",
    "for i in range(0,1000):\n",
    "    if mlr_predictions[i] > y_val.unstack().values[i]:\n",
    "        later_than_actual += 1\n",
    "    else:\n",
    "        earlier_than_actual +=1\n",
    "        \n",
    "print(\"% trips earlier than scheduled = \", (earlier_than_actual / 1000)*100)\n",
    "print(\"% trips later than scheduled = \", (later_than_actual / 1000)*100)"
   ]
  },
  {
   "cell_type": "code",
   "execution_count": 89,
   "metadata": {},
   "outputs": [
    {
     "name": "stdout",
     "output_type": "stream",
     "text": [
      "% trips earlier than scheduled =  44.6\n",
      "% trips later than scheduled =  55.400000000000006\n"
     ]
    }
   ],
   "source": [
    "# for the second 1000 predictions, find proportion of later / earlier than actual time.\n",
    "\n",
    "later_than_actual = 0\n",
    "earlier_than_actual = 0\n",
    "\n",
    "for i in range(1000,2000):\n",
    "    if mlr_predictions[i] > y_val.unstack().values[i]:\n",
    "        later_than_actual += 1\n",
    "    else:\n",
    "        earlier_than_actual +=1\n",
    "        \n",
    "print(\"% trips earlier than scheduled = \", (earlier_than_actual / 1000)*100)\n",
    "print(\"% trips later than scheduled = \", (later_than_actual / 1000)*100)"
   ]
  },
  {
   "cell_type": "code",
   "execution_count": 80,
   "metadata": {},
   "outputs": [
    {
     "data": {
      "text/plain": [
       "[('PLANNEDTIME_ARR', 10476.724720372087),\n",
       " ('RAIN', 9.70011287941361),\n",
       " ('TEMP', 13.04820613625634),\n",
       " ('MONTH_2', 94.64224314042622),\n",
       " ('MONTH_3', 89.49329402845615),\n",
       " ('MONTH_4', 68.26943933529128),\n",
       " ('MONTH_5', 47.36944933449013),\n",
       " ('MONTH_6', 34.48156279640261),\n",
       " ('MONTH_7', 134.7341197776168),\n",
       " ('MONTH_8', 121.43496786055857),\n",
       " ('MONTH_9', 102.80169792173274),\n",
       " ('MONTH_10', 76.23110212858501),\n",
       " ('MONTH_11', 46.81890852085235),\n",
       " ('MONTH_12', 180.77670557688907),\n",
       " ('DAYOFWEEK_1', 33.663757040759265),\n",
       " ('DAYOFWEEK_2', 62.90813950076108),\n",
       " ('DAYOFWEEK_3', 86.0890789017817),\n",
       " ('DAYOFWEEK_4', 108.85724023604098),\n",
       " ('DAYOFWEEK_5', 46.48166044235268),\n",
       " ('DAYOFWEEK_6', 56.51352245652106),\n",
       " ('ARRIVAL_INTERVAL_00:30 - 01:00', 3.637978807091713e-11),\n",
       " ('ARRIVAL_INTERVAL_01:00 - 01:30', -2.2737367544323206e-12),\n",
       " ('ARRIVAL_INTERVAL_01:30 - 02:00', -2.7284841053187847e-11),\n",
       " ('ARRIVAL_INTERVAL_02:00 - 02:30', 1.5916157281026244e-11),\n",
       " ('ARRIVAL_INTERVAL_02:30 - 03:00', 2.7284841053187847e-11),\n",
       " ('ARRIVAL_INTERVAL_03:00 - 03:30', 1.3869794202037156e-11),\n",
       " ('ARRIVAL_INTERVAL_03:30 - 04:00', -3.001332515850663e-11),\n",
       " ('ARRIVAL_INTERVAL_04:00 - 04:30', 1.8474111129762605e-12),\n",
       " ('ARRIVAL_INTERVAL_04:30 - 05:00', -4.3716141817640164e-11),\n",
       " ('ARRIVAL_INTERVAL_05:00 - 05:30', 1.0514611403777963e-10),\n",
       " ('ARRIVAL_INTERVAL_05:30 - 06:00', 1.3358203432289883e-11),\n",
       " ('ARRIVAL_INTERVAL_06:00 - 06:30', -12940.195559349415),\n",
       " ('ARRIVAL_INTERVAL_06:30 - 07:00', -12366.948583597401),\n",
       " ('ARRIVAL_INTERVAL_07:00 - 07:30', -11727.801994646401),\n",
       " ('ARRIVAL_INTERVAL_07:30 - 08:00', -11032.725088444902),\n",
       " ('ARRIVAL_INTERVAL_08:00 - 08:30', -10346.289431802827),\n",
       " ('ARRIVAL_INTERVAL_08:30 - 09:00', -9607.420883175766),\n",
       " ('ARRIVAL_INTERVAL_09:00 - 09:30', -8886.65371200782),\n",
       " ('ARRIVAL_INTERVAL_09:30 - 10:00', -8221.437065902297),\n",
       " ('ARRIVAL_INTERVAL_10:00 - 10:30', -7560.448506937829),\n",
       " ('ARRIVAL_INTERVAL_10:30 - 11:00', -6877.780773817716),\n",
       " ('ARRIVAL_INTERVAL_11:00 - 11:30', -6198.9637568324815),\n",
       " ('ARRIVAL_INTERVAL_11:30 - 12:00', -5518.666774023377),\n",
       " ('ARRIVAL_INTERVAL_12:00 - 12:30', -4832.885943523093),\n",
       " ('ARRIVAL_INTERVAL_12:30 - 13:00', -4124.084523847993),\n",
       " ('ARRIVAL_INTERVAL_13:00 - 13:30', -3423.03177014889),\n",
       " ('ARRIVAL_INTERVAL_13:30 - 14:00', -2747.061111199694),\n",
       " ('ARRIVAL_INTERVAL_14:00 - 14:30', -2080.177417468342),\n",
       " ('ARRIVAL_INTERVAL_14:30 - 15:00', -1413.4007164011819),\n",
       " ('ARRIVAL_INTERVAL_15:00 - 15:30', -732.0954950453868),\n",
       " ('ARRIVAL_INTERVAL_15:30 - 16:00', -38.39762140093444),\n",
       " ('ARRIVAL_INTERVAL_16:00 - 16:30', 662.7916208198417),\n",
       " ('ARRIVAL_INTERVAL_16:30 - 17:00', 1356.8695217174932),\n",
       " ('ARRIVAL_INTERVAL_17:00 - 17:30', 2033.1471947465732),\n",
       " ('ARRIVAL_INTERVAL_17:30 - 18:00', 2732.8877887492995),\n",
       " ('ARRIVAL_INTERVAL_18:00 - 18:30', 3431.958008946408),\n",
       " ('ARRIVAL_INTERVAL_18:30 - 19:00', 4130.436178141437),\n",
       " ('ARRIVAL_INTERVAL_19:00 - 19:30', 4823.716301210156),\n",
       " ('ARRIVAL_INTERVAL_19:30 - 20:00', 5526.849980880238),\n",
       " ('ARRIVAL_INTERVAL_20:00 - 20:30', 6176.35243960411),\n",
       " ('ARRIVAL_INTERVAL_20:30 - 21:00', 6766.086513654298),\n",
       " ('ARRIVAL_INTERVAL_21:00 - 21:30', 7439.5138520682),\n",
       " ('ARRIVAL_INTERVAL_21:30 - 22:00', 8216.39383587568),\n",
       " ('ARRIVAL_INTERVAL_22:00 - 22:30', 8917.154659303516),\n",
       " ('ARRIVAL_INTERVAL_22:30 - 23:00', 9547.718478146802),\n",
       " ('ARRIVAL_INTERVAL_23:00 - 23:30', 10162.734860270899),\n",
       " ('ARRIVAL_INTERVAL_23:30 - 24:00', 10862.07510610407),\n",
       " ('ARRIVAL_INTERVAL_+24:00 - 00:30', 11548.957614938028),\n",
       " ('ARRIVAL_INTERVAL_+00:30 - 01:00', 12400.348800900936),\n",
       " ('ARRIVAL_INTERVAL_+01:00 - 01:30', 13940.473973495886),\n",
       " ('SCHOOL_OFF_1', -50.26545902795806),\n",
       " ('STOP_ID', 0.0012904126913042546)]"
      ]
     },
     "execution_count": 80,
     "metadata": {},
     "output_type": "execute_result"
    }
   ],
   "source": [
    "# print the weights for each feature\n",
    "\n",
    "list(zip(list(X_val.columns),mlr.coef_.ravel()))"
   ]
  },
  {
   "cell_type": "code",
   "execution_count": 81,
   "metadata": {},
   "outputs": [
    {
     "data": {
      "text/plain": [
       "54987.747142581444"
      ]
     },
     "execution_count": 81,
     "metadata": {},
     "output_type": "execute_result"
    }
   ],
   "source": [
    "mlr.intercept_"
   ]
  },
  {
   "cell_type": "markdown",
   "metadata": {},
   "source": [
    "<br>\n",
    "\n",
    "Commentary on the above is lacking as this exploratory modelling is to be repeated with an improved Analytics Base Table. See below\n",
    "\n",
    "<br>"
   ]
  },
  {
   "cell_type": "markdown",
   "metadata": {},
   "source": [
    "<br>\n",
    "\n",
    "I will cease this modelling, and begin a remodelling in order to encode hour, day, and month – the cyclic ordinal features – more appropriately, i.e. capturing that nature, as opposed to using dummy variables. Further, stop_id is incorrectly encoded as an integer, presenting the algorithms with an inaccurate view of the nature of these categorical data – an oversight due arising from the move away from adding 4000+ dummy variables. A solution will be found. Further, ideally, route variations can be incorporated into the model.\n",
    "\n",
    "<br>\n",
    "\n",
    "I will also continue as planned to derive confidence measures of the predictions, examine feature importance, and test improvements with polynomial transformations.\n",
    "\n",
    "<br>"
   ]
  },
  {
   "cell_type": "markdown",
   "metadata": {},
   "source": [
    "# Feature Order for Hacky implementation of first model, for Presentation Demo"
   ]
  },
  {
   "cell_type": "code",
   "execution_count": 38,
   "metadata": {},
   "outputs": [
    {
     "name": "stdout",
     "output_type": "stream",
     "text": [
      "PLANNEDTIME_ARR\n",
      "RAIN\n",
      "TEMP\n",
      "MONTH_2\n",
      "MONTH_3\n",
      "MONTH_4\n",
      "MONTH_5\n",
      "MONTH_6\n",
      "MONTH_7\n",
      "MONTH_8\n",
      "MONTH_9\n",
      "MONTH_10\n",
      "MONTH_11\n",
      "MONTH_12\n",
      "DAYOFWEEK_1\n",
      "DAYOFWEEK_2\n",
      "DAYOFWEEK_3\n",
      "DAYOFWEEK_4\n",
      "DAYOFWEEK_5\n",
      "DAYOFWEEK_6\n",
      "ARRIVAL_INTERVAL_00:30 - 01:00\n",
      "ARRIVAL_INTERVAL_01:00 - 01:30\n",
      "ARRIVAL_INTERVAL_01:30 - 02:00\n",
      "ARRIVAL_INTERVAL_02:00 - 02:30\n",
      "ARRIVAL_INTERVAL_02:30 - 03:00\n",
      "ARRIVAL_INTERVAL_03:00 - 03:30\n",
      "ARRIVAL_INTERVAL_03:30 - 04:00\n",
      "ARRIVAL_INTERVAL_04:00 - 04:30\n",
      "ARRIVAL_INTERVAL_04:30 - 05:00\n",
      "ARRIVAL_INTERVAL_05:00 - 05:30\n",
      "ARRIVAL_INTERVAL_05:30 - 06:00\n",
      "ARRIVAL_INTERVAL_06:00 - 06:30\n",
      "ARRIVAL_INTERVAL_06:30 - 07:00\n",
      "ARRIVAL_INTERVAL_07:00 - 07:30\n",
      "ARRIVAL_INTERVAL_07:30 - 08:00\n",
      "ARRIVAL_INTERVAL_08:00 - 08:30\n",
      "ARRIVAL_INTERVAL_08:30 - 09:00\n",
      "ARRIVAL_INTERVAL_09:00 - 09:30\n",
      "ARRIVAL_INTERVAL_09:30 - 10:00\n",
      "ARRIVAL_INTERVAL_10:00 - 10:30\n",
      "ARRIVAL_INTERVAL_10:30 - 11:00\n",
      "ARRIVAL_INTERVAL_11:00 - 11:30\n",
      "ARRIVAL_INTERVAL_11:30 - 12:00\n",
      "ARRIVAL_INTERVAL_12:00 - 12:30\n",
      "ARRIVAL_INTERVAL_12:30 - 13:00\n",
      "ARRIVAL_INTERVAL_13:00 - 13:30\n",
      "ARRIVAL_INTERVAL_13:30 - 14:00\n",
      "ARRIVAL_INTERVAL_14:00 - 14:30\n",
      "ARRIVAL_INTERVAL_14:30 - 15:00\n",
      "ARRIVAL_INTERVAL_15:00 - 15:30\n",
      "ARRIVAL_INTERVAL_15:30 - 16:00\n",
      "ARRIVAL_INTERVAL_16:00 - 16:30\n",
      "ARRIVAL_INTERVAL_16:30 - 17:00\n",
      "ARRIVAL_INTERVAL_17:00 - 17:30\n",
      "ARRIVAL_INTERVAL_17:30 - 18:00\n",
      "ARRIVAL_INTERVAL_18:00 - 18:30\n",
      "ARRIVAL_INTERVAL_18:30 - 19:00\n",
      "ARRIVAL_INTERVAL_19:00 - 19:30\n",
      "ARRIVAL_INTERVAL_19:30 - 20:00\n",
      "ARRIVAL_INTERVAL_20:00 - 20:30\n",
      "ARRIVAL_INTERVAL_20:30 - 21:00\n",
      "ARRIVAL_INTERVAL_21:00 - 21:30\n",
      "ARRIVAL_INTERVAL_21:30 - 22:00\n",
      "ARRIVAL_INTERVAL_22:00 - 22:30\n",
      "ARRIVAL_INTERVAL_22:30 - 23:00\n",
      "ARRIVAL_INTERVAL_23:00 - 23:30\n",
      "ARRIVAL_INTERVAL_23:30 - 24:00\n",
      "ARRIVAL_INTERVAL_+24:00 - 00:30\n",
      "ARRIVAL_INTERVAL_+00:30 - 01:00\n",
      "ARRIVAL_INTERVAL_+01:00 - 01:30\n",
      "SCHOOL_OFF_1\n",
      "STOP_ID\n"
     ]
    }
   ],
   "source": [
    "for col in X_train.columns:\n",
    "    print(col)"
   ]
  },
  {
   "cell_type": "markdown",
   "metadata": {},
   "source": [
    "# Export (poor, original) MLR model for demo"
   ]
  },
  {
   "cell_type": "code",
   "execution_count": 41,
   "metadata": {},
   "outputs": [
    {
     "data": {
      "text/plain": [
       "['/Users/davidodwyer/Desktop/original_mlr.joblib']"
      ]
     },
     "execution_count": 41,
     "metadata": {},
     "output_type": "execute_result"
    }
   ],
   "source": [
    "dump(mlr, '/Users/davidodwyer/Desktop/original_mlr.joblib')"
   ]
  },
  {
   "cell_type": "code",
   "execution_count": 78,
   "metadata": {},
   "outputs": [
    {
     "data": {
      "text/html": [
       "<div>\n",
       "<style scoped>\n",
       "    .dataframe tbody tr th:only-of-type {\n",
       "        vertical-align: middle;\n",
       "    }\n",
       "\n",
       "    .dataframe tbody tr th {\n",
       "        vertical-align: top;\n",
       "    }\n",
       "\n",
       "    .dataframe thead th {\n",
       "        text-align: right;\n",
       "    }\n",
       "</style>\n",
       "<table border=\"1\" class=\"dataframe\">\n",
       "  <thead>\n",
       "    <tr style=\"text-align: right;\">\n",
       "      <th></th>\n",
       "      <th>STOP_ID</th>\n",
       "      <th>MONTH</th>\n",
       "      <th>DAYOFWEEK</th>\n",
       "      <th>ARRIVAL_INTERVAL</th>\n",
       "      <th>PLANNEDTIME_ARR</th>\n",
       "      <th>SCHOOL_OFF</th>\n",
       "      <th>RAIN</th>\n",
       "      <th>TEMP</th>\n",
       "    </tr>\n",
       "  </thead>\n",
       "  <tbody>\n",
       "    <tr>\n",
       "      <th>0</th>\n",
       "      <td>3144</td>\n",
       "      <td>8</td>\n",
       "      <td>3</td>\n",
       "      <td>10:30 - 11:00</td>\n",
       "      <td>38624</td>\n",
       "      <td>1</td>\n",
       "      <td>0.0</td>\n",
       "      <td>16.234375</td>\n",
       "    </tr>\n",
       "    <tr>\n",
       "      <th>1</th>\n",
       "      <td>7588</td>\n",
       "      <td>3</td>\n",
       "      <td>5</td>\n",
       "      <td>19:00 - 19:30</td>\n",
       "      <td>70526</td>\n",
       "      <td>1</td>\n",
       "      <td>0.0</td>\n",
       "      <td>4.566406</td>\n",
       "    </tr>\n",
       "  </tbody>\n",
       "</table>\n",
       "</div>"
      ],
      "text/plain": [
       "  STOP_ID MONTH DAYOFWEEK ARRIVAL_INTERVAL  PLANNEDTIME_ARR SCHOOL_OFF  RAIN  \\\n",
       "0    3144     8         3    10:30 - 11:00            38624          1   0.0   \n",
       "1    7588     3         5    19:00 - 19:30            70526          1   0.0   \n",
       "\n",
       "        TEMP  \n",
       "0  16.234375  \n",
       "1   4.566406  "
      ]
     },
     "execution_count": 78,
     "metadata": {},
     "output_type": "execute_result"
    }
   ],
   "source": [
    "X_val.head(2)"
   ]
  },
  {
   "cell_type": "code",
   "execution_count": 79,
   "metadata": {},
   "outputs": [
    {
     "data": {
      "text/plain": [
       "70215.66110250054"
      ]
     },
     "execution_count": 79,
     "metadata": {},
     "output_type": "execute_result"
    }
   ],
   "source": [
    "mlr_predictions[1]"
   ]
  },
  {
   "cell_type": "markdown",
   "metadata": {},
   "source": [
    "# CHECK THE FEATURE IMPORTANCES OF THIS ITERATION"
   ]
  },
  {
   "cell_type": "code",
   "execution_count": 23,
   "metadata": {},
   "outputs": [],
   "source": [
    "# from sklearn.preprocessing import OneHotEncoder, LabelEncoder\n",
    "# X_train.STOP_ID = X_train.STOP_ID.astype('int')\n",
    "# # lb_enc = LabelEncoder()\n",
    "# # X_train.STOP_ID = lb_enc.fit_transform(X_train)\n",
    "# ohe = OneHotEncoder(handle_unknown='error', drop='first')\n",
    "# ohe.fit_transform(X_train.STOP_ID.values.reshape(-1,1))"
   ]
  },
  {
   "cell_type": "code",
   "execution_count": 21,
   "metadata": {},
   "outputs": [],
   "source": [
    "def l1_regular_rank_features(Xset,Yset):\n",
    "    \n",
    "    \"\"\"\n",
    "    Uses L1 Regularisation to estimate feature importances.\n",
    "    Rough estimate. Greater linear weights does not\n",
    "    exhaust criteria for feature importance.\n",
    "    \"\"\"\n",
    "    \n",
    "    features = list(Xset.columns.values)\n",
    "    \n",
    "    lasso = Lasso(alpha=.1)\n",
    "    lasso.fit(Xset, Yset)\n",
    "    coefs = list(lasso.coef_.ravel())\n",
    "    \n",
    "    # Match the features with their coefficients, print all\n",
    "    print(\"L1 Regularisation Importances:\\n\")\n",
    "    ranking = list(zip(features, coefs))\n",
    "    for row in ranking: print('{0:45}  {1}'.format(row[0], row[1]))"
   ]
  },
  {
   "cell_type": "markdown",
   "metadata": {},
   "source": [
    "We refrain from one-hot-encoding stop_id as this will not be the implementation going forward."
   ]
  },
  {
   "cell_type": "code",
   "execution_count": 22,
   "metadata": {},
   "outputs": [
    {
     "name": "stdout",
     "output_type": "stream",
     "text": [
      "L1 Regularisation Importances:\n",
      "\n",
      "PLANNEDTIME_ARR                                13834.946871342252\n",
      "RAIN                                           12.800278887202305\n",
      "TEMP                                           20.72372722395198\n",
      "MONTH_2                                        112.66204419142528\n",
      "MONTH_3                                        104.62255252886193\n",
      "MONTH_4                                        74.90926852566729\n",
      "MONTH_5                                        45.43597628673739\n",
      "MONTH_6                                        25.17123396678706\n",
      "MONTH_7                                        154.58235522916448\n",
      "MONTH_8                                        137.54070459633377\n",
      "MONTH_9                                        118.43920276966523\n",
      "MONTH_10                                       84.92404383269769\n",
      "MONTH_11                                       48.05349166735726\n",
      "MONTH_12                                       224.45093595475208\n",
      "DAYOFWEEK_1                                    40.09516095708846\n",
      "DAYOFWEEK_2                                    78.91178346839531\n",
      "DAYOFWEEK_3                                    109.6144838420075\n",
      "DAYOFWEEK_4                                    140.05657186379278\n",
      "DAYOFWEEK_5                                    57.911468455626355\n",
      "DAYOFWEEK_6                                    69.5804349101644\n",
      "ARRIVAL_INTERVAL_00:30 - 01:00                 0.0\n",
      "ARRIVAL_INTERVAL_01:00 - 01:30                 0.0\n",
      "ARRIVAL_INTERVAL_01:30 - 02:00                 0.0\n",
      "ARRIVAL_INTERVAL_02:00 - 02:30                 0.0\n",
      "ARRIVAL_INTERVAL_02:30 - 03:00                 0.0\n",
      "ARRIVAL_INTERVAL_03:00 - 03:30                 0.0\n",
      "ARRIVAL_INTERVAL_03:30 - 04:00                 0.0\n",
      "ARRIVAL_INTERVAL_04:00 - 04:30                 0.0\n",
      "ARRIVAL_INTERVAL_04:30 - 05:00                 0.0\n",
      "ARRIVAL_INTERVAL_05:00 - 05:30                 0.0\n",
      "ARRIVAL_INTERVAL_05:30 - 06:00                 0.0\n",
      "ARRIVAL_INTERVAL_06:00 - 06:30                 -6676.488540587099\n",
      "ARRIVAL_INTERVAL_06:30 - 07:00                 -6444.573970472874\n",
      "ARRIVAL_INTERVAL_07:00 - 07:30                 -6148.781593394423\n",
      "ARRIVAL_INTERVAL_07:30 - 08:00                 -5807.004939609147\n",
      "ARRIVAL_INTERVAL_08:00 - 08:30                 -5462.374288131209\n",
      "ARRIVAL_INTERVAL_08:30 - 09:00                 -5062.675240483378\n",
      "ARRIVAL_INTERVAL_09:00 - 09:30                 -4688.423683960035\n",
      "ARRIVAL_INTERVAL_09:30 - 10:00                 -4384.9777212239505\n",
      "ARRIVAL_INTERVAL_10:00 - 10:30                 -4088.0346737590007\n",
      "ARRIVAL_INTERVAL_10:30 - 11:00                 -3766.8969420661374\n",
      "ARRIVAL_INTERVAL_11:00 - 11:30                 -3447.722744626918\n",
      "ARRIVAL_INTERVAL_11:30 - 12:00                 -3125.5421295892465\n",
      "ARRIVAL_INTERVAL_12:00 - 12:30                 -2797.7973249066686\n",
      "ARRIVAL_INTERVAL_12:30 - 13:00                 -2440.530528332757\n",
      "ARRIVAL_INTERVAL_13:00 - 13:30                 -2091.1199940151987\n",
      "ARRIVAL_INTERVAL_13:30 - 14:00                 -1775.0911491914446\n",
      "ARRIVAL_INTERVAL_14:00 - 14:30                 -1472.6910842845637\n",
      "ARRIVAL_INTERVAL_14:30 - 15:00                 -1166.1204242478534\n",
      "ARRIVAL_INTERVAL_15:00 - 15:30                 -845.9422979173789\n",
      "ARRIVAL_INTERVAL_15:30 - 16:00                 -510.37577600224404\n",
      "ARRIVAL_INTERVAL_16:00 - 16:30                 -158.6321870989171\n",
      "ARRIVAL_INTERVAL_16:30 - 17:00                 174.42295462681423\n",
      "ARRIVAL_INTERVAL_17:00 - 17:30                 492.353383431766\n",
      "ARRIVAL_INTERVAL_17:30 - 18:00                 837.6088146585092\n",
      "ARRIVAL_INTERVAL_18:00 - 18:30                 1191.0074473311483\n",
      "ARRIVAL_INTERVAL_18:30 - 19:00                 1532.1109215397037\n",
      "ARRIVAL_INTERVAL_19:00 - 19:30                 1870.315603637988\n",
      "ARRIVAL_INTERVAL_19:30 - 20:00                 2221.4442625614665\n",
      "ARRIVAL_INTERVAL_20:00 - 20:30                 2501.2827125574713\n",
      "ARRIVAL_INTERVAL_20:30 - 21:00                 2707.058106017321\n",
      "ARRIVAL_INTERVAL_21:00 - 21:30                 3028.2237119435463\n",
      "ARRIVAL_INTERVAL_21:30 - 22:00                 3474.282154313871\n",
      "ARRIVAL_INTERVAL_22:00 - 22:30                 3811.9827087551294\n",
      "ARRIVAL_INTERVAL_22:30 - 23:00                 4066.7935685026246\n",
      "ARRIVAL_INTERVAL_23:00 - 23:30                 4309.689247405581\n",
      "ARRIVAL_INTERVAL_23:30 - 24:00                 4676.030108039009\n",
      "ARRIVAL_INTERVAL_+24:00 - 00:30                5026.608942265004\n",
      "ARRIVAL_INTERVAL_+00:30 - 01:00                5477.556009640399\n",
      "ARRIVAL_INTERVAL_+01:00 - 01:30                0.0\n",
      "SCHOOL_OFF_1                                   -62.845383768017385\n",
      "STOP_ID                                        0.0016724478081692731\n"
     ]
    },
    {
     "name": "stderr",
     "output_type": "stream",
     "text": [
      "/Users/davidodwyer/anaconda3/envs/analytics/lib/python3.7/site-packages/sklearn/linear_model/coordinate_descent.py:475: ConvergenceWarning: Objective did not converge. You might want to increase the number of iterations. Duality gap: 169740404167.59863, tolerance: 73674029183.11752\n",
      "  positive)\n"
     ]
    }
   ],
   "source": [
    "l1_regular_rank_features(X_train, y_train)"
   ]
  },
  {
   "cell_type": "code",
   "execution_count": 23,
   "metadata": {},
   "outputs": [],
   "source": [
    "def rf_feature_importance(Xset, Yset):\n",
    "    \n",
    "    \"\"\"\n",
    "    Feature importance estimate from tree-based model\n",
    "    \"\"\"\n",
    "    \n",
    "    features = list(Xset.columns.values)\n",
    "    \n",
    "    # Use Random Forests Classifier to rank feature importance\n",
    "    # Initialise and fit a model\n",
    "    rf = RandomForestRegressor()\n",
    "    rf.fit(Xset, Yset)\n",
    "    \n",
    "    # Match the features with their Gini coefficients, print all\n",
    "    print(\"Random Forest Feature Importances:\\n\")\n",
    "    rf_importances = pd.DataFrame(rf.feature_importances_, index = Xset.columns, \\\n",
    "                                  columns=['Importance']).sort_values('Importance', \\\n",
    "                                ascending=False).values\n",
    "    \n",
    "    rf_importances = [float(x) for x in rf_importances]\n",
    "    for row in list(zip(features, rf_importances)): print('{0:45}  {1}'.format(row[0], row[1]))\n",
    "    "
   ]
  },
  {
   "cell_type": "code",
   "execution_count": 24,
   "metadata": {},
   "outputs": [
    {
     "name": "stderr",
     "output_type": "stream",
     "text": [
      "/Users/davidodwyer/anaconda3/envs/analytics/lib/python3.7/site-packages/sklearn/ensemble/forest.py:245: FutureWarning: The default value of n_estimators will change from 10 in version 0.20 to 100 in 0.22.\n",
      "  \"10 in version 0.20 to 100 in 0.22.\", FutureWarning)\n",
      "/Users/davidodwyer/anaconda3/envs/analytics/lib/python3.7/site-packages/ipykernel_launcher.py:12: DataConversionWarning: A column-vector y was passed when a 1d array was expected. Please change the shape of y to (n_samples,), for example using ravel().\n",
      "  if sys.path[0] == '':\n"
     ]
    },
    {
     "name": "stdout",
     "output_type": "stream",
     "text": [
      "Random Forest Feature Importances:\n",
      "\n",
      "PLANNEDTIME_ARR                                0.9989744447602147\n",
      "RAIN                                           8.799520742052707e-05\n",
      "TEMP                                           7.159999591966038e-05\n",
      "MONTH_2                                        5.961629376740004e-05\n",
      "MONTH_3                                        5.3569925159352436e-05\n",
      "MONTH_4                                        4.663419131154126e-05\n",
      "MONTH_5                                        4.5746851279431196e-05\n",
      "MONTH_6                                        4.333278532514583e-05\n",
      "MONTH_7                                        3.872640783366364e-05\n",
      "MONTH_8                                        3.8194592040387026e-05\n",
      "MONTH_9                                        3.773723045113415e-05\n",
      "MONTH_10                                       3.416004130073609e-05\n",
      "MONTH_11                                       3.357289553058563e-05\n",
      "MONTH_12                                       3.3314904939308045e-05\n",
      "DAYOFWEEK_1                                    3.163802471854819e-05\n",
      "DAYOFWEEK_2                                    2.6170357401074612e-05\n",
      "DAYOFWEEK_3                                    1.5910495578181514e-05\n",
      "DAYOFWEEK_4                                    1.5830159468281624e-05\n",
      "DAYOFWEEK_5                                    1.4740382457861187e-05\n",
      "DAYOFWEEK_6                                    1.4632033070219587e-05\n",
      "ARRIVAL_INTERVAL_00:30 - 01:00                 1.4420139309774429e-05\n",
      "ARRIVAL_INTERVAL_01:00 - 01:30                 1.4196495723287602e-05\n",
      "ARRIVAL_INTERVAL_01:30 - 02:00                 1.3523736892837325e-05\n",
      "ARRIVAL_INTERVAL_02:00 - 02:30                 1.3193271238927983e-05\n",
      "ARRIVAL_INTERVAL_02:30 - 03:00                 1.3083778689811213e-05\n",
      "ARRIVAL_INTERVAL_03:00 - 03:30                 1.2951122240462744e-05\n",
      "ARRIVAL_INTERVAL_03:30 - 04:00                 1.2859370371973915e-05\n",
      "ARRIVAL_INTERVAL_04:00 - 04:30                 1.267882364657444e-05\n",
      "ARRIVAL_INTERVAL_04:30 - 05:00                 1.266950085899178e-05\n",
      "ARRIVAL_INTERVAL_05:00 - 05:30                 1.1852021162187389e-05\n",
      "ARRIVAL_INTERVAL_05:30 - 06:00                 1.1277294071162209e-05\n",
      "ARRIVAL_INTERVAL_06:00 - 06:30                 1.0883589228380573e-05\n",
      "ARRIVAL_INTERVAL_06:30 - 07:00                 1.0791639144071561e-05\n",
      "ARRIVAL_INTERVAL_07:00 - 07:30                 1.0209549460214981e-05\n",
      "ARRIVAL_INTERVAL_07:30 - 08:00                 8.78923730078007e-06\n",
      "ARRIVAL_INTERVAL_08:00 - 08:30                 7.230659887412127e-06\n",
      "ARRIVAL_INTERVAL_08:30 - 09:00                 6.6485036282642455e-06\n",
      "ARRIVAL_INTERVAL_09:00 - 09:30                 6.212882287610704e-06\n",
      "ARRIVAL_INTERVAL_09:30 - 10:00                 6.1782324736494625e-06\n",
      "ARRIVAL_INTERVAL_10:00 - 10:30                 5.768006196133345e-06\n",
      "ARRIVAL_INTERVAL_10:30 - 11:00                 5.634041665478626e-06\n",
      "ARRIVAL_INTERVAL_11:00 - 11:30                 4.887760333828238e-06\n",
      "ARRIVAL_INTERVAL_11:30 - 12:00                 4.592723411049949e-06\n",
      "ARRIVAL_INTERVAL_12:00 - 12:30                 4.516186391845758e-06\n",
      "ARRIVAL_INTERVAL_12:30 - 13:00                 4.180695471916021e-06\n",
      "ARRIVAL_INTERVAL_13:00 - 13:30                 4.119769666917002e-06\n",
      "ARRIVAL_INTERVAL_13:30 - 14:00                 3.9932152238349754e-06\n",
      "ARRIVAL_INTERVAL_14:00 - 14:30                 3.964232590459348e-06\n",
      "ARRIVAL_INTERVAL_14:30 - 15:00                 3.849345114156584e-06\n",
      "ARRIVAL_INTERVAL_15:00 - 15:30                 3.6002296805899787e-06\n",
      "ARRIVAL_INTERVAL_15:30 - 16:00                 3.5695683526401893e-06\n",
      "ARRIVAL_INTERVAL_16:00 - 16:30                 3.5145016065689276e-06\n",
      "ARRIVAL_INTERVAL_16:30 - 17:00                 3.1442557490949143e-06\n",
      "ARRIVAL_INTERVAL_17:00 - 17:30                 3.025830998795052e-06\n",
      "ARRIVAL_INTERVAL_17:30 - 18:00                 2.7592511731268794e-06\n",
      "ARRIVAL_INTERVAL_18:00 - 18:30                 2.5290683749411945e-06\n",
      "ARRIVAL_INTERVAL_18:30 - 19:00                 2.155465770626613e-06\n",
      "ARRIVAL_INTERVAL_19:00 - 19:30                 1.6308038080130623e-06\n",
      "ARRIVAL_INTERVAL_19:30 - 20:00                 1.2875757422742422e-06\n",
      "ARRIVAL_INTERVAL_20:00 - 20:30                 3.5550225253831614e-08\n",
      "ARRIVAL_INTERVAL_20:30 - 21:00                 2.4539648268939228e-08\n",
      "ARRIVAL_INTERVAL_21:00 - 21:30                 0.0\n",
      "ARRIVAL_INTERVAL_21:30 - 22:00                 0.0\n",
      "ARRIVAL_INTERVAL_22:00 - 22:30                 0.0\n",
      "ARRIVAL_INTERVAL_22:30 - 23:00                 0.0\n",
      "ARRIVAL_INTERVAL_23:00 - 23:30                 0.0\n",
      "ARRIVAL_INTERVAL_23:30 - 24:00                 0.0\n",
      "ARRIVAL_INTERVAL_+24:00 - 00:30                0.0\n",
      "ARRIVAL_INTERVAL_+00:30 - 01:00                0.0\n",
      "ARRIVAL_INTERVAL_+01:00 - 01:30                0.0\n",
      "SCHOOL_OFF_1                                   0.0\n",
      "STOP_ID                                        0.0\n"
     ]
    }
   ],
   "source": [
    "rf_feature_importance(X_train, y_train)"
   ]
  }
 ],
 "metadata": {
  "kernelspec": {
   "display_name": "lowscipy_analytics",
   "language": "python",
   "name": "lowscipy_analytics"
  },
  "language_info": {
   "codemirror_mode": {
    "name": "ipython",
    "version": 3
   },
   "file_extension": ".py",
   "mimetype": "text/x-python",
   "name": "python",
   "nbconvert_exporter": "python",
   "pygments_lexer": "ipython3",
   "version": "3.7.3"
  },
  "toc": {
   "base_numbering": 1,
   "nav_menu": {},
   "number_sections": true,
   "sideBar": true,
   "skip_h1_title": false,
   "title_cell": "Table of Contents",
   "title_sidebar": "Contents",
   "toc_cell": true,
   "toc_position": {},
   "toc_section_display": true,
   "toc_window_display": false
  },
  "varInspector": {
   "cols": {
    "lenName": 16,
    "lenType": 16,
    "lenVar": 40
   },
   "kernels_config": {
    "python": {
     "delete_cmd_postfix": "",
     "delete_cmd_prefix": "del ",
     "library": "var_list.py",
     "varRefreshCmd": "print(var_dic_list())"
    },
    "r": {
     "delete_cmd_postfix": ") ",
     "delete_cmd_prefix": "rm(",
     "library": "var_list.r",
     "varRefreshCmd": "cat(var_dic_list()) "
    }
   },
   "types_to_exclude": [
    "module",
    "function",
    "builtin_function_or_method",
    "instance",
    "_Feature"
   ],
   "window_display": false
  }
 },
 "nbformat": 4,
 "nbformat_minor": 2
}
