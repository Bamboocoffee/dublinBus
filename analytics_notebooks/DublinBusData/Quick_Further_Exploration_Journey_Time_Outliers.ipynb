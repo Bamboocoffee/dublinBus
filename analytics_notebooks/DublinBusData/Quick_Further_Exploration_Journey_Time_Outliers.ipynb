{
 "cells": [
  {
   "cell_type": "markdown",
   "metadata": {
    "toc": true
   },
   "source": [
    "<h1>Table of Contents<span class=\"tocSkip\"></span></h1>\n",
    "<div class=\"toc\"><ul class=\"toc-item\"><li><span><a href=\"#IMPORTS\" data-toc-modified-id=\"IMPORTS-1\"><span class=\"toc-item-num\">1&nbsp;&nbsp;</span>IMPORTS</a></span></li><li><span><a href=\"#EXPLORE\" data-toc-modified-id=\"EXPLORE-2\"><span class=\"toc-item-num\">2&nbsp;&nbsp;</span>EXPLORE</a></span></li></ul></div>"
   ]
  },
  {
   "cell_type": "markdown",
   "metadata": {
    "heading_collapsed": true
   },
   "source": [
    "# IMPORTS"
   ]
  },
  {
   "cell_type": "code",
   "execution_count": 1,
   "metadata": {
    "hidden": true
   },
   "outputs": [
    {
     "data": {
      "text/html": [
       "<style>.container {width:90% !important;}</style>"
      ],
      "text/plain": [
       "<IPython.core.display.HTML object>"
      ]
     },
     "metadata": {},
     "output_type": "display_data"
    }
   ],
   "source": [
    "from IPython.core.display import display, HTML\n",
    "display(HTML('<style>.container {width:90% !important;}</style>'))"
   ]
  },
  {
   "cell_type": "code",
   "execution_count": 2,
   "metadata": {
    "hidden": true
   },
   "outputs": [],
   "source": [
    "import pandas as pd\n",
    "import numpy as np\n",
    "import seaborn as sns\n",
    "import matplotlib.pyplot as plt\n",
    "from matplotlib.backends.backend_pdf import PdfPages\n",
    "from scipy import stats"
   ]
  },
  {
   "cell_type": "code",
   "execution_count": 3,
   "metadata": {
    "hidden": true
   },
   "outputs": [],
   "source": [
    "# Display plots in the notebook\n",
    "%matplotlib inline"
   ]
  },
  {
   "cell_type": "code",
   "execution_count": 4,
   "metadata": {
    "hidden": true
   },
   "outputs": [],
   "source": [
    "def assess_df(df):\n",
    "  \n",
    "    # declare the feature types in the dataframe.\n",
    "    # this adds dynamism to the function, whereby it can check\n",
    "    # for constant columns on a dtype-amended or non-amended\n",
    "    # dataframe.\n",
    "    # Applicable for constant column check below\n",
    "\n",
    "    feature_types = {df[df.columns[x]].dtypes.name for x in range(len(df.columns))}\n",
    "    \n",
    "  \t# print datatypes\n",
    "  \n",
    "    print(\"Datatypes:\\n\")\n",
    "    print(df.dtypes)\n",
    "    print('\\n\\n')\n",
    "    \n",
    "    # print number rows and cols\n",
    "    print('*' * 50)\n",
    "    print('ROWS, COLUMNS, NULLS\\n')\n",
    "    print(df.shape[0], \"rows in the dataframe.\")\n",
    "    print(df.shape[1], \"columns in the dataframe.\\n\")\n",
    "    print(df.isnull().sum().sum(), \"null values in the dataframe.\")\n",
    "    \n",
    "    # check duplicate rows & col; print if present\n",
    "    \n",
    "    duplicate_rows = df.duplicated(keep=False).sum()\n",
    "    duplicate_cols = df.index.T.duplicated(keep=False).sum()\n",
    "    \n",
    "    print(duplicate_rows, \"duplicate rows\")\n",
    "    print(duplicate_cols, \"duplicate columns\")\n",
    "    \n",
    "    if duplicate_rows > 0 or duplicate_cols > 0:\n",
    "      print(df.loc[df.duplicated()])\n",
    "\t\n",
    "    print('\\n')\n",
    "    \n",
    "    \n",
    "    # check for constant columns\n",
    "    # form lists of numeric and categorical columns\n",
    "    \n",
    "    numeric_cols = list(df.select_dtypes(include=[np.number]).columns.values)\n",
    "    categorical_cols = list(df.select_dtypes('category').columns.values)\n",
    "    \n",
    "    # generate list of standard deviations for each numeric feature\n",
    "    # a standard deviation of 0 indicates a constant numeric column.\n",
    "    \n",
    "    standard_diffs = [df.describe().loc['std', x] for x in numeric_cols]\n",
    "    \n",
    "    \n",
    "    # for each categorical column, check whether the feature has\n",
    "    # a unique value of 1. if yes, indicates a constant column\n",
    "    \n",
    "    constant_categorical_column=False\n",
    "    if 'category' in feature_types:\n",
    "        for column in categorical_cols:\n",
    "            if df[column].describe().index.unique == 1:\n",
    "                constant_categorical_column = True\n",
    "    \n",
    "    # print the results of checking for constant columns\n",
    "    # for both continuous and categorical features\n",
    "            \n",
    "    if 0 in standard_diffs:\n",
    "        print(\"Constant numeric columns: TRUE\")\n",
    "    else:\n",
    "        print(\"Constant numeric columns: FALSE\")\n",
    "  \n",
    "    if 'category' in feature_types:    \n",
    "        if constant_categorical_column == True:\n",
    "            print(\"Constant categorical columns: TRUE\")\n",
    "        else:\n",
    "            print(\"Constant categorical columns: FALSE\")\n",
    "\n",
    "            \n",
    "    \n",
    "    print('\\n\\n')\n",
    "\n",
    "    \n",
    "    # feature stats\n",
    "    print('*' * 50)\n",
    "    print('DESCRIPTION\\n')\n",
    "    print(df.describe().T)\n",
    "    print('\\n\\n')\n",
    "    print('*' * 50)\n",
    "\n",
    "    \n",
    "    # feature stats: categorical\n",
    "    \n",
    "    if 'category' in feature_types:\n",
    "        print('CATEGORICAL DESCRIPTION\\n')\n",
    "        print('\\n')\n",
    "        print(df.select_dtypes(['category']).describe().T)\n",
    "        print('\\n\\n')\n",
    "        print('*' * 50)\n",
    "    \n",
    "    # print feature cardinalities\n",
    "    \n",
    "    print(\"FEATURE CARDINALITIES\\n\")\n",
    "    column_names = list(df.columns.values)\n",
    "\n",
    "    print('{0:45}  {1}'.format(\"Feature\", \"Distinct Values\"))\n",
    "    print('{0:45}  {1}'.format(\"-------\", \"--------------- \\n\"))\n",
    "\n",
    "    for c in column_names:\n",
    "        print('{0:45}  {1}'.format(c, str(len(df[c].unique()))))\n",
    "    \n",
    "    print('\\n')\n",
    "    print('*' * 50)\n",
    "    print('MEMORY\\n')\n",
    "    \n",
    "    \n",
    "    print(df.info(memory_usage='deep'))\n",
    "    print('\\n')\n",
    "    print(df.memory_usage(deep=True))\n",
    "    print('\\n')\n",
    "    print('*' * 50)\n",
    "    print('HEAD\\n')\n",
    "    print(df.head(10))\n",
    "    print('\\n')\n",
    "    print('*' * 50)\n",
    "    print('TAIL\\n')\n",
    "    print(df.tail(10))"
   ]
  },
  {
   "cell_type": "markdown",
   "metadata": {},
   "source": [
    "# EXPLORE"
   ]
  },
  {
   "cell_type": "code",
   "execution_count": 5,
   "metadata": {},
   "outputs": [],
   "source": [
    "df = pd.read_feather('/tmp/ssh_mount/data/dataframes/230719_trips.feather')"
   ]
  },
  {
   "cell_type": "code",
   "execution_count": 6,
   "metadata": {},
   "outputs": [],
   "source": [
    "df.dropna(axis=0, inplace=True)"
   ]
  },
  {
   "cell_type": "code",
   "execution_count": 7,
   "metadata": {},
   "outputs": [],
   "source": [
    "# remove obvious errors whereby departure time is later than arrival time for a trip\n",
    "\n",
    "df.drop(df[df.ACTUALTIME_DEP > df.ACTUALTIME_ARR].index, inplace=True)"
   ]
  },
  {
   "cell_type": "code",
   "execution_count": 8,
   "metadata": {},
   "outputs": [
    {
     "data": {
      "text/plain": [
       "(1893264, 13)"
      ]
     },
     "execution_count": 8,
     "metadata": {},
     "output_type": "execute_result"
    }
   ],
   "source": [
    "df.shape"
   ]
  },
  {
   "cell_type": "code",
   "execution_count": 9,
   "metadata": {},
   "outputs": [],
   "source": [
    "# remove low range outliers, based on trip duration\n",
    "# (trips under 45min)\n",
    "\n",
    "df.drop(df[df.ACTUAL_TRIP_DURATION < 2750].index, inplace=True)"
   ]
  },
  {
   "cell_type": "code",
   "execution_count": 10,
   "metadata": {},
   "outputs": [
    {
     "data": {
      "text/plain": [
       "(1442964, 13)"
      ]
     },
     "execution_count": 10,
     "metadata": {},
     "output_type": "execute_result"
    }
   ],
   "source": [
    "df.shape"
   ]
  },
  {
   "cell_type": "code",
   "execution_count": 10,
   "metadata": {},
   "outputs": [
    {
     "data": {
      "text/html": [
       "<div>\n",
       "<style scoped>\n",
       "    .dataframe tbody tr th:only-of-type {\n",
       "        vertical-align: middle;\n",
       "    }\n",
       "\n",
       "    .dataframe tbody tr th {\n",
       "        vertical-align: top;\n",
       "    }\n",
       "\n",
       "    .dataframe thead th {\n",
       "        text-align: right;\n",
       "    }\n",
       "</style>\n",
       "<table border=\"1\" class=\"dataframe\">\n",
       "  <thead>\n",
       "    <tr style=\"text-align: right;\">\n",
       "      <th></th>\n",
       "      <th>DAYOFSERVICE</th>\n",
       "      <th>TRIPID</th>\n",
       "      <th>LINEID</th>\n",
       "      <th>ROUTEID</th>\n",
       "      <th>DIRECTION</th>\n",
       "      <th>PLANNEDTIME_ARR</th>\n",
       "      <th>PLANNEDTIME_DEP</th>\n",
       "      <th>ACTUALTIME_ARR</th>\n",
       "      <th>ACTUALTIME_DEP</th>\n",
       "      <th>ACTUAL_TRIP_DURATION</th>\n",
       "      <th>DAYOFWEEK</th>\n",
       "      <th>MONTH</th>\n",
       "      <th>HOURRANGE_DEPARTURE</th>\n",
       "    </tr>\n",
       "  </thead>\n",
       "  <tbody>\n",
       "    <tr>\n",
       "      <th>0</th>\n",
       "      <td>2018-02-07</td>\n",
       "      <td>6253783</td>\n",
       "      <td>68</td>\n",
       "      <td>68_80</td>\n",
       "      <td>1</td>\n",
       "      <td>87245</td>\n",
       "      <td>84600</td>\n",
       "      <td>87524.0</td>\n",
       "      <td>84600.0</td>\n",
       "      <td>2924.0</td>\n",
       "      <td>2</td>\n",
       "      <td>2</td>\n",
       "      <td>23:00-00:00</td>\n",
       "    </tr>\n",
       "    <tr>\n",
       "      <th>2</th>\n",
       "      <td>2018-02-07</td>\n",
       "      <td>6254942</td>\n",
       "      <td>45A</td>\n",
       "      <td>45A_70</td>\n",
       "      <td>2</td>\n",
       "      <td>35512</td>\n",
       "      <td>32100</td>\n",
       "      <td>36329.0</td>\n",
       "      <td>32082.0</td>\n",
       "      <td>4247.0</td>\n",
       "      <td>2</td>\n",
       "      <td>2</td>\n",
       "      <td>08:00-09:00</td>\n",
       "    </tr>\n",
       "    <tr>\n",
       "      <th>3</th>\n",
       "      <td>2018-02-07</td>\n",
       "      <td>6259460</td>\n",
       "      <td>25A</td>\n",
       "      <td>25A_273</td>\n",
       "      <td>1</td>\n",
       "      <td>57261</td>\n",
       "      <td>54420</td>\n",
       "      <td>58463.0</td>\n",
       "      <td>54443.0</td>\n",
       "      <td>4020.0</td>\n",
       "      <td>2</td>\n",
       "      <td>2</td>\n",
       "      <td>15:00-16:00</td>\n",
       "    </tr>\n",
       "    <tr>\n",
       "      <th>4</th>\n",
       "      <td>2018-02-07</td>\n",
       "      <td>6253175</td>\n",
       "      <td>14</td>\n",
       "      <td>14_15</td>\n",
       "      <td>1</td>\n",
       "      <td>85383</td>\n",
       "      <td>81600</td>\n",
       "      <td>84682.0</td>\n",
       "      <td>81608.0</td>\n",
       "      <td>3074.0</td>\n",
       "      <td>2</td>\n",
       "      <td>2</td>\n",
       "      <td>22:00-23:00</td>\n",
       "    </tr>\n",
       "    <tr>\n",
       "      <th>5</th>\n",
       "      <td>2018-02-07</td>\n",
       "      <td>6248240</td>\n",
       "      <td>77A</td>\n",
       "      <td>77A_28</td>\n",
       "      <td>2</td>\n",
       "      <td>41648</td>\n",
       "      <td>37200</td>\n",
       "      <td>42019.0</td>\n",
       "      <td>37538.0</td>\n",
       "      <td>4481.0</td>\n",
       "      <td>2</td>\n",
       "      <td>2</td>\n",
       "      <td>10:00-11:00</td>\n",
       "    </tr>\n",
       "  </tbody>\n",
       "</table>\n",
       "</div>"
      ],
      "text/plain": [
       "  DAYOFSERVICE   TRIPID LINEID  ROUTEID DIRECTION  PLANNEDTIME_ARR  \\\n",
       "0   2018-02-07  6253783     68    68_80         1            87245   \n",
       "2   2018-02-07  6254942    45A   45A_70         2            35512   \n",
       "3   2018-02-07  6259460    25A  25A_273         1            57261   \n",
       "4   2018-02-07  6253175     14    14_15         1            85383   \n",
       "5   2018-02-07  6248240    77A   77A_28         2            41648   \n",
       "\n",
       "   PLANNEDTIME_DEP  ACTUALTIME_ARR  ACTUALTIME_DEP  ACTUAL_TRIP_DURATION  \\\n",
       "0            84600         87524.0         84600.0                2924.0   \n",
       "2            32100         36329.0         32082.0                4247.0   \n",
       "3            54420         58463.0         54443.0                4020.0   \n",
       "4            81600         84682.0         81608.0                3074.0   \n",
       "5            37200         42019.0         37538.0                4481.0   \n",
       "\n",
       "   DAYOFWEEK  MONTH HOURRANGE_DEPARTURE  \n",
       "0          2      2         23:00-00:00  \n",
       "2          2      2         08:00-09:00  \n",
       "3          2      2         15:00-16:00  \n",
       "4          2      2         22:00-23:00  \n",
       "5          2      2         10:00-11:00  "
      ]
     },
     "execution_count": 10,
     "metadata": {},
     "output_type": "execute_result"
    }
   ],
   "source": [
    "df.head()"
   ]
  },
  {
   "cell_type": "code",
   "execution_count": 11,
   "metadata": {},
   "outputs": [
    {
     "data": {
      "text/plain": [
       "<matplotlib.axes._subplots.AxesSubplot at 0x123d46940>"
      ]
     },
     "execution_count": 11,
     "metadata": {},
     "output_type": "execute_result"
    },
    {
     "data": {
      "image/png": "[encoded data removed]",
      "text/plain": [
       "<Figure size 720x720 with 1 Axes>"
      ]
     },
     "metadata": {
      "needs_background": "light"
     },
     "output_type": "display_data"
    }
   ],
   "source": [
    "# hist plot trip durations\n",
    "\n",
    "df.ACTUAL_TRIP_DURATION.plot(kind='hist', figsize=(10,10), bins=50)"
   ]
  },
  {
   "cell_type": "code",
   "execution_count": 12,
   "metadata": {},
   "outputs": [
    {
     "data": {
      "text/plain": [
       "<matplotlib.axes._subplots.AxesSubplot at 0x12b883828>"
      ]
     },
     "execution_count": 12,
     "metadata": {},
     "output_type": "execute_result"
    },
    {
     "data": {
      "image/png": "[encoded data removed]",
      "text/plain": [
       "<Figure size 720x720 with 1 Axes>"
      ]
     },
     "metadata": {
      "needs_background": "light"
     },
     "output_type": "display_data"
    }
   ],
   "source": [
    "# box plot journey durations\n",
    "\n",
    "df.ACTUAL_TRIP_DURATION.plot(kind='box', figsize=(10,10))"
   ]
  },
  {
   "cell_type": "markdown",
   "metadata": {},
   "source": [
    "<br>\n",
    "\n",
    "Z-Scores for Outlier Detection\n",
    "\n",
    "<br>"
   ]
  },
  {
   "cell_type": "code",
   "execution_count": 19,
   "metadata": {},
   "outputs": [],
   "source": [
    "# check zscores for route 14\n",
    "\n",
    "zscore_14 = np.abs(stats.zscore(df.loc[df.LINEID == '14','ACTUAL_TRIP_DURATION']))"
   ]
  },
  {
   "cell_type": "code",
   "execution_count": 20,
   "metadata": {},
   "outputs": [
    {
     "data": {
      "text/plain": [
       "array([2.1842437 , 0.08045119, 1.5824031 , ..., 0.14878766, 0.8330996 ,\n",
       "       1.4601167 ], dtype=float32)"
      ]
     },
     "execution_count": 20,
     "metadata": {},
     "output_type": "execute_result"
    }
   ],
   "source": [
    "zscore_14"
   ]
  },
  {
   "cell_type": "code",
   "execution_count": 43,
   "metadata": {},
   "outputs": [
    {
     "data": {
      "text/plain": [
       "240"
      ]
     },
     "execution_count": 43,
     "metadata": {},
     "output_type": "execute_result"
    }
   ],
   "source": [
    "# inspect zscore outliers for route 14\n",
    "# returns row numbers\n",
    "\n",
    "outliers = np.where(zscore_14 > 3)\n",
    "\n",
    "len(outliers[0])"
   ]
  },
  {
   "cell_type": "code",
   "execution_count": 29,
   "metadata": {},
   "outputs": [
    {
     "data": {
      "text/plain": [
       "<matplotlib.axes._subplots.AxesSubplot at 0x12ca4a4a8>"
      ]
     },
     "execution_count": 29,
     "metadata": {},
     "output_type": "execute_result"
    },
    {
     "data": {
      "image/png": "[encoded data removed]",
      "text/plain": [
       "<Figure size 864x864 with 1 Axes>"
      ]
     },
     "metadata": {
      "needs_background": "light"
     },
     "output_type": "display_data"
    }
   ],
   "source": [
    "plt.xticks(np.arange(min(df.ACTUAL_TRIP_DURATION), max(df.ACTUAL_TRIP_DURATION)+1, 1000))\n",
    "df.loc[df.LINEID == '14', 'ACTUAL_TRIP_DURATION'].plot(kind='hist', figsize=(12,12), bins=50)"
   ]
  },
  {
   "cell_type": "code",
   "execution_count": 30,
   "metadata": {},
   "outputs": [
    {
     "data": {
      "text/plain": [
       "<matplotlib.axes._subplots.AxesSubplot at 0x12f424518>"
      ]
     },
     "execution_count": 30,
     "metadata": {},
     "output_type": "execute_result"
    },
    {
     "data": {
      "image/png": "[encoded data removed]",
      "text/plain": [
       "<Figure size 720x720 with 1 Axes>"
      ]
     },
     "metadata": {
      "needs_background": "light"
     },
     "output_type": "display_data"
    }
   ],
   "source": [
    "plt.yticks(np.arange(min(df.ACTUAL_TRIP_DURATION), max(df.ACTUAL_TRIP_DURATION)+1, 1000))\n",
    "df.loc[df.LINEID == '14']['ACTUAL_TRIP_DURATION'].plot(kind='box', figsize=(10,10))"
   ]
  },
  {
   "cell_type": "code",
   "execution_count": 50,
   "metadata": {},
   "outputs": [
    {
     "data": {
      "text/plain": [
       "240"
      ]
     },
     "execution_count": 50,
     "metadata": {},
     "output_type": "execute_result"
    }
   ],
   "source": [
    "outliers = np.where(zscore_14 > 3)\n",
    "\n",
    "len(outliers[0])"
   ]
  },
  {
   "cell_type": "code",
   "execution_count": 60,
   "metadata": {},
   "outputs": [
    {
     "data": {
      "text/plain": [
       "33543"
      ]
     },
     "execution_count": 60,
     "metadata": {},
     "output_type": "execute_result"
    }
   ],
   "source": [
    "outliers[0][-1]"
   ]
  },
  {
   "cell_type": "code",
   "execution_count": 63,
   "metadata": {},
   "outputs": [
    {
     "data": {
      "text/plain": [
       "4248.0"
      ]
     },
     "execution_count": 63,
     "metadata": {},
     "output_type": "execute_result"
    }
   ],
   "source": [
    "df.iloc[33543, 9]"
   ]
  },
  {
   "cell_type": "code",
   "execution_count": 59,
   "metadata": {},
   "outputs": [
    {
     "data": {
      "text/plain": [
       "<matplotlib.axes._subplots.AxesSubplot at 0x130f66b70>"
      ]
     },
     "execution_count": 59,
     "metadata": {},
     "output_type": "execute_result"
    },
    {
     "data": {
      "image/png": "[encoded data removed]",
      "text/plain": [
       "<Figure size 720x720 with 1 Axes>"
      ]
     },
     "metadata": {
      "needs_background": "light"
     },
     "output_type": "display_data"
    }
   ],
   "source": [
    "plt.xticks(np.arange(min(df.ACTUAL_TRIP_DURATION), max(df.ACTUAL_TRIP_DURATION)+1, 500))\n",
    "df.iloc[outliers[0]]['ACTUAL_TRIP_DURATION'].plot(kind='hist', figsize=(10,10), bins=50)"
   ]
  },
  {
   "cell_type": "markdown",
   "metadata": {},
   "source": [
    "<br>\n",
    "\n",
    "Checking Max and Median Journey Time for Each Route\n",
    "\n",
    "<br>"
   ]
  },
  {
   "cell_type": "code",
   "execution_count": 75,
   "metadata": {},
   "outputs": [
    {
     "name": "stdout",
     "output_type": "stream",
     "text": [
      "68 MEDIAN:  4121.0\n",
      "68 MAX : 10100.0\n",
      "68 NUM OUTLIERS:  33\n",
      "\n",
      "\n",
      "45A MEDIAN:  3684.0\n",
      "45A MAX : 6952.0\n",
      "45A NUM OUTLIERS:  24\n",
      "\n",
      "\n",
      "25A MEDIAN:  3454.0\n",
      "25A MAX : 12041.0\n",
      "25A NUM OUTLIERS:  180\n",
      "\n",
      "\n",
      "14 MEDIAN:  4841.0\n",
      "14 MAX : 13215.0\n",
      "14 NUM OUTLIERS:  126\n",
      "\n",
      "\n",
      "77A MEDIAN:  4774.0\n",
      "77A MAX : 14153.0\n",
      "77A NUM OUTLIERS:  56\n",
      "\n",
      "\n",
      "39 MEDIAN:  5078.0\n",
      "39 MAX : 12815.0\n",
      "39 NUM OUTLIERS:  44\n",
      "\n",
      "\n",
      "16 MEDIAN:  5558.0\n",
      "16 MAX : 12888.0\n",
      "16 NUM OUTLIERS:  35\n",
      "\n",
      "\n",
      "40D MEDIAN:  3127.0\n",
      "40D MAX : 10651.0\n",
      "40D NUM OUTLIERS:  85\n",
      "\n",
      "\n",
      "27B MEDIAN:  3159.0\n",
      "27B MAX : 6543.0\n",
      "27B NUM OUTLIERS:  114\n",
      "\n",
      "\n",
      "83 MEDIAN:  4747.0\n",
      "83 MAX : 11430.0\n",
      "83 NUM OUTLIERS:  38\n",
      "\n",
      "\n",
      "15 MEDIAN:  5400.0\n",
      "15 MAX : 12957.0\n",
      "15 NUM OUTLIERS:  28\n",
      "\n",
      "\n",
      "46A MEDIAN:  4489.0\n",
      "46A MAX : 14325.0\n",
      "46A NUM OUTLIERS:  53\n",
      "\n",
      "\n",
      "33 MEDIAN:  5527.0\n",
      "33 MAX : 11737.0\n",
      "33 NUM OUTLIERS:  88\n",
      "\n",
      "\n",
      "7 MEDIAN:  4483.0\n",
      "7 MAX : 11861.0\n",
      "7 NUM OUTLIERS:  71\n",
      "\n",
      "\n",
      "39A MEDIAN:  5216.0\n",
      "39A MAX : 10935.0\n",
      "39A NUM OUTLIERS:  116\n",
      "\n",
      "\n",
      "1 MEDIAN:  3266.0\n",
      "1 MAX : 23458.0\n",
      "1 NUM OUTLIERS:  135\n",
      "\n",
      "\n",
      "41 MEDIAN:  3685.0\n",
      "41 MAX : 13579.0\n",
      "41 NUM OUTLIERS:  66\n",
      "\n",
      "\n",
      "67X MEDIAN:  5540.5\n",
      "67X MAX : 9957.0\n",
      "67X NUM OUTLIERS:  2\n",
      "\n",
      "\n",
      "9 MEDIAN:  4744.0\n",
      "9 MAX : 16083.0\n",
      "9 NUM OUTLIERS:  46\n",
      "\n",
      "\n",
      "40 MEDIAN:  5683.0\n",
      "40 MAX : 14277.0\n",
      "40 NUM OUTLIERS:  100\n",
      "\n",
      "\n",
      "239 MEDIAN:  3572.0\n",
      "239 MAX : 6659.0\n",
      "239 NUM OUTLIERS:  31\n",
      "\n",
      "\n",
      "84 MEDIAN:  5062.0\n",
      "84 MAX : 10226.0\n",
      "84 NUM OUTLIERS:  43\n",
      "\n",
      "\n",
      "151 MEDIAN:  3824.0\n",
      "151 MAX : 10201.0\n",
      "151 NUM OUTLIERS:  76\n",
      "\n",
      "\n",
      "13 MEDIAN:  6232.0\n",
      "13 MAX : 13978.0\n",
      "13 NUM OUTLIERS:  95\n",
      "\n",
      "\n",
      "15B MEDIAN:  3532.0\n",
      "15B MAX : 9600.0\n",
      "15B NUM OUTLIERS:  192\n",
      "\n",
      "\n",
      "65B MEDIAN:  3886.0\n",
      "65B MAX : 10385.0\n",
      "65B NUM OUTLIERS:  138\n",
      "\n",
      "\n",
      "61 MEDIAN:  3207.0\n",
      "61 MAX : 11008.0\n",
      "61 NUM OUTLIERS:  64\n",
      "\n",
      "\n",
      "140 MEDIAN:  3676.0\n",
      "140 MAX : 13861.0\n",
      "140 NUM OUTLIERS:  82\n",
      "\n",
      "\n",
      "38A MEDIAN:  4206.0\n",
      "38A MAX : 9189.0\n",
      "38A NUM OUTLIERS:  30\n",
      "\n",
      "\n",
      "69 MEDIAN:  3862.0\n",
      "69 MAX : 12122.0\n",
      "69 NUM OUTLIERS:  52\n",
      "\n",
      "\n",
      "42 MEDIAN:  3372.0\n",
      "42 MAX : 9326.0\n",
      "42 NUM OUTLIERS:  79\n",
      "\n",
      "\n",
      "44 MEDIAN:  5504.0\n",
      "44 MAX : 10267.0\n",
      "44 NUM OUTLIERS:  16\n",
      "\n",
      "\n",
      "67 MEDIAN:  4292.0\n",
      "67 MAX : 12507.0\n",
      "67 NUM OUTLIERS:  63\n",
      "\n",
      "\n",
      "123 MEDIAN:  3641.0\n",
      "123 MAX : 8675.0\n",
      "123 NUM OUTLIERS:  128\n",
      "\n",
      "\n",
      "145 MEDIAN:  5250.0\n",
      "145 MAX : 16040.0\n",
      "145 NUM OUTLIERS:  41\n",
      "\n",
      "\n",
      "17A MEDIAN:  4173.0\n",
      "17A MAX : 7647.0\n",
      "17A NUM OUTLIERS:  25\n",
      "\n",
      "\n",
      "32 MEDIAN:  3121.0\n",
      "32 MAX : 5815.0\n",
      "32 NUM OUTLIERS:  34\n",
      "\n",
      "\n",
      "17 MEDIAN:  3904.0\n",
      "17 MAX : 7970.0\n",
      "17 NUM OUTLIERS:  84\n",
      "\n",
      "\n",
      "27X MEDIAN:  4308.0\n",
      "27X MAX : 7059.0\n",
      "27X NUM OUTLIERS:  3\n",
      "\n",
      "\n",
      "122 MEDIAN:  3990.0\n",
      "122 MAX : 10415.0\n",
      "122 NUM OUTLIERS:  69\n",
      "\n",
      "\n",
      "54A MEDIAN:  3602.0\n",
      "54A MAX : 9464.0\n",
      "54A NUM OUTLIERS:  110\n",
      "\n",
      "\n",
      "66 MEDIAN:  4170.0\n",
      "66 MAX : 9416.0\n",
      "66 NUM OUTLIERS:  57\n",
      "\n",
      "\n",
      "56A MEDIAN:  3572.0\n",
      "56A MAX : 9444.0\n",
      "56A NUM OUTLIERS:  29\n",
      "\n",
      "\n",
      "37 MEDIAN:  4056.0\n",
      "37 MAX : 16011.0\n",
      "37 NUM OUTLIERS:  75\n",
      "\n",
      "\n",
      "27 MEDIAN:  6177.0\n",
      "27 MAX : 13502.0\n",
      "27 NUM OUTLIERS:  22\n",
      "\n",
      "\n",
      "15A MEDIAN:  3175.0\n",
      "15A MAX : 6873.0\n",
      "15A NUM OUTLIERS:  145\n",
      "\n",
      "\n",
      "65 MEDIAN:  4730.5\n",
      "65 MAX : 10792.0\n",
      "65 NUM OUTLIERS:  6\n",
      "\n",
      "\n",
      "29A MEDIAN:  3004.0\n",
      "29A MAX : 9073.0\n",
      "29A NUM OUTLIERS:  46\n",
      "\n",
      "\n",
      "76 MEDIAN:  3227.0\n",
      "76 MAX : 10955.0\n",
      "76 NUM OUTLIERS:  81\n",
      "\n",
      "\n",
      "79A MEDIAN:  3012.0\n",
      "79A MAX : 7893.0\n",
      "79A NUM OUTLIERS:  34\n",
      "\n",
      "\n",
      "83A MEDIAN:  4449.0\n",
      "83A MAX : 9662.0\n",
      "83A NUM OUTLIERS:  28\n",
      "\n",
      "\n",
      "4 MEDIAN:  4479.0\n",
      "4 MAX : 10253.0\n",
      "4 NUM OUTLIERS:  53\n",
      "\n",
      "\n",
      "41C MEDIAN:  3780.0\n",
      "41C MAX : 10319.0\n",
      "41C NUM OUTLIERS:  59\n",
      "\n",
      "\n",
      "70 MEDIAN:  4193.0\n",
      "70 MAX : 9864.0\n",
      "70 NUM OUTLIERS:  24\n",
      "\n",
      "\n",
      "220 MEDIAN:  4608.5\n",
      "220 MAX : 10881.0\n",
      "220 NUM OUTLIERS:  14\n",
      "\n",
      "\n",
      "32X MEDIAN:  5464.0\n",
      "32X MAX : 7931.0\n",
      "32X NUM OUTLIERS:  4\n",
      "\n",
      "\n",
      "84X MEDIAN:  5195.0\n",
      "84X MAX : 10569.0\n",
      "84X NUM OUTLIERS:  7\n",
      "\n",
      "\n",
      "38 MEDIAN:  4545.0\n",
      "38 MAX : 17375.0\n",
      "38 NUM OUTLIERS:  21\n",
      "\n",
      "\n",
      "102 MEDIAN:  3526.0\n",
      "102 MAX : 8493.0\n",
      "102 NUM OUTLIERS:  64\n",
      "\n",
      "\n",
      "51X MEDIAN:  5220.5\n",
      "51X MAX : 6627.0\n",
      "51X NUM OUTLIERS:  0\n",
      "\n",
      "\n",
      "150 MEDIAN:  2966.0\n",
      "150 MAX : 8660.0\n",
      "150 NUM OUTLIERS:  65\n",
      "\n",
      "\n",
      "27A MEDIAN:  2931.0\n",
      "27A MAX : 11321.0\n",
      "27A NUM OUTLIERS:  5\n",
      "\n",
      "\n",
      "33X MEDIAN:  4705.5\n",
      "33X MAX : 10488.0\n",
      "33X NUM OUTLIERS:  18\n",
      "\n",
      "\n",
      "75 MEDIAN:  4675.0\n",
      "75 MAX : 12552.0\n",
      "75 NUM OUTLIERS:  32\n",
      "\n",
      "\n",
      "26 MEDIAN:  3005.0\n",
      "26 MAX : 6068.0\n",
      "26 NUM OUTLIERS:  22\n",
      "\n",
      "\n",
      "66A MEDIAN:  3315.0\n",
      "66A MAX : 16871.0\n",
      "66A NUM OUTLIERS:  47\n",
      "\n",
      "\n",
      "31A MEDIAN:  3344.0\n",
      "31A MAX : 6379.0\n",
      "31A NUM OUTLIERS:  75\n",
      "\n",
      "\n",
      "49 MEDIAN:  3572.0\n",
      "49 MAX : 8865.0\n",
      "49 NUM OUTLIERS:  111\n",
      "\n",
      "\n",
      "111 MEDIAN:  3218.0\n",
      "111 MAX : 10783.0\n",
      "111 NUM OUTLIERS:  11\n",
      "\n",
      "\n",
      "18 MEDIAN:  3996.0\n",
      "18 MAX : 16262.0\n",
      "18 NUM OUTLIERS:  69\n",
      "\n",
      "\n",
      "11 MEDIAN:  4801.0\n",
      "11 MAX : 11463.0\n",
      "11 NUM OUTLIERS:  10\n",
      "\n",
      "\n",
      "76A MEDIAN:  4700.0\n",
      "76A MAX : 7800.0\n",
      "76A NUM OUTLIERS:  1\n",
      "\n",
      "\n",
      "79 MEDIAN:  2991.5\n",
      "79 MAX : 7557.0\n",
      "79 NUM OUTLIERS:  51\n",
      "\n",
      "\n",
      "7A MEDIAN:  4518.0\n",
      "7A MAX : 10271.0\n",
      "7A NUM OUTLIERS:  16\n",
      "\n",
      "\n",
      "42D MEDIAN:  3069.0\n",
      "42D MAX : 5785.0\n",
      "42D NUM OUTLIERS:  3\n",
      "\n",
      "\n",
      "66X MEDIAN:  5226.0\n",
      "66X MAX : 9033.0\n",
      "66X NUM OUTLIERS:  6\n",
      "\n",
      "\n",
      "31D MEDIAN:  2983.5\n",
      "31D MAX : 4099.0\n",
      "31D NUM OUTLIERS:  0\n",
      "\n",
      "\n",
      "25 MEDIAN:  3124.0\n",
      "25 MAX : 8411.0\n",
      "25 NUM OUTLIERS:  54\n",
      "\n",
      "\n",
      "33D MEDIAN:  3312.5\n",
      "33D MAX : 4821.0\n",
      "33D NUM OUTLIERS:  0\n",
      "\n",
      "\n",
      "43 MEDIAN:  3275.0\n",
      "43 MAX : 6239.0\n",
      "43 NUM OUTLIERS:  74\n",
      "\n",
      "\n",
      "39X MEDIAN:  4396.0\n",
      "39X MAX : 9681.0\n",
      "39X NUM OUTLIERS:  6\n",
      "\n",
      "\n",
      "120 MEDIAN:  3515.0\n",
      "120 MAX : 6689.0\n",
      "120 NUM OUTLIERS:  8\n",
      "\n",
      "\n",
      "31 MEDIAN:  3048.5\n",
      "31 MAX : 6253.0\n",
      "31 NUM OUTLIERS:  73\n",
      "\n",
      "\n",
      "184 MEDIAN:  3094.0\n",
      "184 MAX : 10278.0\n",
      "184 NUM OUTLIERS:  75\n",
      "\n",
      "\n",
      "41B MEDIAN:  3403.0\n",
      "41B MAX : 6825.0\n",
      "41B NUM OUTLIERS:  5\n",
      "\n",
      "\n",
      "25B MEDIAN:  3557.0\n",
      "25B MAX : 9224.0\n",
      "25B NUM OUTLIERS:  176\n",
      "\n",
      "\n",
      "63 MEDIAN:  3266.0\n",
      "63 MAX : 9768.0\n",
      "63 NUM OUTLIERS:  34\n",
      "\n",
      "\n",
      "7D MEDIAN:  4354.0\n",
      "7D MAX : 5916.0\n",
      "7D NUM OUTLIERS:  0\n",
      "\n",
      "\n",
      "46E MEDIAN:  3930.0\n",
      "46E MAX : 6170.0\n",
      "46E NUM OUTLIERS:  1\n",
      "\n",
      "\n",
      "47 MEDIAN:  3645.5\n",
      "47 MAX : 10014.0\n",
      "47 NUM OUTLIERS:  30\n",
      "\n",
      "\n",
      "142 MEDIAN:  5852.5\n",
      "142 MAX : 9159.0\n",
      "142 NUM OUTLIERS:  11\n",
      "\n",
      "\n",
      "118 MEDIAN:  4163.0\n",
      "118 MAX : 5660.0\n",
      "118 NUM OUTLIERS:  0\n",
      "\n",
      "\n",
      "31B MEDIAN:  3490.5\n",
      "31B MAX : 5837.0\n",
      "31B NUM OUTLIERS:  5\n",
      "\n",
      "\n",
      "51D MEDIAN:  4675.5\n",
      "51D MAX : 9171.0\n",
      "51D NUM OUTLIERS:  3\n",
      "\n",
      "\n",
      "15D MEDIAN:  3718.0\n",
      "15D MAX : 6312.0\n",
      "15D NUM OUTLIERS:  0\n",
      "\n",
      "\n",
      "41A MEDIAN:  3902.0\n",
      "41A MAX : 7051.0\n",
      "41A NUM OUTLIERS:  0\n",
      "\n",
      "\n",
      "25D MEDIAN:  3504.0\n",
      "25D MAX : 6962.0\n",
      "25D NUM OUTLIERS:  8\n",
      "\n",
      "\n",
      "38D MEDIAN:  3417.0\n",
      "38D MAX : 4836.0\n",
      "38D NUM OUTLIERS:  1\n",
      "\n",
      "\n",
      "104 MEDIAN:  3146.0\n",
      "104 MAX : 5286.0\n",
      "104 NUM OUTLIERS:  9\n",
      "\n",
      "\n",
      "84A MEDIAN:  3145.0\n",
      "84A MAX : 8830.0\n",
      "84A NUM OUTLIERS:  21\n",
      "\n",
      "\n",
      "40B MEDIAN:  3035.0\n",
      "40B MAX : 6216.0\n",
      "40B NUM OUTLIERS:  17\n",
      "\n",
      "\n",
      "66B MEDIAN:  3565.0\n",
      "66B MAX : 9814.0\n",
      "66B NUM OUTLIERS:  18\n",
      "\n",
      "\n",
      "114 MEDIAN:  2977.5\n",
      "114 MAX : 8273.0\n",
      "114 NUM OUTLIERS:  3\n",
      "\n",
      "\n",
      "38B MEDIAN:  4331.0\n",
      "38B MAX : 7379.0\n",
      "38B NUM OUTLIERS:  1\n",
      "\n",
      "\n",
      "7B MEDIAN:  4919.0\n",
      "7B MAX : 10180.0\n",
      "7B NUM OUTLIERS:  6\n",
      "\n",
      "\n",
      "33A MEDIAN:  3370.0\n",
      "33A MAX : 5880.0\n",
      "33A NUM OUTLIERS:  8\n",
      "\n",
      "\n",
      "53 MEDIAN:  3548.0\n",
      "53 MAX : 7051.0\n",
      "53 NUM OUTLIERS:  5\n",
      "\n",
      "\n",
      "41X MEDIAN:  4917.0\n",
      "41X MAX : 8521.0\n",
      "41X NUM OUTLIERS:  7\n",
      "\n",
      "\n",
      "130 MEDIAN:  2874.0\n",
      "130 MAX : 11027.0\n",
      "130 NUM OUTLIERS:  3\n",
      "\n",
      "\n",
      "33B MEDIAN:  2888.0\n",
      "33B MAX : 9748.0\n",
      "33B NUM OUTLIERS:  14\n",
      "\n",
      "\n",
      "70D MEDIAN:  3827.5\n",
      "70D MAX : 6132.0\n",
      "70D NUM OUTLIERS:  2\n",
      "\n",
      "\n",
      "69X MEDIAN:  3483.0\n",
      "69X MAX : 5129.0\n",
      "69X NUM OUTLIERS:  2\n",
      "\n",
      "\n",
      "77X MEDIAN:  5839.0\n",
      "77X MAX : 7590.0\n",
      "77X NUM OUTLIERS:  1\n",
      "\n",
      "\n",
      "25X MEDIAN:  4642.0\n",
      "25X MAX : 8082.0\n",
      "25X NUM OUTLIERS:  6\n",
      "\n",
      "\n",
      "68X MEDIAN:  3892.0\n",
      "68X MAX : 5420.0\n",
      "68X NUM OUTLIERS:  0\n",
      "\n",
      "\n",
      "238 MEDIAN:  3041.0\n",
      "238 MAX : 7816.0\n",
      "238 NUM OUTLIERS:  1\n",
      "\n",
      "\n",
      "185 MEDIAN:  4429.0\n",
      "185 MAX : 8947.0\n",
      "185 NUM OUTLIERS:  1\n",
      "\n",
      "\n",
      "116 MEDIAN:  4623.0\n",
      "116 MAX : 7599.0\n",
      "116 NUM OUTLIERS:  0\n",
      "\n",
      "\n",
      "236 MEDIAN:  2986.5\n",
      "236 MAX : 4426.0\n",
      "236 NUM OUTLIERS:  0\n",
      "\n",
      "\n",
      "44B MEDIAN:  3034.0\n",
      "44B MAX : 5444.0\n",
      "44B NUM OUTLIERS:  1\n",
      "\n",
      "\n",
      "270 MEDIAN:  4530.0\n",
      "270 MAX : 9007.0\n",
      "270 NUM OUTLIERS:  0\n",
      "\n",
      "\n",
      "68A MEDIAN:  3016.0\n",
      "68A MAX : 4825.0\n",
      "68A NUM OUTLIERS:  1\n",
      "\n",
      "\n",
      "59 MEDIAN:  4292.5\n",
      "59 MAX : 8546.0\n",
      "59 NUM OUTLIERS:  0\n",
      "\n",
      "\n",
      "14C MEDIAN:  2958.0\n",
      "14C MAX : 3593.0\n",
      "14C NUM OUTLIERS:  0\n",
      "\n",
      "\n",
      "40E MEDIAN:  3008.0\n",
      "40E MAX : 3828.0\n",
      "40E NUM OUTLIERS:  0\n",
      "\n",
      "\n",
      "16D MEDIAN:  5722.0\n",
      "16D MAX : 7659.0\n",
      "16D NUM OUTLIERS:  0\n",
      "\n",
      "\n",
      "33E MEDIAN:  6579.5\n",
      "33E MAX : 6950.0\n",
      "33E NUM OUTLIERS:  0\n",
      "\n",
      "\n",
      "16C MEDIAN:  2928.0\n",
      "16C MAX : 5810.0\n",
      "16C NUM OUTLIERS:  0\n",
      "\n",
      "\n",
      "41D MEDIAN:  3230.0\n",
      "41D MAX : 4846.0\n",
      "41D NUM OUTLIERS:  0\n",
      "\n",
      "\n"
     ]
    }
   ],
   "source": [
    "lines = df.LINEID.unique().tolist()\n",
    "\n",
    "for line in lines:\n",
    "    zscore = np.abs(stats.zscore(df.loc[df.LINEID == line,'ACTUAL_TRIP_DURATION']))\n",
    "    outliers = np.where(zscore > 3.5)\n",
    "    num_outliers = len(outliers[0])\n",
    "#     num_rows = len(df.loc[df.LINEID == line])\n",
    "    \n",
    "    \n",
    "    print(line, \"MEDIAN: \", df.loc[df.LINEID == line, 'ACTUAL_TRIP_DURATION'].median())\n",
    "    print(line, \"MAX :\", df.loc[df.LINEID == line, 'ACTUAL_TRIP_DURATION'].max())\n",
    "    print(line, \"NUM OUTLIERS: \", num_outliers)\n",
    "    print(\"\\n\")"
   ]
  },
  {
   "cell_type": "code",
   "execution_count": null,
   "metadata": {},
   "outputs": [],
   "source": []
  }
 ],
 "metadata": {
  "kernelspec": {
   "display_name": "analytics",
   "language": "python",
   "name": "analytics"
  },
  "language_info": {
   "codemirror_mode": {
    "name": "ipython",
    "version": 3
   },
   "file_extension": ".py",
   "mimetype": "text/x-python",
   "name": "python",
   "nbconvert_exporter": "python",
   "pygments_lexer": "ipython3",
   "version": "3.7.3"
  },
  "toc": {
   "base_numbering": 1,
   "nav_menu": {},
   "number_sections": true,
   "sideBar": true,
   "skip_h1_title": false,
   "title_cell": "Table of Contents",
   "title_sidebar": "Contents",
   "toc_cell": true,
   "toc_position": {},
   "toc_section_display": true,
   "toc_window_display": false
  },
  "varInspector": {
   "cols": {
    "lenName": 16,
    "lenType": 16,
    "lenVar": 40
   },
   "kernels_config": {
    "python": {
     "delete_cmd_postfix": "",
     "delete_cmd_prefix": "del ",
     "library": "var_list.py",
     "varRefreshCmd": "print(var_dic_list())"
    },
    "r": {
     "delete_cmd_postfix": ") ",
     "delete_cmd_prefix": "rm(",
     "library": "var_list.r",
     "varRefreshCmd": "cat(var_dic_list()) "
    }
   },
   "types_to_exclude": [
    "module",
    "function",
    "builtin_function_or_method",
    "instance",
    "_Feature"
   ],
   "window_display": false
  }
 },
 "nbformat": 4,
 "nbformat_minor": 2
}
