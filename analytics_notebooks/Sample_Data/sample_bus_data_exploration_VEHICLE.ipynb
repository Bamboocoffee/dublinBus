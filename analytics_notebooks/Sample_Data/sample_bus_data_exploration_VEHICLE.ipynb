{
 "cells": [
  {
   "cell_type": "markdown",
   "metadata": {
    "toc": true
   },
   "source": [
    "<h1>Table of Contents<span class=\"tocSkip\"></span></h1>\n",
    "<div class=\"toc\"><ul class=\"toc-item\"><li><span><a href=\"#Documentation\" data-toc-modified-id=\"Documentation-1\"><span class=\"toc-item-num\">1&nbsp;&nbsp;</span>Documentation</a></span></li><li><span><a href=\"#Imports\" data-toc-modified-id=\"Imports-2\"><span class=\"toc-item-num\">2&nbsp;&nbsp;</span>Imports</a></span></li><li><span><a href=\"#Initial-Data-Quality-Assessment-&amp;-Configuration\" data-toc-modified-id=\"Initial-Data-Quality-Assessment-&amp;-Configuration-3\"><span class=\"toc-item-num\">3&nbsp;&nbsp;</span>Initial Data Quality Assessment &amp; Configuration</a></span><ul class=\"toc-item\"><li><span><a href=\"#Configure-Datatypes\" data-toc-modified-id=\"Configure-Datatypes-3.1\"><span class=\"toc-item-num\">3.1&nbsp;&nbsp;</span>Configure Datatypes</a></span></li><li><span><a href=\"#Drop-Constant-Columns\" data-toc-modified-id=\"Drop-Constant-Columns-3.2\"><span class=\"toc-item-num\">3.2&nbsp;&nbsp;</span>Drop Constant Columns</a></span></li></ul></li><li><span><a href=\"#Investigate-Data-Anomolies\" data-toc-modified-id=\"Investigate-Data-Anomolies-4\"><span class=\"toc-item-num\">4&nbsp;&nbsp;</span>Investigate Data Anomolies</a></span></li><li><span><a href=\"#Data-Insights\" data-toc-modified-id=\"Data-Insights-5\"><span class=\"toc-item-num\">5&nbsp;&nbsp;</span>Data Insights</a></span><ul class=\"toc-item\"><li><span><a href=\"#Most-and-Least-Recent-LASTUPDATE-entry\" data-toc-modified-id=\"Most-and-Least-Recent-LASTUPDATE-entry-5.1\"><span class=\"toc-item-num\">5.1&nbsp;&nbsp;</span>Most and Least Recent LASTUPDATE entry</a></span></li></ul></li></ul></div>"
   ]
  },
  {
   "cell_type": "markdown",
   "metadata": {},
   "source": [
    "# Documentation"
   ]
  },
  {
   "cell_type": "markdown",
   "metadata": {},
   "source": [
    "- Each record of this table represents the service of one vehicle for one day of service and tells about the overall distance and time worked by the associated vehicle in that specific day."
   ]
  },
  {
   "cell_type": "markdown",
   "metadata": {},
   "source": [
    "- According with the time representation defined for planned data, AVL data refer to one day of service that could be greater than 24 hours. \n",
    "\n",
    "<br>\n",
    "\n",
    "- For example a trip starting at 23:30 of 1st of April and ending at 00:30 of the 2nd of April could have the last AVL data tracked at “24:30 of 1st of April”. \n",
    "\n",
    "<br>\n",
    "\n",
    "- To express this “extended time” the interface requires the use of seconds past the beginning of the operation day.\n",
    "\n",
    "<br>\n",
    "\n",
    "- In our example the DayOfService is “01/04/2014” and the extended time is “88200” (= 24 * 60 * 60 + 30 * 60).\n",
    "\n",
    "---\n",
    "\n",
    "- the distance is expressed in the unit of measurement according with the DMS settings. It could be “kilometers” or “miles”.\n",
    "\n",
    "<br>\n",
    "\n",
    "- Each table contains a field called “LastUpdate” used to detect new data availability."
   ]
  },
  {
   "cell_type": "markdown",
   "metadata": {},
   "source": [
    "| Column | Desc. |\n",
    "| --- | --- |\n",
    "| DataSource | Unique Bus Operator Code: used to identify the Bus Operator's system from which the data arrive. |\n",
    "| DayOfService | Day of service |\n",
    "| VehicleID | Unique vehicle code arriving at this stop point |\n",
    "| Distance | Distance Travelled by the vehicle in this day |\n",
    "| Minutes | Time wored by the vehicle in the corresponding day |\n",
    "| LastUpdate | Time of the last record update |\n",
    "| Note | Free Note |"
   ]
  },
  {
   "cell_type": "markdown",
   "metadata": {
    "heading_collapsed": true
   },
   "source": [
    "# Imports"
   ]
  },
  {
   "cell_type": "code",
   "execution_count": 1,
   "metadata": {
    "hidden": true
   },
   "outputs": [
    {
     "data": {
      "text/html": [
       "<style>.container {width:80% !important;}</style>"
      ],
      "text/plain": [
       "<IPython.core.display.HTML object>"
      ]
     },
     "metadata": {},
     "output_type": "display_data"
    }
   ],
   "source": [
    "from IPython.core.display import display, HTML\n",
    "display(HTML('<style>.container {width:80% !important;}</style>'))"
   ]
  },
  {
   "cell_type": "code",
   "execution_count": 58,
   "metadata": {
    "hidden": true
   },
   "outputs": [
    {
     "data": {
      "text/plain": [
       "'0.24.2'"
      ]
     },
     "execution_count": 58,
     "metadata": {},
     "output_type": "execute_result"
    }
   ],
   "source": [
    "pd.__version__"
   ]
  },
  {
   "cell_type": "code",
   "execution_count": 2,
   "metadata": {
    "hidden": true
   },
   "outputs": [],
   "source": [
    "import pandas as pd\n",
    "import numpy as np\n",
    "import seaborn as sns\n",
    "import matplotlib.pyplot as plt"
   ]
  },
  {
   "cell_type": "code",
   "execution_count": null,
   "metadata": {
    "hidden": true
   },
   "outputs": [],
   "source": [
    "# Display plots in the notebook\n",
    "%matplotlib inline"
   ]
  },
  {
   "cell_type": "code",
   "execution_count": 57,
   "metadata": {
    "hidden": true
   },
   "outputs": [],
   "source": [
    "def assess_df(df):\n",
    "  \n",
    "    feature_types = {df[df.columns[x]].dtypes.name for x in range(len(df.columns))}\n",
    "    \n",
    "  \t# print datatypes\n",
    "  \n",
    "    print(\"Datatypes:\\n\")\n",
    "    print(df.dtypes)\n",
    "    print('\\n\\n')\n",
    "    \n",
    "    # print number rows and cols\n",
    "    print('*' * 50)\n",
    "    print('ROWS, COLUMNS, NULLS\\n')\n",
    "    print(df.shape[0], \"rows in the dataframe.\")\n",
    "    print(df.shape[1], \"columns in the dataframe.\\n\")\n",
    "    print(df.isnull().sum().sum(), \"null values in the dataframe.\")\n",
    "    \n",
    "    # check duplicate rows & col; print if present\n",
    "    \n",
    "    duplicate_rows = df.duplicated(keep=False).sum()\n",
    "    duplicate_cols = df.index.T.duplicated(keep=False).sum()\n",
    "    \n",
    "    print(duplicate_rows, \"duplicate rows\")\n",
    "    print(duplicate_cols, \"duplicate columns\")\n",
    "    \n",
    "    if duplicate_rows > 0 or duplicate_cols > 0:\n",
    "      print(df.loc[df.duplicated()])\n",
    "\t\n",
    "    print('\\n')\n",
    "    \n",
    "    # check for constant columns\n",
    "    \n",
    "    numeric_cols = list(df.select_dtypes(include=[np.number]).columns.values)\n",
    "    categorical_cols = list(df.select_dtypes('category').columns.values)\n",
    "    \n",
    "    standard_diffs = [df.describe().loc['std', x] for x in numeric_cols]\n",
    "    \n",
    "    constant_categorical_column=False\n",
    "    if 'category' in feature_types:\n",
    "        for column in categorical_cols:\n",
    "            if df[column].describe().index.unique == 1:\n",
    "                constant_categorical_column = True\n",
    "            \n",
    "            \n",
    "    if 0 in standard_diffs:\n",
    "        print(\"Constant numeric columns: TRUE\")\n",
    "    else:\n",
    "        print(\"Constant numeric columns: FALSE\")\n",
    "  \n",
    "    if 'category' in feature_types:    \n",
    "        if constant_categorical_column == True:\n",
    "            print(\"Constant categorical columns: TRUE\")\n",
    "        else:\n",
    "            print(\"Constant categorical columns: FALSE\")\n",
    "\n",
    "            \n",
    "    \n",
    "    print('\\n\\n')\n",
    "\n",
    "    \n",
    "    # feature stats\n",
    "    print('*' * 50)\n",
    "    print('DESCRIPTION\\n')\n",
    "    print(df.describe().T)\n",
    "    print('\\n\\n')\n",
    "    print('*' * 50)\n",
    "\n",
    "    \n",
    "    # feature stats: categorical\n",
    "    \n",
    "    if 'category' in feature_types:\n",
    "        print('CATEGORICAL DESCRIPTION\\n')\n",
    "        print('\\n')\n",
    "        print(df.select_dtypes(['category']).describe().T)\n",
    "        print('\\n\\n')\n",
    "        print('*' * 50)\n",
    "    \n",
    "    # print feature cardinalities\n",
    "    \n",
    "    print(\"FEATURE CARDINALITIES\\n\")\n",
    "    column_names = list(df.columns.values)\n",
    "\n",
    "    print('{0:45}  {1}'.format(\"Feature\", \"Distinct Values\"))\n",
    "    print('{0:45}  {1}'.format(\"-------\", \"--------------- \\n\"))\n",
    "\n",
    "    for c in column_names:\n",
    "        print('{0:45}  {1}'.format(c, str(len(df[c].unique()))))\n",
    "    \n",
    "    print('\\n')\n",
    "    print('*' * 50)\n",
    "    print('MEMORY\\n')\n",
    "    \n",
    "    \n",
    "    print(df.info(memory_usage='deep'))\n",
    "    print('\\n')\n",
    "    print(df.memory_usage(deep=True))\n",
    "    print('\\n')\n",
    "    print('*' * 50)\n",
    "    print('HEAD\\n')\n",
    "    print(df.head(10))\n",
    "    print('\\n')\n",
    "    print('*' * 50)\n",
    "    print('TAIL\\n')\n",
    "    print(df.tail(10))"
   ]
  },
  {
   "cell_type": "markdown",
   "metadata": {},
   "source": [
    "# Initial Data Quality Assessment & Configuration"
   ]
  },
  {
   "cell_type": "code",
   "execution_count": 7,
   "metadata": {},
   "outputs": [],
   "source": [
    "path = '/Users/davidodwyer/Documents/studyCS/Semester_3/data/original_raw_data/full_bus_data/data/rt_vehicles_DB_2018.csv'\n",
    "vehicles = pd.read_csv(path)"
   ]
  },
  {
   "cell_type": "code",
   "execution_count": 16,
   "metadata": {},
   "outputs": [
    {
     "name": "stdout",
     "output_type": "stream",
     "text": [
      "Datatypes:\n",
      "\n",
      "DATASOURCE       object\n",
      "DAYOFSERVICE     object\n",
      "VEHICLEID         int64\n",
      "DISTANCE          int64\n",
      "MINUTES           int64\n",
      "LASTUPDATE       object\n",
      "NOTE            float64\n",
      "dtype: object\n",
      "\n",
      "\n",
      "\n",
      "**************************************************\n",
      "ROWS, COLUMNS, NULLS\n",
      "\n",
      "272622 rows in the dataframe.\n",
      "7 columns in the dataframe.\n",
      "\n",
      "272622 null values in the dataframe.\n",
      "0 duplicate rows\n",
      "0 duplicate columns\n",
      "\n",
      "\n",
      "Constant numeric columns: FALSE\n",
      "\n",
      "\n",
      "\n",
      "**************************************************\n",
      "DESCRIPTION\n",
      "\n",
      "              count          mean            std        min        25%  \\\n",
      "VEHICLEID  272622.0  1.928436e+06  810440.716935  1000110.0  1000948.0   \n",
      "DISTANCE   272622.0  1.774863e+05   71334.432383        0.0   126765.0   \n",
      "MINUTES    272622.0  4.559764e+04   14881.389868   -70145.0    39380.0   \n",
      "NOTE            0.0           NaN            NaN        NaN        NaN   \n",
      "\n",
      "                 50%         75%        max  \n",
      "VEHICLEID  2172252.0  2693217.00  3394131.0  \n",
      "DISTANCE    177420.0   227126.25   473864.0  \n",
      "MINUTES      46994.5    57911.00    76651.0  \n",
      "NOTE             NaN         NaN        NaN  \n",
      "\n",
      "\n",
      "\n",
      "**************************************************\n",
      "FEATURE CARDINALITIES\n",
      "\n",
      "Feature                                        Distinct Values\n",
      "-------                                        --------------- \n",
      "\n",
      "DATASOURCE                                     1\n",
      "DAYOFSERVICE                                   360\n",
      "VEHICLEID                                      1152\n",
      "DISTANCE                                       170498\n",
      "MINUTES                                        57523\n",
      "LASTUPDATE                                     360\n",
      "NOTE                                           1\n",
      "\n",
      "\n",
      "**************************************************\n",
      "MEMORY\n",
      "\n",
      "<class 'pandas.core.frame.DataFrame'>\n",
      "RangeIndex: 272622 entries, 0 to 272621\n",
      "Data columns (total 7 columns):\n",
      "DATASOURCE      272622 non-null object\n",
      "DAYOFSERVICE    272622 non-null object\n",
      "VEHICLEID       272622 non-null int64\n",
      "DISTANCE        272622 non-null int64\n",
      "MINUTES         272622 non-null int64\n",
      "LASTUPDATE      272622 non-null object\n",
      "NOTE            0 non-null float64\n",
      "dtypes: float64(1), int64(3), object(3)\n",
      "memory usage: 62.7 MB\n",
      "None\n",
      "\n",
      "\n",
      "Index                 80\n",
      "DATASOURCE      16084698\n",
      "DAYOFSERVICE    20446650\n",
      "VEHICLEID        2180976\n",
      "DISTANCE         2180976\n",
      "MINUTES          2180976\n",
      "LASTUPDATE      20446650\n",
      "NOTE             2180976\n",
      "dtype: int64\n",
      "\n",
      "\n",
      "**************************************************\n",
      "HEAD\n",
      "\n",
      "  DATASOURCE        DAYOFSERVICE  VEHICLEID  DISTANCE  MINUTES  \\\n",
      "0         DB  23-NOV-18 00:00:00    3303848    286166    58849   \n",
      "1         DB  23-NOV-18 00:00:00    3303847    259545    56828   \n",
      "2         DB  28-FEB-18 00:00:00    2868329    103096    40967   \n",
      "3         DB  28-FEB-18 00:00:00    2868330    147277    43599   \n",
      "4         DB  28-FEB-18 00:00:00    2868331    224682    40447   \n",
      "5         DB  28-FEB-18 00:00:00    2868332     19499     6289   \n",
      "6         DB  28-FEB-18 00:00:00    2868333    133014    43647   \n",
      "7         DB  28-FEB-18 00:00:00    2868334    168964    47167   \n",
      "8         DB  28-FEB-18 00:00:00    2868335    360842    55477   \n",
      "9         DB  28-FEB-18 00:00:00    2868336    139959    39599   \n",
      "\n",
      "           LASTUPDATE  NOTE  \n",
      "0  04-DEC-18 08:03:09   NaN  \n",
      "1  04-DEC-18 08:03:09   NaN  \n",
      "2  08-MAR-18 10:35:59   NaN  \n",
      "3  08-MAR-18 10:35:59   NaN  \n",
      "4  08-MAR-18 10:35:59   NaN  \n",
      "5  08-MAR-18 10:35:59   NaN  \n",
      "6  08-MAR-18 10:35:59   NaN  \n",
      "7  08-MAR-18 10:35:59   NaN  \n",
      "8  08-MAR-18 10:35:59   NaN  \n",
      "9  08-MAR-18 10:35:59   NaN  \n",
      "\n",
      "\n",
      "**************************************************\n",
      "TAIL\n",
      "\n",
      "       DATASOURCE        DAYOFSERVICE  VEHICLEID  DISTANCE  MINUTES  \\\n",
      "272612         DB  29-DEC-18 00:00:00    3393871     18770      596   \n",
      "272613         DB  29-DEC-18 00:00:00    3393873     85857    16884   \n",
      "272614         DB  29-DEC-18 00:00:00    3393874    154631    43992   \n",
      "272615         DB  29-DEC-18 00:00:00    3393875    210361    49470   \n",
      "272616         DB  29-DEC-18 00:00:00    3393877    234756    60558   \n",
      "272617         DB  29-DEC-18 00:00:00    3393878    264237    62320   \n",
      "272618         DB  29-DEC-18 00:00:00    3394105    250335    52254   \n",
      "272619         DB  29-DEC-18 00:00:00    3394109    172539    44349   \n",
      "272620         DB  29-DEC-18 00:00:00    3394130    188057    38948   \n",
      "272621         DB  29-DEC-18 00:00:00    3394131    291697    63677   \n",
      "\n",
      "                LASTUPDATE  NOTE  \n",
      "272612  16-JAN-19 18:00:42   NaN  \n",
      "272613  16-JAN-19 18:00:42   NaN  \n",
      "272614  16-JAN-19 18:00:42   NaN  \n",
      "272615  16-JAN-19 18:00:42   NaN  \n",
      "272616  16-JAN-19 18:00:42   NaN  \n",
      "272617  16-JAN-19 18:00:42   NaN  \n",
      "272618  16-JAN-19 18:00:42   NaN  \n",
      "272619  16-JAN-19 18:00:42   NaN  \n",
      "272620  16-JAN-19 18:00:42   NaN  \n",
      "272621  16-JAN-19 18:00:42   NaN  \n"
     ]
    }
   ],
   "source": [
    "assess_df(vehicles)"
   ]
  },
  {
   "cell_type": "markdown",
   "metadata": {},
   "source": [
    "## Configure Datatypes"
   ]
  },
  {
   "cell_type": "code",
   "execution_count": 17,
   "metadata": {},
   "outputs": [],
   "source": [
    "vehicles.loc[:, 'DAYOFSERVICE'] = vehicles.loc[:, 'DAYOFSERVICE'].\\\n",
    "apply(lambda x: pd.to_datetime(x, format='%d-%b-%y %H:%M:%S'))"
   ]
  },
  {
   "cell_type": "code",
   "execution_count": 18,
   "metadata": {},
   "outputs": [],
   "source": [
    "vehicles.loc[:, 'LASTUPDATE'] = vehicles.loc[:, 'LASTUPDATE'].\\\n",
    "apply(lambda x: pd.to_datetime(x, format='%d-%b-%y %H:%M:%S'))"
   ]
  },
  {
   "cell_type": "code",
   "execution_count": 19,
   "metadata": {},
   "outputs": [],
   "source": [
    "vehicles = vehicles.astype({'DATASOURCE':'category', 'VEHICLEID':'category'})"
   ]
  },
  {
   "cell_type": "markdown",
   "metadata": {
    "heading_collapsed": true
   },
   "source": [
    "## Drop Constant Columns"
   ]
  },
  {
   "cell_type": "code",
   "execution_count": 20,
   "metadata": {
    "hidden": true
   },
   "outputs": [],
   "source": [
    "vehicles.drop('NOTE', axis=1, inplace=True)"
   ]
  },
  {
   "cell_type": "code",
   "execution_count": 21,
   "metadata": {
    "hidden": true
   },
   "outputs": [],
   "source": [
    "vehicles.drop('DATASOURCE', axis=1, inplace=True)"
   ]
  },
  {
   "cell_type": "code",
   "execution_count": 56,
   "metadata": {
    "hidden": true
   },
   "outputs": [
    {
     "name": "stdout",
     "output_type": "stream",
     "text": [
      "Datatypes:\n",
      "\n",
      "DAYOFSERVICE    datetime64[ns]\n",
      "VEHICLEID             category\n",
      "DISTANCE                 int64\n",
      "MINUTES                  int64\n",
      "LASTUPDATE      datetime64[ns]\n",
      "dtype: object\n",
      "\n",
      "\n",
      "\n",
      "**************************************************\n",
      "ROWS, COLUMNS, NULLS\n",
      "\n",
      "272622 rows in the dataframe.\n",
      "5 columns in the dataframe.\n",
      "\n",
      "0 null values in the dataframe.\n",
      "0 duplicate rows\n",
      "0 duplicate columns\n",
      "\n",
      "\n",
      "Constant numeric columns: FALSE\n",
      "Constant categorical columns: FALSE\n",
      "\n",
      "\n",
      "\n",
      "**************************************************\n",
      "DESCRIPTION\n",
      "\n",
      "             count           mean           std      min       25%       50%  \\\n",
      "DISTANCE  272622.0  177486.328466  71334.432383      0.0  126765.0  177420.0   \n",
      "MINUTES   272622.0   45597.643220  14881.389868 -70145.0   39380.0   46994.5   \n",
      "\n",
      "                75%       max  \n",
      "DISTANCE  227126.25  473864.0  \n",
      "MINUTES    57911.00   76651.0  \n",
      "\n",
      "\n",
      "\n",
      "**************************************************\n",
      "CATEGORICAL DESCRIPTION\n",
      "\n",
      "\n",
      "\n",
      "            count  unique      top  freq\n",
      "VEHICLEID  272622    1152  2693284   342\n",
      "\n",
      "\n",
      "\n",
      "**************************************************\n",
      "FEATURE CARDINALITIES\n",
      "\n",
      "Feature                                        Distinct Values\n",
      "-------                                        --------------- \n",
      "\n",
      "DAYOFSERVICE                                   360\n",
      "VEHICLEID                                      1152\n",
      "DISTANCE                                       170498\n",
      "MINUTES                                        57523\n",
      "LASTUPDATE                                     360\n",
      "\n",
      "\n",
      "**************************************************\n",
      "MEMORY\n",
      "\n",
      "<class 'pandas.core.frame.DataFrame'>\n",
      "RangeIndex: 272622 entries, 0 to 272621\n",
      "Data columns (total 5 columns):\n",
      "DAYOFSERVICE    272622 non-null datetime64[ns]\n",
      "VEHICLEID       272622 non-null category\n",
      "DISTANCE        272622 non-null int64\n",
      "MINUTES         272622 non-null int64\n",
      "LASTUPDATE      272622 non-null datetime64[ns]\n",
      "dtypes: category(1), datetime64[ns](2), int64(2)\n",
      "memory usage: 8.9 MB\n",
      "None\n",
      "\n",
      "\n",
      "Index                80\n",
      "DAYOFSERVICE    2180976\n",
      "VEHICLEID        595420\n",
      "DISTANCE        2180976\n",
      "MINUTES         2180976\n",
      "LASTUPDATE      2180976\n",
      "dtype: int64\n",
      "\n",
      "\n",
      "**************************************************\n",
      "HEAD\n",
      "\n",
      "  DAYOFSERVICE VEHICLEID  DISTANCE  MINUTES          LASTUPDATE\n",
      "0   2018-11-23   3303848    286166    58849 2018-12-04 08:03:09\n",
      "1   2018-11-23   3303847    259545    56828 2018-12-04 08:03:09\n",
      "2   2018-02-28   2868329    103096    40967 2018-03-08 10:35:59\n",
      "3   2018-02-28   2868330    147277    43599 2018-03-08 10:35:59\n",
      "4   2018-02-28   2868331    224682    40447 2018-03-08 10:35:59\n",
      "5   2018-02-28   2868332     19499     6289 2018-03-08 10:35:59\n",
      "6   2018-02-28   2868333    133014    43647 2018-03-08 10:35:59\n",
      "7   2018-02-28   2868334    168964    47167 2018-03-08 10:35:59\n",
      "8   2018-02-28   2868335    360842    55477 2018-03-08 10:35:59\n",
      "9   2018-02-28   2868336    139959    39599 2018-03-08 10:35:59\n",
      "\n",
      "\n",
      "**************************************************\n",
      "TAIL\n",
      "\n",
      "       DAYOFSERVICE VEHICLEID  DISTANCE  MINUTES          LASTUPDATE\n",
      "272612   2018-12-29   3393871     18770      596 2019-01-16 18:00:42\n",
      "272613   2018-12-29   3393873     85857    16884 2019-01-16 18:00:42\n",
      "272614   2018-12-29   3393874    154631    43992 2019-01-16 18:00:42\n",
      "272615   2018-12-29   3393875    210361    49470 2019-01-16 18:00:42\n",
      "272616   2018-12-29   3393877    234756    60558 2019-01-16 18:00:42\n",
      "272617   2018-12-29   3393878    264237    62320 2019-01-16 18:00:42\n",
      "272618   2018-12-29   3394105    250335    52254 2019-01-16 18:00:42\n",
      "272619   2018-12-29   3394109    172539    44349 2019-01-16 18:00:42\n",
      "272620   2018-12-29   3394130    188057    38948 2019-01-16 18:00:42\n",
      "272621   2018-12-29   3394131    291697    63677 2019-01-16 18:00:42\n"
     ]
    }
   ],
   "source": [
    "assess_df(vehicles)"
   ]
  },
  {
   "cell_type": "markdown",
   "metadata": {},
   "source": [
    "# Investigate Data Anomolies"
   ]
  },
  {
   "cell_type": "markdown",
   "metadata": {},
   "source": [
    "# Data Insights"
   ]
  },
  {
   "cell_type": "markdown",
   "metadata": {},
   "source": [
    "## Most and Least Recent LASTUPDATE entry"
   ]
  },
  {
   "cell_type": "code",
   "execution_count": 63,
   "metadata": {},
   "outputs": [
    {
     "name": "stdout",
     "output_type": "stream",
     "text": [
      "Earliest 'Last Update' 2018-01-08 17:21:10\n"
     ]
    }
   ],
   "source": [
    "print(\"Earliest \\'Last Update'\", vehicles.LASTUPDATE.min())"
   ]
  },
  {
   "cell_type": "code",
   "execution_count": 64,
   "metadata": {},
   "outputs": [
    {
     "name": "stdout",
     "output_type": "stream",
     "text": [
      "Latest 'Last Update' 2019-01-16 18:27:21\n"
     ]
    }
   ],
   "source": [
    "print(\"Latest \\'Last Update'\", vehicles.LASTUPDATE.max())"
   ]
  },
  {
   "cell_type": "code",
   "execution_count": null,
   "metadata": {},
   "outputs": [],
   "source": []
  }
 ],
 "metadata": {
  "kernelspec": {
   "display_name": "analytics",
   "language": "python",
   "name": "analytics"
  },
  "language_info": {
   "codemirror_mode": {
    "name": "ipython",
    "version": 3
   },
   "file_extension": ".py",
   "mimetype": "text/x-python",
   "name": "python",
   "nbconvert_exporter": "python",
   "pygments_lexer": "ipython3",
   "version": "3.7.3"
  },
  "toc": {
   "base_numbering": 1,
   "nav_menu": {},
   "number_sections": true,
   "sideBar": true,
   "skip_h1_title": false,
   "title_cell": "Table of Contents",
   "title_sidebar": "Contents",
   "toc_cell": true,
   "toc_position": {},
   "toc_section_display": true,
   "toc_window_display": false
  },
  "varInspector": {
   "cols": {
    "lenName": 16,
    "lenType": 16,
    "lenVar": 40
   },
   "kernels_config": {
    "python": {
     "delete_cmd_postfix": "",
     "delete_cmd_prefix": "del ",
     "library": "var_list.py",
     "varRefreshCmd": "print(var_dic_list())"
    },
    "r": {
     "delete_cmd_postfix": ") ",
     "delete_cmd_prefix": "rm(",
     "library": "var_list.r",
     "varRefreshCmd": "cat(var_dic_list()) "
    }
   },
   "types_to_exclude": [
    "module",
    "function",
    "builtin_function_or_method",
    "instance",
    "_Feature"
   ],
   "window_display": false
  }
 },
 "nbformat": 4,
 "nbformat_minor": 2
}
