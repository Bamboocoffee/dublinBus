{
 "cells": [
  {
   "cell_type": "markdown",
   "metadata": {
    "toc": true
   },
   "source": [
    "<h1>Table of Contents<span class=\"tocSkip\"></span></h1>\n",
    "<div class=\"toc\"><ul class=\"toc-item\"><li><span><a href=\"#Imports\" data-toc-modified-id=\"Imports-1\"><span class=\"toc-item-num\">1&nbsp;&nbsp;</span>Imports</a></span></li><li><span><a href=\"#Read-in\" data-toc-modified-id=\"Read-in-2\"><span class=\"toc-item-num\">2&nbsp;&nbsp;</span>Read-in</a></span></li><li><span><a href=\"#Documentation\" data-toc-modified-id=\"Documentation-3\"><span class=\"toc-item-num\">3&nbsp;&nbsp;</span>Documentation</a></span></li><li><span><a href=\"#PHOENIX-PARK-—-Initial-Changes:-removing-unneeded;-setting-datatypes\" data-toc-modified-id=\"PHOENIX-PARK-—-Initial-Changes:-removing-unneeded;-setting-datatypes-4\"><span class=\"toc-item-num\">4&nbsp;&nbsp;</span>PHOENIX PARK — Initial Changes: removing unneeded; setting datatypes</a></span><ul class=\"toc-item\"><li><span><a href=\"#Removing-legend-information\" data-toc-modified-id=\"Removing-legend-information-4.1\"><span class=\"toc-item-num\">4.1&nbsp;&nbsp;</span>Removing legend information</a></span></li><li><span><a href=\"#Assessment-of-dataset\" data-toc-modified-id=\"Assessment-of-dataset-4.2\"><span class=\"toc-item-num\">4.2&nbsp;&nbsp;</span>Assessment of dataset</a></span></li><li><span><a href=\"#Dropping-of-non-required-columns\" data-toc-modified-id=\"Dropping-of-non-required-columns-4.3\"><span class=\"toc-item-num\">4.3&nbsp;&nbsp;</span>Dropping of non-required columns</a></span></li><li><span><a href=\"#Setting-of-appropriate-datatypes\" data-toc-modified-id=\"Setting-of-appropriate-datatypes-4.4\"><span class=\"toc-item-num\">4.4&nbsp;&nbsp;</span>Setting of appropriate datatypes</a></span><ul class=\"toc-item\"><li><span><a href=\"#Whitespace-anomolies-will-prevent-conversion:-removing-whitespaces\" data-toc-modified-id=\"Whitespace-anomolies-will-prevent-conversion:-removing-whitespaces-4.4.1\"><span class=\"toc-item-num\">4.4.1&nbsp;&nbsp;</span>Whitespace anomolies will prevent conversion: removing whitespaces</a></span></li><li><span><a href=\"#Checking-data-ranges-for-memory-optimised-converstion-to-data-sub-types\" data-toc-modified-id=\"Checking-data-ranges-for-memory-optimised-converstion-to-data-sub-types-4.4.2\"><span class=\"toc-item-num\">4.4.2&nbsp;&nbsp;</span>Checking data ranges for memory-optimised converstion to data sub-types</a></span></li><li><span><a href=\"#Set-dates-as-datetime-type\" data-toc-modified-id=\"Set-dates-as-datetime-type-4.4.3\"><span class=\"toc-item-num\">4.4.3&nbsp;&nbsp;</span>Set dates as datetime type</a></span></li></ul></li><li><span><a href=\"#Retaining-only-date-range-of-interest-(period-of-bus-data)\" data-toc-modified-id=\"Retaining-only-date-range-of-interest-(period-of-bus-data)-4.5\"><span class=\"toc-item-num\">4.5&nbsp;&nbsp;</span>Retaining only date-range of interest (period of bus data)</a></span></li></ul></li><li><span><a href=\"#CASEMENT—-Initial-Changes:-removing-unneeded;-setting-datatypes\" data-toc-modified-id=\"CASEMENT—-Initial-Changes:-removing-unneeded;-setting-datatypes-5\"><span class=\"toc-item-num\">5&nbsp;&nbsp;</span>CASEMENT— Initial Changes: removing unneeded; setting datatypes</a></span><ul class=\"toc-item\"><li><span><a href=\"#Check-for-the-whitespace-issue-in-casement-dataset\" data-toc-modified-id=\"Check-for-the-whitespace-issue-in-casement-dataset-5.1\"><span class=\"toc-item-num\">5.1&nbsp;&nbsp;</span>Check for the whitespace issue in casement dataset</a></span></li><li><span><a href=\"#Convert-to-float16\" data-toc-modified-id=\"Convert-to-float16-5.2\"><span class=\"toc-item-num\">5.2&nbsp;&nbsp;</span>Convert to float16</a></span></li><li><span><a href=\"#Convert-date-to-type-datetime\" data-toc-modified-id=\"Convert-date-to-type-datetime-5.3\"><span class=\"toc-item-num\">5.3&nbsp;&nbsp;</span>Convert date to type datetime</a></span></li><li><span><a href=\"#Retain-only-date-range-of-interest\" data-toc-modified-id=\"Retain-only-date-range-of-interest-5.4\"><span class=\"toc-item-num\">5.4&nbsp;&nbsp;</span>Retain only date-range of interest</a></span></li></ul></li><li><span><a href=\"#AIRPORT-—-Initial-Changes:-removing-unneeded;-setting-datatypes\" data-toc-modified-id=\"AIRPORT-—-Initial-Changes:-removing-unneeded;-setting-datatypes-6\"><span class=\"toc-item-num\">6&nbsp;&nbsp;</span>AIRPORT — Initial Changes: removing unneeded; setting datatypes</a></span><ul class=\"toc-item\"><li><span><a href=\"#Check-for-the-whitespace-issue\" data-toc-modified-id=\"Check-for-the-whitespace-issue-6.1\"><span class=\"toc-item-num\">6.1&nbsp;&nbsp;</span>Check for the whitespace issue</a></span></li><li><span><a href=\"#Convert-to-float16\" data-toc-modified-id=\"Convert-to-float16-6.2\"><span class=\"toc-item-num\">6.2&nbsp;&nbsp;</span>Convert to float16</a></span></li><li><span><a href=\"#Convert-date-to-type-datetime\" data-toc-modified-id=\"Convert-date-to-type-datetime-6.3\"><span class=\"toc-item-num\">6.3&nbsp;&nbsp;</span>Convert date to type datetime</a></span></li><li><span><a href=\"#Retain-only-time-period-of-relevance\" data-toc-modified-id=\"Retain-only-time-period-of-relevance-6.4\"><span class=\"toc-item-num\">6.4&nbsp;&nbsp;</span>Retain only time period of relevance</a></span></li></ul></li><li><span><a href=\"#Joining-3-Dataframes-into-1,-Representing-Dublin-Average\" data-toc-modified-id=\"Joining-3-Dataframes-into-1,-Representing-Dublin-Average-7\"><span class=\"toc-item-num\">7&nbsp;&nbsp;</span>Joining 3 Dataframes into 1, Representing Dublin Average</a></span><ul class=\"toc-item\"><li><span><a href=\"#Prepare-for-Join\" data-toc-modified-id=\"Prepare-for-Join-7.1\"><span class=\"toc-item-num\">7.1&nbsp;&nbsp;</span>Prepare for Join</a></span></li><li><span><a href=\"#Check-indices-match\" data-toc-modified-id=\"Check-indices-match-7.2\"><span class=\"toc-item-num\">7.2&nbsp;&nbsp;</span>Check indices match</a></span></li><li><span><a href=\"#Join-Tables,-into-one-representing-the-averages\" data-toc-modified-id=\"Join-Tables,-into-one-representing-the-averages-7.3\"><span class=\"toc-item-num\">7.3&nbsp;&nbsp;</span>Join Tables, into one representing the averages</a></span></li></ul></li><li><span><a href=\"#Export-Dataframe\" data-toc-modified-id=\"Export-Dataframe-8\"><span class=\"toc-item-num\">8&nbsp;&nbsp;</span>Export Dataframe</a></span></li></ul></div>"
   ]
  },
  {
   "cell_type": "markdown",
   "metadata": {},
   "source": [
    "# Imports"
   ]
  },
  {
   "cell_type": "code",
   "execution_count": 1,
   "metadata": {},
   "outputs": [
    {
     "data": {
      "text/html": [
       "<style>.container {width:80% !important;}</style>"
      ],
      "text/plain": [
       "<IPython.core.display.HTML object>"
      ]
     },
     "metadata": {},
     "output_type": "display_data"
    }
   ],
   "source": [
    "# custom notebook aspect ratio\n",
    "\n",
    "from IPython.core.display import display, HTML\n",
    "display(HTML('<style>.container {width:80% !important;}</style>'))"
   ]
  },
  {
   "cell_type": "code",
   "execution_count": 2,
   "metadata": {},
   "outputs": [],
   "source": [
    "# packages\n",
    "\n",
    "import pandas as pd\n",
    "import numpy as np"
   ]
  },
  {
   "cell_type": "code",
   "execution_count": 3,
   "metadata": {},
   "outputs": [],
   "source": [
    "# an assessor function\n",
    "\n",
    "def assess_df(df):\n",
    "  \n",
    "    feature_types = {df[df.columns[x]].dtypes.name for x in range(len(df.columns))}\n",
    "    \n",
    "  \t# print datatypes\n",
    "  \n",
    "    print(\"Datatypes:\\n\")\n",
    "    print(df.dtypes)\n",
    "    print('\\n\\n')\n",
    "    \n",
    "    # print number rows and cols\n",
    "    print('*' * 50)\n",
    "    print('ROWS, COLUMNS, NULLS\\n')\n",
    "    print(df.shape[0], \"rows in the dataframe.\")\n",
    "    print(df.shape[1], \"columns in the dataframe.\\n\")\n",
    "    print(df.isnull().sum().sum(), \"null values in the dataframe.\")\n",
    "    \n",
    "    # check duplicate rows & col; print if present\n",
    "    \n",
    "    duplicate_rows = df.duplicated(keep=False).sum()\n",
    "    duplicate_cols = df.index.T.duplicated(keep=False).sum()\n",
    "    \n",
    "    print(duplicate_rows, \"duplicate rows\")\n",
    "    print(duplicate_cols, \"duplicate columns\")\n",
    "    \n",
    "    if duplicate_rows > 0 or duplicate_cols > 0:\n",
    "      print(df.loc[df.duplicated()])\n",
    "\t\n",
    "    print('\\n')\n",
    "    \n",
    "    # check for constant columns\n",
    "    \n",
    "    numeric_cols = list(df.select_dtypes(include=[np.number]).columns.values)\n",
    "    categorical_cols = list(df.select_dtypes('category').columns.values)\n",
    "    \n",
    "    standard_diffs = [df.describe().loc['std', x] for x in numeric_cols]\n",
    "    \n",
    "    constant_categorical_column=False\n",
    "    if 'category' in feature_types:\n",
    "        for column in categorical_cols:\n",
    "            if df[column].describe().index.unique == 1:\n",
    "                constant_categorical_column = True\n",
    "            \n",
    "            \n",
    "    if 0 in standard_diffs:\n",
    "        print(\"Constant numeric columns: TRUE\")\n",
    "    else:\n",
    "        print(\"Constant numeric columns: FALSE\")\n",
    "  \n",
    "    if 'category' in feature_types:    \n",
    "        if constant_categorical_column == True:\n",
    "            print(\"Constant categorical columns: TRUE\")\n",
    "        else:\n",
    "            print(\"Constant categorical columns: FALSE\")\n",
    "\n",
    "            \n",
    "    \n",
    "    print('\\n\\n')\n",
    "\n",
    "    \n",
    "    # feature stats\n",
    "    print('*' * 50)\n",
    "    print('DESCRIPTION\\n')\n",
    "    print(df.describe().T)\n",
    "    print('\\n\\n')\n",
    "    print('*' * 50)\n",
    "\n",
    "    \n",
    "    # feature stats: categorical\n",
    "    \n",
    "    if 'category' in feature_types:\n",
    "        print('CATEGORICAL DESCRIPTION\\n')\n",
    "        print('\\n')\n",
    "        print(df.select_dtypes(['category']).describe().T)\n",
    "        print('\\n\\n')\n",
    "        print('*' * 50)\n",
    "    \n",
    "    # print feature cardinalities\n",
    "    \n",
    "    print(\"FEATURE CARDINALITIES\\n\")\n",
    "    column_names = list(df.columns.values)\n",
    "\n",
    "    print('{0:45}  {1}'.format(\"Feature\", \"Distinct Values\"))\n",
    "    print('{0:45}  {1}'.format(\"-------\", \"--------------- \\n\"))\n",
    "\n",
    "    for c in column_names:\n",
    "        print('{0:45}  {1}'.format(c, str(len(df[c].unique()))))\n",
    "    \n",
    "    print('\\n')\n",
    "    print('*' * 50)\n",
    "    print('MEMORY\\n')\n",
    "    \n",
    "    \n",
    "    print(df.info(memory_usage='deep'))\n",
    "    print('\\n')\n",
    "    print(df.memory_usage(deep=True))\n",
    "    print('\\n')\n",
    "    print('*' * 50)\n",
    "    print('HEAD\\n')\n",
    "    print(df.head(10))\n",
    "    print('\\n')\n",
    "    print('*' * 50)\n",
    "    print('TAIL\\n')\n",
    "    print(df.tail(10))"
   ]
  },
  {
   "cell_type": "markdown",
   "metadata": {},
   "source": [
    "# Read-in"
   ]
  },
  {
   "cell_type": "code",
   "execution_count": 4,
   "metadata": {},
   "outputs": [
    {
     "name": "stderr",
     "output_type": "stream",
     "text": [
      "/Users/davidodwyer/anaconda3/envs/analytics/lib/python3.7/site-packages/IPython/core/interactiveshell.py:3049: DtypeWarning: Columns (1,3,4,5,6,7,8,9,10) have mixed types. Specify dtype option on import or set low_memory=False.\n",
      "  interactivity=interactivity, compiler=compiler, result=result)\n"
     ]
    }
   ],
   "source": [
    "# read in the phoenix park dataset\n",
    "# make the column names more explicit\n",
    "\n",
    "path_phoenix = \\\n",
    "'/Users/davidodwyer/Documents/studyCS/Semester_3/data/original_raw_data/weather/hly175_phoenix_park/hly175.csv'\n",
    "\n",
    "col_names = ['date','indicator1','rain','indicator2','temp','indicator3','wetbulbtemp','dew_pointt','vapour_pressure','relative_humidity','pressure']\n",
    "\n",
    "df_phoenix = pd.read_csv(path_phoenix, names=col_names)"
   ]
  },
  {
   "cell_type": "code",
   "execution_count": 5,
   "metadata": {},
   "outputs": [],
   "source": [
    "# read in the casement dataset\n",
    "\n",
    "path_casement = \\\n",
    "'/Users/davidodwyer/Documents/studyCS/Semester_3/data/original_raw_data/weather/hly3723_casement/hly3723.csv'\n",
    "\n",
    "df_casement = pd.read_csv(path_casement, usecols=[0,2,4], skiprows=23)"
   ]
  },
  {
   "cell_type": "code",
   "execution_count": 6,
   "metadata": {},
   "outputs": [],
   "source": [
    "# read in the airport dataset\n",
    "\n",
    "path_airport = \\\n",
    "'/Users/davidodwyer/Documents/studyCS/Semester_3/data/original_raw_data/weather/hly532_dublin_airport/hly532.csv'\n",
    "\n",
    "df_airport = pd.read_csv(path_airport, usecols=[0,2,4], skiprows=23)"
   ]
  },
  {
   "cell_type": "markdown",
   "metadata": {},
   "source": [
    "# Documentation"
   ]
  },
  {
   "cell_type": "code",
   "execution_count": 7,
   "metadata": {},
   "outputs": [],
   "source": [
    "# #from csv\n",
    "\n",
    "\n",
    "# Station Name: PHOENIX PARK\n",
    "# Station Height: 48 M \n",
    "# Latitude:53.364  ,Longitude: -6.350\n",
    "\n",
    "\n",
    "# date:  -  Date and Time (utc)\n",
    "\n",
    "# rain:  -  Precipitation Amount (mm)\t  \n",
    "\n",
    "# temp:  -  Air Temperature (C)\t\n",
    "\n",
    "# wetb:  -  Wet Bulb Temperature (C)\n",
    "\n",
    "# dewpt: -  Dew Point Temperature (C)\n",
    "\n",
    "# vappr: -  Vapour Pressure (hPa)\t\t\n",
    "\n",
    "# rhum:  -  Relative Humidity (%) \n",
    "\n",
    "# msl:   -  Mean Sea Level Pressure (hPa)\n",
    "\n",
    "# ind:   -  Indicator\n"
   ]
  },
  {
   "cell_type": "markdown",
   "metadata": {},
   "source": [
    "# PHOENIX PARK — Initial Changes: removing unneeded; setting datatypes\n"
   ]
  },
  {
   "cell_type": "markdown",
   "metadata": {},
   "source": [
    "## Removing legend information"
   ]
  },
  {
   "cell_type": "code",
   "execution_count": 8,
   "metadata": {},
   "outputs": [
    {
     "data": {
      "text/html": [
       "<div>\n",
       "<style scoped>\n",
       "    .dataframe tbody tr th:only-of-type {\n",
       "        vertical-align: middle;\n",
       "    }\n",
       "\n",
       "    .dataframe tbody tr th {\n",
       "        vertical-align: top;\n",
       "    }\n",
       "\n",
       "    .dataframe thead th {\n",
       "        text-align: right;\n",
       "    }\n",
       "</style>\n",
       "<table border=\"1\" class=\"dataframe\">\n",
       "  <thead>\n",
       "    <tr style=\"text-align: right;\">\n",
       "      <th></th>\n",
       "      <th>date</th>\n",
       "      <th>indicator1</th>\n",
       "      <th>rain</th>\n",
       "      <th>indicator2</th>\n",
       "      <th>temp</th>\n",
       "      <th>indicator3</th>\n",
       "      <th>wetbulbtemp</th>\n",
       "      <th>dew_pointt</th>\n",
       "      <th>vapour_pressure</th>\n",
       "      <th>relative_humidity</th>\n",
       "      <th>pressure</th>\n",
       "    </tr>\n",
       "  </thead>\n",
       "  <tbody>\n",
       "    <tr>\n",
       "      <th>0</th>\n",
       "      <td>Station Name: PHOENIX PARK</td>\n",
       "      <td>NaN</td>\n",
       "      <td>NaN</td>\n",
       "      <td>NaN</td>\n",
       "      <td>NaN</td>\n",
       "      <td>NaN</td>\n",
       "      <td>NaN</td>\n",
       "      <td>NaN</td>\n",
       "      <td>NaN</td>\n",
       "      <td>NaN</td>\n",
       "      <td>NaN</td>\n",
       "    </tr>\n",
       "    <tr>\n",
       "      <th>1</th>\n",
       "      <td>Station Height: 48 M</td>\n",
       "      <td>NaN</td>\n",
       "      <td>NaN</td>\n",
       "      <td>NaN</td>\n",
       "      <td>NaN</td>\n",
       "      <td>NaN</td>\n",
       "      <td>NaN</td>\n",
       "      <td>NaN</td>\n",
       "      <td>NaN</td>\n",
       "      <td>NaN</td>\n",
       "      <td>NaN</td>\n",
       "    </tr>\n",
       "    <tr>\n",
       "      <th>2</th>\n",
       "      <td>Latitude:53.364</td>\n",
       "      <td>Longitude: -6.350</td>\n",
       "      <td>NaN</td>\n",
       "      <td>NaN</td>\n",
       "      <td>NaN</td>\n",
       "      <td>NaN</td>\n",
       "      <td>NaN</td>\n",
       "      <td>NaN</td>\n",
       "      <td>NaN</td>\n",
       "      <td>NaN</td>\n",
       "      <td>NaN</td>\n",
       "    </tr>\n",
       "    <tr>\n",
       "      <th>3</th>\n",
       "      <td>date:  -  Date and Time (utc)</td>\n",
       "      <td>NaN</td>\n",
       "      <td>NaN</td>\n",
       "      <td>NaN</td>\n",
       "      <td>NaN</td>\n",
       "      <td>NaN</td>\n",
       "      <td>NaN</td>\n",
       "      <td>NaN</td>\n",
       "      <td>NaN</td>\n",
       "      <td>NaN</td>\n",
       "      <td>NaN</td>\n",
       "    </tr>\n",
       "    <tr>\n",
       "      <th>4</th>\n",
       "      <td>rain:  -  Precipitation Amount (mm)\\t</td>\n",
       "      <td>NaN</td>\n",
       "      <td>NaN</td>\n",
       "      <td>NaN</td>\n",
       "      <td>NaN</td>\n",
       "      <td>NaN</td>\n",
       "      <td>NaN</td>\n",
       "      <td>NaN</td>\n",
       "      <td>NaN</td>\n",
       "      <td>NaN</td>\n",
       "      <td>NaN</td>\n",
       "    </tr>\n",
       "    <tr>\n",
       "      <th>5</th>\n",
       "      <td>temp:  -  Air Temperature (C)\\t</td>\n",
       "      <td>NaN</td>\n",
       "      <td>NaN</td>\n",
       "      <td>NaN</td>\n",
       "      <td>NaN</td>\n",
       "      <td>NaN</td>\n",
       "      <td>NaN</td>\n",
       "      <td>NaN</td>\n",
       "      <td>NaN</td>\n",
       "      <td>NaN</td>\n",
       "      <td>NaN</td>\n",
       "    </tr>\n",
       "    <tr>\n",
       "      <th>6</th>\n",
       "      <td>wetb:  -  Wet Bulb Temperature (C)</td>\n",
       "      <td>NaN</td>\n",
       "      <td>NaN</td>\n",
       "      <td>NaN</td>\n",
       "      <td>NaN</td>\n",
       "      <td>NaN</td>\n",
       "      <td>NaN</td>\n",
       "      <td>NaN</td>\n",
       "      <td>NaN</td>\n",
       "      <td>NaN</td>\n",
       "      <td>NaN</td>\n",
       "    </tr>\n",
       "    <tr>\n",
       "      <th>7</th>\n",
       "      <td>dewpt: -  Dew Point Temperature (C)</td>\n",
       "      <td>NaN</td>\n",
       "      <td>NaN</td>\n",
       "      <td>NaN</td>\n",
       "      <td>NaN</td>\n",
       "      <td>NaN</td>\n",
       "      <td>NaN</td>\n",
       "      <td>NaN</td>\n",
       "      <td>NaN</td>\n",
       "      <td>NaN</td>\n",
       "      <td>NaN</td>\n",
       "    </tr>\n",
       "    <tr>\n",
       "      <th>8</th>\n",
       "      <td>vappr: -  Vapour Pressure (hPa)\\t\\t           ...</td>\n",
       "      <td>NaN</td>\n",
       "      <td>NaN</td>\n",
       "      <td>NaN</td>\n",
       "      <td>NaN</td>\n",
       "      <td>NaN</td>\n",
       "      <td>NaN</td>\n",
       "      <td>NaN</td>\n",
       "      <td>NaN</td>\n",
       "      <td>NaN</td>\n",
       "      <td>NaN</td>\n",
       "    </tr>\n",
       "    <tr>\n",
       "      <th>9</th>\n",
       "      <td>rhum:  -  Relative Humidity (%)</td>\n",
       "      <td>NaN</td>\n",
       "      <td>NaN</td>\n",
       "      <td>NaN</td>\n",
       "      <td>NaN</td>\n",
       "      <td>NaN</td>\n",
       "      <td>NaN</td>\n",
       "      <td>NaN</td>\n",
       "      <td>NaN</td>\n",
       "      <td>NaN</td>\n",
       "      <td>NaN</td>\n",
       "    </tr>\n",
       "    <tr>\n",
       "      <th>10</th>\n",
       "      <td>msl:   -  Mean Sea Level Pressure (hPa)</td>\n",
       "      <td>NaN</td>\n",
       "      <td>NaN</td>\n",
       "      <td>NaN</td>\n",
       "      <td>NaN</td>\n",
       "      <td>NaN</td>\n",
       "      <td>NaN</td>\n",
       "      <td>NaN</td>\n",
       "      <td>NaN</td>\n",
       "      <td>NaN</td>\n",
       "      <td>NaN</td>\n",
       "    </tr>\n",
       "    <tr>\n",
       "      <th>11</th>\n",
       "      <td>ind:   -  Indicator</td>\n",
       "      <td>NaN</td>\n",
       "      <td>NaN</td>\n",
       "      <td>NaN</td>\n",
       "      <td>NaN</td>\n",
       "      <td>NaN</td>\n",
       "      <td>NaN</td>\n",
       "      <td>NaN</td>\n",
       "      <td>NaN</td>\n",
       "      <td>NaN</td>\n",
       "      <td>NaN</td>\n",
       "    </tr>\n",
       "    <tr>\n",
       "      <th>12</th>\n",
       "      <td>date</td>\n",
       "      <td>ind</td>\n",
       "      <td>rain</td>\n",
       "      <td>ind</td>\n",
       "      <td>temp</td>\n",
       "      <td>ind</td>\n",
       "      <td>wetb</td>\n",
       "      <td>dewpt</td>\n",
       "      <td>vappr</td>\n",
       "      <td>rhum</td>\n",
       "      <td>msl</td>\n",
       "    </tr>\n",
       "    <tr>\n",
       "      <th>13</th>\n",
       "      <td>01-may-2005 01:00</td>\n",
       "      <td>0</td>\n",
       "      <td>0.0</td>\n",
       "      <td>0</td>\n",
       "      <td>9.1</td>\n",
       "      <td>0</td>\n",
       "      <td>8.8</td>\n",
       "      <td>8.5</td>\n",
       "      <td>11.1</td>\n",
       "      <td>96</td>\n",
       "      <td>1005.7</td>\n",
       "    </tr>\n",
       "    <tr>\n",
       "      <th>14</th>\n",
       "      <td>01-may-2005 02:00</td>\n",
       "      <td>0</td>\n",
       "      <td>0.1</td>\n",
       "      <td>0</td>\n",
       "      <td>9.6</td>\n",
       "      <td>0</td>\n",
       "      <td>9.3</td>\n",
       "      <td>9.0</td>\n",
       "      <td>11.5</td>\n",
       "      <td>95</td>\n",
       "      <td>1004.8</td>\n",
       "    </tr>\n",
       "  </tbody>\n",
       "</table>\n",
       "</div>"
      ],
      "text/plain": [
       "                                                 date         indicator1  \\\n",
       "0                          Station Name: PHOENIX PARK                NaN   \n",
       "1                               Station Height: 48 M                 NaN   \n",
       "2                                   Latitude:53.364    Longitude: -6.350   \n",
       "3                       date:  -  Date and Time (utc)                NaN   \n",
       "4             rain:  -  Precipitation Amount (mm)\\t                  NaN   \n",
       "5                     temp:  -  Air Temperature (C)\\t                NaN   \n",
       "6                  wetb:  -  Wet Bulb Temperature (C)                NaN   \n",
       "7                 dewpt: -  Dew Point Temperature (C)                NaN   \n",
       "8   vappr: -  Vapour Pressure (hPa)\\t\\t           ...                NaN   \n",
       "9                    rhum:  -  Relative Humidity (%)                 NaN   \n",
       "10            msl:   -  Mean Sea Level Pressure (hPa)                NaN   \n",
       "11                                ind:   -  Indicator                NaN   \n",
       "12                                               date                ind   \n",
       "13                                  01-may-2005 01:00                  0   \n",
       "14                                  01-may-2005 02:00                  0   \n",
       "\n",
       "    rain indicator2  temp indicator3 wetbulbtemp dew_pointt vapour_pressure  \\\n",
       "0    NaN        NaN   NaN        NaN         NaN        NaN             NaN   \n",
       "1    NaN        NaN   NaN        NaN         NaN        NaN             NaN   \n",
       "2    NaN        NaN   NaN        NaN         NaN        NaN             NaN   \n",
       "3    NaN        NaN   NaN        NaN         NaN        NaN             NaN   \n",
       "4    NaN        NaN   NaN        NaN         NaN        NaN             NaN   \n",
       "5    NaN        NaN   NaN        NaN         NaN        NaN             NaN   \n",
       "6    NaN        NaN   NaN        NaN         NaN        NaN             NaN   \n",
       "7    NaN        NaN   NaN        NaN         NaN        NaN             NaN   \n",
       "8    NaN        NaN   NaN        NaN         NaN        NaN             NaN   \n",
       "9    NaN        NaN   NaN        NaN         NaN        NaN             NaN   \n",
       "10   NaN        NaN   NaN        NaN         NaN        NaN             NaN   \n",
       "11   NaN        NaN   NaN        NaN         NaN        NaN             NaN   \n",
       "12  rain        ind  temp        ind        wetb      dewpt           vappr   \n",
       "13   0.0          0   9.1          0         8.8        8.5            11.1   \n",
       "14   0.1          0   9.6          0         9.3        9.0            11.5   \n",
       "\n",
       "   relative_humidity pressure  \n",
       "0                NaN      NaN  \n",
       "1                NaN      NaN  \n",
       "2                NaN      NaN  \n",
       "3                NaN      NaN  \n",
       "4                NaN      NaN  \n",
       "5                NaN      NaN  \n",
       "6                NaN      NaN  \n",
       "7                NaN      NaN  \n",
       "8                NaN      NaN  \n",
       "9                NaN      NaN  \n",
       "10               NaN      NaN  \n",
       "11               NaN      NaN  \n",
       "12              rhum      msl  \n",
       "13                96   1005.7  \n",
       "14                95   1004.8  "
      ]
     },
     "execution_count": 8,
     "metadata": {},
     "output_type": "execute_result"
    }
   ],
   "source": [
    "df_phoenix.head(15)"
   ]
  },
  {
   "cell_type": "code",
   "execution_count": 9,
   "metadata": {},
   "outputs": [],
   "source": [
    "# remove top, legend rows\n",
    "\n",
    "df_phoenix.drop(df_phoenix.index[0:13], inplace=True)"
   ]
  },
  {
   "cell_type": "code",
   "execution_count": 10,
   "metadata": {},
   "outputs": [],
   "source": [
    "df_phoenix.reset_index(drop=True, inplace=True)"
   ]
  },
  {
   "cell_type": "code",
   "execution_count": 11,
   "metadata": {},
   "outputs": [
    {
     "data": {
      "text/html": [
       "<div>\n",
       "<style scoped>\n",
       "    .dataframe tbody tr th:only-of-type {\n",
       "        vertical-align: middle;\n",
       "    }\n",
       "\n",
       "    .dataframe tbody tr th {\n",
       "        vertical-align: top;\n",
       "    }\n",
       "\n",
       "    .dataframe thead th {\n",
       "        text-align: right;\n",
       "    }\n",
       "</style>\n",
       "<table border=\"1\" class=\"dataframe\">\n",
       "  <thead>\n",
       "    <tr style=\"text-align: right;\">\n",
       "      <th></th>\n",
       "      <th>date</th>\n",
       "      <th>indicator1</th>\n",
       "      <th>rain</th>\n",
       "      <th>indicator2</th>\n",
       "      <th>temp</th>\n",
       "      <th>indicator3</th>\n",
       "      <th>wetbulbtemp</th>\n",
       "      <th>dew_pointt</th>\n",
       "      <th>vapour_pressure</th>\n",
       "      <th>relative_humidity</th>\n",
       "      <th>pressure</th>\n",
       "    </tr>\n",
       "  </thead>\n",
       "  <tbody>\n",
       "    <tr>\n",
       "      <th>0</th>\n",
       "      <td>01-may-2005 01:00</td>\n",
       "      <td>0</td>\n",
       "      <td>0.0</td>\n",
       "      <td>0</td>\n",
       "      <td>9.1</td>\n",
       "      <td>0</td>\n",
       "      <td>8.8</td>\n",
       "      <td>8.5</td>\n",
       "      <td>11.1</td>\n",
       "      <td>96</td>\n",
       "      <td>1005.7</td>\n",
       "    </tr>\n",
       "    <tr>\n",
       "      <th>1</th>\n",
       "      <td>01-may-2005 02:00</td>\n",
       "      <td>0</td>\n",
       "      <td>0.1</td>\n",
       "      <td>0</td>\n",
       "      <td>9.6</td>\n",
       "      <td>0</td>\n",
       "      <td>9.3</td>\n",
       "      <td>9.0</td>\n",
       "      <td>11.5</td>\n",
       "      <td>95</td>\n",
       "      <td>1004.8</td>\n",
       "    </tr>\n",
       "  </tbody>\n",
       "</table>\n",
       "</div>"
      ],
      "text/plain": [
       "                date indicator1 rain indicator2 temp indicator3 wetbulbtemp  \\\n",
       "0  01-may-2005 01:00          0  0.0          0  9.1          0         8.8   \n",
       "1  01-may-2005 02:00          0  0.1          0  9.6          0         9.3   \n",
       "\n",
       "  dew_pointt vapour_pressure relative_humidity pressure  \n",
       "0        8.5            11.1                96   1005.7  \n",
       "1        9.0            11.5                95   1004.8  "
      ]
     },
     "execution_count": 11,
     "metadata": {},
     "output_type": "execute_result"
    }
   ],
   "source": [
    "df_phoenix.head(2)"
   ]
  },
  {
   "cell_type": "code",
   "execution_count": 12,
   "metadata": {},
   "outputs": [
    {
     "data": {
      "text/html": [
       "<div>\n",
       "<style scoped>\n",
       "    .dataframe tbody tr th:only-of-type {\n",
       "        vertical-align: middle;\n",
       "    }\n",
       "\n",
       "    .dataframe tbody tr th {\n",
       "        vertical-align: top;\n",
       "    }\n",
       "\n",
       "    .dataframe thead th {\n",
       "        text-align: right;\n",
       "    }\n",
       "</style>\n",
       "<table border=\"1\" class=\"dataframe\">\n",
       "  <thead>\n",
       "    <tr style=\"text-align: right;\">\n",
       "      <th></th>\n",
       "      <th>date</th>\n",
       "      <th>indicator1</th>\n",
       "      <th>rain</th>\n",
       "      <th>indicator2</th>\n",
       "      <th>temp</th>\n",
       "      <th>indicator3</th>\n",
       "      <th>wetbulbtemp</th>\n",
       "      <th>dew_pointt</th>\n",
       "      <th>vapour_pressure</th>\n",
       "      <th>relative_humidity</th>\n",
       "      <th>pressure</th>\n",
       "    </tr>\n",
       "  </thead>\n",
       "  <tbody>\n",
       "    <tr>\n",
       "      <th>111358</th>\n",
       "      <td>31-may-2019 23:00</td>\n",
       "      <td>0</td>\n",
       "      <td>0.0</td>\n",
       "      <td>0</td>\n",
       "      <td>9.8</td>\n",
       "      <td>0</td>\n",
       "      <td>9.2</td>\n",
       "      <td>8.6</td>\n",
       "      <td>11.2</td>\n",
       "      <td>92</td>\n",
       "      <td>1019.6</td>\n",
       "    </tr>\n",
       "    <tr>\n",
       "      <th>111359</th>\n",
       "      <td>01-jun-2019 00:00</td>\n",
       "      <td>0</td>\n",
       "      <td>0.0</td>\n",
       "      <td>0</td>\n",
       "      <td>8.9</td>\n",
       "      <td>0</td>\n",
       "      <td>8.4</td>\n",
       "      <td>7.9</td>\n",
       "      <td>10.6</td>\n",
       "      <td>93</td>\n",
       "      <td>1019.5</td>\n",
       "    </tr>\n",
       "  </tbody>\n",
       "</table>\n",
       "</div>"
      ],
      "text/plain": [
       "                     date indicator1 rain indicator2 temp indicator3  \\\n",
       "111358  31-may-2019 23:00          0  0.0          0  9.8          0   \n",
       "111359  01-jun-2019 00:00          0  0.0          0  8.9          0   \n",
       "\n",
       "       wetbulbtemp dew_pointt vapour_pressure relative_humidity pressure  \n",
       "111358         9.2        8.6            11.2                92   1019.6  \n",
       "111359         8.4        7.9            10.6                93   1019.5  "
      ]
     },
     "execution_count": 12,
     "metadata": {},
     "output_type": "execute_result"
    }
   ],
   "source": [
    "df_phoenix.tail(2)"
   ]
  },
  {
   "cell_type": "markdown",
   "metadata": {},
   "source": [
    "## Assessment of dataset"
   ]
  },
  {
   "cell_type": "code",
   "execution_count": 13,
   "metadata": {},
   "outputs": [
    {
     "name": "stdout",
     "output_type": "stream",
     "text": [
      "Datatypes:\n",
      "\n",
      "date                 object\n",
      "indicator1           object\n",
      "rain                 object\n",
      "indicator2           object\n",
      "temp                 object\n",
      "indicator3           object\n",
      "wetbulbtemp          object\n",
      "dew_pointt           object\n",
      "vapour_pressure      object\n",
      "relative_humidity    object\n",
      "pressure             object\n",
      "dtype: object\n",
      "\n",
      "\n",
      "\n",
      "**************************************************\n",
      "ROWS, COLUMNS, NULLS\n",
      "\n",
      "111360 rows in the dataframe.\n",
      "11 columns in the dataframe.\n",
      "\n",
      "0 null values in the dataframe.\n",
      "0 duplicate rows\n",
      "0 duplicate columns\n",
      "\n",
      "\n",
      "Constant numeric columns: FALSE\n",
      "\n",
      "\n",
      "\n",
      "**************************************************\n",
      "DESCRIPTION\n",
      "\n",
      "                    count  unique                top   freq\n",
      "date               111360  111360  29-may-2012 17:00      1\n",
      "indicator1         111360       4                  0  65296\n",
      "rain               111360     101                0.0  96230\n",
      "indicator2         111360       3                  0  65280\n",
      "temp               111360     686               12.1    527\n",
      "indicator3         111360       3                  0  64978\n",
      "wetbulbtemp        111360     570               10.4    592\n",
      "dew_pointt         111360     576                       545\n",
      "vapour_pressure    111360     382                8.3    854\n",
      "relative_humidity  111360     153                 94   2502\n",
      "pressure           111360    1547             1017.3    253\n",
      "\n",
      "\n",
      "\n",
      "**************************************************\n",
      "FEATURE CARDINALITIES\n",
      "\n",
      "Feature                                        Distinct Values\n",
      "-------                                        --------------- \n",
      "\n",
      "date                                           111360\n",
      "indicator1                                     4\n",
      "rain                                           101\n",
      "indicator2                                     3\n",
      "temp                                           686\n",
      "indicator3                                     3\n",
      "wetbulbtemp                                    570\n",
      "dew_pointt                                     576\n",
      "vapour_pressure                                382\n",
      "relative_humidity                              153\n",
      "pressure                                       1547\n",
      "\n",
      "\n",
      "**************************************************\n",
      "MEMORY\n",
      "\n",
      "<class 'pandas.core.frame.DataFrame'>\n",
      "RangeIndex: 111360 entries, 0 to 111359\n",
      "Data columns (total 11 columns):\n",
      "date                 111360 non-null object\n",
      "indicator1           111360 non-null object\n",
      "rain                 111360 non-null object\n",
      "indicator2           111360 non-null object\n",
      "temp                 111360 non-null object\n",
      "indicator3           111360 non-null object\n",
      "wetbulbtemp          111360 non-null object\n",
      "dew_pointt           111360 non-null object\n",
      "vapour_pressure      111360 non-null object\n",
      "relative_humidity    111360 non-null object\n",
      "pressure             111360 non-null object\n",
      "dtypes: object(11)\n",
      "memory usage: 62.1 MB\n",
      "None\n",
      "\n",
      "\n",
      "Index                     80\n",
      "date                 8240640\n",
      "indicator1           5789737\n",
      "rain                 6681144\n",
      "indicator2           5791302\n",
      "temp                 5431482\n",
      "indicator3           5791302\n",
      "wetbulbtemp          5424566\n",
      "dew_pointt           5419972\n",
      "vapour_pressure      5428263\n",
      "relative_humidity    5516553\n",
      "pressure             5583329\n",
      "dtype: int64\n",
      "\n",
      "\n",
      "**************************************************\n",
      "HEAD\n",
      "\n",
      "                date indicator1 rain indicator2  temp indicator3 wetbulbtemp  \\\n",
      "0  01-may-2005 01:00          0  0.0          0   9.1          0         8.8   \n",
      "1  01-may-2005 02:00          0  0.1          0   9.6          0         9.3   \n",
      "2  01-may-2005 03:00          0  0.0          0  10.0          0         9.7   \n",
      "3  01-may-2005 04:00          0  0.0          0  10.1          0         9.8   \n",
      "4  01-may-2005 05:00          0  0.0          0  10.2          0         9.8   \n",
      "5  01-may-2005 06:00          0  0.0          0  10.6          0        10.1   \n",
      "6  01-may-2005 07:00          0  0.0          0  10.8          0        10.3   \n",
      "7  01-may-2005 08:00          0  0.1          0  12.2          0        11.0   \n",
      "8  01-may-2005 09:00          0  0.0          0  13.4          0        11.3   \n",
      "9  01-may-2005 10:00          0  0.0          0  16.0          0        13.3   \n",
      "\n",
      "  dew_pointt vapour_pressure relative_humidity pressure  \n",
      "0        8.5            11.1                96   1005.7  \n",
      "1        9.0            11.5                95   1004.8  \n",
      "2        9.3            11.7                95   1003.5  \n",
      "3        9.4            11.8                95   1002.8  \n",
      "4        9.4            11.8                94   1002.2  \n",
      "5        9.5            11.9                93   1001.4  \n",
      "6        9.9            12.2                93   1002.0  \n",
      "7        9.8            12.1                85   1001.5  \n",
      "8        9.4            11.8                76   1002.0  \n",
      "9       10.9            13.1                71   1001.6  \n",
      "\n",
      "\n",
      "**************************************************\n",
      "TAIL\n",
      "\n",
      "                     date indicator1 rain indicator2  temp indicator3  \\\n",
      "111350  31-may-2019 15:00          0  0.0          0  19.2          0   \n",
      "111351  31-may-2019 16:00          0  0.0          0  17.1          0   \n",
      "111352  31-may-2019 17:00          0  0.0          0  16.8          0   \n",
      "111353  31-may-2019 18:00          0  0.0          0  16.3          0   \n",
      "111354  31-may-2019 19:00          0  0.1          0  14.8          0   \n",
      "111355  31-may-2019 20:00          0  0.0          0  13.8          0   \n",
      "111356  31-may-2019 21:00          0  0.0          0  12.4          0   \n",
      "111357  31-may-2019 22:00          0  0.0          0  11.1          0   \n",
      "111358  31-may-2019 23:00          0  0.0          0   9.8          0   \n",
      "111359  01-jun-2019 00:00          0  0.0          0   8.9          0   \n",
      "\n",
      "       wetbulbtemp dew_pointt vapour_pressure relative_humidity pressure  \n",
      "111350        15.2       12.1            14.1                63   1016.2  \n",
      "111351        14.2       11.9            13.9                71   1016.2  \n",
      "111352        14.2       12.1            14.1                74   1016.3  \n",
      "111353        14.2       12.6            14.6                78   1016.6  \n",
      "111354          13       11.4            13.5                79   1017.3  \n",
      "111355          12       10.3            12.5                79   1017.8  \n",
      "111356        11.1        9.9            12.2                84   1018.8  \n",
      "111357        10.3        9.5            11.9                90   1019.3  \n",
      "111358         9.2        8.6            11.2                92   1019.6  \n",
      "111359         8.4        7.9            10.6                93   1019.5  \n"
     ]
    }
   ],
   "source": [
    "# apply custom assessment function for dataset characteristics\n",
    "\n",
    "assess_df(df_phoenix)"
   ]
  },
  {
   "cell_type": "markdown",
   "metadata": {},
   "source": [
    "## Dropping of non-required columns"
   ]
  },
  {
   "cell_type": "markdown",
   "metadata": {},
   "source": [
    "The below columns shall be dropped. \n",
    "\n",
    "<br>\n",
    "\n",
    "Wet Bulb Temp, Dew Point, Vapour Pressure, and Pressure do not influence persons taking the bus. \n",
    "\n",
    "<br>\n",
    "\n",
    "Indicator columns contain no useful information; meaning unclear in addition.\n",
    "\n",
    "<br>\n",
    "\n",
    "While humidity might influence persons behaviour, humidity is relative constant year-round in Dublin:\n",
    "\n",
    "<br>\n",
    "\n",
    "https://weather-and-climate.com/average-monthly-Humidity-perc,Dublin,Ireland"
   ]
  },
  {
   "cell_type": "code",
   "execution_count": 14,
   "metadata": {},
   "outputs": [],
   "source": [
    "# drop unneeded / uninformative columns\n",
    "\n",
    "df_phoenix.drop(['indicator1',\n",
    "                'indicator2', \n",
    "                'indicator3',\n",
    "                'wetbulbtemp',\n",
    "                'dew_pointt',\n",
    "                'vapour_pressure',\n",
    "                'relative_humidity',\n",
    "                'pressure'], axis=1, inplace=True\n",
    "               )"
   ]
  },
  {
   "cell_type": "markdown",
   "metadata": {},
   "source": [
    "## Setting of appropriate datatypes"
   ]
  },
  {
   "cell_type": "markdown",
   "metadata": {},
   "source": [
    "### Whitespace anomolies will prevent conversion: removing whitespaces"
   ]
  },
  {
   "cell_type": "code",
   "execution_count": 15,
   "metadata": {},
   "outputs": [
    {
     "data": {
      "text/plain": [
       "date    object\n",
       "rain    object\n",
       "temp    object\n",
       "dtype: object"
      ]
     },
     "execution_count": 15,
     "metadata": {},
     "output_type": "execute_result"
    }
   ],
   "source": [
    "df_phoenix.dtypes"
   ]
  },
  {
   "cell_type": "code",
   "execution_count": 16,
   "metadata": {},
   "outputs": [
    {
     "data": {
      "text/plain": [
       "243"
      ]
     },
     "execution_count": 16,
     "metadata": {},
     "output_type": "execute_result"
    }
   ],
   "source": [
    "# check single whitespace strings in temperature column\n",
    "\n",
    "len(df_phoenix.loc[df_phoenix.temp == ' ', 'temp'])"
   ]
  },
  {
   "cell_type": "code",
   "execution_count": 17,
   "metadata": {},
   "outputs": [
    {
     "data": {
      "text/plain": [
       "233"
      ]
     },
     "execution_count": 17,
     "metadata": {},
     "output_type": "execute_result"
    }
   ],
   "source": [
    "# check single whitespace strings in rainfall column\n",
    "\n",
    "len(df_phoenix.loc[df_phoenix.rain == ' ', 'temp'])"
   ]
  },
  {
   "cell_type": "code",
   "execution_count": 18,
   "metadata": {},
   "outputs": [],
   "source": [
    "# temperature\n",
    "# replace single whitespace cells with NaN value\n",
    "df_phoenix.temp.replace(' ', np.nan, inplace=True)\n",
    "\n",
    "# remove any leading / trailing whitespace, as precaution\n",
    "df_phoenix.temp = df_phoenix.temp.str.strip()"
   ]
  },
  {
   "cell_type": "code",
   "execution_count": 19,
   "metadata": {},
   "outputs": [],
   "source": [
    "# repeat the same procedure for rainfall\n",
    "\n",
    "df_phoenix.rain.replace(' ', np.nan, inplace=True)\n",
    "\n",
    "df_phoenix.rain = df_phoenix.rain.str.strip()"
   ]
  },
  {
   "cell_type": "code",
   "execution_count": 20,
   "metadata": {},
   "outputs": [
    {
     "data": {
      "text/plain": [
       "0"
      ]
     },
     "execution_count": 20,
     "metadata": {},
     "output_type": "execute_result"
    }
   ],
   "source": [
    "# check for successful conversion to NaN: temperature\n",
    "\n",
    "len(df_phoenix.loc[df_phoenix.rain == ' ', 'temp'])"
   ]
  },
  {
   "cell_type": "code",
   "execution_count": 21,
   "metadata": {},
   "outputs": [
    {
     "data": {
      "text/plain": [
       "0"
      ]
     },
     "execution_count": 21,
     "metadata": {},
     "output_type": "execute_result"
    }
   ],
   "source": [
    "# check for successful conversion to NaN: rainfall\n",
    "\n",
    "len(df_phoenix.loc[df_phoenix.rain == ' ', 'rain'])"
   ]
  },
  {
   "cell_type": "markdown",
   "metadata": {},
   "source": [
    "### Checking data ranges for memory-optimised converstion to data sub-types"
   ]
  },
  {
   "cell_type": "code",
   "execution_count": 22,
   "metadata": {},
   "outputs": [],
   "source": [
    "# convert to a numeric type to allow for comparison operators\n",
    "\n",
    "df_phoenix = df_phoenix.astype({\n",
    "    'rain':'float',\n",
    "    'temp':'float'\n",
    "})"
   ]
  },
  {
   "cell_type": "code",
   "execution_count": 23,
   "metadata": {},
   "outputs": [
    {
     "data": {
      "text/plain": [
       "23.9"
      ]
     },
     "execution_count": 23,
     "metadata": {},
     "output_type": "execute_result"
    }
   ],
   "source": [
    "# find the max rain value\n",
    "\n",
    "df_phoenix.rain.value_counts().index.max()"
   ]
  },
  {
   "cell_type": "code",
   "execution_count": 24,
   "metadata": {},
   "outputs": [
    {
     "data": {
      "text/plain": [
       "0.0"
      ]
     },
     "execution_count": 24,
     "metadata": {},
     "output_type": "execute_result"
    }
   ],
   "source": [
    "# find the min rain value\n",
    "\n",
    "df_phoenix.rain.value_counts().index.min()"
   ]
  },
  {
   "cell_type": "code",
   "execution_count": 25,
   "metadata": {},
   "outputs": [
    {
     "data": {
      "text/plain": [
       "27.1"
      ]
     },
     "execution_count": 25,
     "metadata": {},
     "output_type": "execute_result"
    }
   ],
   "source": [
    "# find the max temp value\n",
    "\n",
    "df_phoenix.temp.value_counts().index.max()"
   ]
  },
  {
   "cell_type": "code",
   "execution_count": 26,
   "metadata": {},
   "outputs": [
    {
     "data": {
      "text/plain": [
       "-10.4"
      ]
     },
     "execution_count": 26,
     "metadata": {},
     "output_type": "execute_result"
    }
   ],
   "source": [
    "# find the min temp value\n",
    "\n",
    "df_phoenix.temp.value_counts().index.min()"
   ]
  },
  {
   "cell_type": "code",
   "execution_count": 27,
   "metadata": {},
   "outputs": [],
   "source": [
    "# a float16 sub-data types is sufficient to cover these ranges\n",
    "# convert to float16\n",
    "\n",
    "df_phoenix = df_phoenix.astype({\n",
    "    'rain':'float16',\n",
    "    'temp':'float16'\n",
    "})"
   ]
  },
  {
   "cell_type": "markdown",
   "metadata": {},
   "source": [
    "### Set dates as datetime type"
   ]
  },
  {
   "cell_type": "code",
   "execution_count": 28,
   "metadata": {},
   "outputs": [],
   "source": [
    "df_phoenix['date'] = pd.to_datetime(df_phoenix.date, dayfirst=True)"
   ]
  },
  {
   "cell_type": "code",
   "execution_count": 29,
   "metadata": {},
   "outputs": [
    {
     "data": {
      "text/html": [
       "<div>\n",
       "<style scoped>\n",
       "    .dataframe tbody tr th:only-of-type {\n",
       "        vertical-align: middle;\n",
       "    }\n",
       "\n",
       "    .dataframe tbody tr th {\n",
       "        vertical-align: top;\n",
       "    }\n",
       "\n",
       "    .dataframe thead th {\n",
       "        text-align: right;\n",
       "    }\n",
       "</style>\n",
       "<table border=\"1\" class=\"dataframe\">\n",
       "  <thead>\n",
       "    <tr style=\"text-align: right;\">\n",
       "      <th></th>\n",
       "      <th>date</th>\n",
       "      <th>rain</th>\n",
       "      <th>temp</th>\n",
       "    </tr>\n",
       "  </thead>\n",
       "  <tbody>\n",
       "    <tr>\n",
       "      <th>0</th>\n",
       "      <td>2005-05-01 01:00:00</td>\n",
       "      <td>0.000000</td>\n",
       "      <td>9.101562</td>\n",
       "    </tr>\n",
       "    <tr>\n",
       "      <th>1</th>\n",
       "      <td>2005-05-01 02:00:00</td>\n",
       "      <td>0.099976</td>\n",
       "      <td>9.601562</td>\n",
       "    </tr>\n",
       "    <tr>\n",
       "      <th>2</th>\n",
       "      <td>2005-05-01 03:00:00</td>\n",
       "      <td>0.000000</td>\n",
       "      <td>10.000000</td>\n",
       "    </tr>\n",
       "    <tr>\n",
       "      <th>3</th>\n",
       "      <td>2005-05-01 04:00:00</td>\n",
       "      <td>0.000000</td>\n",
       "      <td>10.101562</td>\n",
       "    </tr>\n",
       "    <tr>\n",
       "      <th>4</th>\n",
       "      <td>2005-05-01 05:00:00</td>\n",
       "      <td>0.000000</td>\n",
       "      <td>10.203125</td>\n",
       "    </tr>\n",
       "  </tbody>\n",
       "</table>\n",
       "</div>"
      ],
      "text/plain": [
       "                 date      rain       temp\n",
       "0 2005-05-01 01:00:00  0.000000   9.101562\n",
       "1 2005-05-01 02:00:00  0.099976   9.601562\n",
       "2 2005-05-01 03:00:00  0.000000  10.000000\n",
       "3 2005-05-01 04:00:00  0.000000  10.101562\n",
       "4 2005-05-01 05:00:00  0.000000  10.203125"
      ]
     },
     "execution_count": 29,
     "metadata": {},
     "output_type": "execute_result"
    }
   ],
   "source": [
    "df_phoenix.head()"
   ]
  },
  {
   "cell_type": "markdown",
   "metadata": {},
   "source": [
    "## Retaining only date-range of interest (period of bus data)"
   ]
  },
  {
   "cell_type": "code",
   "execution_count": 30,
   "metadata": {},
   "outputs": [],
   "source": [
    "start_timestamp = pd.to_datetime('1/1/2018', dayfirst=True)"
   ]
  },
  {
   "cell_type": "code",
   "execution_count": 31,
   "metadata": {},
   "outputs": [
    {
     "data": {
      "text/plain": [
       "Timestamp('2018-01-01 00:00:00')"
      ]
     },
     "execution_count": 31,
     "metadata": {},
     "output_type": "execute_result"
    }
   ],
   "source": [
    "start_timestamp"
   ]
  },
  {
   "cell_type": "code",
   "execution_count": 32,
   "metadata": {},
   "outputs": [],
   "source": [
    "end_timestamp = pd.to_datetime('31/12/2018', dayfirst=True)"
   ]
  },
  {
   "cell_type": "code",
   "execution_count": 33,
   "metadata": {},
   "outputs": [
    {
     "data": {
      "text/plain": [
       "Timestamp('2018-12-31 00:00:00')"
      ]
     },
     "execution_count": 33,
     "metadata": {},
     "output_type": "execute_result"
    }
   ],
   "source": [
    "end_timestamp"
   ]
  },
  {
   "cell_type": "code",
   "execution_count": 34,
   "metadata": {},
   "outputs": [],
   "source": [
    "df_phoenix = df_phoenix.loc[(df_phoenix.date >= start_timestamp) &\\\n",
    "                           (df_phoenix.date <= end_timestamp)]"
   ]
  },
  {
   "cell_type": "code",
   "execution_count": 35,
   "metadata": {},
   "outputs": [
    {
     "data": {
      "text/html": [
       "<div>\n",
       "<style scoped>\n",
       "    .dataframe tbody tr th:only-of-type {\n",
       "        vertical-align: middle;\n",
       "    }\n",
       "\n",
       "    .dataframe tbody tr th {\n",
       "        vertical-align: top;\n",
       "    }\n",
       "\n",
       "    .dataframe thead th {\n",
       "        text-align: right;\n",
       "    }\n",
       "</style>\n",
       "<table border=\"1\" class=\"dataframe\">\n",
       "  <thead>\n",
       "    <tr style=\"text-align: right;\">\n",
       "      <th></th>\n",
       "      <th>date</th>\n",
       "      <th>rain</th>\n",
       "      <th>temp</th>\n",
       "    </tr>\n",
       "  </thead>\n",
       "  <tbody>\n",
       "    <tr>\n",
       "      <th>98975</th>\n",
       "      <td>2018-01-01 00:00:00</td>\n",
       "      <td>0.000000</td>\n",
       "      <td>NaN</td>\n",
       "    </tr>\n",
       "    <tr>\n",
       "      <th>98976</th>\n",
       "      <td>2018-01-01 01:00:00</td>\n",
       "      <td>0.099976</td>\n",
       "      <td>NaN</td>\n",
       "    </tr>\n",
       "    <tr>\n",
       "      <th>98977</th>\n",
       "      <td>2018-01-01 02:00:00</td>\n",
       "      <td>0.000000</td>\n",
       "      <td>NaN</td>\n",
       "    </tr>\n",
       "    <tr>\n",
       "      <th>98978</th>\n",
       "      <td>2018-01-01 03:00:00</td>\n",
       "      <td>0.000000</td>\n",
       "      <td>NaN</td>\n",
       "    </tr>\n",
       "    <tr>\n",
       "      <th>98979</th>\n",
       "      <td>2018-01-01 04:00:00</td>\n",
       "      <td>0.000000</td>\n",
       "      <td>NaN</td>\n",
       "    </tr>\n",
       "  </tbody>\n",
       "</table>\n",
       "</div>"
      ],
      "text/plain": [
       "                     date      rain  temp\n",
       "98975 2018-01-01 00:00:00  0.000000   NaN\n",
       "98976 2018-01-01 01:00:00  0.099976   NaN\n",
       "98977 2018-01-01 02:00:00  0.000000   NaN\n",
       "98978 2018-01-01 03:00:00  0.000000   NaN\n",
       "98979 2018-01-01 04:00:00  0.000000   NaN"
      ]
     },
     "execution_count": 35,
     "metadata": {},
     "output_type": "execute_result"
    }
   ],
   "source": [
    "df_phoenix.head(5)"
   ]
  },
  {
   "cell_type": "code",
   "execution_count": 36,
   "metadata": {},
   "outputs": [],
   "source": [
    "df_phoenix.reset_index(drop=True, inplace=True)"
   ]
  },
  {
   "cell_type": "code",
   "execution_count": 37,
   "metadata": {},
   "outputs": [
    {
     "data": {
      "text/html": [
       "<div>\n",
       "<style scoped>\n",
       "    .dataframe tbody tr th:only-of-type {\n",
       "        vertical-align: middle;\n",
       "    }\n",
       "\n",
       "    .dataframe tbody tr th {\n",
       "        vertical-align: top;\n",
       "    }\n",
       "\n",
       "    .dataframe thead th {\n",
       "        text-align: right;\n",
       "    }\n",
       "</style>\n",
       "<table border=\"1\" class=\"dataframe\">\n",
       "  <thead>\n",
       "    <tr style=\"text-align: right;\">\n",
       "      <th></th>\n",
       "      <th>date</th>\n",
       "      <th>rain</th>\n",
       "      <th>temp</th>\n",
       "    </tr>\n",
       "  </thead>\n",
       "  <tbody>\n",
       "    <tr>\n",
       "      <th>0</th>\n",
       "      <td>2018-01-01 00:00:00</td>\n",
       "      <td>0.000000</td>\n",
       "      <td>NaN</td>\n",
       "    </tr>\n",
       "    <tr>\n",
       "      <th>1</th>\n",
       "      <td>2018-01-01 01:00:00</td>\n",
       "      <td>0.099976</td>\n",
       "      <td>NaN</td>\n",
       "    </tr>\n",
       "    <tr>\n",
       "      <th>2</th>\n",
       "      <td>2018-01-01 02:00:00</td>\n",
       "      <td>0.000000</td>\n",
       "      <td>NaN</td>\n",
       "    </tr>\n",
       "    <tr>\n",
       "      <th>3</th>\n",
       "      <td>2018-01-01 03:00:00</td>\n",
       "      <td>0.000000</td>\n",
       "      <td>NaN</td>\n",
       "    </tr>\n",
       "    <tr>\n",
       "      <th>4</th>\n",
       "      <td>2018-01-01 04:00:00</td>\n",
       "      <td>0.000000</td>\n",
       "      <td>NaN</td>\n",
       "    </tr>\n",
       "  </tbody>\n",
       "</table>\n",
       "</div>"
      ],
      "text/plain": [
       "                 date      rain  temp\n",
       "0 2018-01-01 00:00:00  0.000000   NaN\n",
       "1 2018-01-01 01:00:00  0.099976   NaN\n",
       "2 2018-01-01 02:00:00  0.000000   NaN\n",
       "3 2018-01-01 03:00:00  0.000000   NaN\n",
       "4 2018-01-01 04:00:00  0.000000   NaN"
      ]
     },
     "execution_count": 37,
     "metadata": {},
     "output_type": "execute_result"
    }
   ],
   "source": [
    "df_phoenix.head()"
   ]
  },
  {
   "cell_type": "markdown",
   "metadata": {},
   "source": [
    "# CASEMENT— Initial Changes: removing unneeded; setting datatypes\n"
   ]
  },
  {
   "cell_type": "code",
   "execution_count": 38,
   "metadata": {},
   "outputs": [
    {
     "data": {
      "text/html": [
       "<div>\n",
       "<style scoped>\n",
       "    .dataframe tbody tr th:only-of-type {\n",
       "        vertical-align: middle;\n",
       "    }\n",
       "\n",
       "    .dataframe tbody tr th {\n",
       "        vertical-align: top;\n",
       "    }\n",
       "\n",
       "    .dataframe thead th {\n",
       "        text-align: right;\n",
       "    }\n",
       "</style>\n",
       "<table border=\"1\" class=\"dataframe\">\n",
       "  <thead>\n",
       "    <tr style=\"text-align: right;\">\n",
       "      <th></th>\n",
       "      <th>date</th>\n",
       "      <th>rain</th>\n",
       "      <th>temp</th>\n",
       "    </tr>\n",
       "  </thead>\n",
       "  <tbody>\n",
       "    <tr>\n",
       "      <th>0</th>\n",
       "      <td>01-jan-1989 00:00</td>\n",
       "      <td>0.0</td>\n",
       "      <td>7.2</td>\n",
       "    </tr>\n",
       "    <tr>\n",
       "      <th>1</th>\n",
       "      <td>01-jan-1989 01:00</td>\n",
       "      <td>0.0</td>\n",
       "      <td>7.4</td>\n",
       "    </tr>\n",
       "    <tr>\n",
       "      <th>2</th>\n",
       "      <td>01-jan-1989 02:00</td>\n",
       "      <td>0.0</td>\n",
       "      <td>7.3</td>\n",
       "    </tr>\n",
       "    <tr>\n",
       "      <th>3</th>\n",
       "      <td>01-jan-1989 03:00</td>\n",
       "      <td>0.0</td>\n",
       "      <td>7.2</td>\n",
       "    </tr>\n",
       "    <tr>\n",
       "      <th>4</th>\n",
       "      <td>01-jan-1989 04:00</td>\n",
       "      <td>0.0</td>\n",
       "      <td>7.3</td>\n",
       "    </tr>\n",
       "  </tbody>\n",
       "</table>\n",
       "</div>"
      ],
      "text/plain": [
       "                date  rain  temp\n",
       "0  01-jan-1989 00:00   0.0   7.2\n",
       "1  01-jan-1989 01:00   0.0   7.4\n",
       "2  01-jan-1989 02:00   0.0   7.3\n",
       "3  01-jan-1989 03:00   0.0   7.2\n",
       "4  01-jan-1989 04:00   0.0   7.3"
      ]
     },
     "execution_count": 38,
     "metadata": {},
     "output_type": "execute_result"
    }
   ],
   "source": [
    "df_casement.head()"
   ]
  },
  {
   "cell_type": "code",
   "execution_count": 39,
   "metadata": {},
   "outputs": [
    {
     "name": "stdout",
     "output_type": "stream",
     "text": [
      "Datatypes:\n",
      "\n",
      "date     object\n",
      "rain    float64\n",
      "temp    float64\n",
      "dtype: object\n",
      "\n",
      "\n",
      "\n",
      "**************************************************\n",
      "ROWS, COLUMNS, NULLS\n",
      "\n",
      "266593 rows in the dataframe.\n",
      "3 columns in the dataframe.\n",
      "\n",
      "0 null values in the dataframe.\n",
      "0 duplicate rows\n",
      "0 duplicate columns\n",
      "\n",
      "\n",
      "Constant numeric columns: FALSE\n",
      "\n",
      "\n",
      "\n",
      "**************************************************\n",
      "DESCRIPTION\n",
      "\n",
      "         count      mean       std   min  25%  50%   75%   max\n",
      "rain  266593.0  0.087044  0.424337   0.0  0.0  0.0   0.0  19.7\n",
      "temp  266593.0  9.821057  5.071768 -15.4  6.3  9.9  13.4  30.3\n",
      "\n",
      "\n",
      "\n",
      "**************************************************\n",
      "FEATURE CARDINALITIES\n",
      "\n",
      "Feature                                        Distinct Values\n",
      "-------                                        --------------- \n",
      "\n",
      "date                                           266593\n",
      "rain                                           118\n",
      "temp                                           402\n",
      "\n",
      "\n",
      "**************************************************\n",
      "MEMORY\n",
      "\n",
      "<class 'pandas.core.frame.DataFrame'>\n",
      "RangeIndex: 266593 entries, 0 to 266592\n",
      "Data columns (total 3 columns):\n",
      "date    266593 non-null object\n",
      "rain    266593 non-null float64\n",
      "temp    266593 non-null float64\n",
      "dtypes: float64(2), object(1)\n",
      "memory usage: 22.9 MB\n",
      "None\n",
      "\n",
      "\n",
      "Index          80\n",
      "date     19727882\n",
      "rain      2132744\n",
      "temp      2132744\n",
      "dtype: int64\n",
      "\n",
      "\n",
      "**************************************************\n",
      "HEAD\n",
      "\n",
      "                date  rain  temp\n",
      "0  01-jan-1989 00:00   0.0   7.2\n",
      "1  01-jan-1989 01:00   0.0   7.4\n",
      "2  01-jan-1989 02:00   0.0   7.3\n",
      "3  01-jan-1989 03:00   0.0   7.2\n",
      "4  01-jan-1989 04:00   0.0   7.3\n",
      "5  01-jan-1989 05:00   0.0   7.3\n",
      "6  01-jan-1989 06:00   0.0   6.6\n",
      "7  01-jan-1989 07:00   0.0   7.1\n",
      "8  01-jan-1989 08:00   0.0   7.5\n",
      "9  01-jan-1989 09:00   0.0   7.4\n",
      "\n",
      "\n",
      "**************************************************\n",
      "TAIL\n",
      "\n",
      "                     date  rain  temp\n",
      "266583  31-may-2019 15:00   0.0  16.9\n",
      "266584  31-may-2019 16:00   0.0  17.1\n",
      "266585  31-may-2019 17:00   0.0  15.9\n",
      "266586  31-may-2019 18:00   0.0  15.7\n",
      "266587  31-may-2019 19:00   0.1  14.8\n",
      "266588  31-may-2019 20:00   0.0  13.7\n",
      "266589  31-may-2019 21:00   0.0  12.3\n",
      "266590  31-may-2019 22:00   0.0  10.1\n",
      "266591  31-may-2019 23:00   0.0  10.8\n",
      "266592  01-jun-2019 00:00   0.0   9.5\n"
     ]
    }
   ],
   "source": [
    "assess_df(df_casement)"
   ]
  },
  {
   "cell_type": "markdown",
   "metadata": {},
   "source": [
    "Note: Casement dataset has temperature data"
   ]
  },
  {
   "cell_type": "markdown",
   "metadata": {},
   "source": [
    "## Check for the whitespace issue in casement dataset"
   ]
  },
  {
   "cell_type": "code",
   "execution_count": 40,
   "metadata": {},
   "outputs": [
    {
     "name": "stderr",
     "output_type": "stream",
     "text": [
      "/Users/davidodwyer/anaconda3/envs/analytics/lib/python3.7/site-packages/pandas/core/ops.py:1649: FutureWarning: elementwise comparison failed; returning scalar instead, but in the future will perform elementwise comparison\n",
      "  result = method(y)\n"
     ]
    },
    {
     "data": {
      "text/plain": [
       "0"
      ]
     },
     "execution_count": 40,
     "metadata": {},
     "output_type": "execute_result"
    }
   ],
   "source": [
    "# check single whitespace strings in temperature column\n",
    "\n",
    "len(df_casement.loc[df_casement.temp == ' ', 'temp'])"
   ]
  },
  {
   "cell_type": "code",
   "execution_count": 41,
   "metadata": {},
   "outputs": [
    {
     "data": {
      "text/plain": [
       "0"
      ]
     },
     "execution_count": 41,
     "metadata": {},
     "output_type": "execute_result"
    }
   ],
   "source": [
    "# check single whitespace strings in rainfall column\n",
    "\n",
    "len(df_casement.loc[df_casement.rain == ' ', 'rain'])"
   ]
  },
  {
   "cell_type": "markdown",
   "metadata": {},
   "source": [
    "## Convert to float16"
   ]
  },
  {
   "cell_type": "code",
   "execution_count": 42,
   "metadata": {},
   "outputs": [],
   "source": [
    "df_casement = df_casement.astype({\n",
    "    'rain':'float16',\n",
    "    'temp':'float16'\n",
    "})"
   ]
  },
  {
   "cell_type": "markdown",
   "metadata": {},
   "source": [
    "## Convert date to type datetime"
   ]
  },
  {
   "cell_type": "code",
   "execution_count": 43,
   "metadata": {},
   "outputs": [],
   "source": [
    "df_casement['date'] = pd.to_datetime(df_casement.date, dayfirst=True)"
   ]
  },
  {
   "cell_type": "markdown",
   "metadata": {},
   "source": [
    "## Retain only date-range of interest"
   ]
  },
  {
   "cell_type": "code",
   "execution_count": 44,
   "metadata": {},
   "outputs": [],
   "source": [
    "df_casement = df_casement.loc[(df_casement.date >= start_timestamp) &\\\n",
    "                           (df_casement.date <= end_timestamp)]"
   ]
  },
  {
   "cell_type": "code",
   "execution_count": 45,
   "metadata": {},
   "outputs": [
    {
     "data": {
      "text/html": [
       "<div>\n",
       "<style scoped>\n",
       "    .dataframe tbody tr th:only-of-type {\n",
       "        vertical-align: middle;\n",
       "    }\n",
       "\n",
       "    .dataframe tbody tr th {\n",
       "        vertical-align: top;\n",
       "    }\n",
       "\n",
       "    .dataframe thead th {\n",
       "        text-align: right;\n",
       "    }\n",
       "</style>\n",
       "<table border=\"1\" class=\"dataframe\">\n",
       "  <thead>\n",
       "    <tr style=\"text-align: right;\">\n",
       "      <th></th>\n",
       "      <th>date</th>\n",
       "      <th>rain</th>\n",
       "      <th>temp</th>\n",
       "    </tr>\n",
       "  </thead>\n",
       "  <tbody>\n",
       "    <tr>\n",
       "      <th>254208</th>\n",
       "      <td>2018-01-01 00:00:00</td>\n",
       "      <td>0.099976</td>\n",
       "      <td>4.000000</td>\n",
       "    </tr>\n",
       "    <tr>\n",
       "      <th>254209</th>\n",
       "      <td>2018-01-01 01:00:00</td>\n",
       "      <td>0.000000</td>\n",
       "      <td>4.300781</td>\n",
       "    </tr>\n",
       "    <tr>\n",
       "      <th>254210</th>\n",
       "      <td>2018-01-01 02:00:00</td>\n",
       "      <td>0.000000</td>\n",
       "      <td>4.300781</td>\n",
       "    </tr>\n",
       "    <tr>\n",
       "      <th>254211</th>\n",
       "      <td>2018-01-01 03:00:00</td>\n",
       "      <td>0.000000</td>\n",
       "      <td>4.699219</td>\n",
       "    </tr>\n",
       "    <tr>\n",
       "      <th>254212</th>\n",
       "      <td>2018-01-01 04:00:00</td>\n",
       "      <td>0.000000</td>\n",
       "      <td>4.800781</td>\n",
       "    </tr>\n",
       "  </tbody>\n",
       "</table>\n",
       "</div>"
      ],
      "text/plain": [
       "                      date      rain      temp\n",
       "254208 2018-01-01 00:00:00  0.099976  4.000000\n",
       "254209 2018-01-01 01:00:00  0.000000  4.300781\n",
       "254210 2018-01-01 02:00:00  0.000000  4.300781\n",
       "254211 2018-01-01 03:00:00  0.000000  4.699219\n",
       "254212 2018-01-01 04:00:00  0.000000  4.800781"
      ]
     },
     "execution_count": 45,
     "metadata": {},
     "output_type": "execute_result"
    }
   ],
   "source": [
    "df_casement.head()"
   ]
  },
  {
   "cell_type": "code",
   "execution_count": 46,
   "metadata": {},
   "outputs": [],
   "source": [
    "df_casement.reset_index(drop=True, inplace=True)"
   ]
  },
  {
   "cell_type": "code",
   "execution_count": 47,
   "metadata": {},
   "outputs": [
    {
     "data": {
      "text/html": [
       "<div>\n",
       "<style scoped>\n",
       "    .dataframe tbody tr th:only-of-type {\n",
       "        vertical-align: middle;\n",
       "    }\n",
       "\n",
       "    .dataframe tbody tr th {\n",
       "        vertical-align: top;\n",
       "    }\n",
       "\n",
       "    .dataframe thead th {\n",
       "        text-align: right;\n",
       "    }\n",
       "</style>\n",
       "<table border=\"1\" class=\"dataframe\">\n",
       "  <thead>\n",
       "    <tr style=\"text-align: right;\">\n",
       "      <th></th>\n",
       "      <th>date</th>\n",
       "      <th>rain</th>\n",
       "      <th>temp</th>\n",
       "    </tr>\n",
       "  </thead>\n",
       "  <tbody>\n",
       "    <tr>\n",
       "      <th>0</th>\n",
       "      <td>2018-01-01 00:00:00</td>\n",
       "      <td>0.099976</td>\n",
       "      <td>4.000000</td>\n",
       "    </tr>\n",
       "    <tr>\n",
       "      <th>1</th>\n",
       "      <td>2018-01-01 01:00:00</td>\n",
       "      <td>0.000000</td>\n",
       "      <td>4.300781</td>\n",
       "    </tr>\n",
       "    <tr>\n",
       "      <th>2</th>\n",
       "      <td>2018-01-01 02:00:00</td>\n",
       "      <td>0.000000</td>\n",
       "      <td>4.300781</td>\n",
       "    </tr>\n",
       "    <tr>\n",
       "      <th>3</th>\n",
       "      <td>2018-01-01 03:00:00</td>\n",
       "      <td>0.000000</td>\n",
       "      <td>4.699219</td>\n",
       "    </tr>\n",
       "    <tr>\n",
       "      <th>4</th>\n",
       "      <td>2018-01-01 04:00:00</td>\n",
       "      <td>0.000000</td>\n",
       "      <td>4.800781</td>\n",
       "    </tr>\n",
       "  </tbody>\n",
       "</table>\n",
       "</div>"
      ],
      "text/plain": [
       "                 date      rain      temp\n",
       "0 2018-01-01 00:00:00  0.099976  4.000000\n",
       "1 2018-01-01 01:00:00  0.000000  4.300781\n",
       "2 2018-01-01 02:00:00  0.000000  4.300781\n",
       "3 2018-01-01 03:00:00  0.000000  4.699219\n",
       "4 2018-01-01 04:00:00  0.000000  4.800781"
      ]
     },
     "execution_count": 47,
     "metadata": {},
     "output_type": "execute_result"
    }
   ],
   "source": [
    "df_casement.head()"
   ]
  },
  {
   "cell_type": "markdown",
   "metadata": {},
   "source": [
    "# AIRPORT — Initial Changes: removing unneeded; setting datatypes\n"
   ]
  },
  {
   "cell_type": "code",
   "execution_count": 48,
   "metadata": {},
   "outputs": [
    {
     "data": {
      "text/html": [
       "<div>\n",
       "<style scoped>\n",
       "    .dataframe tbody tr th:only-of-type {\n",
       "        vertical-align: middle;\n",
       "    }\n",
       "\n",
       "    .dataframe tbody tr th {\n",
       "        vertical-align: top;\n",
       "    }\n",
       "\n",
       "    .dataframe thead th {\n",
       "        text-align: right;\n",
       "    }\n",
       "</style>\n",
       "<table border=\"1\" class=\"dataframe\">\n",
       "  <thead>\n",
       "    <tr style=\"text-align: right;\">\n",
       "      <th></th>\n",
       "      <th>date</th>\n",
       "      <th>rain</th>\n",
       "      <th>temp</th>\n",
       "    </tr>\n",
       "  </thead>\n",
       "  <tbody>\n",
       "    <tr>\n",
       "      <th>0</th>\n",
       "      <td>01-jan-1989 00:00</td>\n",
       "      <td>0.0</td>\n",
       "      <td>6.8</td>\n",
       "    </tr>\n",
       "    <tr>\n",
       "      <th>1</th>\n",
       "      <td>01-jan-1989 01:00</td>\n",
       "      <td>0.0</td>\n",
       "      <td>7.9</td>\n",
       "    </tr>\n",
       "    <tr>\n",
       "      <th>2</th>\n",
       "      <td>01-jan-1989 02:00</td>\n",
       "      <td>0.0</td>\n",
       "      <td>7.9</td>\n",
       "    </tr>\n",
       "    <tr>\n",
       "      <th>3</th>\n",
       "      <td>01-jan-1989 03:00</td>\n",
       "      <td>0.0</td>\n",
       "      <td>7.2</td>\n",
       "    </tr>\n",
       "    <tr>\n",
       "      <th>4</th>\n",
       "      <td>01-jan-1989 04:00</td>\n",
       "      <td>0.0</td>\n",
       "      <td>6.2</td>\n",
       "    </tr>\n",
       "  </tbody>\n",
       "</table>\n",
       "</div>"
      ],
      "text/plain": [
       "                date  rain  temp\n",
       "0  01-jan-1989 00:00   0.0   6.8\n",
       "1  01-jan-1989 01:00   0.0   7.9\n",
       "2  01-jan-1989 02:00   0.0   7.9\n",
       "3  01-jan-1989 03:00   0.0   7.2\n",
       "4  01-jan-1989 04:00   0.0   6.2"
      ]
     },
     "execution_count": 48,
     "metadata": {},
     "output_type": "execute_result"
    }
   ],
   "source": [
    "df_airport.head()"
   ]
  },
  {
   "cell_type": "code",
   "execution_count": 49,
   "metadata": {},
   "outputs": [
    {
     "name": "stdout",
     "output_type": "stream",
     "text": [
      "Datatypes:\n",
      "\n",
      "date     object\n",
      "rain    float64\n",
      "temp    float64\n",
      "dtype: object\n",
      "\n",
      "\n",
      "\n",
      "**************************************************\n",
      "ROWS, COLUMNS, NULLS\n",
      "\n",
      "266593 rows in the dataframe.\n",
      "3 columns in the dataframe.\n",
      "\n",
      "0 null values in the dataframe.\n",
      "0 duplicate rows\n",
      "0 duplicate columns\n",
      "\n",
      "\n",
      "Constant numeric columns: FALSE\n",
      "\n",
      "\n",
      "\n",
      "**************************************************\n",
      "DESCRIPTION\n",
      "\n",
      "         count      mean       std   min  25%  50%   75%   max\n",
      "rain  266593.0  0.086558  0.417530   0.0  0.0  0.0   0.0  26.5\n",
      "temp  266593.0  9.778262  4.940449 -11.5  6.3  9.8  13.3  28.5\n",
      "\n",
      "\n",
      "\n",
      "**************************************************\n",
      "FEATURE CARDINALITIES\n",
      "\n",
      "Feature                                        Distinct Values\n",
      "-------                                        --------------- \n",
      "\n",
      "date                                           266593\n",
      "rain                                           117\n",
      "temp                                           372\n",
      "\n",
      "\n",
      "**************************************************\n",
      "MEMORY\n",
      "\n",
      "<class 'pandas.core.frame.DataFrame'>\n",
      "RangeIndex: 266593 entries, 0 to 266592\n",
      "Data columns (total 3 columns):\n",
      "date    266593 non-null object\n",
      "rain    266593 non-null float64\n",
      "temp    266593 non-null float64\n",
      "dtypes: float64(2), object(1)\n",
      "memory usage: 22.9 MB\n",
      "None\n",
      "\n",
      "\n",
      "Index          80\n",
      "date     19727882\n",
      "rain      2132744\n",
      "temp      2132744\n",
      "dtype: int64\n",
      "\n",
      "\n",
      "**************************************************\n",
      "HEAD\n",
      "\n",
      "                date  rain  temp\n",
      "0  01-jan-1989 00:00   0.0   6.8\n",
      "1  01-jan-1989 01:00   0.0   7.9\n",
      "2  01-jan-1989 02:00   0.0   7.9\n",
      "3  01-jan-1989 03:00   0.0   7.2\n",
      "4  01-jan-1989 04:00   0.0   6.2\n",
      "5  01-jan-1989 05:00   0.0   6.0\n",
      "6  01-jan-1989 06:00   0.0   5.4\n",
      "7  01-jan-1989 07:00   0.0   6.2\n",
      "8  01-jan-1989 08:00   0.0   5.4\n",
      "9  01-jan-1989 09:00   0.0   5.7\n",
      "\n",
      "\n",
      "**************************************************\n",
      "TAIL\n",
      "\n",
      "                     date  rain  temp\n",
      "266583  31-may-2019 15:00   0.0  16.8\n",
      "266584  31-may-2019 16:00   0.0  16.8\n",
      "266585  31-may-2019 17:00   0.0  15.9\n",
      "266586  31-may-2019 18:00   0.1  15.0\n",
      "266587  31-may-2019 19:00   0.0  14.5\n",
      "266588  31-may-2019 20:00   0.0  13.7\n",
      "266589  31-may-2019 21:00   0.0  12.3\n",
      "266590  31-may-2019 22:00   0.0  11.9\n",
      "266591  31-may-2019 23:00   0.0  10.9\n",
      "266592  01-jun-2019 00:00   0.0  10.7\n"
     ]
    }
   ],
   "source": [
    "assess_df(df_airport)"
   ]
  },
  {
   "cell_type": "markdown",
   "metadata": {},
   "source": [
    "Note: airport also has temperatures"
   ]
  },
  {
   "cell_type": "markdown",
   "metadata": {},
   "source": [
    "## Check for the whitespace issue"
   ]
  },
  {
   "cell_type": "code",
   "execution_count": 50,
   "metadata": {},
   "outputs": [
    {
     "data": {
      "text/plain": [
       "0"
      ]
     },
     "execution_count": 50,
     "metadata": {},
     "output_type": "execute_result"
    }
   ],
   "source": [
    "# check single whitespace strings in temperature column\n",
    "\n",
    "len(df_airport.loc[df_airport.temp == ' ', 'temp'])"
   ]
  },
  {
   "cell_type": "code",
   "execution_count": 51,
   "metadata": {},
   "outputs": [
    {
     "data": {
      "text/plain": [
       "0"
      ]
     },
     "execution_count": 51,
     "metadata": {},
     "output_type": "execute_result"
    }
   ],
   "source": [
    "# check single whitespace strings in rainfall column\n",
    "\n",
    "len(df_airport.loc[df_airport.rain == ' ', 'rain'])"
   ]
  },
  {
   "cell_type": "markdown",
   "metadata": {},
   "source": [
    "## Convert to float16"
   ]
  },
  {
   "cell_type": "code",
   "execution_count": 52,
   "metadata": {},
   "outputs": [],
   "source": [
    "df_airport = df_airport.astype({\n",
    "    'rain':'float16',\n",
    "    'temp':'float16'\n",
    "})"
   ]
  },
  {
   "cell_type": "markdown",
   "metadata": {},
   "source": [
    "## Convert date to type datetime"
   ]
  },
  {
   "cell_type": "code",
   "execution_count": 53,
   "metadata": {},
   "outputs": [],
   "source": [
    "df_airport['date'] = pd.to_datetime(df_airport.date, dayfirst=True)"
   ]
  },
  {
   "cell_type": "markdown",
   "metadata": {},
   "source": [
    "## Retain only time period of relevance"
   ]
  },
  {
   "cell_type": "code",
   "execution_count": 54,
   "metadata": {},
   "outputs": [],
   "source": [
    "df_airport = df_airport.loc[(df_airport.date >= start_timestamp) &\\\n",
    "                           (df_airport.date <= end_timestamp)]"
   ]
  },
  {
   "cell_type": "code",
   "execution_count": 55,
   "metadata": {},
   "outputs": [],
   "source": [
    "# reset index\n",
    "\n",
    "df_airport.reset_index(drop=True, inplace=True)"
   ]
  },
  {
   "cell_type": "code",
   "execution_count": 56,
   "metadata": {},
   "outputs": [
    {
     "data": {
      "text/html": [
       "<div>\n",
       "<style scoped>\n",
       "    .dataframe tbody tr th:only-of-type {\n",
       "        vertical-align: middle;\n",
       "    }\n",
       "\n",
       "    .dataframe tbody tr th {\n",
       "        vertical-align: top;\n",
       "    }\n",
       "\n",
       "    .dataframe thead th {\n",
       "        text-align: right;\n",
       "    }\n",
       "</style>\n",
       "<table border=\"1\" class=\"dataframe\">\n",
       "  <thead>\n",
       "    <tr style=\"text-align: right;\">\n",
       "      <th></th>\n",
       "      <th>date</th>\n",
       "      <th>rain</th>\n",
       "      <th>temp</th>\n",
       "    </tr>\n",
       "  </thead>\n",
       "  <tbody>\n",
       "    <tr>\n",
       "      <th>0</th>\n",
       "      <td>2018-01-01 00:00:00</td>\n",
       "      <td>0.0</td>\n",
       "      <td>4.500000</td>\n",
       "    </tr>\n",
       "    <tr>\n",
       "      <th>1</th>\n",
       "      <td>2018-01-01 01:00:00</td>\n",
       "      <td>0.0</td>\n",
       "      <td>4.398438</td>\n",
       "    </tr>\n",
       "    <tr>\n",
       "      <th>2</th>\n",
       "      <td>2018-01-01 02:00:00</td>\n",
       "      <td>0.0</td>\n",
       "      <td>4.601562</td>\n",
       "    </tr>\n",
       "    <tr>\n",
       "      <th>3</th>\n",
       "      <td>2018-01-01 03:00:00</td>\n",
       "      <td>0.0</td>\n",
       "      <td>4.601562</td>\n",
       "    </tr>\n",
       "    <tr>\n",
       "      <th>4</th>\n",
       "      <td>2018-01-01 04:00:00</td>\n",
       "      <td>0.0</td>\n",
       "      <td>5.101562</td>\n",
       "    </tr>\n",
       "  </tbody>\n",
       "</table>\n",
       "</div>"
      ],
      "text/plain": [
       "                 date  rain      temp\n",
       "0 2018-01-01 00:00:00   0.0  4.500000\n",
       "1 2018-01-01 01:00:00   0.0  4.398438\n",
       "2 2018-01-01 02:00:00   0.0  4.601562\n",
       "3 2018-01-01 03:00:00   0.0  4.601562\n",
       "4 2018-01-01 04:00:00   0.0  5.101562"
      ]
     },
     "execution_count": 56,
     "metadata": {},
     "output_type": "execute_result"
    }
   ],
   "source": [
    "df_airport.head()"
   ]
  },
  {
   "cell_type": "code",
   "execution_count": 57,
   "metadata": {},
   "outputs": [
    {
     "name": "stdout",
     "output_type": "stream",
     "text": [
      "Datatypes:\n",
      "\n",
      "date    datetime64[ns]\n",
      "rain           float16\n",
      "temp           float16\n",
      "dtype: object\n",
      "\n",
      "\n",
      "\n",
      "**************************************************\n",
      "ROWS, COLUMNS, NULLS\n",
      "\n",
      "8737 rows in the dataframe.\n",
      "3 columns in the dataframe.\n",
      "\n",
      "0 null values in the dataframe.\n",
      "0 duplicate rows\n",
      "0 duplicate columns\n",
      "\n",
      "\n",
      "Constant numeric columns: FALSE\n",
      "\n",
      "\n",
      "\n",
      "**************************************************\n",
      "DESCRIPTION\n",
      "\n",
      "       count      mean       std       min  25%       50%        75%  \\\n",
      "rain  8737.0  0.079651  0.362305  0.000000  0.0  0.000000   0.000000   \n",
      "temp  8737.0       inf  5.511719 -4.800781  6.0  9.601562  13.898438   \n",
      "\n",
      "            max  \n",
      "rain   7.699219  \n",
      "temp  26.296875  \n",
      "\n",
      "\n",
      "\n",
      "**************************************************\n",
      "FEATURE CARDINALITIES\n",
      "\n",
      "Feature                                        Distinct Values\n",
      "-------                                        --------------- \n",
      "\n",
      "date                                           8737\n",
      "rain                                           46\n",
      "temp                                           300\n",
      "\n",
      "\n",
      "**************************************************\n",
      "MEMORY\n",
      "\n",
      "<class 'pandas.core.frame.DataFrame'>\n",
      "RangeIndex: 8737 entries, 0 to 8736\n",
      "Data columns (total 3 columns):\n",
      "date    8737 non-null datetime64[ns]\n",
      "rain    8737 non-null float16\n",
      "temp    8737 non-null float16\n",
      "dtypes: datetime64[ns](1), float16(2)\n",
      "memory usage: 102.5 KB\n",
      "None\n",
      "\n",
      "\n",
      "Index       80\n",
      "date     69896\n",
      "rain     17474\n",
      "temp     17474\n",
      "dtype: int64\n",
      "\n",
      "\n",
      "**************************************************\n",
      "HEAD\n",
      "\n",
      "                 date  rain      temp\n",
      "0 2018-01-01 00:00:00   0.0  4.500000\n",
      "1 2018-01-01 01:00:00   0.0  4.398438\n",
      "2 2018-01-01 02:00:00   0.0  4.601562\n",
      "3 2018-01-01 03:00:00   0.0  4.601562\n",
      "4 2018-01-01 04:00:00   0.0  5.101562\n",
      "5 2018-01-01 05:00:00   0.0  5.000000\n",
      "6 2018-01-01 06:00:00   0.0  4.800781\n",
      "7 2018-01-01 07:00:00   0.0  4.300781\n",
      "8 2018-01-01 08:00:00   0.0  4.000000\n",
      "9 2018-01-01 09:00:00   0.0  4.601562\n",
      "\n",
      "\n",
      "**************************************************\n",
      "TAIL\n",
      "\n",
      "                    date      rain       temp\n",
      "8727 2018-12-30 15:00:00  0.000000  11.000000\n",
      "8728 2018-12-30 16:00:00  0.000000  10.296875\n",
      "8729 2018-12-30 17:00:00  0.000000  10.000000\n",
      "8730 2018-12-30 18:00:00  0.000000  10.101562\n",
      "8731 2018-12-30 19:00:00  0.000000  10.101562\n",
      "8732 2018-12-30 20:00:00  0.000000   9.601562\n",
      "8733 2018-12-30 21:00:00  0.000000   9.898438\n",
      "8734 2018-12-30 22:00:00  0.000000  10.000000\n",
      "8735 2018-12-30 23:00:00  0.000000   9.296875\n",
      "8736 2018-12-31 00:00:00  0.099976   9.296875\n"
     ]
    }
   ],
   "source": [
    "assess_df(df_airport)"
   ]
  },
  {
   "cell_type": "markdown",
   "metadata": {},
   "source": [
    "# Joining 3 Dataframes into 1, Representing Dublin Average"
   ]
  },
  {
   "cell_type": "markdown",
   "metadata": {},
   "source": [
    "## Prepare for Join"
   ]
  },
  {
   "cell_type": "markdown",
   "metadata": {},
   "source": [
    "Note: Since Phoenix Park does not have temperature information, we will give it the temperature data of another station. This is for ease of joining the tables into an average for each column & row."
   ]
  },
  {
   "cell_type": "code",
   "execution_count": 58,
   "metadata": {},
   "outputs": [
    {
     "data": {
      "text/plain": [
       "Series([], Name: temp, dtype: int64)"
      ]
     },
     "execution_count": 58,
     "metadata": {},
     "output_type": "execute_result"
    }
   ],
   "source": [
    "df_phoenix.temp.value_counts()"
   ]
  },
  {
   "cell_type": "code",
   "execution_count": 59,
   "metadata": {},
   "outputs": [
    {
     "data": {
      "text/plain": [
       "0   NaN\n",
       "1   NaN\n",
       "2   NaN\n",
       "3   NaN\n",
       "4   NaN\n",
       "Name: temp, dtype: float16"
      ]
     },
     "execution_count": 59,
     "metadata": {},
     "output_type": "execute_result"
    }
   ],
   "source": [
    "df_phoenix.temp.head()"
   ]
  },
  {
   "cell_type": "code",
   "execution_count": 60,
   "metadata": {},
   "outputs": [],
   "source": [
    "df_phoenix.temp = df_casement.temp"
   ]
  },
  {
   "cell_type": "code",
   "execution_count": 61,
   "metadata": {},
   "outputs": [
    {
     "data": {
      "text/html": [
       "<div>\n",
       "<style scoped>\n",
       "    .dataframe tbody tr th:only-of-type {\n",
       "        vertical-align: middle;\n",
       "    }\n",
       "\n",
       "    .dataframe tbody tr th {\n",
       "        vertical-align: top;\n",
       "    }\n",
       "\n",
       "    .dataframe thead th {\n",
       "        text-align: right;\n",
       "    }\n",
       "</style>\n",
       "<table border=\"1\" class=\"dataframe\">\n",
       "  <thead>\n",
       "    <tr style=\"text-align: right;\">\n",
       "      <th></th>\n",
       "      <th>date</th>\n",
       "      <th>rain</th>\n",
       "      <th>temp</th>\n",
       "    </tr>\n",
       "  </thead>\n",
       "  <tbody>\n",
       "    <tr>\n",
       "      <th>0</th>\n",
       "      <td>2018-01-01 00:00:00</td>\n",
       "      <td>0.000000</td>\n",
       "      <td>4.000000</td>\n",
       "    </tr>\n",
       "    <tr>\n",
       "      <th>1</th>\n",
       "      <td>2018-01-01 01:00:00</td>\n",
       "      <td>0.099976</td>\n",
       "      <td>4.300781</td>\n",
       "    </tr>\n",
       "    <tr>\n",
       "      <th>2</th>\n",
       "      <td>2018-01-01 02:00:00</td>\n",
       "      <td>0.000000</td>\n",
       "      <td>4.300781</td>\n",
       "    </tr>\n",
       "    <tr>\n",
       "      <th>3</th>\n",
       "      <td>2018-01-01 03:00:00</td>\n",
       "      <td>0.000000</td>\n",
       "      <td>4.699219</td>\n",
       "    </tr>\n",
       "    <tr>\n",
       "      <th>4</th>\n",
       "      <td>2018-01-01 04:00:00</td>\n",
       "      <td>0.000000</td>\n",
       "      <td>4.800781</td>\n",
       "    </tr>\n",
       "  </tbody>\n",
       "</table>\n",
       "</div>"
      ],
      "text/plain": [
       "                 date      rain      temp\n",
       "0 2018-01-01 00:00:00  0.000000  4.000000\n",
       "1 2018-01-01 01:00:00  0.099976  4.300781\n",
       "2 2018-01-01 02:00:00  0.000000  4.300781\n",
       "3 2018-01-01 03:00:00  0.000000  4.699219\n",
       "4 2018-01-01 04:00:00  0.000000  4.800781"
      ]
     },
     "execution_count": 61,
     "metadata": {},
     "output_type": "execute_result"
    }
   ],
   "source": [
    "df_phoenix.head()"
   ]
  },
  {
   "cell_type": "markdown",
   "metadata": {},
   "source": [
    "## Check indices match"
   ]
  },
  {
   "cell_type": "code",
   "execution_count": 62,
   "metadata": {},
   "outputs": [
    {
     "name": "stdout",
     "output_type": "stream",
     "text": [
      "                 date      rain      temp\n",
      "0 2018-01-01 00:00:00  0.000000  4.000000\n",
      "1 2018-01-01 01:00:00  0.099976  4.300781\n",
      "                 date      rain      temp\n",
      "0 2018-01-01 00:00:00  0.099976  4.000000\n",
      "1 2018-01-01 01:00:00  0.000000  4.300781\n",
      "                 date  rain      temp\n",
      "0 2018-01-01 00:00:00   0.0  4.500000\n",
      "1 2018-01-01 01:00:00   0.0  4.398438\n"
     ]
    }
   ],
   "source": [
    "print(df_phoenix.head(2))\n",
    "print(df_casement.head(2))\n",
    "print(df_airport.head(2))"
   ]
  },
  {
   "cell_type": "code",
   "execution_count": 63,
   "metadata": {},
   "outputs": [
    {
     "name": "stdout",
     "output_type": "stream",
     "text": [
      "date    datetime64[ns]\n",
      "rain           float16\n",
      "temp           float16\n",
      "dtype: object\n",
      "date    datetime64[ns]\n",
      "rain           float16\n",
      "temp           float16\n",
      "dtype: object\n",
      "date    datetime64[ns]\n",
      "rain           float16\n",
      "temp           float16\n",
      "dtype: object\n"
     ]
    }
   ],
   "source": [
    "print(df_phoenix.dtypes)\n",
    "print(df_casement.dtypes)\n",
    "print(df_airport.dtypes)"
   ]
  },
  {
   "cell_type": "markdown",
   "metadata": {},
   "source": [
    "## Join Tables, into one representing the averages"
   ]
  },
  {
   "cell_type": "code",
   "execution_count": 64,
   "metadata": {},
   "outputs": [],
   "source": [
    "weather = pd.concat([df_phoenix, df_casement, df_airport])\\\n",
    ".groupby('date').mean()"
   ]
  },
  {
   "cell_type": "code",
   "execution_count": 65,
   "metadata": {},
   "outputs": [
    {
     "data": {
      "text/html": [
       "<div>\n",
       "<style scoped>\n",
       "    .dataframe tbody tr th:only-of-type {\n",
       "        vertical-align: middle;\n",
       "    }\n",
       "\n",
       "    .dataframe tbody tr th {\n",
       "        vertical-align: top;\n",
       "    }\n",
       "\n",
       "    .dataframe thead th {\n",
       "        text-align: right;\n",
       "    }\n",
       "</style>\n",
       "<table border=\"1\" class=\"dataframe\">\n",
       "  <thead>\n",
       "    <tr style=\"text-align: right;\">\n",
       "      <th></th>\n",
       "      <th>rain</th>\n",
       "      <th>temp</th>\n",
       "    </tr>\n",
       "    <tr>\n",
       "      <th>date</th>\n",
       "      <th></th>\n",
       "      <th></th>\n",
       "    </tr>\n",
       "  </thead>\n",
       "  <tbody>\n",
       "    <tr>\n",
       "      <th>2018-01-01 00:00:00</th>\n",
       "      <td>0.033325</td>\n",
       "      <td>4.167969</td>\n",
       "    </tr>\n",
       "    <tr>\n",
       "      <th>2018-01-01 01:00:00</th>\n",
       "      <td>0.033325</td>\n",
       "      <td>4.332031</td>\n",
       "    </tr>\n",
       "    <tr>\n",
       "      <th>2018-01-01 02:00:00</th>\n",
       "      <td>0.000000</td>\n",
       "      <td>4.402344</td>\n",
       "    </tr>\n",
       "    <tr>\n",
       "      <th>2018-01-01 03:00:00</th>\n",
       "      <td>0.000000</td>\n",
       "      <td>4.667969</td>\n",
       "    </tr>\n",
       "    <tr>\n",
       "      <th>2018-01-01 04:00:00</th>\n",
       "      <td>0.000000</td>\n",
       "      <td>4.902344</td>\n",
       "    </tr>\n",
       "  </tbody>\n",
       "</table>\n",
       "</div>"
      ],
      "text/plain": [
       "                         rain      temp\n",
       "date                                   \n",
       "2018-01-01 00:00:00  0.033325  4.167969\n",
       "2018-01-01 01:00:00  0.033325  4.332031\n",
       "2018-01-01 02:00:00  0.000000  4.402344\n",
       "2018-01-01 03:00:00  0.000000  4.667969\n",
       "2018-01-01 04:00:00  0.000000  4.902344"
      ]
     },
     "execution_count": 65,
     "metadata": {},
     "output_type": "execute_result"
    }
   ],
   "source": [
    "weather.head()"
   ]
  },
  {
   "cell_type": "code",
   "execution_count": 66,
   "metadata": {},
   "outputs": [],
   "source": [
    "weather.reset_index(inplace=True)"
   ]
  },
  {
   "cell_type": "code",
   "execution_count": 67,
   "metadata": {},
   "outputs": [
    {
     "data": {
      "text/html": [
       "<div>\n",
       "<style scoped>\n",
       "    .dataframe tbody tr th:only-of-type {\n",
       "        vertical-align: middle;\n",
       "    }\n",
       "\n",
       "    .dataframe tbody tr th {\n",
       "        vertical-align: top;\n",
       "    }\n",
       "\n",
       "    .dataframe thead th {\n",
       "        text-align: right;\n",
       "    }\n",
       "</style>\n",
       "<table border=\"1\" class=\"dataframe\">\n",
       "  <thead>\n",
       "    <tr style=\"text-align: right;\">\n",
       "      <th></th>\n",
       "      <th>date</th>\n",
       "      <th>rain</th>\n",
       "      <th>temp</th>\n",
       "    </tr>\n",
       "  </thead>\n",
       "  <tbody>\n",
       "    <tr>\n",
       "      <th>0</th>\n",
       "      <td>2018-01-01 00:00:00</td>\n",
       "      <td>0.033325</td>\n",
       "      <td>4.167969</td>\n",
       "    </tr>\n",
       "    <tr>\n",
       "      <th>1</th>\n",
       "      <td>2018-01-01 01:00:00</td>\n",
       "      <td>0.033325</td>\n",
       "      <td>4.332031</td>\n",
       "    </tr>\n",
       "    <tr>\n",
       "      <th>2</th>\n",
       "      <td>2018-01-01 02:00:00</td>\n",
       "      <td>0.000000</td>\n",
       "      <td>4.402344</td>\n",
       "    </tr>\n",
       "    <tr>\n",
       "      <th>3</th>\n",
       "      <td>2018-01-01 03:00:00</td>\n",
       "      <td>0.000000</td>\n",
       "      <td>4.667969</td>\n",
       "    </tr>\n",
       "    <tr>\n",
       "      <th>4</th>\n",
       "      <td>2018-01-01 04:00:00</td>\n",
       "      <td>0.000000</td>\n",
       "      <td>4.902344</td>\n",
       "    </tr>\n",
       "  </tbody>\n",
       "</table>\n",
       "</div>"
      ],
      "text/plain": [
       "                 date      rain      temp\n",
       "0 2018-01-01 00:00:00  0.033325  4.167969\n",
       "1 2018-01-01 01:00:00  0.033325  4.332031\n",
       "2 2018-01-01 02:00:00  0.000000  4.402344\n",
       "3 2018-01-01 03:00:00  0.000000  4.667969\n",
       "4 2018-01-01 04:00:00  0.000000  4.902344"
      ]
     },
     "execution_count": 67,
     "metadata": {},
     "output_type": "execute_result"
    }
   ],
   "source": [
    "weather.head()"
   ]
  },
  {
   "cell_type": "code",
   "execution_count": 68,
   "metadata": {},
   "outputs": [
    {
     "name": "stdout",
     "output_type": "stream",
     "text": [
      "Datatypes:\n",
      "\n",
      "date    datetime64[ns]\n",
      "rain           float16\n",
      "temp           float16\n",
      "dtype: object\n",
      "\n",
      "\n",
      "\n",
      "**************************************************\n",
      "ROWS, COLUMNS, NULLS\n",
      "\n",
      "8737 rows in the dataframe.\n",
      "3 columns in the dataframe.\n",
      "\n",
      "0 null values in the dataframe.\n",
      "0 duplicate rows\n",
      "0 duplicate columns\n",
      "\n",
      "\n",
      "Constant numeric columns: FALSE\n",
      "\n",
      "\n",
      "\n",
      "**************************************************\n",
      "DESCRIPTION\n",
      "\n",
      "       count      mean       std       min       25%       50%      75%  \\\n",
      "rain  8737.0  0.077759  0.313477  0.000000  0.000000  0.000000   0.0000   \n",
      "temp  8737.0       inf  5.582031 -4.867188  6.066406  9.734375  14.0625   \n",
      "\n",
      "            max  \n",
      "rain   6.066406  \n",
      "temp  26.968750  \n",
      "\n",
      "\n",
      "\n",
      "**************************************************\n",
      "FEATURE CARDINALITIES\n",
      "\n",
      "Feature                                        Distinct Values\n",
      "-------                                        --------------- \n",
      "\n",
      "date                                           8737\n",
      "rain                                           130\n",
      "temp                                           1215\n",
      "\n",
      "\n",
      "**************************************************\n",
      "MEMORY\n",
      "\n",
      "<class 'pandas.core.frame.DataFrame'>\n",
      "RangeIndex: 8737 entries, 0 to 8736\n",
      "Data columns (total 3 columns):\n",
      "date    8737 non-null datetime64[ns]\n",
      "rain    8737 non-null float16\n",
      "temp    8737 non-null float16\n",
      "dtypes: datetime64[ns](1), float16(2)\n",
      "memory usage: 102.5 KB\n",
      "None\n",
      "\n",
      "\n",
      "Index       80\n",
      "date     69896\n",
      "rain     17474\n",
      "temp     17474\n",
      "dtype: int64\n",
      "\n",
      "\n",
      "**************************************************\n",
      "HEAD\n",
      "\n",
      "                 date      rain      temp\n",
      "0 2018-01-01 00:00:00  0.033325  4.167969\n",
      "1 2018-01-01 01:00:00  0.033325  4.332031\n",
      "2 2018-01-01 02:00:00  0.000000  4.402344\n",
      "3 2018-01-01 03:00:00  0.000000  4.667969\n",
      "4 2018-01-01 04:00:00  0.000000  4.902344\n",
      "5 2018-01-01 05:00:00  0.000000  4.800781\n",
      "6 2018-01-01 06:00:00  0.000000  4.531250\n",
      "7 2018-01-01 07:00:00  0.000000  4.167969\n",
      "8 2018-01-01 08:00:00  0.000000  3.933594\n",
      "9 2018-01-01 09:00:00  0.000000  4.402344\n",
      "\n",
      "\n",
      "**************************************************\n",
      "TAIL\n",
      "\n",
      "                    date      rain       temp\n",
      "8727 2018-12-30 15:00:00  0.000000  10.804688\n",
      "8728 2018-12-30 16:00:00  0.000000  10.164062\n",
      "8729 2018-12-30 17:00:00  0.000000   9.929688\n",
      "8730 2018-12-30 18:00:00  0.000000   9.765625\n",
      "8731 2018-12-30 19:00:00  0.000000   9.765625\n",
      "8732 2018-12-30 20:00:00  0.000000   9.734375\n",
      "8733 2018-12-30 21:00:00  0.000000   9.898438\n",
      "8734 2018-12-30 22:00:00  0.000000   9.734375\n",
      "8735 2018-12-30 23:00:00  0.000000   9.367188\n",
      "8736 2018-12-31 00:00:00  0.033325   8.960938\n"
     ]
    }
   ],
   "source": [
    "assess_df(weather)"
   ]
  },
  {
   "cell_type": "code",
   "execution_count": 69,
   "metadata": {},
   "outputs": [
    {
     "data": {
      "text/plain": [
       "0"
      ]
     },
     "execution_count": 69,
     "metadata": {},
     "output_type": "execute_result"
    }
   ],
   "source": [
    "len(weather.loc[weather.temp == np.inf])"
   ]
  },
  {
   "cell_type": "markdown",
   "metadata": {},
   "source": [
    "Note, we've an infinite value for mean of temp, likely due to the float16 precision. Will not be a problem"
   ]
  },
  {
   "cell_type": "code",
   "execution_count": 70,
   "metadata": {},
   "outputs": [
    {
     "data": {
      "text/plain": [
       "(8737, 3)"
      ]
     },
     "execution_count": 70,
     "metadata": {},
     "output_type": "execute_result"
    }
   ],
   "source": [
    "weather.shape"
   ]
  },
  {
   "cell_type": "code",
   "execution_count": 71,
   "metadata": {},
   "outputs": [
    {
     "data": {
      "text/plain": [
       "date    datetime64[ns]\n",
       "rain           float16\n",
       "temp           float16\n",
       "dtype: object"
      ]
     },
     "execution_count": 71,
     "metadata": {},
     "output_type": "execute_result"
    }
   ],
   "source": [
    "weather.dtypes"
   ]
  },
  {
   "cell_type": "code",
   "execution_count": 72,
   "metadata": {},
   "outputs": [],
   "source": [
    "weather = weather.astype({\n",
    "    'rain':'float32',\n",
    "    'temp':'float32'\n",
    "})"
   ]
  },
  {
   "cell_type": "markdown",
   "metadata": {},
   "source": [
    "# Export Dataframe"
   ]
  },
  {
   "cell_type": "code",
   "execution_count": 73,
   "metadata": {},
   "outputs": [],
   "source": [
    "weather.to_feather('/Users/davidodwyer/Documents/studyCS/Semester_3/data/dataframes/L145/weather.feather')"
   ]
  },
  {
   "cell_type": "code",
   "execution_count": null,
   "metadata": {},
   "outputs": [],
   "source": []
  }
 ],
 "metadata": {
  "kernelspec": {
   "display_name": "analytics",
   "language": "python",
   "name": "analytics"
  },
  "language_info": {
   "codemirror_mode": {
    "name": "ipython",
    "version": 3
   },
   "file_extension": ".py",
   "mimetype": "text/x-python",
   "name": "python",
   "nbconvert_exporter": "python",
   "pygments_lexer": "ipython3",
   "version": "3.7.3"
  },
  "toc": {
   "base_numbering": 1,
   "nav_menu": {},
   "number_sections": true,
   "sideBar": true,
   "skip_h1_title": false,
   "title_cell": "Table of Contents",
   "title_sidebar": "Contents",
   "toc_cell": true,
   "toc_position": {},
   "toc_section_display": true,
   "toc_window_display": false
  },
  "varInspector": {
   "cols": {
    "lenName": 16,
    "lenType": 16,
    "lenVar": 40
   },
   "kernels_config": {
    "python": {
     "delete_cmd_postfix": "",
     "delete_cmd_prefix": "del ",
     "library": "var_list.py",
     "varRefreshCmd": "print(var_dic_list())"
    },
    "r": {
     "delete_cmd_postfix": ") ",
     "delete_cmd_prefix": "rm(",
     "library": "var_list.r",
     "varRefreshCmd": "cat(var_dic_list()) "
    }
   },
   "types_to_exclude": [
    "module",
    "function",
    "builtin_function_or_method",
    "instance",
    "_Feature"
   ],
   "window_display": false
  }
 },
 "nbformat": 4,
 "nbformat_minor": 2
}
